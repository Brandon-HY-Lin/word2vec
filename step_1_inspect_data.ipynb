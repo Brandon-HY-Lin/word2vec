{
 "cells": [
  {
   "cell_type": "markdown",
   "metadata": {},
   "source": [
    "# Inspect Data and Apply Word2Vec \n",
    "The methods shown in this notebook are simple methods. The more accurate methods are shown in the latter notebooks.\n",
    "\n",
    "Reference: https://www.kaggle.com/liananapalkova/simply-about-word2vec"
   ]
  },
  {
   "cell_type": "code",
   "execution_count": 1,
   "metadata": {},
   "outputs": [
    {
     "name": "stdout",
     "output_type": "stream",
     "text": [
      "[nltk_data] Downloading package wordnet to /root/nltk_data...\n",
      "[nltk_data]   Unzipping corpora/wordnet.zip.\n"
     ]
    },
    {
     "data": {
      "text/html": [
       "\n",
       "    <div class=\"bk-root\">\n",
       "        <a href=\"https://bokeh.pydata.org\" target=\"_blank\" class=\"bk-logo bk-logo-small bk-logo-notebook\"></a>\n",
       "        <span id=\"1a64b7b8-74b3-4d01-ba61-5044a5cfdfb7\">Loading BokehJS ...</span>\n",
       "    </div>"
      ]
     },
     "metadata": {},
     "output_type": "display_data"
    },
    {
     "data": {
      "application/javascript": [
       "\n",
       "(function(root) {\n",
       "  function now() {\n",
       "    return new Date();\n",
       "  }\n",
       "\n",
       "  var force = true;\n",
       "\n",
       "  if (typeof (root._bokeh_onload_callbacks) === \"undefined\" || force === true) {\n",
       "    root._bokeh_onload_callbacks = [];\n",
       "    root._bokeh_is_loading = undefined;\n",
       "  }\n",
       "\n",
       "  var JS_MIME_TYPE = 'application/javascript';\n",
       "  var HTML_MIME_TYPE = 'text/html';\n",
       "  var EXEC_MIME_TYPE = 'application/vnd.bokehjs_exec.v0+json';\n",
       "  var CLASS_NAME = 'output_bokeh rendered_html';\n",
       "\n",
       "  /**\n",
       "   * Render data to the DOM node\n",
       "   */\n",
       "  function render(props, node) {\n",
       "    var script = document.createElement(\"script\");\n",
       "    node.appendChild(script);\n",
       "  }\n",
       "\n",
       "  /**\n",
       "   * Handle when an output is cleared or removed\n",
       "   */\n",
       "  function handleClearOutput(event, handle) {\n",
       "    var cell = handle.cell;\n",
       "\n",
       "    var id = cell.output_area._bokeh_element_id;\n",
       "    var server_id = cell.output_area._bokeh_server_id;\n",
       "    // Clean up Bokeh references\n",
       "    if (id !== undefined) {\n",
       "      Bokeh.index[id].model.document.clear();\n",
       "      delete Bokeh.index[id];\n",
       "    }\n",
       "\n",
       "    if (server_id !== undefined) {\n",
       "      // Clean up Bokeh references\n",
       "      var cmd = \"from bokeh.io.state import curstate; print(curstate().uuid_to_server['\" + server_id + \"'].get_sessions()[0].document.roots[0]._id)\";\n",
       "      cell.notebook.kernel.execute(cmd, {\n",
       "        iopub: {\n",
       "          output: function(msg) {\n",
       "            var element_id = msg.content.text.trim();\n",
       "            Bokeh.index[element_id].model.document.clear();\n",
       "            delete Bokeh.index[element_id];\n",
       "          }\n",
       "        }\n",
       "      });\n",
       "      // Destroy server and session\n",
       "      var cmd = \"import bokeh.io.notebook as ion; ion.destroy_server('\" + server_id + \"')\";\n",
       "      cell.notebook.kernel.execute(cmd);\n",
       "    }\n",
       "  }\n",
       "\n",
       "  /**\n",
       "   * Handle when a new output is added\n",
       "   */\n",
       "  function handleAddOutput(event, handle) {\n",
       "    var output_area = handle.output_area;\n",
       "    var output = handle.output;\n",
       "\n",
       "    // limit handleAddOutput to display_data with EXEC_MIME_TYPE content only\n",
       "    if ((output.output_type != \"display_data\") || (!output.data.hasOwnProperty(EXEC_MIME_TYPE))) {\n",
       "      return\n",
       "    }\n",
       "\n",
       "    var toinsert = output_area.element.find(\".\" + CLASS_NAME.split(' ')[0]);\n",
       "\n",
       "    if (output.metadata[EXEC_MIME_TYPE][\"id\"] !== undefined) {\n",
       "      toinsert[0].firstChild.textContent = output.data[JS_MIME_TYPE];\n",
       "      // store reference to embed id on output_area\n",
       "      output_area._bokeh_element_id = output.metadata[EXEC_MIME_TYPE][\"id\"];\n",
       "    }\n",
       "    if (output.metadata[EXEC_MIME_TYPE][\"server_id\"] !== undefined) {\n",
       "      var bk_div = document.createElement(\"div\");\n",
       "      bk_div.innerHTML = output.data[HTML_MIME_TYPE];\n",
       "      var script_attrs = bk_div.children[0].attributes;\n",
       "      for (var i = 0; i < script_attrs.length; i++) {\n",
       "        toinsert[0].firstChild.setAttribute(script_attrs[i].name, script_attrs[i].value);\n",
       "      }\n",
       "      // store reference to server id on output_area\n",
       "      output_area._bokeh_server_id = output.metadata[EXEC_MIME_TYPE][\"server_id\"];\n",
       "    }\n",
       "  }\n",
       "\n",
       "  function register_renderer(events, OutputArea) {\n",
       "\n",
       "    function append_mime(data, metadata, element) {\n",
       "      // create a DOM node to render to\n",
       "      var toinsert = this.create_output_subarea(\n",
       "        metadata,\n",
       "        CLASS_NAME,\n",
       "        EXEC_MIME_TYPE\n",
       "      );\n",
       "      this.keyboard_manager.register_events(toinsert);\n",
       "      // Render to node\n",
       "      var props = {data: data, metadata: metadata[EXEC_MIME_TYPE]};\n",
       "      render(props, toinsert[0]);\n",
       "      element.append(toinsert);\n",
       "      return toinsert\n",
       "    }\n",
       "\n",
       "    /* Handle when an output is cleared or removed */\n",
       "    events.on('clear_output.CodeCell', handleClearOutput);\n",
       "    events.on('delete.Cell', handleClearOutput);\n",
       "\n",
       "    /* Handle when a new output is added */\n",
       "    events.on('output_added.OutputArea', handleAddOutput);\n",
       "\n",
       "    /**\n",
       "     * Register the mime type and append_mime function with output_area\n",
       "     */\n",
       "    OutputArea.prototype.register_mime_type(EXEC_MIME_TYPE, append_mime, {\n",
       "      /* Is output safe? */\n",
       "      safe: true,\n",
       "      /* Index of renderer in `output_area.display_order` */\n",
       "      index: 0\n",
       "    });\n",
       "  }\n",
       "\n",
       "  // register the mime type if in Jupyter Notebook environment and previously unregistered\n",
       "  if (root.Jupyter !== undefined) {\n",
       "    var events = require('base/js/events');\n",
       "    var OutputArea = require('notebook/js/outputarea').OutputArea;\n",
       "\n",
       "    if (OutputArea.prototype.mime_types().indexOf(EXEC_MIME_TYPE) == -1) {\n",
       "      register_renderer(events, OutputArea);\n",
       "    }\n",
       "  }\n",
       "\n",
       "  \n",
       "  if (typeof (root._bokeh_timeout) === \"undefined\" || force === true) {\n",
       "    root._bokeh_timeout = Date.now() + 5000;\n",
       "    root._bokeh_failed_load = false;\n",
       "  }\n",
       "\n",
       "  var NB_LOAD_WARNING = {'data': {'text/html':\n",
       "     \"<div style='background-color: #fdd'>\\n\"+\n",
       "     \"<p>\\n\"+\n",
       "     \"BokehJS does not appear to have successfully loaded. If loading BokehJS from CDN, this \\n\"+\n",
       "     \"may be due to a slow or bad network connection. Possible fixes:\\n\"+\n",
       "     \"</p>\\n\"+\n",
       "     \"<ul>\\n\"+\n",
       "     \"<li>re-rerun `output_notebook()` to attempt to load from CDN again, or</li>\\n\"+\n",
       "     \"<li>use INLINE resources instead, as so:</li>\\n\"+\n",
       "     \"</ul>\\n\"+\n",
       "     \"<code>\\n\"+\n",
       "     \"from bokeh.resources import INLINE\\n\"+\n",
       "     \"output_notebook(resources=INLINE)\\n\"+\n",
       "     \"</code>\\n\"+\n",
       "     \"</div>\"}};\n",
       "\n",
       "  function display_loaded() {\n",
       "    var el = document.getElementById(\"1a64b7b8-74b3-4d01-ba61-5044a5cfdfb7\");\n",
       "    if (el != null) {\n",
       "      el.textContent = \"BokehJS is loading...\";\n",
       "    }\n",
       "    if (root.Bokeh !== undefined) {\n",
       "      if (el != null) {\n",
       "        el.textContent = \"BokehJS \" + root.Bokeh.version + \" successfully loaded.\";\n",
       "      }\n",
       "    } else if (Date.now() < root._bokeh_timeout) {\n",
       "      setTimeout(display_loaded, 100)\n",
       "    }\n",
       "  }\n",
       "\n",
       "\n",
       "  function run_callbacks() {\n",
       "    try {\n",
       "      root._bokeh_onload_callbacks.forEach(function(callback) { callback() });\n",
       "    }\n",
       "    finally {\n",
       "      delete root._bokeh_onload_callbacks\n",
       "    }\n",
       "    console.info(\"Bokeh: all callbacks have finished\");\n",
       "  }\n",
       "\n",
       "  function load_libs(js_urls, callback) {\n",
       "    root._bokeh_onload_callbacks.push(callback);\n",
       "    if (root._bokeh_is_loading > 0) {\n",
       "      console.log(\"Bokeh: BokehJS is being loaded, scheduling callback at\", now());\n",
       "      return null;\n",
       "    }\n",
       "    if (js_urls == null || js_urls.length === 0) {\n",
       "      run_callbacks();\n",
       "      return null;\n",
       "    }\n",
       "    console.log(\"Bokeh: BokehJS not loaded, scheduling load and callback at\", now());\n",
       "    root._bokeh_is_loading = js_urls.length;\n",
       "    for (var i = 0; i < js_urls.length; i++) {\n",
       "      var url = js_urls[i];\n",
       "      var s = document.createElement('script');\n",
       "      s.src = url;\n",
       "      s.async = false;\n",
       "      s.onreadystatechange = s.onload = function() {\n",
       "        root._bokeh_is_loading--;\n",
       "        if (root._bokeh_is_loading === 0) {\n",
       "          console.log(\"Bokeh: all BokehJS libraries loaded\");\n",
       "          run_callbacks()\n",
       "        }\n",
       "      };\n",
       "      s.onerror = function() {\n",
       "        console.warn(\"failed to load library \" + url);\n",
       "      };\n",
       "      console.log(\"Bokeh: injecting script tag for BokehJS library: \", url);\n",
       "      document.getElementsByTagName(\"head\")[0].appendChild(s);\n",
       "    }\n",
       "  };var element = document.getElementById(\"1a64b7b8-74b3-4d01-ba61-5044a5cfdfb7\");\n",
       "  if (element == null) {\n",
       "    console.log(\"Bokeh: ERROR: autoload.js configured with elementid '1a64b7b8-74b3-4d01-ba61-5044a5cfdfb7' but no matching script tag was found. \")\n",
       "    return false;\n",
       "  }\n",
       "\n",
       "  var js_urls = [\"https://cdn.pydata.org/bokeh/release/bokeh-0.12.13.min.js\", \"https://cdn.pydata.org/bokeh/release/bokeh-widgets-0.12.13.min.js\", \"https://cdn.pydata.org/bokeh/release/bokeh-tables-0.12.13.min.js\", \"https://cdn.pydata.org/bokeh/release/bokeh-gl-0.12.13.min.js\"];\n",
       "\n",
       "  var inline_js = [\n",
       "    function(Bokeh) {\n",
       "      Bokeh.set_log_level(\"info\");\n",
       "    },\n",
       "    \n",
       "    function(Bokeh) {\n",
       "      \n",
       "    },\n",
       "    function(Bokeh) {\n",
       "      console.log(\"Bokeh: injecting CSS: https://cdn.pydata.org/bokeh/release/bokeh-0.12.13.min.css\");\n",
       "      Bokeh.embed.inject_css(\"https://cdn.pydata.org/bokeh/release/bokeh-0.12.13.min.css\");\n",
       "      console.log(\"Bokeh: injecting CSS: https://cdn.pydata.org/bokeh/release/bokeh-widgets-0.12.13.min.css\");\n",
       "      Bokeh.embed.inject_css(\"https://cdn.pydata.org/bokeh/release/bokeh-widgets-0.12.13.min.css\");\n",
       "      console.log(\"Bokeh: injecting CSS: https://cdn.pydata.org/bokeh/release/bokeh-tables-0.12.13.min.css\");\n",
       "      Bokeh.embed.inject_css(\"https://cdn.pydata.org/bokeh/release/bokeh-tables-0.12.13.min.css\");\n",
       "    }\n",
       "  ];\n",
       "\n",
       "  function run_inline_js() {\n",
       "    \n",
       "    if ((root.Bokeh !== undefined) || (force === true)) {\n",
       "      for (var i = 0; i < inline_js.length; i++) {\n",
       "        inline_js[i].call(root, root.Bokeh);\n",
       "      }if (force === true) {\n",
       "        display_loaded();\n",
       "      }} else if (Date.now() < root._bokeh_timeout) {\n",
       "      setTimeout(run_inline_js, 100);\n",
       "    } else if (!root._bokeh_failed_load) {\n",
       "      console.log(\"Bokeh: BokehJS failed to load within specified timeout.\");\n",
       "      root._bokeh_failed_load = true;\n",
       "    } else if (force !== true) {\n",
       "      var cell = $(document.getElementById(\"1a64b7b8-74b3-4d01-ba61-5044a5cfdfb7\")).parents('.cell').data().cell;\n",
       "      cell.output_area.append_execute_result(NB_LOAD_WARNING)\n",
       "    }\n",
       "\n",
       "  }\n",
       "\n",
       "  if (root._bokeh_is_loading === 0) {\n",
       "    console.log(\"Bokeh: BokehJS loaded, going straight to plotting\");\n",
       "    run_inline_js();\n",
       "  } else {\n",
       "    load_libs(js_urls, function() {\n",
       "      console.log(\"Bokeh: BokehJS plotting callback run at\", now());\n",
       "      run_inline_js();\n",
       "    });\n",
       "  }\n",
       "}(window));"
      ],
      "application/vnd.bokehjs_load.v0+json": "\n(function(root) {\n  function now() {\n    return new Date();\n  }\n\n  var force = true;\n\n  if (typeof (root._bokeh_onload_callbacks) === \"undefined\" || force === true) {\n    root._bokeh_onload_callbacks = [];\n    root._bokeh_is_loading = undefined;\n  }\n\n  \n\n  \n  if (typeof (root._bokeh_timeout) === \"undefined\" || force === true) {\n    root._bokeh_timeout = Date.now() + 5000;\n    root._bokeh_failed_load = false;\n  }\n\n  var NB_LOAD_WARNING = {'data': {'text/html':\n     \"<div style='background-color: #fdd'>\\n\"+\n     \"<p>\\n\"+\n     \"BokehJS does not appear to have successfully loaded. If loading BokehJS from CDN, this \\n\"+\n     \"may be due to a slow or bad network connection. Possible fixes:\\n\"+\n     \"</p>\\n\"+\n     \"<ul>\\n\"+\n     \"<li>re-rerun `output_notebook()` to attempt to load from CDN again, or</li>\\n\"+\n     \"<li>use INLINE resources instead, as so:</li>\\n\"+\n     \"</ul>\\n\"+\n     \"<code>\\n\"+\n     \"from bokeh.resources import INLINE\\n\"+\n     \"output_notebook(resources=INLINE)\\n\"+\n     \"</code>\\n\"+\n     \"</div>\"}};\n\n  function display_loaded() {\n    var el = document.getElementById(\"1a64b7b8-74b3-4d01-ba61-5044a5cfdfb7\");\n    if (el != null) {\n      el.textContent = \"BokehJS is loading...\";\n    }\n    if (root.Bokeh !== undefined) {\n      if (el != null) {\n        el.textContent = \"BokehJS \" + root.Bokeh.version + \" successfully loaded.\";\n      }\n    } else if (Date.now() < root._bokeh_timeout) {\n      setTimeout(display_loaded, 100)\n    }\n  }\n\n\n  function run_callbacks() {\n    try {\n      root._bokeh_onload_callbacks.forEach(function(callback) { callback() });\n    }\n    finally {\n      delete root._bokeh_onload_callbacks\n    }\n    console.info(\"Bokeh: all callbacks have finished\");\n  }\n\n  function load_libs(js_urls, callback) {\n    root._bokeh_onload_callbacks.push(callback);\n    if (root._bokeh_is_loading > 0) {\n      console.log(\"Bokeh: BokehJS is being loaded, scheduling callback at\", now());\n      return null;\n    }\n    if (js_urls == null || js_urls.length === 0) {\n      run_callbacks();\n      return null;\n    }\n    console.log(\"Bokeh: BokehJS not loaded, scheduling load and callback at\", now());\n    root._bokeh_is_loading = js_urls.length;\n    for (var i = 0; i < js_urls.length; i++) {\n      var url = js_urls[i];\n      var s = document.createElement('script');\n      s.src = url;\n      s.async = false;\n      s.onreadystatechange = s.onload = function() {\n        root._bokeh_is_loading--;\n        if (root._bokeh_is_loading === 0) {\n          console.log(\"Bokeh: all BokehJS libraries loaded\");\n          run_callbacks()\n        }\n      };\n      s.onerror = function() {\n        console.warn(\"failed to load library \" + url);\n      };\n      console.log(\"Bokeh: injecting script tag for BokehJS library: \", url);\n      document.getElementsByTagName(\"head\")[0].appendChild(s);\n    }\n  };var element = document.getElementById(\"1a64b7b8-74b3-4d01-ba61-5044a5cfdfb7\");\n  if (element == null) {\n    console.log(\"Bokeh: ERROR: autoload.js configured with elementid '1a64b7b8-74b3-4d01-ba61-5044a5cfdfb7' but no matching script tag was found. \")\n    return false;\n  }\n\n  var js_urls = [\"https://cdn.pydata.org/bokeh/release/bokeh-0.12.13.min.js\", \"https://cdn.pydata.org/bokeh/release/bokeh-widgets-0.12.13.min.js\", \"https://cdn.pydata.org/bokeh/release/bokeh-tables-0.12.13.min.js\", \"https://cdn.pydata.org/bokeh/release/bokeh-gl-0.12.13.min.js\"];\n\n  var inline_js = [\n    function(Bokeh) {\n      Bokeh.set_log_level(\"info\");\n    },\n    \n    function(Bokeh) {\n      \n    },\n    function(Bokeh) {\n      console.log(\"Bokeh: injecting CSS: https://cdn.pydata.org/bokeh/release/bokeh-0.12.13.min.css\");\n      Bokeh.embed.inject_css(\"https://cdn.pydata.org/bokeh/release/bokeh-0.12.13.min.css\");\n      console.log(\"Bokeh: injecting CSS: https://cdn.pydata.org/bokeh/release/bokeh-widgets-0.12.13.min.css\");\n      Bokeh.embed.inject_css(\"https://cdn.pydata.org/bokeh/release/bokeh-widgets-0.12.13.min.css\");\n      console.log(\"Bokeh: injecting CSS: https://cdn.pydata.org/bokeh/release/bokeh-tables-0.12.13.min.css\");\n      Bokeh.embed.inject_css(\"https://cdn.pydata.org/bokeh/release/bokeh-tables-0.12.13.min.css\");\n    }\n  ];\n\n  function run_inline_js() {\n    \n    if ((root.Bokeh !== undefined) || (force === true)) {\n      for (var i = 0; i < inline_js.length; i++) {\n        inline_js[i].call(root, root.Bokeh);\n      }if (force === true) {\n        display_loaded();\n      }} else if (Date.now() < root._bokeh_timeout) {\n      setTimeout(run_inline_js, 100);\n    } else if (!root._bokeh_failed_load) {\n      console.log(\"Bokeh: BokehJS failed to load within specified timeout.\");\n      root._bokeh_failed_load = true;\n    } else if (force !== true) {\n      var cell = $(document.getElementById(\"1a64b7b8-74b3-4d01-ba61-5044a5cfdfb7\")).parents('.cell').data().cell;\n      cell.output_area.append_execute_result(NB_LOAD_WARNING)\n    }\n\n  }\n\n  if (root._bokeh_is_loading === 0) {\n    console.log(\"Bokeh: BokehJS loaded, going straight to plotting\");\n    run_inline_js();\n  } else {\n    load_libs(js_urls, function() {\n      console.log(\"Bokeh: BokehJS plotting callback run at\", now());\n      run_inline_js();\n    });\n  }\n}(window));"
     },
     "metadata": {},
     "output_type": "display_data"
    }
   ],
   "source": [
    "import pandas as pd\n",
    "import gensim\n",
    "import nltk\n",
    "nltk.download('wordnet')\n",
    "\n",
    "\n",
    "from sklearn.manifold import TSNE\n",
    "\n",
    "from tqdm import tqdm\n",
    "\n",
    "\n",
    "from bokeh.plotting import figure, show, output_notebook, save\n",
    "from bokeh.models import HoverTool, value, LabelSet, Legend, ColumnDataSource\n",
    "output_notebook()"
   ]
  },
  {
   "cell_type": "code",
   "execution_count": 2,
   "metadata": {},
   "outputs": [],
   "source": [
    "# filename_dataset = './datasets/twitter_trump_2019_05.csv'\n",
    "filename_dataset =  './datasets/twitter_trump_2019_0101-2019_0531.csv'\n",
    "\n",
    "data_df = pd.read_csv(filename_dataset)"
   ]
  },
  {
   "cell_type": "code",
   "execution_count": 3,
   "metadata": {},
   "outputs": [
    {
     "data": {
      "text/plain": [
       "(2125, 7)"
      ]
     },
     "execution_count": 3,
     "metadata": {},
     "output_type": "execute_result"
    }
   ],
   "source": [
    "data_df.shape"
   ]
  },
  {
   "cell_type": "code",
   "execution_count": 4,
   "metadata": {},
   "outputs": [
    {
     "data": {
      "text/html": [
       "<div>\n",
       "<style scoped>\n",
       "    .dataframe tbody tr th:only-of-type {\n",
       "        vertical-align: middle;\n",
       "    }\n",
       "\n",
       "    .dataframe tbody tr th {\n",
       "        vertical-align: top;\n",
       "    }\n",
       "\n",
       "    .dataframe thead th {\n",
       "        text-align: right;\n",
       "    }\n",
       "</style>\n",
       "<table border=\"1\" class=\"dataframe\">\n",
       "  <thead>\n",
       "    <tr style=\"text-align: right;\">\n",
       "      <th></th>\n",
       "      <th>source</th>\n",
       "      <th>text</th>\n",
       "      <th>created_at</th>\n",
       "      <th>retweet_count</th>\n",
       "      <th>favorite_count</th>\n",
       "      <th>is_retweet</th>\n",
       "      <th>id_str</th>\n",
       "    </tr>\n",
       "  </thead>\n",
       "  <tbody>\n",
       "    <tr>\n",
       "      <th>0</th>\n",
       "      <td>Twitter for iPhone</td>\n",
       "      <td>Robert Mueller came to the Oval Office (along ...</td>\n",
       "      <td>05-30-2019 15:34:11</td>\n",
       "      <td>27304</td>\n",
       "      <td>101121</td>\n",
       "      <td>False</td>\n",
       "      <td>1134120831389392896</td>\n",
       "    </tr>\n",
       "    <tr>\n",
       "      <th>1</th>\n",
       "      <td>Twitter for iPhone</td>\n",
       "      <td>“Comey and Brennan are turning on each other.”...</td>\n",
       "      <td>05-30-2019 14:41:24</td>\n",
       "      <td>15412</td>\n",
       "      <td>66318</td>\n",
       "      <td>False</td>\n",
       "      <td>1134107544681455616</td>\n",
       "    </tr>\n",
       "    <tr>\n",
       "      <th>2</th>\n",
       "      <td>Twitter for iPhone</td>\n",
       "      <td>Congressman John Ratcliffe “The Trump Campaign...</td>\n",
       "      <td>05-30-2019 13:41:43</td>\n",
       "      <td>14424</td>\n",
       "      <td>64311</td>\n",
       "      <td>False</td>\n",
       "      <td>1134092525218590721</td>\n",
       "    </tr>\n",
       "    <tr>\n",
       "      <th>3</th>\n",
       "      <td>Twitter for iPhone</td>\n",
       "      <td>....say he fought back against this phony crim...</td>\n",
       "      <td>05-30-2019 11:57:47</td>\n",
       "      <td>22154</td>\n",
       "      <td>104244</td>\n",
       "      <td>False</td>\n",
       "      <td>1134066372584062976</td>\n",
       "    </tr>\n",
       "    <tr>\n",
       "      <th>4</th>\n",
       "      <td>Twitter for iPhone</td>\n",
       "      <td>Russia Russia Russia! That’s all you heard at ...</td>\n",
       "      <td>05-30-2019 11:57:47</td>\n",
       "      <td>27082</td>\n",
       "      <td>118033</td>\n",
       "      <td>False</td>\n",
       "      <td>1134066371510378501</td>\n",
       "    </tr>\n",
       "  </tbody>\n",
       "</table>\n",
       "</div>"
      ],
      "text/plain": [
       "               source                                               text  \\\n",
       "0  Twitter for iPhone  Robert Mueller came to the Oval Office (along ...   \n",
       "1  Twitter for iPhone  “Comey and Brennan are turning on each other.”...   \n",
       "2  Twitter for iPhone  Congressman John Ratcliffe “The Trump Campaign...   \n",
       "3  Twitter for iPhone  ....say he fought back against this phony crim...   \n",
       "4  Twitter for iPhone  Russia Russia Russia! That’s all you heard at ...   \n",
       "\n",
       "            created_at  retweet_count  favorite_count  is_retweet  \\\n",
       "0  05-30-2019 15:34:11          27304          101121       False   \n",
       "1  05-30-2019 14:41:24          15412           66318       False   \n",
       "2  05-30-2019 13:41:43          14424           64311       False   \n",
       "3  05-30-2019 11:57:47          22154          104244       False   \n",
       "4  05-30-2019 11:57:47          27082          118033       False   \n",
       "\n",
       "                id_str  \n",
       "0  1134120831389392896  \n",
       "1  1134107544681455616  \n",
       "2  1134092525218590721  \n",
       "3  1134066372584062976  \n",
       "4  1134066371510378501  "
      ]
     },
     "execution_count": 4,
     "metadata": {},
     "output_type": "execute_result"
    }
   ],
   "source": [
    "data_df.head()"
   ]
  },
  {
   "cell_type": "code",
   "execution_count": 5,
   "metadata": {},
   "outputs": [],
   "source": [
    "raw_docs = data_df['text']"
   ]
  },
  {
   "cell_type": "code",
   "execution_count": 6,
   "metadata": {},
   "outputs": [
    {
     "data": {
      "text/plain": [
       "0    Robert Mueller came to the Oval Office (along ...\n",
       "1    “Comey and Brennan are turning on each other.”...\n",
       "2    Congressman John Ratcliffe “The Trump Campaign...\n",
       "3    ....say he fought back against this phony crim...\n",
       "4    Russia Russia Russia! That’s all you heard at ...\n",
       "Name: text, dtype: object"
      ]
     },
     "execution_count": 6,
     "metadata": {},
     "output_type": "execute_result"
    }
   ],
   "source": [
    "raw_docs[:5]"
   ]
  },
  {
   "cell_type": "markdown",
   "metadata": {},
   "source": [
    "# Normalize, Tokenize, Remove Stopwords"
   ]
  },
  {
   "cell_type": "code",
   "execution_count": 7,
   "metadata": {},
   "outputs": [
    {
     "name": "stderr",
     "output_type": "stream",
     "text": [
      "100%|██████████| 2125/2125 [00:02<00:00, 749.50it/s]\n"
     ]
    }
   ],
   "source": [
    "docs = []\n",
    "\n",
    "for d in tqdm(raw_docs):\n",
    "    # normalize and tokenize\n",
    "    raw_tokens = gensim.utils.simple_preprocess(d)\n",
    "    \n",
    "    # Create lemmatizer\n",
    "    lemmatizer = nltk.stem.WordNetLemmatizer()\n",
    "    doc = []\n",
    "    # remove stopwords\n",
    "    for t in raw_tokens:\n",
    "        if t not in gensim.parsing.preprocessing.STOPWORDS:\n",
    "            # lemmatize and change the past tense to present tense\n",
    "            t = lemmatizer.lemmatize(t, pos='v')\n",
    "            doc.append(t)\n",
    "            \n",
    "            \n",
    "    docs.append(doc)"
   ]
  },
  {
   "cell_type": "code",
   "execution_count": 8,
   "metadata": {},
   "outputs": [
    {
     "name": "stdout",
     "output_type": "stream",
     "text": [
      "['robert', 'mueller', 'come', 'oval', 'office', 'potential', 'candidates', 'seek', 'name', 'director', 'fbi', 'position', 'years', 'tell', 'day', 'name', 'special', 'counsel', 'total', 'conflict', 'nice']\n",
      "['comey', 'brennan', 'turn', 'kilmeade']\n"
     ]
    }
   ],
   "source": [
    "print(docs[0])\n",
    "print(docs[1])"
   ]
  },
  {
   "cell_type": "markdown",
   "metadata": {},
   "source": [
    "# Build Word2Vec"
   ]
  },
  {
   "cell_type": "code",
   "execution_count": 9,
   "metadata": {},
   "outputs": [],
   "source": [
    "model = gensim.models.Word2Vec(size=150,\n",
    "                              window=10,\n",
    "                              min_count=2,\n",
    "                              sg=1,    # 1: Skip-Gram. 0:CBOW\n",
    "                              workers=1)\n",
    "\n"
   ]
  },
  {
   "cell_type": "markdown",
   "metadata": {},
   "source": [
    "# Prepare the Model Vocabulary"
   ]
  },
  {
   "cell_type": "code",
   "execution_count": 10,
   "metadata": {},
   "outputs": [],
   "source": [
    "model.build_vocab(docs)"
   ]
  },
  {
   "cell_type": "code",
   "execution_count": 11,
   "metadata": {},
   "outputs": [
    {
     "name": "stdout",
     "output_type": "stream",
     "text": [
      "Size of vocabulary: 2584\n"
     ]
    }
   ],
   "source": [
    "print('Size of vocabulary: {}'.format(len(model.wv.vocab)))"
   ]
  },
  {
   "cell_type": "code",
   "execution_count": 12,
   "metadata": {},
   "outputs": [
    {
     "name": "stdout",
     "output_type": "stream",
     "text": [
      "['robert', 'mueller', 'come', 'oval', 'office', 'potential', 'seek', 'name', 'director', 'fbi', 'position', 'years', 'tell', 'day', 'special', 'counsel', 'total', 'conflict', 'nice', 'comey', 'brennan', 'turn', 'kilmeade', 'congressman', 'john', 'ratcliffe', 'trump', 'campaign', 'clearly', 'conspire', 'collude', 'foxnews', 'fight', 'phony', 'crime', 'exist', 'horrendous', 'false', 'shouldn', 'sit', 'obstruction', 'presidential', 'harassment', 'russia', 'hear', 'begin', 'witch', 'hunt', 'hoax', 'disappear', 'help', 'elect', 'dems', 'partner', 'fake', 'news', 'media', 'greatest', 'history', 'spend', 'dark', 'unlimited', 'access', 'people', 'resources', 'cooperation', 'highly', 'bring', 'charge', 'inform', 'have', 'navy', 'ship', 'uss', 'mccain', 'recent', 'visit', 'japan', 'flotus', 'love', 'great', 'military', 'men', 'women', 'spectacular', 'job', 'tonight', 'seanhannity', 'number', 'far', 'mark', 'levin', 'congrats', 'book', 'impeach', 'republican', 'president', 'commit', 'democrats', 'rt']\n"
     ]
    }
   ],
   "source": [
    "print(list(model.wv.vocab.keys())[:100])"
   ]
  },
  {
   "cell_type": "markdown",
   "metadata": {},
   "source": [
    "# Train Word2Vec"
   ]
  },
  {
   "cell_type": "code",
   "execution_count": 13,
   "metadata": {},
   "outputs": [
    {
     "data": {
      "text/plain": [
       "5"
      ]
     },
     "execution_count": 13,
     "metadata": {},
     "output_type": "execute_result"
    }
   ],
   "source": [
    "model.epochs"
   ]
  },
  {
   "cell_type": "code",
   "execution_count": 14,
   "metadata": {},
   "outputs": [],
   "source": [
    "results = model.train(sentences=docs,\n",
    "                       total_examples=len(docs),\n",
    "                       epochs=30,\n",
    "                      report_delay=1)"
   ]
  },
  {
   "cell_type": "code",
   "execution_count": 15,
   "metadata": {},
   "outputs": [
    {
     "data": {
      "text/plain": [
       "(738202, 919680)"
      ]
     },
     "execution_count": 15,
     "metadata": {},
     "output_type": "execute_result"
    }
   ],
   "source": [
    "results"
   ]
  },
  {
   "cell_type": "markdown",
   "metadata": {},
   "source": [
    "# Save the model"
   ]
  },
  {
   "cell_type": "code",
   "execution_count": 16,
   "metadata": {},
   "outputs": [],
   "source": [
    "filename_prefix = './models/trump_twitts.word2vec'\n",
    "model.save(filename_prefix)"
   ]
  },
  {
   "cell_type": "markdown",
   "metadata": {},
   "source": [
    "# Restore the Model"
   ]
  },
  {
   "cell_type": "code",
   "execution_count": 17,
   "metadata": {},
   "outputs": [],
   "source": [
    "model = gensim.models.Word2Vec.load(filename_prefix)"
   ]
  },
  {
   "cell_type": "markdown",
   "metadata": {},
   "source": [
    "# Insepct Length of  the Encoded Vector\n",
    "The length is the same as defined in the following snippet:\n",
    "```\n",
    "gensim.models.Word2Vec(size=150,...)\n",
    "```"
   ]
  },
  {
   "cell_type": "code",
   "execution_count": 18,
   "metadata": {},
   "outputs": [],
   "source": [
    "vector = model.wv['trump']"
   ]
  },
  {
   "cell_type": "code",
   "execution_count": 19,
   "metadata": {},
   "outputs": [
    {
     "data": {
      "text/plain": [
       "150"
      ]
     },
     "execution_count": 19,
     "metadata": {},
     "output_type": "execute_result"
    }
   ],
   "source": [
    "len(vector)"
   ]
  },
  {
   "cell_type": "code",
   "execution_count": 20,
   "metadata": {},
   "outputs": [
    {
     "data": {
      "text/plain": [
       "array([-0.32850593,  0.12494201, -0.23195346,  0.10563996, -0.118173  ,\n",
       "       -0.22661002, -0.19973227, -0.12601261, -0.50985044,  0.30842406], dtype=float32)"
      ]
     },
     "execution_count": 20,
     "metadata": {},
     "output_type": "execute_result"
    }
   ],
   "source": [
    "vector[:10]"
   ]
  },
  {
   "cell_type": "code",
   "execution_count": 21,
   "metadata": {},
   "outputs": [
    {
     "name": "stdout",
     "output_type": "stream",
     "text": [
      "min: -0.6710901260375977, max: 0.6229332685470581\n"
     ]
    }
   ],
   "source": [
    "print('min: {}, max: {}'.format(min(vector),\n",
    "                               max(vector)))"
   ]
  },
  {
   "cell_type": "markdown",
   "metadata": {},
   "source": [
    "# Generate Features"
   ]
  },
  {
   "cell_type": "code",
   "execution_count": 22,
   "metadata": {},
   "outputs": [],
   "source": [
    "words_topic_1 = ['dbongino', 'great', 'today', 'trump', 'job', 'joe', 'china', 'vote', 'realdonaldtrump', 'biden']\n",
    "words_topic_2 = ['president', 'mueller', 'democrats', 'report', 'collusion', 'trump', 'realdonaldtrump', 'tomfitton', 'know', 'want']\n",
    "words_topic_3 = ['china', 'great', 'tariff', 'dollars', 'state', 'president', 'billion', 'want', 'japan', 'years']\n",
    "\n",
    "words_testing = words_topic_1 + words_topic_2 + words_topic_3"
   ]
  },
  {
   "cell_type": "code",
   "execution_count": 23,
   "metadata": {},
   "outputs": [
    {
     "data": {
      "text/plain": [
       "30"
      ]
     },
     "execution_count": 23,
     "metadata": {},
     "output_type": "execute_result"
    }
   ],
   "source": [
    "len(words_testing)"
   ]
  },
  {
   "cell_type": "code",
   "execution_count": 24,
   "metadata": {},
   "outputs": [
    {
     "data": {
      "text/plain": [
       "numpy.ndarray"
      ]
     },
     "execution_count": 24,
     "metadata": {},
     "output_type": "execute_result"
    }
   ],
   "source": [
    "# features = model.wv.__getitem__(words_testing)\n",
    "\n",
    "total_words = list(model.wv.vocab)\n",
    "features = model.wv.__getitem__(total_words)\n",
    "type(features)"
   ]
  },
  {
   "cell_type": "code",
   "execution_count": 25,
   "metadata": {},
   "outputs": [
    {
     "data": {
      "text/plain": [
       "['robert',\n",
       " 'mueller',\n",
       " 'come',\n",
       " 'oval',\n",
       " 'office',\n",
       " 'potential',\n",
       " 'seek',\n",
       " 'name',\n",
       " 'director',\n",
       " 'fbi']"
      ]
     },
     "execution_count": 25,
     "metadata": {},
     "output_type": "execute_result"
    }
   ],
   "source": [
    "total_words[:10]"
   ]
  },
  {
   "cell_type": "code",
   "execution_count": 26,
   "metadata": {},
   "outputs": [
    {
     "name": "stdout",
     "output_type": "stream",
     "text": [
      "Length = 2584\n",
      "feature size = 150\n"
     ]
    }
   ],
   "source": [
    "print('Length = {}\\nfeature size = {}'.format(features.shape[0], features.shape[1]))"
   ]
  },
  {
   "cell_type": "code",
   "execution_count": 27,
   "metadata": {},
   "outputs": [
    {
     "data": {
      "text/plain": [
       "1.4015204"
      ]
     },
     "execution_count": 27,
     "metadata": {},
     "output_type": "execute_result"
    }
   ],
   "source": [
    "features.max()"
   ]
  },
  {
   "cell_type": "code",
   "execution_count": 28,
   "metadata": {},
   "outputs": [
    {
     "data": {
      "text/plain": [
       "-1.2704477"
      ]
     },
     "execution_count": 28,
     "metadata": {},
     "output_type": "execute_result"
    }
   ],
   "source": [
    "features.min()"
   ]
  },
  {
   "cell_type": "markdown",
   "metadata": {},
   "source": [
    "# Test Some Words"
   ]
  },
  {
   "cell_type": "code",
   "execution_count": 29,
   "metadata": {},
   "outputs": [
    {
     "data": {
      "text/plain": [
       "[('donald', 0.5802708864212036),\n",
       " ('graham', 0.5547558069229126),\n",
       " ('breitbart', 0.5287465453147888),\n",
       " ('shred', 0.5283063054084778),\n",
       " ('nolte', 0.5161701440811157),\n",
       " ('ratcliffe', 0.5117678046226501),\n",
       " ('marist', 0.5114983320236206),\n",
       " ('stevehiltonx', 0.5089367628097534),\n",
       " ('wsj', 0.5008276104927063),\n",
       " ('breitbartnews', 0.49553459882736206)]"
      ]
     },
     "execution_count": 29,
     "metadata": {},
     "output_type": "execute_result"
    }
   ],
   "source": [
    "model.wv.most_similar('trump')"
   ]
  },
  {
   "cell_type": "code",
   "execution_count": 30,
   "metadata": {},
   "outputs": [
    {
     "data": {
      "text/plain": [
       "[('renegotiate', 0.7260676622390747),\n",
       " ('tariff', 0.7085151076316833),\n",
       " ('asia', 0.6824506521224976),\n",
       " ('slowly', 0.6776384711265564),\n",
       " ('xi', 0.676251232624054),\n",
       " ('wto', 0.6683308482170105),\n",
       " ('intellectual', 0.6676908135414124),\n",
       " ('subsidize', 0.6625998020172119),\n",
       " ('degree', 0.6609886884689331),\n",
       " ('property', 0.6486684679985046)]"
      ]
     },
     "execution_count": 30,
     "metadata": {},
     "output_type": "execute_result"
    }
   ],
   "source": [
    "model.wv.most_similar('china')"
   ]
  },
  {
   "cell_type": "code",
   "execution_count": 31,
   "metadata": {},
   "outputs": [
    {
     "data": {
      "text/plain": [
       "[('jw', 0.8678972125053406),\n",
       " ('cia', 0.8633334040641785),\n",
       " ('communications', 0.8540863990783691),\n",
       " ('bruce', 0.8527845144271851),\n",
       " ('nsa', 0.8480514287948608),\n",
       " ('overthrow', 0.8381711840629578),\n",
       " ('coup', 0.8376858234405518),\n",
       " ('fb', 0.835588812828064),\n",
       " ('ohr', 0.8275354504585266),\n",
       " ('docs', 0.8227896094322205)]"
      ]
     },
     "execution_count": 31,
     "metadata": {},
     "output_type": "execute_result"
    }
   ],
   "source": [
    "model.wv.most_similar('doj')"
   ]
  },
  {
   "cell_type": "code",
   "execution_count": 32,
   "metadata": {},
   "outputs": [
    {
     "data": {
      "text/plain": [
       "[('southern', 0.727216362953186),\n",
       " ('facilities', 0.6854546070098877),\n",
       " ('loopholes', 0.6798961162567139),\n",
       " ('patrol', 0.6747167110443115),\n",
       " ('favor', 0.6743601560592651),\n",
       " ('veto', 0.6720930337905884),\n",
       " ('security', 0.6640868186950684),\n",
       " ('traffic', 0.6633055210113525),\n",
       " ('emergency', 0.6579341292381287),\n",
       " ('invasion', 0.65627521276474)]"
      ]
     },
     "execution_count": 32,
     "metadata": {},
     "output_type": "execute_result"
    }
   ],
   "source": [
    "model.wv.most_similar('border')"
   ]
  },
  {
   "cell_type": "code",
   "execution_count": 33,
   "metadata": {},
   "outputs": [
    {
     "data": {
      "text/plain": [
       "[('uc', 0.7828674912452698),\n",
       " ('chuckgrassley', 0.768885612487793),\n",
       " ('moon', 0.7604418396949768),\n",
       " ('workforce', 0.7584115266799927),\n",
       " ('initiative', 0.7498108148574829),\n",
       " ('balance', 0.7455888390541077),\n",
       " ('guard', 0.7425921559333801),\n",
       " ('annual', 0.7373372316360474),\n",
       " ('louisiana', 0.7320613265037537),\n",
       " ('wgdp', 0.7293070554733276)]"
      ]
     },
     "execution_count": 33,
     "metadata": {},
     "output_type": "execute_result"
    }
   ],
   "source": [
    "model.wv.most_similar('space')"
   ]
  },
  {
   "cell_type": "code",
   "execution_count": 34,
   "metadata": {},
   "outputs": [
    {
     "data": {
      "text/plain": [
       "[('men', 0.89604651927948),\n",
       " ('vital', 0.7698303461074829),\n",
       " ('army', 0.7636630535125732),\n",
       " ('sale', 0.7604930400848389),\n",
       " ('sheriffs', 0.7366962432861328),\n",
       " ('cemetery', 0.735630452632904),\n",
       " ('devotion', 0.7328227758407593),\n",
       " ('guard', 0.7274119257926941),\n",
       " ('brave', 0.7255415320396423),\n",
       " ('arlington', 0.7187284231185913)]"
      ]
     },
     "execution_count": 34,
     "metadata": {},
     "output_type": "execute_result"
    }
   ],
   "source": [
    "model.wv.most_similar('women')"
   ]
  },
  {
   "cell_type": "code",
   "execution_count": 36,
   "metadata": {},
   "outputs": [
    {
     "data": {
      "text/plain": [
       "[('smith', 0.669882595539093),\n",
       " ('unbelievable', 0.6672016978263855),\n",
       " ('els', 0.6471987366676331),\n",
       " ('awesome', 0.6462419033050537),\n",
       " ('staff', 0.6409105658531189),\n",
       " ('majesty', 0.6407461166381836),\n",
       " ('indianapolis', 0.6365588307380676),\n",
       " ('themasters', 0.6363410353660583),\n",
       " ('brilliant', 0.6347208023071289),\n",
       " ('google', 0.6306241750717163)]"
      ]
     },
     "execution_count": 36,
     "metadata": {},
     "output_type": "execute_result"
    }
   ],
   "source": [
    "model.wv.most_similar('friend')"
   ]
  },
  {
   "cell_type": "code",
   "execution_count": 39,
   "metadata": {},
   "outputs": [
    {
     "data": {
      "text/plain": [
       "[('fraudster', 0.9649631381034851),\n",
       " ('testimony', 0.8125750422477722),\n",
       " ('contradict', 0.7634248733520508),\n",
       " ('cohen', 0.7626761198043823),\n",
       " ('manuscript', 0.762614905834198),\n",
       " ('hostile', 0.7515232563018799),\n",
       " ('adam', 0.7421088218688965),\n",
       " ('nonsense', 0.7411695718765259),\n",
       " ('prison', 0.7385744452476501),\n",
       " ('spin', 0.7373374104499817)]"
      ]
     },
     "execution_count": 39,
     "metadata": {},
     "output_type": "execute_result"
    }
   ],
   "source": [
    "model.wv.most_similar('liar')"
   ]
  },
  {
   "cell_type": "code",
   "execution_count": 37,
   "metadata": {},
   "outputs": [
    {
     "data": {
      "text/plain": [
       "[('fairness', 0.7470129132270813),\n",
       " ('dirty', 0.7232107520103455),\n",
       " ('extremely', 0.7169377207756042),\n",
       " ('column', 0.7101934552192688),\n",
       " ('andy', 0.7091387510299683),\n",
       " ('narrative', 0.7075923085212708),\n",
       " ('difficult', 0.7023041248321533),\n",
       " ('correctly', 0.6871157884597778),\n",
       " ('cop', 0.6864380836486816),\n",
       " ('conclusion', 0.6833996772766113)]"
      ]
     },
     "execution_count": 37,
     "metadata": {},
     "output_type": "execute_result"
    }
   ],
   "source": [
    "model.wv.most_similar('google')"
   ]
  },
  {
   "cell_type": "code",
   "execution_count": 38,
   "metadata": {},
   "outputs": [
    {
     "data": {
      "text/plain": [
       "[('lobbyist', 0.8553866147994995),\n",
       " ('post', 0.8528805375099182),\n",
       " ('checker', 0.8169164061546326),\n",
       " ('outlets', 0.8106592297554016),\n",
       " ('washington', 0.8053920269012451),\n",
       " ('purposely', 0.8022329807281494),\n",
       " ('paper', 0.7894401550292969),\n",
       " ('accurate', 0.7827918529510498),\n",
       " ('derange', 0.7775524854660034),\n",
       " ('favorite', 0.7726907730102539)]"
      ]
     },
     "execution_count": 38,
     "metadata": {},
     "output_type": "execute_result"
    }
   ],
   "source": [
    "model.wv.most_similar('amazon')"
   ]
  },
  {
   "cell_type": "code",
   "execution_count": 55,
   "metadata": {},
   "outputs": [
    {
     "data": {
      "text/plain": [
       "[('uniform', 0.870519757270813),\n",
       " ('spouses', 0.8508966565132141),\n",
       " ('ronnebeck', 0.8229634165763855),\n",
       " ('devotion', 0.8049011826515198),\n",
       " ('electionday', 0.7890223264694214),\n",
       " ('godblessamerica', 0.7816034555435181),\n",
       " ('nd', 0.7810846567153931),\n",
       " ('liberty', 0.7784813046455383),\n",
       " ('presidenttrump', 0.7780365943908691),\n",
       " ('nf', 0.7778208255767822)]"
      ]
     },
     "execution_count": 55,
     "metadata": {},
     "output_type": "execute_result"
    }
   ],
   "source": [
    "model.wv.most_similar('son')"
   ]
  },
  {
   "cell_type": "code",
   "execution_count": 60,
   "metadata": {},
   "outputs": [
    {
     "data": {
      "text/plain": [
       "[('otto', 0.6536098122596741),\n",
       " ('dingell', 0.6499768495559692),\n",
       " ('warmbier', 0.6348521709442139),\n",
       " ('quest', 0.6266598105430603),\n",
       " ('corporations', 0.6148864030838013),\n",
       " ('accomplishments', 0.6085590720176697),\n",
       " ('gr', 0.6070329546928406),\n",
       " ('hearts', 0.5983178019523621),\n",
       " ('gather', 0.5933815836906433),\n",
       " ('smaller', 0.5827628970146179)]"
      ]
     },
     "execution_count": 60,
     "metadata": {},
     "output_type": "execute_result"
    }
   ],
   "source": [
    "model.wv.most_similar('family')"
   ]
  },
  {
   "cell_type": "code",
   "execution_count": 61,
   "metadata": {},
   "outputs": [
    {
     "data": {
      "text/plain": [
       "[('meghan', 0.8162789344787598),\n",
       " ('lrihendry', 0.7671878337860107),\n",
       " ('paulsperry_', 0.7174932360649109),\n",
       " ('fireman', 0.6764699816703796),\n",
       " ('realsaavedra', 0.6746256947517395),\n",
       " ('unfortunately', 0.6732372641563416),\n",
       " ('trish_regan', 0.6700133085250854),\n",
       " ('clients', 0.667826235294342),\n",
       " ('nbcnews', 0.6560743451118469),\n",
       " ('ken', 0.6549465656280518)]"
      ]
     },
     "execution_count": 61,
     "metadata": {},
     "output_type": "execute_result"
    }
   ],
   "source": [
    "model.wv.most_similar('father')"
   ]
  },
  {
   "cell_type": "code",
   "execution_count": 48,
   "metadata": {},
   "outputs": [
    {
     "data": {
      "text/plain": [
       "[('kremlin', 0.5977956056594849),\n",
       " ('putin', 0.5510589480400085),\n",
       " ('rough', 0.5310858488082886),\n",
       " ('fashion', 0.5306275486946106),\n",
       " ('excellent', 0.5294192433357239),\n",
       " ('tumble', 0.5243400931358337),\n",
       " ('vladimir', 0.5118155479431152),\n",
       " ('luck', 0.5062312483787537),\n",
       " ('export', 0.5041525363922119),\n",
       " ('wet', 0.5024435520172119)]"
      ]
     },
     "execution_count": 48,
     "metadata": {},
     "output_type": "execute_result"
    }
   ],
   "source": [
    "model.wv.most_similar('good')"
   ]
  },
  {
   "cell_type": "code",
   "execution_count": 49,
   "metadata": {},
   "outputs": [
    {
     "data": {
      "text/plain": [
       "[('violation', 0.5866803526878357),\n",
       " ('pure', 0.5797054767608643),\n",
       " ('hurt', 0.5650379657745361),\n",
       " ('pretty', 0.5526587963104248),\n",
       " ('cheat', 0.5475195050239563),\n",
       " ('portray', 0.5343050360679626),\n",
       " ('deception', 0.5326645970344543),\n",
       " ('passive', 0.529072642326355),\n",
       " ('kremlin', 0.5259602069854736),\n",
       " ('overall', 0.5257994532585144)]"
      ]
     },
     "execution_count": 49,
     "metadata": {},
     "output_type": "execute_result"
    }
   ],
   "source": [
    "model.wv.most_similar('bad')"
   ]
  },
  {
   "cell_type": "code",
   "execution_count": 51,
   "metadata": {},
   "outputs": [
    {
     "data": {
      "text/plain": [
       "[('dnc', 0.5811668634414673),\n",
       " ('hu', 0.5692771673202515),\n",
       " ('brother', 0.5690678954124451),\n",
       " ('ukraine', 0.5671563148498535),\n",
       " ('ohr', 0.5658411979675293),\n",
       " ('nellie', 0.5656121373176575),\n",
       " ('podesta', 0.5590076446533203),\n",
       " ('kerry', 0.5587401390075684),\n",
       " ('smoke', 0.5580701231956482),\n",
       " ('wh', 0.5567339658737183)]"
      ]
     },
     "execution_count": 51,
     "metadata": {},
     "output_type": "execute_result"
    }
   ],
   "source": [
    "model.wv.most_similar(positive=['clinton', 'xi'], negative=['good'])"
   ]
  },
  {
   "cell_type": "markdown",
   "metadata": {},
   "source": [
    "# Display Words using t-SNE"
   ]
  },
  {
   "cell_type": "code",
   "execution_count": 57,
   "metadata": {},
   "outputs": [],
   "source": [
    "SEED=0\n",
    "tsne_model = TSNE(perplexity=20, n_components=2, random_state=SEED)"
   ]
  },
  {
   "cell_type": "code",
   "execution_count": 58,
   "metadata": {},
   "outputs": [],
   "source": [
    "X_tsne = tsne_model.fit_transform(features)"
   ]
  },
  {
   "cell_type": "code",
   "execution_count": 59,
   "metadata": {
    "scrolled": true
   },
   "outputs": [
    {
     "data": {
      "text/html": [
       "\n",
       "<div class=\"bk-root\">\n",
       "    <div class=\"bk-plotdiv\" id=\"48165f2f-433e-4fdd-8af1-c7c7d67bdaa3\"></div>\n",
       "</div>"
      ]
     },
     "metadata": {},
     "output_type": "display_data"
    },
    {
     "data": {
      "application/javascript": [
       "(function(root) {\n",
       "  function embed_document(root) {\n",
       "    \n",
       "  var docs_json = {\"d418529d-d42d-484a-8cc0-fbf904023413\":{\"roots\":{\"references\":[{\"attributes\":{\"active_drag\":\"auto\",\"active_inspect\":\"auto\",\"active_scroll\":\"auto\",\"active_tap\":\"auto\",\"tools\":[{\"id\":\"c6c515cb-5a80-460c-a389-40dc3eeecdf8\",\"type\":\"PanTool\"},{\"id\":\"d68b32c8-ede6-4dac-a9c6-0b5a57f2a06a\",\"type\":\"WheelZoomTool\"},{\"id\":\"e197a4b2-469d-4e9b-b29c-bce6913caded\",\"type\":\"BoxZoomTool\"},{\"id\":\"c71b8c56-0e8c-4206-b299-4a7a21de6d9f\",\"type\":\"ResetTool\"},{\"id\":\"d7b4b235-4599-4c24-9512-5d01930fab86\",\"type\":\"HoverTool\"},{\"id\":\"ca8feee4-742e-4f27-bb02-26db166e62e1\",\"type\":\"SaveTool\"}]},\"id\":\"b8ee3d88-4530-4aa9-b624-48e41dc1d643\",\"type\":\"Toolbar\"},{\"attributes\":{},\"id\":\"c71b8c56-0e8c-4206-b299-4a7a21de6d9f\",\"type\":\"ResetTool\"},{\"attributes\":{\"callback\":null},\"id\":\"b4f6be57-e2bc-4fa8-9826-0c9504c15260\",\"type\":\"DataRange1d\"},{\"attributes\":{\"overlay\":{\"id\":\"993525dc-0864-4730-a598-f2681adf830f\",\"type\":\"BoxAnnotation\"}},\"id\":\"e197a4b2-469d-4e9b-b29c-bce6913caded\",\"type\":\"BoxZoomTool\"},{\"attributes\":{\"plot\":null,\"text\":\"T-SNE visualization of Trump's twitts\"},\"id\":\"5a46dd8a-9a2b-4a2d-b6d6-342175eea58c\",\"type\":\"Title\"},{\"attributes\":{},\"id\":\"d68b32c8-ede6-4dac-a9c6-0b5a57f2a06a\",\"type\":\"WheelZoomTool\"},{\"attributes\":{},\"id\":\"c6c515cb-5a80-460c-a389-40dc3eeecdf8\",\"type\":\"PanTool\"},{\"attributes\":{\"callback\":null},\"id\":\"4262dac1-575a-4b36-980e-67a55536238f\",\"type\":\"DataRange1d\"},{\"attributes\":{\"min_border\":1,\"plot_width\":1000,\"renderers\":[{\"id\":\"993525dc-0864-4730-a598-f2681adf830f\",\"type\":\"BoxAnnotation\"},{\"id\":\"8019832f-aa80-460a-850a-004ed734b1da\",\"type\":\"GlyphRenderer\"},{\"id\":\"0173ab63-5561-4cdb-bde8-c63e4c5cdfd4\",\"type\":\"LabelSet\"}],\"title\":{\"id\":\"5a46dd8a-9a2b-4a2d-b6d6-342175eea58c\",\"type\":\"Title\"},\"toolbar\":{\"id\":\"b8ee3d88-4530-4aa9-b624-48e41dc1d643\",\"type\":\"Toolbar\"},\"x_range\":{\"id\":\"4262dac1-575a-4b36-980e-67a55536238f\",\"type\":\"DataRange1d\"},\"x_scale\":{\"id\":\"10407058-12e6-4e56-bd08-b02141b25157\",\"type\":\"LinearScale\"},\"y_range\":{\"id\":\"b4f6be57-e2bc-4fa8-9826-0c9504c15260\",\"type\":\"DataRange1d\"},\"y_scale\":{\"id\":\"a07b9d10-935c-4360-959a-faa416d8b6f3\",\"type\":\"LinearScale\"}},\"id\":\"337838b0-9a6e-441c-9bf4-99caadc01cb3\",\"subtype\":\"Figure\",\"type\":\"Plot\"},{\"attributes\":{\"data_source\":{\"id\":\"da444d81-c561-4496-9e9a-de63dbd3dfe0\",\"type\":\"ColumnDataSource\"},\"glyph\":{\"id\":\"1b34295b-69cf-4cf9-a88f-d0d1d5af09d2\",\"type\":\"Circle\"},\"hover_glyph\":null,\"muted_glyph\":null,\"nonselection_glyph\":{\"id\":\"ddeeec42-2446-415c-b7d2-2aebc0ad9f17\",\"type\":\"Circle\"},\"selection_glyph\":null,\"view\":{\"id\":\"32bfdb6b-e5e7-4202-99e3-7041461a9b09\",\"type\":\"CDSView\"}},\"id\":\"8019832f-aa80-460a-850a-004ed734b1da\",\"type\":\"GlyphRenderer\"},{\"attributes\":{\"fill_alpha\":{\"value\":0.1},\"fill_color\":{\"value\":\"#1f77b4\"},\"line_alpha\":{\"value\":0.1},\"line_color\":{\"value\":\"#1f77b4\"},\"size\":{\"units\":\"screen\",\"value\":10},\"x\":{\"field\":\"x\"},\"y\":{\"field\":\"y\"}},\"id\":\"ddeeec42-2446-415c-b7d2-2aebc0ad9f17\",\"type\":\"Circle\"},{\"attributes\":{\"bottom_units\":\"screen\",\"fill_alpha\":{\"value\":0.5},\"fill_color\":{\"value\":\"lightgrey\"},\"left_units\":\"screen\",\"level\":\"overlay\",\"line_alpha\":{\"value\":1.0},\"line_color\":{\"value\":\"black\"},\"line_dash\":[4,4],\"line_width\":{\"value\":2},\"plot\":null,\"render_mode\":\"css\",\"right_units\":\"screen\",\"top_units\":\"screen\"},\"id\":\"993525dc-0864-4730-a598-f2681adf830f\",\"type\":\"BoxAnnotation\"},{\"attributes\":{\"level\":\"glyph\",\"plot\":{\"id\":\"337838b0-9a6e-441c-9bf4-99caadc01cb3\",\"subtype\":\"Figure\",\"type\":\"Plot\"},\"source\":{\"id\":\"da444d81-c561-4496-9e9a-de63dbd3dfe0\",\"type\":\"ColumnDataSource\"},\"text\":{\"field\":\"label\"},\"text_font_size\":{\"value\":\"6pt\"},\"x\":{\"field\":\"x\"},\"x_offset\":{\"value\":5},\"y\":{\"field\":\"y\"},\"y_offset\":{\"value\":5}},\"id\":\"0173ab63-5561-4cdb-bde8-c63e4c5cdfd4\",\"type\":\"LabelSet\"},{\"attributes\":{\"callback\":null,\"column_names\":[\"x\",\"y\",\"label\",\"content\"],\"data\":{\"content\":[\"robert\",\"mueller\",\"come\",\"oval\",\"office\",\"potential\",\"seek\",\"name\",\"director\",\"fbi\",\"position\",\"years\",\"tell\",\"day\",\"special\",\"counsel\",\"total\",\"conflict\",\"nice\",\"comey\",\"brennan\",\"turn\",\"kilmeade\",\"congressman\",\"john\",\"ratcliffe\",\"trump\",\"campaign\",\"clearly\",\"conspire\",\"collude\",\"foxnews\",\"fight\",\"phony\",\"crime\",\"exist\",\"horrendous\",\"false\",\"shouldn\",\"sit\",\"obstruction\",\"presidential\",\"harassment\",\"russia\",\"hear\",\"begin\",\"witch\",\"hunt\",\"hoax\",\"disappear\",\"help\",\"elect\",\"dems\",\"partner\",\"fake\",\"news\",\"media\",\"greatest\",\"history\",\"spend\",\"dark\",\"unlimited\",\"access\",\"people\",\"resources\",\"cooperation\",\"highly\",\"bring\",\"charge\",\"inform\",\"have\",\"navy\",\"ship\",\"uss\",\"mccain\",\"recent\",\"visit\",\"japan\",\"flotus\",\"love\",\"great\",\"military\",\"men\",\"women\",\"spectacular\",\"job\",\"tonight\",\"seanhannity\",\"number\",\"far\",\"mark\",\"levin\",\"congrats\",\"book\",\"impeach\",\"republican\",\"president\",\"commit\",\"democrats\",\"rt\",\"presssec\",\"white\",\"house\",\"statement\",\"today\",\"https\",\"kayleighmcenany\",\"time\",\"origins\",\"spy\",\"change\",\"report\",\"evidence\",\"country\",\"person\",\"innocent\",\"case\",\"close\",\"thank\",\"alabama\",\"senate\",\"incredible\",\"gain\",\"presidency\",\"lose\",\"include\",\"pro\",\"life\",\"victories\",\"roy\",\"moore\",\"win\",\"consequences\",\"devastate\",\"judge\",\"supreme\",\"court\",\"justices\",\"republicans\",\"allow\",\"seat\",\"state\",\"leaders\",\"want\",\"probably\",\"realdonaldtrump\",\"god\",\"bless\",\"usa\",\"hrt\",\"wnwz\",\"successful\",\"trip\",\"big\",\"progress\",\"front\",\"wonderful\",\"leader\",\"prime\",\"minister\",\"abe\",\"actually\",\"stick\",\"sleepy\",\"joe\",\"biden\",\"foreign\",\"kim\",\"jong\",\"call\",\"low\",\"iq\",\"things\",\"relate\",\"quote\",\"chairman\",\"individual\",\"possibly\",\"upset\",\"speak\",\"governor\",\"arkansas\",\"fema\",\"federal\",\"government\",\"necessary\",\"record\",\"flood\",\"local\",\"officials\",\"update\",\"devastation\",\"tornadoes\",\"ohio\",\"early\",\"morning\",\"administration\",\"fully\",\"support\",\"cleanup\",\"recovery\",\"storm\",\"dangerous\",\"damage\",\"team\",\"continue\",\"emergency\",\"affect\",\"listen\",\"resilient\",\"oklahoma\",\"night\",\"live\",\"remark\",\"potus\",\"donald\",\"wait\",\"soon\",\"mzhemingway\",\"excite\",\"ve\",\"write\",\"kavanaugh\",\"confirmation\",\"make\",\"stop\",\"quick\",\"alaska\",\"meet\",\"go\",\"get\",\"new\",\"emperor\",\"empress\",\"honor\",\"associate\",\"chance\",\"particular\",\"african\",\"americans\",\"able\",\"vote\",\"hand\",\"responsible\",\"criminal\",\"justice\",\"reform\",\"tremendous\",\"amp\",\"fix\",\"bad\",\"super\",\"term\",\"heavily\",\"involve\",\"pass\",\"period\",\"american\",\"apologize\",\"hop\",\"work\",\"israel\",\"coalition\",\"formation\",\"bibi\",\"alliance\",\"america\",\"stronger\",\"lot\",\"liz\",\"statements\",\"agents\",\"investigate\",\"treason\",\"hu\",\"wh\",\"congress\",\"create\",\"economy\",\"rebuild\",\"take\",\"care\",\"vet\",\"choice\",\"best\",\"admit\",\"completely\",\"age\",\"think\",\"away\",\"laws\",\"hold\",\"accountable\",\"whitehouse\",\"abeshinzo\",\"palace\",\"usembassytokyo\",\"receive\",\"even\",\"welcome\",\"ceremony\",\"potusinjapan\",\"congratulations\",\"friend\",\"roger\",\"th\",\"unbelievable\",\"indianapolis\",\"watch\",\"race\",\"sport\",\"patriots\",\"roll\",\"thunder\",\"washington\",\"year\",\"hopefully\",\"press\",\"russian\",\"collusion\",\"delusion\",\"marklevinshow\",\"judgejeanine\",\"tokyo\",\"present\",\"cup\",\"grand\",\"champion\",\"trade\",\"negotiations\",\"agriculture\",\"beef\",\"play\",\"july\",\"elections\",\"fun\",\"numerous\",\"japanese\",\"unite\",\"fail\",\"party\",\"succeed\",\"death\",\"wish\",\"golf\",\"club\",\"usambjapan\",\"mr\",\"north\",\"korea\",\"fire\",\"small\",\"weapons\",\"disturb\",\"confidence\",\"promise\",\"smile\",\"swampman\",\"worse\",\"send\",\"signal\",\"right\",\"game\",\"fan\",\"jacknicklaus\",\"tigerwoods\",\"say\",\"lady\",\"stay\",\"guests\",\"era\",\"kick\",\"historic\",\"discuss\",\"ways\",\"economic\",\"tie\",\"business\",\"gopchairwoman\",\"better\",\"deal\",\"end\",\"china\",\"ha\",\"corruption\",\"smollett\",\"chicago\",\"hate\",\"remember\",\"maga\",\"lie\",\"stuff\",\"apology\",\"millions\",\"teamtrump\",\"plan\",\"healthcare\",\"mean\",\"eliminate\",\"private\",\"like\",\"blue\",\"cross\",\"reald\",\"jessebwatters\",\"tomorrow\",\"senator\",\"lindseygrahamsc\",\"wattersworld\",\"relationship\",\"mainstream\",\"talk\",\"transparency\",\"learn\",\"fellow\",\"obama\",\"appoint\",\"rule\",\"section\",\"southern\",\"wall\",\"construction\",\"border\",\"security\",\"favor\",\"drug\",\"human\",\"traffic\",\"ask\",\"appeal\",\"arrive\",\"ambassador\",\"ready\",\"land\",\"melania\",\"look\",\"forward\",\"see\",\"believe\",\"give\",\"hard\",\"know\",\"action\",\"flag\",\"democrat\",\"act\",\"control\",\"intelligence\",\"committee\",\"bipartisan\",\"important\",\"jim_jordan\",\"rep\",\"jordan\",\"focus\",\"attack\",\"real\",\"war\",\"ago\",\"bright\",\"anymore\",\"problems\",\"face\",\"solve\",\"crisis\",\"lower\",\"cost\",\"engage\",\"troop\",\"depart\",\"shortly\",\"second\",\"shoot\",\"bob\",\"unhappy\",\"longer\",\"territory\",\"memorial\",\"weekend\",\"mitch\",\"mcconnell\",\"senators\",\"strong\",\"accomplish\",\"air\",\"force\",\"head\",\"behalf\",\"majesty\",\"narendramodi\",\"congratulate\",\"political\",\"victory\",\"man\",\"india\",\"lucky\",\"tom\",\"sacred\",\"duty\",\"tour\",\"arlington\",\"national\",\"cemetery\",\"hit\",\"list\",\"yesterday\",\"grateful\",\"inspire\",\"portrait\",\"old\",\"guard\",\"tomcottonar\",\"radical\",\"leave\",\"testify\",\"issue\",\"million\",\"dollar\",\"loud\",\"clear\",\"obstruct\",\"trouble\",\"try\",\"wrong\",\"impeachment\",\"high\",\"crimes\",\"misdemeanors\",\"agencies\",\"devinnunes\",\"happen\",\"furious\",\"find\",\"legislate\",\"twitter\",\"popular\",\"conservative\",\"voice\",\"viciously\",\"open\",\"wow\",\"cnn\",\"rat\",\"way\",\"tire\",\"stories\",\"anti\",\"chris\",\"cuomo\",\"reward\",\"lowest\",\"spot\",\"badly\",\"television\",\"heytammybruce\",\"join\",\"fox\",\"nation\",\"bruce\",\"jones\",\"tpusa\",\"speaker\",\"announcement\",\"contributor\",\"add\",\"amaze\",\"line\",\"tomfitton\",\"authorize\",\"ag\",\"barr\",\"declassify\",\"spygate\",\"docs\",\"refuse\",\"search\",\"message\",\"foia\",\"wray\",\"need\",\"step\",\"protect\",\"voters\",\"rate\",\"excellent\",\"good\",\"highest\",\"donaldjtrumpjr\",\"reminder\",\"main\",\"suffer\",\"syndrome\",\"pelosi\",\"conference\",\"ivankatrump\",\"internet\",\"association\",\"freedom\",\"award\",\"nancy\",\"kinds\",\"membership\",\"subject\",\"sentence\",\"ed\",\"greggjarrett\",\"loudobbs\",\"ensure\",\"truth\",\"events\",\"occur\",\"election\",\"restore\",\"public\",\"attorney\",\"general\",\"complete\",\"information\",\"investigation\",\"long\",\"standards\",\"handle\",\"classify\",\"request\",\"direct\",\"community\",\"quickly\",\"cooperate\",\"surveillance\",\"poll\",\"majority\",\"strongly\",\"lead\",\"approve\",\"billion\",\"disaster\",\"relief\",\"approval\",\"forget\",\"fall\",\"heroes\",\"return\",\"pm\",\"monitor\",\"safe\",\"hearts\",\"wake\",\"assist\",\"disappoint\",\"extremely\",\"calm\",\"schumer\",\"use\",\"narrative\",\"corrupt\",\"dumb\",\"rock\",\"totally\",\"ill\",\"prepare\",\"secretary\",\"story\",\"vladimir\",\"putin\",\"germany\",\"agree\",\"price\",\"pre\",\"condition\",\"committees\",\"pure\",\"fish\",\"expedition\",\"effort\",\"possible\",\"heart\",\"infrastructure\",\"conspiracy\",\"loopholes\",\"zero\",\"start\",\"letter\",\"colleagues\",\"temper\",\"tantrum\",\"true\",\"purposely\",\"minutes\",\"later\",\"rise\",\"garden\",\"easily\",\"prove\",\"law\",\"enforcement\",\"officer\",\"firefighters\",\"safety\",\"medal\",\"leadership\",\"tear\",\"apart\",\"set\",\"prayers\",\"truly\",\"meantime\",\"achieve\",\"track\",\"let\",\"chuck\",\"jerry\",\"adam\",\"rest\",\"finish\",\"sad\",\"understand\",\"waste\",\"energy\",\"cause\",\"problem\",\"mcgahn\",\"decline\",\"appear\",\"nadler\",\"street\",\"journal\",\"editorial\",\"hours\",\"claim\",\"wasn\",\"release\",\"danger\",\"decision\",\"ought\",\"michael\",\"everybody\",\"renovation\",\"ineffective\",\"standard\",\"build\",\"worthless\",\"barriers\",\"brand\",\"foot\",\"haters\",\"illegal\",\"especially\",\"senatemajldr\",\"tens\",\"thousands\",\"peace\",\"gather\",\"capital\",\"service\",\"sacrifice\",\"western\",\"months\",\"byronyork\",\"bu\",\"serve\",\"overseas\",\"proud\",\"stand\",\"please\",\"confirm\",\"circuit\",\"daniel\",\"outstanding\",\"gopoversight\",\"icymi\",\"repmarkmeadows\",\"operations\",\"chuckgrassley\",\"pres\",\"canada\",\"mexico\",\"pt\",\"lift\",\"products\",\"dcexaminer\",\"week\",\"ll\",\"efforts\",\"question\",\"earth\",\"point\",\"fund\",\"vicious\",\"censorship\",\"movement\",\"jam\",\"woods\",\"suspend\",\"bs\",\"expensive\",\"comprehensive\",\"result\",\"word\",\"base\",\"illegally\",\"mattbevin\",\"primary\",\"kentucky\",\"matt\",\"fantastic\",\"fred\",\"keller\",\"pennsylvania\",\"congressional\",\"landslide\",\"show\",\"rally\",\"family\",\"probe\",\"suspect\",\"interview\",\"angry\",\"dollars\",\"review\",\"page\",\"document\",\"knight\",\"success\",\"sector\",\"miss\",\"conclusion\",\"outcome\",\"privilege\",\"hat\",\"announce\",\"nomination\",\"arizona\",\"amendment\",\"endorsement\",\"attitude\",\"countries\",\"flow\",\"taxpayers\",\"migration\",\"response\",\"virtually\",\"immigrants\",\"immigration\",\"break\",\"representative\",\"run\",\"megan\",\"king\",\"superior\",\"beautiful\",\"tough\",\"aspects\",\"tuesday\",\"massive\",\"crowd\",\"montoursville\",\"nominee\",\"eastern\",\"iran\",\"collapse\",\"iranian\",\"knowledge\",\"negotiation\",\"cuban\",\"independence\",\"cuba\",\"quest\",\"democracy\",\"prosperity\",\"regime\",\"repression\",\"bernie\",\"sanders\",\"pull\",\"ahead\",\"crook\",\"hillary\",\"credibility\",\"schiff\",\"future\",\"boom\",\"haven\",\"decades\",\"stuart\",\"varney\",\"foxandfriends\",\"tweet\",\"redo\",\"reason\",\"plenty\",\"money\",\"bank\",\"choose\",\"happy\",\"buy\",\"cash\",\"derange\",\"biggest\",\"enemy\",\"cover\",\"wise\",\"fashion\",\"available\",\"source\",\"york\",\"bush\",\"americafirst\",\"monday\",\"farmers\",\"tariff\",\"agricultural\",\"product\",\"sure\",\"treat\",\"fairly\",\"complaints\",\"immediately\",\"secretarysonny\",\"perdue\",\"steve\",\"hilton\",\"enjoy\",\"wallace\",\"opinions\",\"mayor\",\"pete\",\"gee\",\"mike\",\"move\",\"dump\",\"bore\",\"debate\",\"official\",\"migrants\",\"northern\",\"facilities\",\"florida\",\"airplanes\",\"market\",\"world\",\"college\",\"university\",\"place\",\"finance\",\"deserve\",\"negative\",\"ashamed\",\"dishonesty\",\"deception\",\"fact\",\"loser\",\"sadly\",\"opponents\",\"oppose\",\"ideas\",\"policies\",\"read\",\"bias\",\"compose\",\"drop\",\"nd\",\"tax\",\"reg\",\"cut\",\"gdp\",\"policy\",\"deplete\",\"finally\",\"rid\",\"sunday\",\"greater\",\"employ\",\"foolish\",\"rapidly\",\"city\",\"positive\",\"late\",\"abortion\",\"mother\",\"clue\",\"detention\",\"center\",\"hospitals\",\"school\",\"pack\",\"crazy\",\"delete\",\"acid\",\"wash\",\"email\",\"conclusively\",\"politics\",\"remove\",\"date\",\"candidate\",\"abuse\",\"power\",\"note\",\"operation\",\"ticket\",\"weissmann\",\"key\",\"role\",\"hire\",\"significant\",\"target\",\"judicialwatch\",\"dan\",\"scott\",\"arm\",\"safeguard\",\"liberty\",\"generations\",\"answer\",\"acknowledge\",\"celebrate\",\"proudly\",\"uniform\",\"consumer\",\"month\",\"address\",\"ne\",\"idea\",\"common\",\"impossible\",\"hurt\",\"fraudulent\",\"inaccurate\",\"coverage\",\"thing\",\"powerful\",\"demand\",\"notice\",\"situation\",\"jail\",\"drain\",\"swamp\",\"patrol\",\"apprehend\",\"detain\",\"home\",\"ridiculous\",\"catch\",\"register\",\"realize\",\"worst\",\"major\",\"legal\",\"process\",\"fair\",\"modern\",\"pride\",\"envy\",\"carolina\",\"post\",\"infighting\",\"different\",\"express\",\"decisive\",\"final\",\"simple\",\"side\",\"beauty\",\"group\",\"nyc\",\"consider\",\"joke\",\"tv\",\"djohnsonpga\",\"view\",\"respect\",\"middle\",\"east\",\"whatsoever\",\"nearly\",\"qb\",\"wg\",\"courage\",\"beat\",\"remain\",\"forever\",\"memory\",\"erictrump\",\"average\",\"cr\",\"workers\",\"revolution\",\"safer\",\"louisiana\",\"anniversary\",\"embassy\",\"jerusalem\",\"importance\",\"keep\",\"weeks\",\"star\",\"devotion\",\"sale\",\"reduce\",\"order\",\"reserve\",\"match\",\"event\",\"pay\",\"patriot\",\"beneficiaries\",\"farm\",\"difference\",\"grind\",\"wto\",\"faster\",\"xi\",\"sense\",\"billions\",\"belong\",\"negotiate\",\"company\",\"renegotiate\",\"buyers\",\"bigger\",\"substantially\",\"increase\",\"size\",\"advantage\",\"non\",\"instead\",\"steel\",\"industry\",\"grow\",\"save\",\"defense\",\"auto\",\"industries\",\"sgt\",\"peck\",\"double\",\"walter\",\"reed\",\"hero\",\"wife\",\"recommend\",\"sergeant\",\"carter\",\"earlier\",\"spirit\",\"fine\",\"invest\",\"investment\",\"south\",\"officially\",\"budget\",\"lakes\",\"clean\",\"restoration\",\"initiative\",\"nasa\",\"greatness\",\"moon\",\"mar\",\"additional\",\"space\",\"army\",\"largest\",\"project\",\"environment\",\"afternoon\",\"presidents\",\"retaliate\",\"avoid\",\"inside\",\"vietnam\",\"asia\",\"effect\",\"recently\",\"subsidize\",\"large\",\"degree\",\"slam\",\"horrible\",\"holocaust\",\"obviously\",\"hatred\",\"jewish\",\"imagine\",\"credit\",\"crash\",\"opponent\",\"clinton\",\"asian\",\"unemployment\",\"cheat\",\"vice\",\"boston\",\"redsox\",\"opposite\",\"players\",\"guy\",\"quarter\",\"greatly\",\"oann\",\"jump\",\"openly\",\"friends\",\"back\",\"opposition\",\"tool\",\"employment\",\"strategy\",\"harass\",\"isn\",\"destroy\",\"assault\",\"uphold\",\"overthrow\",\"coup\",\"previous\",\"doj\",\"apparatus\",\"gang\",\"series\",\"clapper\",\"definition\",\"christopher\",\"dream\",\"rip\",\"constitutional\",\"mess\",\"course\",\"suppose\",\"nut\",\"hope\",\"little\",\"overtime\",\"despite\",\"craze\",\"lunatics\",\"regulations\",\"giant\",\"scam\",\"perpetrate\",\"treasonous\",\"guilty\",\"untrue\",\"sound\",\"bite\",\"strongest\",\"food\",\"starve\",\"nations\",\"deliver\",\"patients\",\"financial\",\"surprise\",\"susan\",\"rice\",\"peter\",\"strzok\",\"richlowry\",\"kimstrassel\",\"column\",\"therightmelissa\",\"realcandaceo\",\"mind\",\"reality\",\"essentially\",\"conservatives\",\"social\",\"seriously\",\"intel\",\"consequential\",\"sick\",\"concern\",\"vp\",\"roar\",\"businesses\",\"will\",\"battle\",\"distract\",\"department\",\"fearful\",\"easy\",\"produce\",\"goods\",\"felt\",\"fo\",\"mo\",\"democratic\",\"manufacture\",\"ceo\",\"explain\",\"stability\",\"unprecedented\",\"lawyer\",\"partially\",\"matter\",\"interest\",\"nedryun\",\"baker\",\"fisa\",\"sorry\",\"sen\",\"smuggle\",\"chief\",\"exactly\",\"unhinge\",\"dem\",\"bully\",\"laura\",\"solution\",\"ban\",\"goal\",\"unverified\",\"research\",\"warrant\",\"citizen\",\"fool\",\"provoke\",\"geraldorivera\",\"wouldn\",\"arifleischer\",\"countless\",\"nonsense\",\"gopleader\",\"kevin\",\"mccarthy\",\"gop\",\"subpoena\",\"jr\",\"staff\",\"testimony\",\"reporters\",\"tedcruz\",\"govmikehuckabee\",\"richard\",\"burr\",\"ukraine\",\"investigations\",\"dbongino\",\"unfair\",\"practice\",\"competition\",\"breitbartnews\",\"rank\",\"criticize\",\"al\",\"threat\",\"steele\",\"contact\",\"realsaavedra\",\"sean\",\"hannity\",\"senatorburr\",\"behavior\",\"rudygiuliani\",\"hughhewitt\",\"thehill\",\"excuse\",\"st\",\"frighten\",\"nolte\",\"inauguration\",\"outlet\",\"admin\",\"secure\",\"donation\",\"accept\",\"short\",\"wag\",\"mount\",\"dossier\",\"verification\",\"vs\",\"father\",\"alien\",\"dnc\",\"deep\",\"ohr\",\"fusion\",\"gps\",\"grant\",\"absolutely\",\"barack\",\"conclude\",\"vast\",\"coverup\",\"senthomtillis\",\"share\",\"account\",\"design\",\"female\",\"donors\",\"wealth\",\"phenomenal\",\"traditional\",\"kind\",\"spouses\",\"ones\",\"appreciation\",\"past\",\"days\",\"constructive\",\"conversations\",\"status\",\"sign\",\"commitments\",\"intellectual\",\"property\",\"mariabartiromo\",\"fade\",\"fast\",\"aprvcjpqop\",\"inflation\",\"favorite\",\"slow\",\"automatically\",\"speed\",\"balance\",\"soar\",\"murder\",\"easier\",\"quicker\",\"waivers\",\"congenial\",\"manner\",\"rush\",\"worth\",\"payments\",\"directly\",\"treasury\",\"larger\",\"amount\",\"poor\",\"form\",\"humanitarian\",\"assistance\",\"sell\",\"approximately\",\"imbalance\",\"pence\",\"disgrace\",\"regain\",\"families\",\"medical\",\"bill\",\"insurance\",\"host\",\"awesome\",\"hi\",\"prevent\",\"reach\",\"protection\",\"johnson\",\"minnesota\",\"earliest\",\"hiv\",\"expand\",\"risk\",\"panama\",\"beach\",\"senrickscott\",\"marcorubio\",\"terrible\",\"maduro\",\"venezuela\",\"tuckercarlson\",\"ads\",\"slowly\",\"economist\",\"hurricane\",\"newtgingrich\",\"grieve\",\"violence\",\"young\",\"injure\",\"colorado\",\"responders\",\"bravely\",\"elizabeth\",\"pocahontas\",\"warren\",\"native\",\"equally\",\"separate\",\"locations\",\"nicely\",\"gm\",\"mary\",\"rob\",\"portman\",\"car\",\"barra\",\"motor\",\"uaw\",\"agreement\",\"lordstown\",\"plant\",\"electric\",\"estate\",\"developers\",\"entitle\",\"off\",\"losses\",\"purpose\",\"toiatsmu\",\"involvement\",\"reveal\",\"jim\",\"guess\",\"fill\",\"attempt\",\"weak\",\"prescription\",\"deny\",\"additionally\",\"breitbart\",\"lo\",\"tiger\",\"puerto\",\"rico\",\"iowa\",\"nebraska\",\"georgia\",\"fireworks\",\"dakota\",\"govkristinoem\",\"steal\",\"half\",\"contributions\",\"wonder\",\"obsess\",\"red\",\"economically\",\"thrive\",\"highlight\",\"bebest\",\"armywp_football\",\"conversation\",\"block\",\"example\",\"texas\",\"correct\",\"grab\",\"dirty\",\"table\",\"green\",\"terrorist\",\"rocket\",\"islamic\",\"citizens\",\"morgan\",\"ice\",\"april\",\"expectations\",\"nyt\",\"ca\",\"ingrahamangle\",\"gut\",\"sundayfutures\",\"stun\",\"door\",\"outside\",\"impact\",\"bear\",\"tech\",\"friday\",\"derby\",\"rough\",\"tumble\",\"wet\",\"sloppy\",\"correctness\",\"overturn\",\"horse\",\"believer\",\"ericbolling\",\"hispanic\",\"clip\",\"faith\",\"mt\",\"baptist\",\"church\",\"union\",\"judicial\",\"newly\",\"uncover\",\"materials\",\"jw\",\"senior\",\"oath\",\"agency\",\"lawsuits\",\"file\",\"petition\",\"gateways\",\"cartels\",\"violent\",\"incorrect\",\"napolitano\",\"mike_pence\",\"utah\",\"dailycaller\",\"labor\",\"percent\",\"international\",\"charliekirk\",\"treatment\",\"kill\",\"interfere\",\"pyoiljm\",\"pz\",\"wing\",\"knowingly\",\"nytimes\",\"washingtonpost\",\"msnbc\",\"facebook\",\"prisonplanet\",\"partisan\",\"corporations\",\"decide\",\"free\",\"speech\",\"ralph\",\"racist\",\"suggest\",\"sharylattkisson\",\"ok\",\"govt\",\"censor\",\"info\",\"pressure\",\"trillion\",\"russians\",\"george\",\"iagovernor\",\"manage\",\"destructive\",\"paul\",\"closely\",\"republic\",\"nuclear\",\"productive\",\"uc\",\"fell\",\"level\",\"surge\",\"pulitzer\",\"prize\",\"detail\",\"watergate\",\"foxbusiness\",\"costly\",\"proclamation\",\"victims\",\"aluminum\",\"pittsburgh\",\"prayer\",\"pray\",\"strengthen\",\"resolve\",\"communities\",\"growth\",\"withdraw\",\"feed\",\"ukrainian\",\"scandal\",\"joebiden\",\"push\",\"expect\",\"ny\",\"generation\",\"kerry\",\"mccabe\",\"lawsuit\",\"communications\",\"russiagate\",\"plus\",\"audience\",\"shock\",\"accomplishments\",\"yes\",\"firefighter\",\"member\",\"iaff\",\"september\",\"november\",\"miles\",\"march\",\"endure\",\"personal\",\"gallup\",\"override\",\"magnificent\",\"harry\",\"fraction\",\"im\",\"supporter\",\"retire\",\"volunteer\",\"piss\",\"dues\",\"gr\",\"assure\",\"eye\",\"members\",\"liberal\",\"endorse\",\"husband\",\"unions\",\"represent\",\"firemen\",\"police\",\"couple\",\"fireman\",\"board\",\"smoke\",\"fighters\",\"boss\",\"failure\",\"creepy\",\"brother\",\"town\",\"booth\",\"bet\",\"certainly\",\"alert\",\"bureaucrats\",\"smaller\",\"stock\",\"entire\",\"career\",\"disgust\",\"ro\",\"suck\",\"nascar\",\"joeylogano\",\"sanction\",\"island\",\"soldier\",\"cease\",\"constitution\",\"quantitative\",\"debt\",\"institute\",\"tighten\",\"european\",\"benefit\",\"prisoners\",\"specific\",\"isis\",\"hostage\",\"caliphate\",\"syria\",\"decisions\",\"coyotes\",\"nearby\",\"jobless\",\"maybe\",\"aspect\",\"experience\",\"semitic\",\"print\",\"daily\",\"basis\",\"journalism\",\"dead\",\"funny\",\"ridiculously\",\"expense\",\"fortune\",\"flee\",\"nra\",\"difficult\",\"organization\",\"poway\",\"warmest\",\"condolences\",\"california\",\"blow\",\"pathetic\",\"anger\",\"refer\",\"magic\",\"andrew\",\"hostile\",\"pardon\",\"shepard\",\"smith\",\"brilliant\",\"alan\",\"dershowitz\",\"bay\",\"wisconsin\",\"agent\",\"synagogue\",\"talents\",\"weren\",\"round\",\"river\",\"await\",\"opioid\",\"participate\",\"takebackday\",\"collection\",\"near\",\"nick\",\"player\",\"talent\",\"san\",\"francisco\",\"importantly\",\"smash\",\"witness\",\"swear\",\"defend\",\"surrender\",\"sovereignty\",\"saudi\",\"arabia\",\"oil\",\"indiana\",\"annual\",\"vital\",\"weirdo\",\"steyer\",\"put\",\"beg\",\"mention\",\"negotiator\",\"hostages\",\"otto\",\"warmbier\",\"travel\",\"atlanta\",\"heroin\",\"summit\",\"repmattgaetz\",\"son\",\"prison\",\"january\",\"ronnebeck\",\"score\",\"net\",\"loss\",\"successes\",\"repandybiggsaz\",\"volume\",\"rely\",\"flat\",\"expose\",\"figure\",\"cabal\",\"andy\",\"doubt\",\"wage\",\"respectfully\",\"hater\",\"incorrectly\",\"tennessee\",\"children\",\"regardless\",\"background\",\"rxsummit\",\"cortez\",\"va\",\"veterans\",\"accountability\",\"caldwell\",\"criminals\",\"rig\",\"comprehend\",\"cop\",\"lay\",\"diversionary\",\"smugglers\",\"caravan\",\"remainder\",\"census\",\"citizenship\",\"cia\",\"accuse\",\"kingdom\",\"jack\",\"dialogue\",\"saturday\",\"resch\",\"cdt\",\"bpyk\",\"pf\",\"els\",\"autism\",\"education\",\"global\",\"recreation\",\"smart\",\"higher\",\"struggle\",\"eu\",\"currently\",\"production\",\"stupid\",\"agenda\",\"tune\",\"forgiveness\",\"qbnsma\",\"kff\",\"hfgkp\",\"senkevincramer\",\"opportunity\",\"zone\",\"income\",\"poverty\",\"encourage\",\"saw\",\"easter\",\"egg\",\"wo\",\"sri\",\"lanka\",\"simply\",\"constant\",\"fabricate\",\"victor\",\"davis\",\"hanson\",\"partial\",\"garbage\",\"nsa\",\"vindicate\",\"smear\",\"fb\",\"terrorism\",\"herman\",\"nominate\",\"opec\",\"violation\",\"stevehiltonx\",\"uk\",\"disgraceful\",\"op\",\"owe\",\"hotels\",\"offer\",\"heartfelt\",\"happier\",\"content\",\"prior\",\"repdougcollins\",\"follow\",\"honest\",\"exclusive\",\"et\",\"package\",\"asylum\",\"check\",\"danscavino\",\"wgdp\",\"pretty\",\"weekly\",\"pols\",\"principle\",\"teamcavuto\",\"opinion\",\"dishonest\",\"outlets\",\"fat\",\"exact\",\"certain\",\"strassel\",\"correctly\",\"soooo\",\"single\",\"prosecutors\",\"couldn\",\"wil\",\"underlie\",\"regard\",\"fraud\",\"executive\",\"thrill\",\"ride\",\"william\",\"discussions\",\"memo\",\"launch\",\"france\",\"francis\",\"notre\",\"dame\",\"cathedral\",\"experts\",\"vacation\",\"discredit\",\"author\",\"voter\",\"complain\",\"supporters\",\"critical\",\"weird\",\"surprisingly\",\"bretbaier\",\"strange\",\"dirt\",\"someday\",\"pace\",\"hasn\",\"economies\",\"paris\",\"fly\",\"themasters\",\"comeback\",\"legally\",\"homeland\",\"sanctuary\",\"cities\",\"satisfy\",\"resist\",\"omar\",\"investigators\",\"boeing\",\"feature\",\"plane\",\"hell\",\"wsj\",\"chinese\",\"lobbyist\",\"acceptable\",\"machine\",\"ally\",\"chaos\",\"absolute\",\"legislation\",\"hole\",\"properly\",\"transfer\",\"management\",\"obamacare\",\"socialism\",\"dealers\",\"traffickers\",\"shape\",\"illegals\",\"gold\",\"luck\",\"vxrgfrfejm\",\"extraordinary\",\"accurate\",\"aid\",\"nbcnews\",\"personnel\",\"woman\",\"walk\",\"nofzya\",\"qs\",\"sudden\",\"trish_regan\",\"clewandowski_\",\"unwilling\",\"outrageous\",\"indict\",\"hall\",\"rod\",\"rosenstein\",\"disarray\",\"pretend\",\"shame\",\"afford\",\"likewise\",\"breathe\",\"dhsgov\",\"cbp\",\"commissioner\",\"mcaleenan\",\"dhs\",\"netanyahu\",\"sx\",\"seven\",\"arab\",\"egypt\",\"congresswoman\",\"jews\",\"jeff\",\"ballabon\",\"strategic\",\"unacceptable\",\"varneyco\",\"recognition\",\"capture\",\"development\",\"west\",\"yard\",\"construct\",\"calexico\",\"replace\",\"barrier\",\"virginia\",\"ncaa\",\"uganda\",\"tourist\",\"guide\",\"feel\",\"folks\",\"abolish\",\"hemisphere\",\"immoral\",\"raise\",\"katiepavlich\",\"current\",\"leak\",\"port\",\"entry\",\"scale\",\"commercial\",\"delay\",\"rjc\",\"commitment\",\"straight\",\"nevada\",\"location\",\"dinner\",\"conclusions\",\"recommendations\",\"voiv\",\"marc_lotter\",\"brave\",\"nk\",\"dictatorship\",\"david\",\"worker\",\"roundtable\",\"usmca\",\"penalty\",\"die\",\"sooo\",\"cars\",\"wsjopinion\",\"freeman\",\"jovita\",\"paper\",\"accord\",\"alive\",\"unnecessary\",\"optimism\",\"usual\",\"talented\",\"develop\",\"display\",\"alternative\",\"nato\",\"reaffirm\",\"equal\",\"opportunities\",\"overrun\",\"guatemala\",\"honduras\",\"el\",\"salvador\",\"theme\",\"starr\",\"politicians\",\"incompetent\",\"juan\",\"health\",\"provide\",\"schedule\",\"premiums\",\"deductibles\",\"beloved\",\"unusable\",\"meaningless\",\"combination\",\"data\",\"achievement\",\"areas\",\"hour\",\"statedept\",\"enter\",\"overflow\",\"rapids\",\"michigan\",\"fragile\",\"tank\",\"embarrassment\",\"legit\",\"pour\",\"fairness\",\"google\",\"trick\",\"reputation\",\"catastrophe\",\"recognize\",\"golan\",\"heights\",\"yaayr\",\"hxe\",\"hill\",\"billhemmer\",\"pursue\",\"scorn\",\"stanley\",\"cap\",\"picture\",\"yl\",\"room\",\"wx\",\"exoneration\",\"individuals\",\"saint\",\"losers\",\"barely\",\"cave\",\"fastest\",\"trust\",\"achievements\",\"students\",\"value\",\"moments\",\"solomon\",\"plot\",\"hardworking\",\"conway\",\"jealous\",\"desperately\",\"stone\",\"cold\",\"electoral\",\"ballot\",\"box\",\"ym\",\"midwest\",\"train\",\"latest\",\"ft\",\"exceed\",\"blame\",\"zealand\",\"counter\",\"jackposobiec\",\"teen\",\"ms\",\"lindasuhler\",\"arthelneville\",\"lelandvittert\",\"patrick\",\"parscale\",\"urban\",\"lrihendry\",\"chuckcallesto\",\"ilhan\",\"jeanine\",\"npr\",\"effective\",\"meghan\",\"anchor\",\"droves\",\"pirro\",\"silence\",\"class\",\"annapolis\",\"commission\",\"appoin\",\"toyota\",\"spread\",\"unfortunately\",\"stain\",\"ken\",\"independent\",\"repeal\",\"sheriff\",\"sheriffs\",\"veto\",\"representatives\",\"la\",\"weather\",\"horrific\",\"transcript\",\"jexodus\",\"network\",\"resolution\",\"nafta\",\"wacky\",\"nightmare\",\"throw\",\"lisa\",\"unanimous\",\"transcripts\",\"appreciate\",\"eric\",\"schneiderman\",\"hccnfzxfn\",\"illegitimate\",\"dear\",\"godthank\",\"godblessamerica\",\"presidenttrump\",\"electionday\",\"adamschiff\",\"cohen\",\"trail\",\"camp\",\"disclose\",\"glenn\",\"simpson\",\"oppo\",\"participation\",\"workforce\",\"whitehousecea\",\"hourly\",\"earn\",\"dingell\",\"pilot\",\"founder\",\"climate\",\"carbon\",\"semitism\",\"precedent\",\"sarah\",\"proposal\",\"introduce\",\"tim\",\"apple\",\"integrity\",\"terror\",\"tunnel\",\"paulsperry_\",\"physical\",\"diego\",\"paso\",\"lawyers\",\"likely\",\"perjury\",\"shred\",\"coach\",\"regulation\",\"condemn\",\"reps\",\"renovate\",\"invasion\",\"cbs\",\"recommit\",\"wilson\",\"ron\",\"desantis\",\"cvpayne\",\"overall\",\"xm\",\"sessions\",\"declare\",\"msm\",\"pledge\",\"heather\",\"fraudster\",\"contradict\",\"contract\",\"violations\",\"arrest\",\"stewart\",\"hundreds\",\"mistake\",\"analysis\",\"overreach\",\"proof\",\"generic\",\"terrific\",\"comment\",\"relations\",\"widest\",\"amazon\",\"drill\",\"reimburse\",\"careful\",\"bold\",\"chatbycc\",\"dept\",\"convict\",\"liar\",\"tensions\",\"manuscript\",\"path\",\"dow\",\"nasdaq\",\"composite\",\"priority\",\"cpac\",\"oh\",\"bye\",\"spin\",\"submit\",\"hanoi\",\"february\",\"clients\",\"intentions\",\"powerhouse\",\"helpful\",\"fiat\",\"chrysler\",\"da\",\"nang\",\"dick\",\"blumenthal\",\"connecticut\",\"minimum\",\"newborn\",\"infant\",\"baby\",\"birth\",\"advance\",\"hike\",\"recover\",\"danny\",\"intensive\",\"dustin\",\"cryin\",\"breakfast\",\"relax\",\"lago\",\"technology\",\"texts\",\"lover\",\"forum\",\"continuation\",\"lincoln\",\"propose\",\"latino\",\"seize\",\"graham\",\"facts\",\"factor\",\"kelly\",\"study\",\"inspector\",\"ignore\",\"covington\",\"bust\",\"nf\",\"checker\",\"predict\",\"completion\",\"occasion\",\"leakin\",\"real_defender\",\"venezuelan\",\"latin\",\"kid\",\"hospital\",\"discover\",\"brass\",\"angel\",\"nbc\",\"ambassadors\",\"europe\",\"capable\",\"njorbjwint\",\"negotiators\",\"cancel\",\"improve\",\"dr\",\"degrees\",\"color\",\"draw\",\"\\u0633\\u0627\\u0644\",\"\\u0627\\u06cc\\u0631\\u0627\\u0646\",\"self\",\"inherit\",\"tnuhnw\",\"kll\",\"sotu\",\"amy\",\"warm\",\"snow\",\"temperatures\",\"behave\",\"irrationally\",\"hardly\",\"endless\",\"shutdown\",\"anybody\",\"permanently\",\"gas\",\"podesta\",\"nellie\",\"forrest\",\"encounter\",\"aspen\",\"wound\",\"afghanistan\",\"baseball\",\"sotuhttps\",\"kl\",\"soclx\",\"lunar\",\"interior\",\"bowl\",\"northam\",\"shocker\",\"tower\",\"fentanyl\",\"passive\",\"protest\",\"interim\",\"guaido\",\"test\",\"rampant\",\"fiction\",\"deroy\",\"murdock\",\"bible\",\"johnrobertsfox\",\"hispanics\",\"portray\",\"buzzfeed\",\"rnc\",\"unanimously\",\"venue\",\"compete\",\"tradition\",\"unity\",\"export\",\"kremlin\",\"mariano\",\"fame\",\"davos\",\"marist\",\"pbs\",\"attention\",\"unfairly\",\"unchecked\",\"martin\",\"luther\",\"mlkday\",\"wand\",\"budgetgop\",\"compromise\",\"provision\",\"senrobportman\",\"reasonable\",\"reopen\",\"jiminhofe\",\"glad\",\"daca\",\"exchange\",\"part\",\"options\",\"amnesty\",\"mouth\",\"rancher\",\"examiner\",\"factories\",\"clemson\",\"tigers\",\"eaters\",\"mom\",\"chattanooga\",\"lyin\",\"turkey\",\"mile\",\"convention\",\"stage\",\"orleans\",\"eventually\",\"proper\",\"bighorn\",\"knee\",\"kitchen\",\"dress\",\"indian\",\"garb\",\"kurds\",\"overdue\",\"sexual\",\"tougher\",\"station\",\"fakenews\",\"football\",\"pound\",\"narcotics\",\"forest\",\"unlikely\",\"december\",\"disruption\",\"abramson\",\"settle\",\"comparison\",\"mitt\"],\"label\":[\"robert\",\"mueller\",\"come\",\"oval\",\"office\",\"potential\",\"seek\",\"name\",\"director\",\"fbi\",\"position\",\"years\",\"tell\",\"day\",\"special\",\"counsel\",\"total\",\"conflict\",\"nice\",\"comey\",\"brennan\",\"turn\",\"kilmeade\",\"congressman\",\"john\",\"ratcliffe\",\"trump\",\"campaign\",\"clearly\",\"conspire\",\"collude\",\"foxnews\",\"fight\",\"phony\",\"crime\",\"exist\",\"horrendous\",\"false\",\"shouldn\",\"sit\",\"obstruction\",\"presidential\",\"harassment\",\"russia\",\"hear\",\"begin\",\"witch\",\"hunt\",\"hoax\",\"disappear\",\"help\",\"elect\",\"dems\",\"partner\",\"fake\",\"news\",\"media\",\"greatest\",\"history\",\"spend\",\"dark\",\"unlimited\",\"access\",\"people\",\"resources\",\"cooperation\",\"highly\",\"bring\",\"charge\",\"inform\",\"have\",\"navy\",\"ship\",\"uss\",\"mccain\",\"recent\",\"visit\",\"japan\",\"flotus\",\"love\",\"great\",\"military\",\"men\",\"women\",\"spectacular\",\"job\",\"tonight\",\"seanhannity\",\"number\",\"far\",\"mark\",\"levin\",\"congrats\",\"book\",\"impeach\",\"republican\",\"president\",\"commit\",\"democrats\",\"rt\",\"presssec\",\"white\",\"house\",\"statement\",\"today\",\"https\",\"kayleighmcenany\",\"time\",\"origins\",\"spy\",\"change\",\"report\",\"evidence\",\"country\",\"person\",\"innocent\",\"case\",\"close\",\"thank\",\"alabama\",\"senate\",\"incredible\",\"gain\",\"presidency\",\"lose\",\"include\",\"pro\",\"life\",\"victories\",\"roy\",\"moore\",\"win\",\"consequences\",\"devastate\",\"judge\",\"supreme\",\"court\",\"justices\",\"republicans\",\"allow\",\"seat\",\"state\",\"leaders\",\"want\",\"probably\",\"realdonaldtrump\",\"god\",\"bless\",\"usa\",\"hrt\",\"wnwz\",\"successful\",\"trip\",\"big\",\"progress\",\"front\",\"wonderful\",\"leader\",\"prime\",\"minister\",\"abe\",\"actually\",\"stick\",\"sleepy\",\"joe\",\"biden\",\"foreign\",\"kim\",\"jong\",\"call\",\"low\",\"iq\",\"things\",\"relate\",\"quote\",\"chairman\",\"individual\",\"possibly\",\"upset\",\"speak\",\"governor\",\"arkansas\",\"fema\",\"federal\",\"government\",\"necessary\",\"record\",\"flood\",\"local\",\"officials\",\"update\",\"devastation\",\"tornadoes\",\"ohio\",\"early\",\"morning\",\"administration\",\"fully\",\"support\",\"cleanup\",\"recovery\",\"storm\",\"dangerous\",\"damage\",\"team\",\"continue\",\"emergency\",\"affect\",\"listen\",\"resilient\",\"oklahoma\",\"night\",\"live\",\"remark\",\"potus\",\"donald\",\"wait\",\"soon\",\"mzhemingway\",\"excite\",\"ve\",\"write\",\"kavanaugh\",\"confirmation\",\"make\",\"stop\",\"quick\",\"alaska\",\"meet\",\"go\",\"get\",\"new\",\"emperor\",\"empress\",\"honor\",\"associate\",\"chance\",\"particular\",\"african\",\"americans\",\"able\",\"vote\",\"hand\",\"responsible\",\"criminal\",\"justice\",\"reform\",\"tremendous\",\"amp\",\"fix\",\"bad\",\"super\",\"term\",\"heavily\",\"involve\",\"pass\",\"period\",\"american\",\"apologize\",\"hop\",\"work\",\"israel\",\"coalition\",\"formation\",\"bibi\",\"alliance\",\"america\",\"stronger\",\"lot\",\"liz\",\"statements\",\"agents\",\"investigate\",\"treason\",\"hu\",\"wh\",\"congress\",\"create\",\"economy\",\"rebuild\",\"take\",\"care\",\"vet\",\"choice\",\"best\",\"admit\",\"completely\",\"age\",\"think\",\"away\",\"laws\",\"hold\",\"accountable\",\"whitehouse\",\"abeshinzo\",\"palace\",\"usembassytokyo\",\"receive\",\"even\",\"welcome\",\"ceremony\",\"potusinjapan\",\"congratulations\",\"friend\",\"roger\",\"th\",\"unbelievable\",\"indianapolis\",\"watch\",\"race\",\"sport\",\"patriots\",\"roll\",\"thunder\",\"washington\",\"year\",\"hopefully\",\"press\",\"russian\",\"collusion\",\"delusion\",\"marklevinshow\",\"judgejeanine\",\"tokyo\",\"present\",\"cup\",\"grand\",\"champion\",\"trade\",\"negotiations\",\"agriculture\",\"beef\",\"play\",\"july\",\"elections\",\"fun\",\"numerous\",\"japanese\",\"unite\",\"fail\",\"party\",\"succeed\",\"death\",\"wish\",\"golf\",\"club\",\"usambjapan\",\"mr\",\"north\",\"korea\",\"fire\",\"small\",\"weapons\",\"disturb\",\"confidence\",\"promise\",\"smile\",\"swampman\",\"worse\",\"send\",\"signal\",\"right\",\"game\",\"fan\",\"jacknicklaus\",\"tigerwoods\",\"say\",\"lady\",\"stay\",\"guests\",\"era\",\"kick\",\"historic\",\"discuss\",\"ways\",\"economic\",\"tie\",\"business\",\"gopchairwoman\",\"better\",\"deal\",\"end\",\"china\",\"ha\",\"corruption\",\"smollett\",\"chicago\",\"hate\",\"remember\",\"maga\",\"lie\",\"stuff\",\"apology\",\"millions\",\"teamtrump\",\"plan\",\"healthcare\",\"mean\",\"eliminate\",\"private\",\"like\",\"blue\",\"cross\",\"reald\",\"jessebwatters\",\"tomorrow\",\"senator\",\"lindseygrahamsc\",\"wattersworld\",\"relationship\",\"mainstream\",\"talk\",\"transparency\",\"learn\",\"fellow\",\"obama\",\"appoint\",\"rule\",\"section\",\"southern\",\"wall\",\"construction\",\"border\",\"security\",\"favor\",\"drug\",\"human\",\"traffic\",\"ask\",\"appeal\",\"arrive\",\"ambassador\",\"ready\",\"land\",\"melania\",\"look\",\"forward\",\"see\",\"believe\",\"give\",\"hard\",\"know\",\"action\",\"flag\",\"democrat\",\"act\",\"control\",\"intelligence\",\"committee\",\"bipartisan\",\"important\",\"jim_jordan\",\"rep\",\"jordan\",\"focus\",\"attack\",\"real\",\"war\",\"ago\",\"bright\",\"anymore\",\"problems\",\"face\",\"solve\",\"crisis\",\"lower\",\"cost\",\"engage\",\"troop\",\"depart\",\"shortly\",\"second\",\"shoot\",\"bob\",\"unhappy\",\"longer\",\"territory\",\"memorial\",\"weekend\",\"mitch\",\"mcconnell\",\"senators\",\"strong\",\"accomplish\",\"air\",\"force\",\"head\",\"behalf\",\"majesty\",\"narendramodi\",\"congratulate\",\"political\",\"victory\",\"man\",\"india\",\"lucky\",\"tom\",\"sacred\",\"duty\",\"tour\",\"arlington\",\"national\",\"cemetery\",\"hit\",\"list\",\"yesterday\",\"grateful\",\"inspire\",\"portrait\",\"old\",\"guard\",\"tomcottonar\",\"radical\",\"leave\",\"testify\",\"issue\",\"million\",\"dollar\",\"loud\",\"clear\",\"obstruct\",\"trouble\",\"try\",\"wrong\",\"impeachment\",\"high\",\"crimes\",\"misdemeanors\",\"agencies\",\"devinnunes\",\"happen\",\"furious\",\"find\",\"legislate\",\"twitter\",\"popular\",\"conservative\",\"voice\",\"viciously\",\"open\",\"wow\",\"cnn\",\"rat\",\"way\",\"tire\",\"stories\",\"anti\",\"chris\",\"cuomo\",\"reward\",\"lowest\",\"spot\",\"badly\",\"television\",\"heytammybruce\",\"join\",\"fox\",\"nation\",\"bruce\",\"jones\",\"tpusa\",\"speaker\",\"announcement\",\"contributor\",\"add\",\"amaze\",\"line\",\"tomfitton\",\"authorize\",\"ag\",\"barr\",\"declassify\",\"spygate\",\"docs\",\"refuse\",\"search\",\"message\",\"foia\",\"wray\",\"need\",\"step\",\"protect\",\"voters\",\"rate\",\"excellent\",\"good\",\"highest\",\"donaldjtrumpjr\",\"reminder\",\"main\",\"suffer\",\"syndrome\",\"pelosi\",\"conference\",\"ivankatrump\",\"internet\",\"association\",\"freedom\",\"award\",\"nancy\",\"kinds\",\"membership\",\"subject\",\"sentence\",\"ed\",\"greggjarrett\",\"loudobbs\",\"ensure\",\"truth\",\"events\",\"occur\",\"election\",\"restore\",\"public\",\"attorney\",\"general\",\"complete\",\"information\",\"investigation\",\"long\",\"standards\",\"handle\",\"classify\",\"request\",\"direct\",\"community\",\"quickly\",\"cooperate\",\"surveillance\",\"poll\",\"majority\",\"strongly\",\"lead\",\"approve\",\"billion\",\"disaster\",\"relief\",\"approval\",\"forget\",\"fall\",\"heroes\",\"return\",\"pm\",\"monitor\",\"safe\",\"hearts\",\"wake\",\"assist\",\"disappoint\",\"extremely\",\"calm\",\"schumer\",\"use\",\"narrative\",\"corrupt\",\"dumb\",\"rock\",\"totally\",\"ill\",\"prepare\",\"secretary\",\"story\",\"vladimir\",\"putin\",\"germany\",\"agree\",\"price\",\"pre\",\"condition\",\"committees\",\"pure\",\"fish\",\"expedition\",\"effort\",\"possible\",\"heart\",\"infrastructure\",\"conspiracy\",\"loopholes\",\"zero\",\"start\",\"letter\",\"colleagues\",\"temper\",\"tantrum\",\"true\",\"purposely\",\"minutes\",\"later\",\"rise\",\"garden\",\"easily\",\"prove\",\"law\",\"enforcement\",\"officer\",\"firefighters\",\"safety\",\"medal\",\"leadership\",\"tear\",\"apart\",\"set\",\"prayers\",\"truly\",\"meantime\",\"achieve\",\"track\",\"let\",\"chuck\",\"jerry\",\"adam\",\"rest\",\"finish\",\"sad\",\"understand\",\"waste\",\"energy\",\"cause\",\"problem\",\"mcgahn\",\"decline\",\"appear\",\"nadler\",\"street\",\"journal\",\"editorial\",\"hours\",\"claim\",\"wasn\",\"release\",\"danger\",\"decision\",\"ought\",\"michael\",\"everybody\",\"renovation\",\"ineffective\",\"standard\",\"build\",\"worthless\",\"barriers\",\"brand\",\"foot\",\"haters\",\"illegal\",\"especially\",\"senatemajldr\",\"tens\",\"thousands\",\"peace\",\"gather\",\"capital\",\"service\",\"sacrifice\",\"western\",\"months\",\"byronyork\",\"bu\",\"serve\",\"overseas\",\"proud\",\"stand\",\"please\",\"confirm\",\"circuit\",\"daniel\",\"outstanding\",\"gopoversight\",\"icymi\",\"repmarkmeadows\",\"operations\",\"chuckgrassley\",\"pres\",\"canada\",\"mexico\",\"pt\",\"lift\",\"products\",\"dcexaminer\",\"week\",\"ll\",\"efforts\",\"question\",\"earth\",\"point\",\"fund\",\"vicious\",\"censorship\",\"movement\",\"jam\",\"woods\",\"suspend\",\"bs\",\"expensive\",\"comprehensive\",\"result\",\"word\",\"base\",\"illegally\",\"mattbevin\",\"primary\",\"kentucky\",\"matt\",\"fantastic\",\"fred\",\"keller\",\"pennsylvania\",\"congressional\",\"landslide\",\"show\",\"rally\",\"family\",\"probe\",\"suspect\",\"interview\",\"angry\",\"dollars\",\"review\",\"page\",\"document\",\"knight\",\"success\",\"sector\",\"miss\",\"conclusion\",\"outcome\",\"privilege\",\"hat\",\"announce\",\"nomination\",\"arizona\",\"amendment\",\"endorsement\",\"attitude\",\"countries\",\"flow\",\"taxpayers\",\"migration\",\"response\",\"virtually\",\"immigrants\",\"immigration\",\"break\",\"representative\",\"run\",\"megan\",\"king\",\"superior\",\"beautiful\",\"tough\",\"aspects\",\"tuesday\",\"massive\",\"crowd\",\"montoursville\",\"nominee\",\"eastern\",\"iran\",\"collapse\",\"iranian\",\"knowledge\",\"negotiation\",\"cuban\",\"independence\",\"cuba\",\"quest\",\"democracy\",\"prosperity\",\"regime\",\"repression\",\"bernie\",\"sanders\",\"pull\",\"ahead\",\"crook\",\"hillary\",\"credibility\",\"schiff\",\"future\",\"boom\",\"haven\",\"decades\",\"stuart\",\"varney\",\"foxandfriends\",\"tweet\",\"redo\",\"reason\",\"plenty\",\"money\",\"bank\",\"choose\",\"happy\",\"buy\",\"cash\",\"derange\",\"biggest\",\"enemy\",\"cover\",\"wise\",\"fashion\",\"available\",\"source\",\"york\",\"bush\",\"americafirst\",\"monday\",\"farmers\",\"tariff\",\"agricultural\",\"product\",\"sure\",\"treat\",\"fairly\",\"complaints\",\"immediately\",\"secretarysonny\",\"perdue\",\"steve\",\"hilton\",\"enjoy\",\"wallace\",\"opinions\",\"mayor\",\"pete\",\"gee\",\"mike\",\"move\",\"dump\",\"bore\",\"debate\",\"official\",\"migrants\",\"northern\",\"facilities\",\"florida\",\"airplanes\",\"market\",\"world\",\"college\",\"university\",\"place\",\"finance\",\"deserve\",\"negative\",\"ashamed\",\"dishonesty\",\"deception\",\"fact\",\"loser\",\"sadly\",\"opponents\",\"oppose\",\"ideas\",\"policies\",\"read\",\"bias\",\"compose\",\"drop\",\"nd\",\"tax\",\"reg\",\"cut\",\"gdp\",\"policy\",\"deplete\",\"finally\",\"rid\",\"sunday\",\"greater\",\"employ\",\"foolish\",\"rapidly\",\"city\",\"positive\",\"late\",\"abortion\",\"mother\",\"clue\",\"detention\",\"center\",\"hospitals\",\"school\",\"pack\",\"crazy\",\"delete\",\"acid\",\"wash\",\"email\",\"conclusively\",\"politics\",\"remove\",\"date\",\"candidate\",\"abuse\",\"power\",\"note\",\"operation\",\"ticket\",\"weissmann\",\"key\",\"role\",\"hire\",\"significant\",\"target\",\"judicialwatch\",\"dan\",\"scott\",\"arm\",\"safeguard\",\"liberty\",\"generations\",\"answer\",\"acknowledge\",\"celebrate\",\"proudly\",\"uniform\",\"consumer\",\"month\",\"address\",\"ne\",\"idea\",\"common\",\"impossible\",\"hurt\",\"fraudulent\",\"inaccurate\",\"coverage\",\"thing\",\"powerful\",\"demand\",\"notice\",\"situation\",\"jail\",\"drain\",\"swamp\",\"patrol\",\"apprehend\",\"detain\",\"home\",\"ridiculous\",\"catch\",\"register\",\"realize\",\"worst\",\"major\",\"legal\",\"process\",\"fair\",\"modern\",\"pride\",\"envy\",\"carolina\",\"post\",\"infighting\",\"different\",\"express\",\"decisive\",\"final\",\"simple\",\"side\",\"beauty\",\"group\",\"nyc\",\"consider\",\"joke\",\"tv\",\"djohnsonpga\",\"view\",\"respect\",\"middle\",\"east\",\"whatsoever\",\"nearly\",\"qb\",\"wg\",\"courage\",\"beat\",\"remain\",\"forever\",\"memory\",\"erictrump\",\"average\",\"cr\",\"workers\",\"revolution\",\"safer\",\"louisiana\",\"anniversary\",\"embassy\",\"jerusalem\",\"importance\",\"keep\",\"weeks\",\"star\",\"devotion\",\"sale\",\"reduce\",\"order\",\"reserve\",\"match\",\"event\",\"pay\",\"patriot\",\"beneficiaries\",\"farm\",\"difference\",\"grind\",\"wto\",\"faster\",\"xi\",\"sense\",\"billions\",\"belong\",\"negotiate\",\"company\",\"renegotiate\",\"buyers\",\"bigger\",\"substantially\",\"increase\",\"size\",\"advantage\",\"non\",\"instead\",\"steel\",\"industry\",\"grow\",\"save\",\"defense\",\"auto\",\"industries\",\"sgt\",\"peck\",\"double\",\"walter\",\"reed\",\"hero\",\"wife\",\"recommend\",\"sergeant\",\"carter\",\"earlier\",\"spirit\",\"fine\",\"invest\",\"investment\",\"south\",\"officially\",\"budget\",\"lakes\",\"clean\",\"restoration\",\"initiative\",\"nasa\",\"greatness\",\"moon\",\"mar\",\"additional\",\"space\",\"army\",\"largest\",\"project\",\"environment\",\"afternoon\",\"presidents\",\"retaliate\",\"avoid\",\"inside\",\"vietnam\",\"asia\",\"effect\",\"recently\",\"subsidize\",\"large\",\"degree\",\"slam\",\"horrible\",\"holocaust\",\"obviously\",\"hatred\",\"jewish\",\"imagine\",\"credit\",\"crash\",\"opponent\",\"clinton\",\"asian\",\"unemployment\",\"cheat\",\"vice\",\"boston\",\"redsox\",\"opposite\",\"players\",\"guy\",\"quarter\",\"greatly\",\"oann\",\"jump\",\"openly\",\"friends\",\"back\",\"opposition\",\"tool\",\"employment\",\"strategy\",\"harass\",\"isn\",\"destroy\",\"assault\",\"uphold\",\"overthrow\",\"coup\",\"previous\",\"doj\",\"apparatus\",\"gang\",\"series\",\"clapper\",\"definition\",\"christopher\",\"dream\",\"rip\",\"constitutional\",\"mess\",\"course\",\"suppose\",\"nut\",\"hope\",\"little\",\"overtime\",\"despite\",\"craze\",\"lunatics\",\"regulations\",\"giant\",\"scam\",\"perpetrate\",\"treasonous\",\"guilty\",\"untrue\",\"sound\",\"bite\",\"strongest\",\"food\",\"starve\",\"nations\",\"deliver\",\"patients\",\"financial\",\"surprise\",\"susan\",\"rice\",\"peter\",\"strzok\",\"richlowry\",\"kimstrassel\",\"column\",\"therightmelissa\",\"realcandaceo\",\"mind\",\"reality\",\"essentially\",\"conservatives\",\"social\",\"seriously\",\"intel\",\"consequential\",\"sick\",\"concern\",\"vp\",\"roar\",\"businesses\",\"will\",\"battle\",\"distract\",\"department\",\"fearful\",\"easy\",\"produce\",\"goods\",\"felt\",\"fo\",\"mo\",\"democratic\",\"manufacture\",\"ceo\",\"explain\",\"stability\",\"unprecedented\",\"lawyer\",\"partially\",\"matter\",\"interest\",\"nedryun\",\"baker\",\"fisa\",\"sorry\",\"sen\",\"smuggle\",\"chief\",\"exactly\",\"unhinge\",\"dem\",\"bully\",\"laura\",\"solution\",\"ban\",\"goal\",\"unverified\",\"research\",\"warrant\",\"citizen\",\"fool\",\"provoke\",\"geraldorivera\",\"wouldn\",\"arifleischer\",\"countless\",\"nonsense\",\"gopleader\",\"kevin\",\"mccarthy\",\"gop\",\"subpoena\",\"jr\",\"staff\",\"testimony\",\"reporters\",\"tedcruz\",\"govmikehuckabee\",\"richard\",\"burr\",\"ukraine\",\"investigations\",\"dbongino\",\"unfair\",\"practice\",\"competition\",\"breitbartnews\",\"rank\",\"criticize\",\"al\",\"threat\",\"steele\",\"contact\",\"realsaavedra\",\"sean\",\"hannity\",\"senatorburr\",\"behavior\",\"rudygiuliani\",\"hughhewitt\",\"thehill\",\"excuse\",\"st\",\"frighten\",\"nolte\",\"inauguration\",\"outlet\",\"admin\",\"secure\",\"donation\",\"accept\",\"short\",\"wag\",\"mount\",\"dossier\",\"verification\",\"vs\",\"father\",\"alien\",\"dnc\",\"deep\",\"ohr\",\"fusion\",\"gps\",\"grant\",\"absolutely\",\"barack\",\"conclude\",\"vast\",\"coverup\",\"senthomtillis\",\"share\",\"account\",\"design\",\"female\",\"donors\",\"wealth\",\"phenomenal\",\"traditional\",\"kind\",\"spouses\",\"ones\",\"appreciation\",\"past\",\"days\",\"constructive\",\"conversations\",\"status\",\"sign\",\"commitments\",\"intellectual\",\"property\",\"mariabartiromo\",\"fade\",\"fast\",\"aprvcjpqop\",\"inflation\",\"favorite\",\"slow\",\"automatically\",\"speed\",\"balance\",\"soar\",\"murder\",\"easier\",\"quicker\",\"waivers\",\"congenial\",\"manner\",\"rush\",\"worth\",\"payments\",\"directly\",\"treasury\",\"larger\",\"amount\",\"poor\",\"form\",\"humanitarian\",\"assistance\",\"sell\",\"approximately\",\"imbalance\",\"pence\",\"disgrace\",\"regain\",\"families\",\"medical\",\"bill\",\"insurance\",\"host\",\"awesome\",\"hi\",\"prevent\",\"reach\",\"protection\",\"johnson\",\"minnesota\",\"earliest\",\"hiv\",\"expand\",\"risk\",\"panama\",\"beach\",\"senrickscott\",\"marcorubio\",\"terrible\",\"maduro\",\"venezuela\",\"tuckercarlson\",\"ads\",\"slowly\",\"economist\",\"hurricane\",\"newtgingrich\",\"grieve\",\"violence\",\"young\",\"injure\",\"colorado\",\"responders\",\"bravely\",\"elizabeth\",\"pocahontas\",\"warren\",\"native\",\"equally\",\"separate\",\"locations\",\"nicely\",\"gm\",\"mary\",\"rob\",\"portman\",\"car\",\"barra\",\"motor\",\"uaw\",\"agreement\",\"lordstown\",\"plant\",\"electric\",\"estate\",\"developers\",\"entitle\",\"off\",\"losses\",\"purpose\",\"toiatsmu\",\"involvement\",\"reveal\",\"jim\",\"guess\",\"fill\",\"attempt\",\"weak\",\"prescription\",\"deny\",\"additionally\",\"breitbart\",\"lo\",\"tiger\",\"puerto\",\"rico\",\"iowa\",\"nebraska\",\"georgia\",\"fireworks\",\"dakota\",\"govkristinoem\",\"steal\",\"half\",\"contributions\",\"wonder\",\"obsess\",\"red\",\"economically\",\"thrive\",\"highlight\",\"bebest\",\"armywp_football\",\"conversation\",\"block\",\"example\",\"texas\",\"correct\",\"grab\",\"dirty\",\"table\",\"green\",\"terrorist\",\"rocket\",\"islamic\",\"citizens\",\"morgan\",\"ice\",\"april\",\"expectations\",\"nyt\",\"ca\",\"ingrahamangle\",\"gut\",\"sundayfutures\",\"stun\",\"door\",\"outside\",\"impact\",\"bear\",\"tech\",\"friday\",\"derby\",\"rough\",\"tumble\",\"wet\",\"sloppy\",\"correctness\",\"overturn\",\"horse\",\"believer\",\"ericbolling\",\"hispanic\",\"clip\",\"faith\",\"mt\",\"baptist\",\"church\",\"union\",\"judicial\",\"newly\",\"uncover\",\"materials\",\"jw\",\"senior\",\"oath\",\"agency\",\"lawsuits\",\"file\",\"petition\",\"gateways\",\"cartels\",\"violent\",\"incorrect\",\"napolitano\",\"mike_pence\",\"utah\",\"dailycaller\",\"labor\",\"percent\",\"international\",\"charliekirk\",\"treatment\",\"kill\",\"interfere\",\"pyoiljm\",\"pz\",\"wing\",\"knowingly\",\"nytimes\",\"washingtonpost\",\"msnbc\",\"facebook\",\"prisonplanet\",\"partisan\",\"corporations\",\"decide\",\"free\",\"speech\",\"ralph\",\"racist\",\"suggest\",\"sharylattkisson\",\"ok\",\"govt\",\"censor\",\"info\",\"pressure\",\"trillion\",\"russians\",\"george\",\"iagovernor\",\"manage\",\"destructive\",\"paul\",\"closely\",\"republic\",\"nuclear\",\"productive\",\"uc\",\"fell\",\"level\",\"surge\",\"pulitzer\",\"prize\",\"detail\",\"watergate\",\"foxbusiness\",\"costly\",\"proclamation\",\"victims\",\"aluminum\",\"pittsburgh\",\"prayer\",\"pray\",\"strengthen\",\"resolve\",\"communities\",\"growth\",\"withdraw\",\"feed\",\"ukrainian\",\"scandal\",\"joebiden\",\"push\",\"expect\",\"ny\",\"generation\",\"kerry\",\"mccabe\",\"lawsuit\",\"communications\",\"russiagate\",\"plus\",\"audience\",\"shock\",\"accomplishments\",\"yes\",\"firefighter\",\"member\",\"iaff\",\"september\",\"november\",\"miles\",\"march\",\"endure\",\"personal\",\"gallup\",\"override\",\"magnificent\",\"harry\",\"fraction\",\"im\",\"supporter\",\"retire\",\"volunteer\",\"piss\",\"dues\",\"gr\",\"assure\",\"eye\",\"members\",\"liberal\",\"endorse\",\"husband\",\"unions\",\"represent\",\"firemen\",\"police\",\"couple\",\"fireman\",\"board\",\"smoke\",\"fighters\",\"boss\",\"failure\",\"creepy\",\"brother\",\"town\",\"booth\",\"bet\",\"certainly\",\"alert\",\"bureaucrats\",\"smaller\",\"stock\",\"entire\",\"career\",\"disgust\",\"ro\",\"suck\",\"nascar\",\"joeylogano\",\"sanction\",\"island\",\"soldier\",\"cease\",\"constitution\",\"quantitative\",\"debt\",\"institute\",\"tighten\",\"european\",\"benefit\",\"prisoners\",\"specific\",\"isis\",\"hostage\",\"caliphate\",\"syria\",\"decisions\",\"coyotes\",\"nearby\",\"jobless\",\"maybe\",\"aspect\",\"experience\",\"semitic\",\"print\",\"daily\",\"basis\",\"journalism\",\"dead\",\"funny\",\"ridiculously\",\"expense\",\"fortune\",\"flee\",\"nra\",\"difficult\",\"organization\",\"poway\",\"warmest\",\"condolences\",\"california\",\"blow\",\"pathetic\",\"anger\",\"refer\",\"magic\",\"andrew\",\"hostile\",\"pardon\",\"shepard\",\"smith\",\"brilliant\",\"alan\",\"dershowitz\",\"bay\",\"wisconsin\",\"agent\",\"synagogue\",\"talents\",\"weren\",\"round\",\"river\",\"await\",\"opioid\",\"participate\",\"takebackday\",\"collection\",\"near\",\"nick\",\"player\",\"talent\",\"san\",\"francisco\",\"importantly\",\"smash\",\"witness\",\"swear\",\"defend\",\"surrender\",\"sovereignty\",\"saudi\",\"arabia\",\"oil\",\"indiana\",\"annual\",\"vital\",\"weirdo\",\"steyer\",\"put\",\"beg\",\"mention\",\"negotiator\",\"hostages\",\"otto\",\"warmbier\",\"travel\",\"atlanta\",\"heroin\",\"summit\",\"repmattgaetz\",\"son\",\"prison\",\"january\",\"ronnebeck\",\"score\",\"net\",\"loss\",\"successes\",\"repandybiggsaz\",\"volume\",\"rely\",\"flat\",\"expose\",\"figure\",\"cabal\",\"andy\",\"doubt\",\"wage\",\"respectfully\",\"hater\",\"incorrectly\",\"tennessee\",\"children\",\"regardless\",\"background\",\"rxsummit\",\"cortez\",\"va\",\"veterans\",\"accountability\",\"caldwell\",\"criminals\",\"rig\",\"comprehend\",\"cop\",\"lay\",\"diversionary\",\"smugglers\",\"caravan\",\"remainder\",\"census\",\"citizenship\",\"cia\",\"accuse\",\"kingdom\",\"jack\",\"dialogue\",\"saturday\",\"resch\",\"cdt\",\"bpyk\",\"pf\",\"els\",\"autism\",\"education\",\"global\",\"recreation\",\"smart\",\"higher\",\"struggle\",\"eu\",\"currently\",\"production\",\"stupid\",\"agenda\",\"tune\",\"forgiveness\",\"qbnsma\",\"kff\",\"hfgkp\",\"senkevincramer\",\"opportunity\",\"zone\",\"income\",\"poverty\",\"encourage\",\"saw\",\"easter\",\"egg\",\"wo\",\"sri\",\"lanka\",\"simply\",\"constant\",\"fabricate\",\"victor\",\"davis\",\"hanson\",\"partial\",\"garbage\",\"nsa\",\"vindicate\",\"smear\",\"fb\",\"terrorism\",\"herman\",\"nominate\",\"opec\",\"violation\",\"stevehiltonx\",\"uk\",\"disgraceful\",\"op\",\"owe\",\"hotels\",\"offer\",\"heartfelt\",\"happier\",\"content\",\"prior\",\"repdougcollins\",\"follow\",\"honest\",\"exclusive\",\"et\",\"package\",\"asylum\",\"check\",\"danscavino\",\"wgdp\",\"pretty\",\"weekly\",\"pols\",\"principle\",\"teamcavuto\",\"opinion\",\"dishonest\",\"outlets\",\"fat\",\"exact\",\"certain\",\"strassel\",\"correctly\",\"soooo\",\"single\",\"prosecutors\",\"couldn\",\"wil\",\"underlie\",\"regard\",\"fraud\",\"executive\",\"thrill\",\"ride\",\"william\",\"discussions\",\"memo\",\"launch\",\"france\",\"francis\",\"notre\",\"dame\",\"cathedral\",\"experts\",\"vacation\",\"discredit\",\"author\",\"voter\",\"complain\",\"supporters\",\"critical\",\"weird\",\"surprisingly\",\"bretbaier\",\"strange\",\"dirt\",\"someday\",\"pace\",\"hasn\",\"economies\",\"paris\",\"fly\",\"themasters\",\"comeback\",\"legally\",\"homeland\",\"sanctuary\",\"cities\",\"satisfy\",\"resist\",\"omar\",\"investigators\",\"boeing\",\"feature\",\"plane\",\"hell\",\"wsj\",\"chinese\",\"lobbyist\",\"acceptable\",\"machine\",\"ally\",\"chaos\",\"absolute\",\"legislation\",\"hole\",\"properly\",\"transfer\",\"management\",\"obamacare\",\"socialism\",\"dealers\",\"traffickers\",\"shape\",\"illegals\",\"gold\",\"luck\",\"vxrgfrfejm\",\"extraordinary\",\"accurate\",\"aid\",\"nbcnews\",\"personnel\",\"woman\",\"walk\",\"nofzya\",\"qs\",\"sudden\",\"trish_regan\",\"clewandowski_\",\"unwilling\",\"outrageous\",\"indict\",\"hall\",\"rod\",\"rosenstein\",\"disarray\",\"pretend\",\"shame\",\"afford\",\"likewise\",\"breathe\",\"dhsgov\",\"cbp\",\"commissioner\",\"mcaleenan\",\"dhs\",\"netanyahu\",\"sx\",\"seven\",\"arab\",\"egypt\",\"congresswoman\",\"jews\",\"jeff\",\"ballabon\",\"strategic\",\"unacceptable\",\"varneyco\",\"recognition\",\"capture\",\"development\",\"west\",\"yard\",\"construct\",\"calexico\",\"replace\",\"barrier\",\"virginia\",\"ncaa\",\"uganda\",\"tourist\",\"guide\",\"feel\",\"folks\",\"abolish\",\"hemisphere\",\"immoral\",\"raise\",\"katiepavlich\",\"current\",\"leak\",\"port\",\"entry\",\"scale\",\"commercial\",\"delay\",\"rjc\",\"commitment\",\"straight\",\"nevada\",\"location\",\"dinner\",\"conclusions\",\"recommendations\",\"voiv\",\"marc_lotter\",\"brave\",\"nk\",\"dictatorship\",\"david\",\"worker\",\"roundtable\",\"usmca\",\"penalty\",\"die\",\"sooo\",\"cars\",\"wsjopinion\",\"freeman\",\"jovita\",\"paper\",\"accord\",\"alive\",\"unnecessary\",\"optimism\",\"usual\",\"talented\",\"develop\",\"display\",\"alternative\",\"nato\",\"reaffirm\",\"equal\",\"opportunities\",\"overrun\",\"guatemala\",\"honduras\",\"el\",\"salvador\",\"theme\",\"starr\",\"politicians\",\"incompetent\",\"juan\",\"health\",\"provide\",\"schedule\",\"premiums\",\"deductibles\",\"beloved\",\"unusable\",\"meaningless\",\"combination\",\"data\",\"achievement\",\"areas\",\"hour\",\"statedept\",\"enter\",\"overflow\",\"rapids\",\"michigan\",\"fragile\",\"tank\",\"embarrassment\",\"legit\",\"pour\",\"fairness\",\"google\",\"trick\",\"reputation\",\"catastrophe\",\"recognize\",\"golan\",\"heights\",\"yaayr\",\"hxe\",\"hill\",\"billhemmer\",\"pursue\",\"scorn\",\"stanley\",\"cap\",\"picture\",\"yl\",\"room\",\"wx\",\"exoneration\",\"individuals\",\"saint\",\"losers\",\"barely\",\"cave\",\"fastest\",\"trust\",\"achievements\",\"students\",\"value\",\"moments\",\"solomon\",\"plot\",\"hardworking\",\"conway\",\"jealous\",\"desperately\",\"stone\",\"cold\",\"electoral\",\"ballot\",\"box\",\"ym\",\"midwest\",\"train\",\"latest\",\"ft\",\"exceed\",\"blame\",\"zealand\",\"counter\",\"jackposobiec\",\"teen\",\"ms\",\"lindasuhler\",\"arthelneville\",\"lelandvittert\",\"patrick\",\"parscale\",\"urban\",\"lrihendry\",\"chuckcallesto\",\"ilhan\",\"jeanine\",\"npr\",\"effective\",\"meghan\",\"anchor\",\"droves\",\"pirro\",\"silence\",\"class\",\"annapolis\",\"commission\",\"appoin\",\"toyota\",\"spread\",\"unfortunately\",\"stain\",\"ken\",\"independent\",\"repeal\",\"sheriff\",\"sheriffs\",\"veto\",\"representatives\",\"la\",\"weather\",\"horrific\",\"transcript\",\"jexodus\",\"network\",\"resolution\",\"nafta\",\"wacky\",\"nightmare\",\"throw\",\"lisa\",\"unanimous\",\"transcripts\",\"appreciate\",\"eric\",\"schneiderman\",\"hccnfzxfn\",\"illegitimate\",\"dear\",\"godthank\",\"godblessamerica\",\"presidenttrump\",\"electionday\",\"adamschiff\",\"cohen\",\"trail\",\"camp\",\"disclose\",\"glenn\",\"simpson\",\"oppo\",\"participation\",\"workforce\",\"whitehousecea\",\"hourly\",\"earn\",\"dingell\",\"pilot\",\"founder\",\"climate\",\"carbon\",\"semitism\",\"precedent\",\"sarah\",\"proposal\",\"introduce\",\"tim\",\"apple\",\"integrity\",\"terror\",\"tunnel\",\"paulsperry_\",\"physical\",\"diego\",\"paso\",\"lawyers\",\"likely\",\"perjury\",\"shred\",\"coach\",\"regulation\",\"condemn\",\"reps\",\"renovate\",\"invasion\",\"cbs\",\"recommit\",\"wilson\",\"ron\",\"desantis\",\"cvpayne\",\"overall\",\"xm\",\"sessions\",\"declare\",\"msm\",\"pledge\",\"heather\",\"fraudster\",\"contradict\",\"contract\",\"violations\",\"arrest\",\"stewart\",\"hundreds\",\"mistake\",\"analysis\",\"overreach\",\"proof\",\"generic\",\"terrific\",\"comment\",\"relations\",\"widest\",\"amazon\",\"drill\",\"reimburse\",\"careful\",\"bold\",\"chatbycc\",\"dept\",\"convict\",\"liar\",\"tensions\",\"manuscript\",\"path\",\"dow\",\"nasdaq\",\"composite\",\"priority\",\"cpac\",\"oh\",\"bye\",\"spin\",\"submit\",\"hanoi\",\"february\",\"clients\",\"intentions\",\"powerhouse\",\"helpful\",\"fiat\",\"chrysler\",\"da\",\"nang\",\"dick\",\"blumenthal\",\"connecticut\",\"minimum\",\"newborn\",\"infant\",\"baby\",\"birth\",\"advance\",\"hike\",\"recover\",\"danny\",\"intensive\",\"dustin\",\"cryin\",\"breakfast\",\"relax\",\"lago\",\"technology\",\"texts\",\"lover\",\"forum\",\"continuation\",\"lincoln\",\"propose\",\"latino\",\"seize\",\"graham\",\"facts\",\"factor\",\"kelly\",\"study\",\"inspector\",\"ignore\",\"covington\",\"bust\",\"nf\",\"checker\",\"predict\",\"completion\",\"occasion\",\"leakin\",\"real_defender\",\"venezuelan\",\"latin\",\"kid\",\"hospital\",\"discover\",\"brass\",\"angel\",\"nbc\",\"ambassadors\",\"europe\",\"capable\",\"njorbjwint\",\"negotiators\",\"cancel\",\"improve\",\"dr\",\"degrees\",\"color\",\"draw\",\"\\u0633\\u0627\\u0644\",\"\\u0627\\u06cc\\u0631\\u0627\\u0646\",\"self\",\"inherit\",\"tnuhnw\",\"kll\",\"sotu\",\"amy\",\"warm\",\"snow\",\"temperatures\",\"behave\",\"irrationally\",\"hardly\",\"endless\",\"shutdown\",\"anybody\",\"permanently\",\"gas\",\"podesta\",\"nellie\",\"forrest\",\"encounter\",\"aspen\",\"wound\",\"afghanistan\",\"baseball\",\"sotuhttps\",\"kl\",\"soclx\",\"lunar\",\"interior\",\"bowl\",\"northam\",\"shocker\",\"tower\",\"fentanyl\",\"passive\",\"protest\",\"interim\",\"guaido\",\"test\",\"rampant\",\"fiction\",\"deroy\",\"murdock\",\"bible\",\"johnrobertsfox\",\"hispanics\",\"portray\",\"buzzfeed\",\"rnc\",\"unanimously\",\"venue\",\"compete\",\"tradition\",\"unity\",\"export\",\"kremlin\",\"mariano\",\"fame\",\"davos\",\"marist\",\"pbs\",\"attention\",\"unfairly\",\"unchecked\",\"martin\",\"luther\",\"mlkday\",\"wand\",\"budgetgop\",\"compromise\",\"provision\",\"senrobportman\",\"reasonable\",\"reopen\",\"jiminhofe\",\"glad\",\"daca\",\"exchange\",\"part\",\"options\",\"amnesty\",\"mouth\",\"rancher\",\"examiner\",\"factories\",\"clemson\",\"tigers\",\"eaters\",\"mom\",\"chattanooga\",\"lyin\",\"turkey\",\"mile\",\"convention\",\"stage\",\"orleans\",\"eventually\",\"proper\",\"bighorn\",\"knee\",\"kitchen\",\"dress\",\"indian\",\"garb\",\"kurds\",\"overdue\",\"sexual\",\"tougher\",\"station\",\"fakenews\",\"football\",\"pound\",\"narcotics\",\"forest\",\"unlikely\",\"december\",\"disruption\",\"abramson\",\"settle\",\"comparison\",\"mitt\"],\"x\":{\"__ndarray__\":\"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\",\"dtype\":\"float32\",\"shape\":[2584]},\"y\":{\"__ndarray__\":\"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\",\"dtype\":\"float32\",\"shape\":[2584]}}},\"id\":\"da444d81-c561-4496-9e9a-de63dbd3dfe0\",\"type\":\"ColumnDataSource\"},{\"attributes\":{},\"id\":\"a07b9d10-935c-4360-959a-faa416d8b6f3\",\"type\":\"LinearScale\"},{\"attributes\":{\"source\":{\"id\":\"da444d81-c561-4496-9e9a-de63dbd3dfe0\",\"type\":\"ColumnDataSource\"}},\"id\":\"32bfdb6b-e5e7-4202-99e3-7041461a9b09\",\"type\":\"CDSView\"},{\"attributes\":{},\"id\":\"ca8feee4-742e-4f27-bb02-26db166e62e1\",\"type\":\"SaveTool\"},{\"attributes\":{\"fill_alpha\":{\"value\":0.8},\"fill_color\":{\"value\":\"#1f77b4\"},\"line_alpha\":{\"value\":0.8},\"line_color\":{\"value\":\"#1f77b4\"},\"size\":{\"units\":\"screen\",\"value\":10},\"x\":{\"field\":\"x\"},\"y\":{\"field\":\"y\"}},\"id\":\"1b34295b-69cf-4cf9-a88f-d0d1d5af09d2\",\"type\":\"Circle\"},{\"attributes\":{},\"id\":\"10407058-12e6-4e56-bd08-b02141b25157\",\"type\":\"LinearScale\"},{\"attributes\":{\"callback\":null,\"tooltips\":[[\"content\",\"@content\"]]},\"id\":\"d7b4b235-4599-4c24-9512-5d01930fab86\",\"type\":\"HoverTool\"}],\"root_ids\":[\"337838b0-9a6e-441c-9bf4-99caadc01cb3\"]},\"title\":\"Bokeh Application\",\"version\":\"0.12.13\"}};\n",
       "  var render_items = [{\"docid\":\"d418529d-d42d-484a-8cc0-fbf904023413\",\"elementid\":\"48165f2f-433e-4fdd-8af1-c7c7d67bdaa3\",\"modelid\":\"337838b0-9a6e-441c-9bf4-99caadc01cb3\"}];\n",
       "  root.Bokeh.embed.embed_items_notebook(docs_json, render_items);\n",
       "\n",
       "  }\n",
       "  if (root.Bokeh !== undefined) {\n",
       "    embed_document(root);\n",
       "  } else {\n",
       "    var attempts = 0;\n",
       "    var timer = setInterval(function(root) {\n",
       "      if (root.Bokeh !== undefined) {\n",
       "        embed_document(root);\n",
       "        clearInterval(timer);\n",
       "      }\n",
       "      attempts++;\n",
       "      if (attempts > 100) {\n",
       "        console.log(\"Bokeh: ERROR: Unable to run BokehJS code because BokehJS library is missing\")\n",
       "        clearInterval(timer);\n",
       "      }\n",
       "    }, 10, root)\n",
       "  }\n",
       "})(window);"
      ],
      "application/vnd.bokehjs_exec.v0+json": ""
     },
     "metadata": {
      "application/vnd.bokehjs_exec.v0+json": {
       "id": "337838b0-9a6e-441c-9bf4-99caadc01cb3"
      }
     },
     "output_type": "display_data"
    }
   ],
   "source": [
    "x_tsne = X_tsne[:, 0]\n",
    "y_tsne = X_tsne[:, 1]\n",
    "label = total_words\n",
    "contents = total_words\n",
    "\n",
    "\n",
    "cluster_colors = {0: 'blue', 1: 'green', 2: 'yellow', 3: 'red', 4: 'skyblue', 5:'salmon', 6:'orange', 7:'maroon', 8:'crimson', 9:'black', 10:'gray'}\n",
    "\n",
    "# labels = ['Topic {}'.format(i) for i in topic_tfidf]\n",
    "# topic_colors = [cluster_colors[i] for i in topic_tfidf]\n",
    "\n",
    "settings = dict(x=x_tsne,\n",
    "               y=y_tsne,\n",
    "                label=label,\n",
    "#                 color=topic_colors,\n",
    "               content=contents\n",
    "               )\n",
    "\n",
    "source = ColumnDataSource(settings)\n",
    "\n",
    "labels = LabelSet(x='x', y='y', text='label', level='glyph',\n",
    "              x_offset=5, y_offset=5, source=source, render_mode='canvas', text_font_size='6pt')\n",
    "\n",
    "\n",
    "title = 'T-SNE visualization of Trump\\'s twitts'\n",
    "\n",
    "plot_lda = figure(plot_width=1000, plot_height=600,\n",
    "                     title=title, tools=\"pan,wheel_zoom,box_zoom,reset,hover,previewsave\",\n",
    "                     x_axis_type=None, y_axis_type=None, min_border=1)\n",
    "\n",
    "plot_lda.scatter(x='x', y='y',\n",
    "#                  legend='label', \n",
    "                 source=source, \n",
    "#                  color='color',\n",
    "                 alpha=0.8, size=10)#'msize', )\n",
    "\n",
    "\n",
    "plot_lda.add_layout(labels)\n",
    "\n",
    "hover = plot_lda.select(dict(type=HoverTool))\n",
    "hover.tooltips = {\"content\": \"@content\"}\n",
    "plot_lda.legend.location = \"top_left\"\n",
    "\n",
    "show(plot_lda)"
   ]
  },
  {
   "cell_type": "code",
   "execution_count": null,
   "metadata": {},
   "outputs": [],
   "source": []
  },
  {
   "cell_type": "code",
   "execution_count": 52,
   "metadata": {},
   "outputs": [],
   "source": [
    "SEED=0\n",
    "tsne_model = TSNE(perplexity=40, n_components=2, random_state=SEED)"
   ]
  },
  {
   "cell_type": "code",
   "execution_count": 53,
   "metadata": {},
   "outputs": [],
   "source": [
    "X_tsne = tsne_model.fit_transform(features)"
   ]
  },
  {
   "cell_type": "code",
   "execution_count": 54,
   "metadata": {
    "scrolled": true
   },
   "outputs": [
    {
     "data": {
      "text/html": [
       "\n",
       "<div class=\"bk-root\">\n",
       "    <div class=\"bk-plotdiv\" id=\"5078dd87-7af2-4be9-9c2b-0a603913aee0\"></div>\n",
       "</div>"
      ]
     },
     "metadata": {},
     "output_type": "display_data"
    },
    {
     "data": {
      "application/javascript": [
       "(function(root) {\n",
       "  function embed_document(root) {\n",
       "    \n",
       "  var docs_json = {\"d45bde8b-afc0-4311-a8d0-4738d03bb053\":{\"roots\":{\"references\":[{\"attributes\":{\"callback\":null},\"id\":\"aaa47d41-d468-4e7a-a1dd-c70a1be16027\",\"type\":\"DataRange1d\"},{\"attributes\":{},\"id\":\"a5d7c8b4-36c6-4ceb-bb97-ccb5b48167ee\",\"type\":\"LinearScale\"},{\"attributes\":{\"fill_alpha\":{\"value\":0.8},\"fill_color\":{\"value\":\"#1f77b4\"},\"line_alpha\":{\"value\":0.8},\"line_color\":{\"value\":\"#1f77b4\"},\"size\":{\"units\":\"screen\",\"value\":10},\"x\":{\"field\":\"x\"},\"y\":{\"field\":\"y\"}},\"id\":\"9dd5509b-0a0d-47bc-9d45-90acb5ef0c34\",\"type\":\"Circle\"},{\"attributes\":{},\"id\":\"b1cb5c80-d750-4495-88d2-f85028887f37\",\"type\":\"PanTool\"},{\"attributes\":{\"bottom_units\":\"screen\",\"fill_alpha\":{\"value\":0.5},\"fill_color\":{\"value\":\"lightgrey\"},\"left_units\":\"screen\",\"level\":\"overlay\",\"line_alpha\":{\"value\":1.0},\"line_color\":{\"value\":\"black\"},\"line_dash\":[4,4],\"line_width\":{\"value\":2},\"plot\":null,\"render_mode\":\"css\",\"right_units\":\"screen\",\"top_units\":\"screen\"},\"id\":\"f15acba7-d544-479a-a9c0-f5e174520d44\",\"type\":\"BoxAnnotation\"},{\"attributes\":{\"data_source\":{\"id\":\"4c22c120-7e11-44d2-81ad-8696cf5b2955\",\"type\":\"ColumnDataSource\"},\"glyph\":{\"id\":\"9dd5509b-0a0d-47bc-9d45-90acb5ef0c34\",\"type\":\"Circle\"},\"hover_glyph\":null,\"muted_glyph\":null,\"nonselection_glyph\":{\"id\":\"53e145e4-bee9-4349-b067-f7318ecbfcf2\",\"type\":\"Circle\"},\"selection_glyph\":null,\"view\":{\"id\":\"c0247654-01bc-4b60-ba9d-066130d11994\",\"type\":\"CDSView\"}},\"id\":\"ed1dfe9b-b642-4565-bc23-a43ba07338aa\",\"type\":\"GlyphRenderer\"},{\"attributes\":{\"min_border\":1,\"plot_width\":1000,\"renderers\":[{\"id\":\"f15acba7-d544-479a-a9c0-f5e174520d44\",\"type\":\"BoxAnnotation\"},{\"id\":\"ed1dfe9b-b642-4565-bc23-a43ba07338aa\",\"type\":\"GlyphRenderer\"},{\"id\":\"d0261ca8-2e99-4253-bca5-8ec3628059ed\",\"type\":\"LabelSet\"}],\"title\":{\"id\":\"12dd528c-ed98-4046-99ca-f9a1d2955f44\",\"type\":\"Title\"},\"toolbar\":{\"id\":\"37f58c3d-2377-442e-9742-30f589c8a1bb\",\"type\":\"Toolbar\"},\"x_range\":{\"id\":\"f593386a-9bce-4a26-8eb8-84520f0db7bb\",\"type\":\"DataRange1d\"},\"x_scale\":{\"id\":\"fd024474-6464-4ac3-b412-7b465cd1537f\",\"type\":\"LinearScale\"},\"y_range\":{\"id\":\"aaa47d41-d468-4e7a-a1dd-c70a1be16027\",\"type\":\"DataRange1d\"},\"y_scale\":{\"id\":\"a5d7c8b4-36c6-4ceb-bb97-ccb5b48167ee\",\"type\":\"LinearScale\"}},\"id\":\"81901fc0-0dfc-4066-bcdc-13e6768d9034\",\"subtype\":\"Figure\",\"type\":\"Plot\"},{\"attributes\":{},\"id\":\"1cb626e6-45a3-4068-a224-66e55fd0ea9e\",\"type\":\"WheelZoomTool\"},{\"attributes\":{\"callback\":null,\"column_names\":[\"x\",\"y\",\"label\",\"content\"],\"data\":{\"content\":[\"robert\",\"mueller\",\"come\",\"oval\",\"office\",\"potential\",\"seek\",\"name\",\"director\",\"fbi\",\"position\",\"years\",\"tell\",\"day\",\"special\",\"counsel\",\"total\",\"conflict\",\"nice\",\"comey\",\"brennan\",\"turn\",\"kilmeade\",\"congressman\",\"john\",\"ratcliffe\",\"trump\",\"campaign\",\"clearly\",\"conspire\",\"collude\",\"foxnews\",\"fight\",\"phony\",\"crime\",\"exist\",\"horrendous\",\"false\",\"shouldn\",\"sit\",\"obstruction\",\"presidential\",\"harassment\",\"russia\",\"hear\",\"begin\",\"witch\",\"hunt\",\"hoax\",\"disappear\",\"help\",\"elect\",\"dems\",\"partner\",\"fake\",\"news\",\"media\",\"greatest\",\"history\",\"spend\",\"dark\",\"unlimited\",\"access\",\"people\",\"resources\",\"cooperation\",\"highly\",\"bring\",\"charge\",\"inform\",\"have\",\"navy\",\"ship\",\"uss\",\"mccain\",\"recent\",\"visit\",\"japan\",\"flotus\",\"love\",\"great\",\"military\",\"men\",\"women\",\"spectacular\",\"job\",\"tonight\",\"seanhannity\",\"number\",\"far\",\"mark\",\"levin\",\"congrats\",\"book\",\"impeach\",\"republican\",\"president\",\"commit\",\"democrats\",\"rt\",\"presssec\",\"white\",\"house\",\"statement\",\"today\",\"https\",\"kayleighmcenany\",\"time\",\"origins\",\"spy\",\"change\",\"report\",\"evidence\",\"country\",\"person\",\"innocent\",\"case\",\"close\",\"thank\",\"alabama\",\"senate\",\"incredible\",\"gain\",\"presidency\",\"lose\",\"include\",\"pro\",\"life\",\"victories\",\"roy\",\"moore\",\"win\",\"consequences\",\"devastate\",\"judge\",\"supreme\",\"court\",\"justices\",\"republicans\",\"allow\",\"seat\",\"state\",\"leaders\",\"want\",\"probably\",\"realdonaldtrump\",\"god\",\"bless\",\"usa\",\"hrt\",\"wnwz\",\"successful\",\"trip\",\"big\",\"progress\",\"front\",\"wonderful\",\"leader\",\"prime\",\"minister\",\"abe\",\"actually\",\"stick\",\"sleepy\",\"joe\",\"biden\",\"foreign\",\"kim\",\"jong\",\"call\",\"low\",\"iq\",\"things\",\"relate\",\"quote\",\"chairman\",\"individual\",\"possibly\",\"upset\",\"speak\",\"governor\",\"arkansas\",\"fema\",\"federal\",\"government\",\"necessary\",\"record\",\"flood\",\"local\",\"officials\",\"update\",\"devastation\",\"tornadoes\",\"ohio\",\"early\",\"morning\",\"administration\",\"fully\",\"support\",\"cleanup\",\"recovery\",\"storm\",\"dangerous\",\"damage\",\"team\",\"continue\",\"emergency\",\"affect\",\"listen\",\"resilient\",\"oklahoma\",\"night\",\"live\",\"remark\",\"potus\",\"donald\",\"wait\",\"soon\",\"mzhemingway\",\"excite\",\"ve\",\"write\",\"kavanaugh\",\"confirmation\",\"make\",\"stop\",\"quick\",\"alaska\",\"meet\",\"go\",\"get\",\"new\",\"emperor\",\"empress\",\"honor\",\"associate\",\"chance\",\"particular\",\"african\",\"americans\",\"able\",\"vote\",\"hand\",\"responsible\",\"criminal\",\"justice\",\"reform\",\"tremendous\",\"amp\",\"fix\",\"bad\",\"super\",\"term\",\"heavily\",\"involve\",\"pass\",\"period\",\"american\",\"apologize\",\"hop\",\"work\",\"israel\",\"coalition\",\"formation\",\"bibi\",\"alliance\",\"america\",\"stronger\",\"lot\",\"liz\",\"statements\",\"agents\",\"investigate\",\"treason\",\"hu\",\"wh\",\"congress\",\"create\",\"economy\",\"rebuild\",\"take\",\"care\",\"vet\",\"choice\",\"best\",\"admit\",\"completely\",\"age\",\"think\",\"away\",\"laws\",\"hold\",\"accountable\",\"whitehouse\",\"abeshinzo\",\"palace\",\"usembassytokyo\",\"receive\",\"even\",\"welcome\",\"ceremony\",\"potusinjapan\",\"congratulations\",\"friend\",\"roger\",\"th\",\"unbelievable\",\"indianapolis\",\"watch\",\"race\",\"sport\",\"patriots\",\"roll\",\"thunder\",\"washington\",\"year\",\"hopefully\",\"press\",\"russian\",\"collusion\",\"delusion\",\"marklevinshow\",\"judgejeanine\",\"tokyo\",\"present\",\"cup\",\"grand\",\"champion\",\"trade\",\"negotiations\",\"agriculture\",\"beef\",\"play\",\"july\",\"elections\",\"fun\",\"numerous\",\"japanese\",\"unite\",\"fail\",\"party\",\"succeed\",\"death\",\"wish\",\"golf\",\"club\",\"usambjapan\",\"mr\",\"north\",\"korea\",\"fire\",\"small\",\"weapons\",\"disturb\",\"confidence\",\"promise\",\"smile\",\"swampman\",\"worse\",\"send\",\"signal\",\"right\",\"game\",\"fan\",\"jacknicklaus\",\"tigerwoods\",\"say\",\"lady\",\"stay\",\"guests\",\"era\",\"kick\",\"historic\",\"discuss\",\"ways\",\"economic\",\"tie\",\"business\",\"gopchairwoman\",\"better\",\"deal\",\"end\",\"china\",\"ha\",\"corruption\",\"smollett\",\"chicago\",\"hate\",\"remember\",\"maga\",\"lie\",\"stuff\",\"apology\",\"millions\",\"teamtrump\",\"plan\",\"healthcare\",\"mean\",\"eliminate\",\"private\",\"like\",\"blue\",\"cross\",\"reald\",\"jessebwatters\",\"tomorrow\",\"senator\",\"lindseygrahamsc\",\"wattersworld\",\"relationship\",\"mainstream\",\"talk\",\"transparency\",\"learn\",\"fellow\",\"obama\",\"appoint\",\"rule\",\"section\",\"southern\",\"wall\",\"construction\",\"border\",\"security\",\"favor\",\"drug\",\"human\",\"traffic\",\"ask\",\"appeal\",\"arrive\",\"ambassador\",\"ready\",\"land\",\"melania\",\"look\",\"forward\",\"see\",\"believe\",\"give\",\"hard\",\"know\",\"action\",\"flag\",\"democrat\",\"act\",\"control\",\"intelligence\",\"committee\",\"bipartisan\",\"important\",\"jim_jordan\",\"rep\",\"jordan\",\"focus\",\"attack\",\"real\",\"war\",\"ago\",\"bright\",\"anymore\",\"problems\",\"face\",\"solve\",\"crisis\",\"lower\",\"cost\",\"engage\",\"troop\",\"depart\",\"shortly\",\"second\",\"shoot\",\"bob\",\"unhappy\",\"longer\",\"territory\",\"memorial\",\"weekend\",\"mitch\",\"mcconnell\",\"senators\",\"strong\",\"accomplish\",\"air\",\"force\",\"head\",\"behalf\",\"majesty\",\"narendramodi\",\"congratulate\",\"political\",\"victory\",\"man\",\"india\",\"lucky\",\"tom\",\"sacred\",\"duty\",\"tour\",\"arlington\",\"national\",\"cemetery\",\"hit\",\"list\",\"yesterday\",\"grateful\",\"inspire\",\"portrait\",\"old\",\"guard\",\"tomcottonar\",\"radical\",\"leave\",\"testify\",\"issue\",\"million\",\"dollar\",\"loud\",\"clear\",\"obstruct\",\"trouble\",\"try\",\"wrong\",\"impeachment\",\"high\",\"crimes\",\"misdemeanors\",\"agencies\",\"devinnunes\",\"happen\",\"furious\",\"find\",\"legislate\",\"twitter\",\"popular\",\"conservative\",\"voice\",\"viciously\",\"open\",\"wow\",\"cnn\",\"rat\",\"way\",\"tire\",\"stories\",\"anti\",\"chris\",\"cuomo\",\"reward\",\"lowest\",\"spot\",\"badly\",\"television\",\"heytammybruce\",\"join\",\"fox\",\"nation\",\"bruce\",\"jones\",\"tpusa\",\"speaker\",\"announcement\",\"contributor\",\"add\",\"amaze\",\"line\",\"tomfitton\",\"authorize\",\"ag\",\"barr\",\"declassify\",\"spygate\",\"docs\",\"refuse\",\"search\",\"message\",\"foia\",\"wray\",\"need\",\"step\",\"protect\",\"voters\",\"rate\",\"excellent\",\"good\",\"highest\",\"donaldjtrumpjr\",\"reminder\",\"main\",\"suffer\",\"syndrome\",\"pelosi\",\"conference\",\"ivankatrump\",\"internet\",\"association\",\"freedom\",\"award\",\"nancy\",\"kinds\",\"membership\",\"subject\",\"sentence\",\"ed\",\"greggjarrett\",\"loudobbs\",\"ensure\",\"truth\",\"events\",\"occur\",\"election\",\"restore\",\"public\",\"attorney\",\"general\",\"complete\",\"information\",\"investigation\",\"long\",\"standards\",\"handle\",\"classify\",\"request\",\"direct\",\"community\",\"quickly\",\"cooperate\",\"surveillance\",\"poll\",\"majority\",\"strongly\",\"lead\",\"approve\",\"billion\",\"disaster\",\"relief\",\"approval\",\"forget\",\"fall\",\"heroes\",\"return\",\"pm\",\"monitor\",\"safe\",\"hearts\",\"wake\",\"assist\",\"disappoint\",\"extremely\",\"calm\",\"schumer\",\"use\",\"narrative\",\"corrupt\",\"dumb\",\"rock\",\"totally\",\"ill\",\"prepare\",\"secretary\",\"story\",\"vladimir\",\"putin\",\"germany\",\"agree\",\"price\",\"pre\",\"condition\",\"committees\",\"pure\",\"fish\",\"expedition\",\"effort\",\"possible\",\"heart\",\"infrastructure\",\"conspiracy\",\"loopholes\",\"zero\",\"start\",\"letter\",\"colleagues\",\"temper\",\"tantrum\",\"true\",\"purposely\",\"minutes\",\"later\",\"rise\",\"garden\",\"easily\",\"prove\",\"law\",\"enforcement\",\"officer\",\"firefighters\",\"safety\",\"medal\",\"leadership\",\"tear\",\"apart\",\"set\",\"prayers\",\"truly\",\"meantime\",\"achieve\",\"track\",\"let\",\"chuck\",\"jerry\",\"adam\",\"rest\",\"finish\",\"sad\",\"understand\",\"waste\",\"energy\",\"cause\",\"problem\",\"mcgahn\",\"decline\",\"appear\",\"nadler\",\"street\",\"journal\",\"editorial\",\"hours\",\"claim\",\"wasn\",\"release\",\"danger\",\"decision\",\"ought\",\"michael\",\"everybody\",\"renovation\",\"ineffective\",\"standard\",\"build\",\"worthless\",\"barriers\",\"brand\",\"foot\",\"haters\",\"illegal\",\"especially\",\"senatemajldr\",\"tens\",\"thousands\",\"peace\",\"gather\",\"capital\",\"service\",\"sacrifice\",\"western\",\"months\",\"byronyork\",\"bu\",\"serve\",\"overseas\",\"proud\",\"stand\",\"please\",\"confirm\",\"circuit\",\"daniel\",\"outstanding\",\"gopoversight\",\"icymi\",\"repmarkmeadows\",\"operations\",\"chuckgrassley\",\"pres\",\"canada\",\"mexico\",\"pt\",\"lift\",\"products\",\"dcexaminer\",\"week\",\"ll\",\"efforts\",\"question\",\"earth\",\"point\",\"fund\",\"vicious\",\"censorship\",\"movement\",\"jam\",\"woods\",\"suspend\",\"bs\",\"expensive\",\"comprehensive\",\"result\",\"word\",\"base\",\"illegally\",\"mattbevin\",\"primary\",\"kentucky\",\"matt\",\"fantastic\",\"fred\",\"keller\",\"pennsylvania\",\"congressional\",\"landslide\",\"show\",\"rally\",\"family\",\"probe\",\"suspect\",\"interview\",\"angry\",\"dollars\",\"review\",\"page\",\"document\",\"knight\",\"success\",\"sector\",\"miss\",\"conclusion\",\"outcome\",\"privilege\",\"hat\",\"announce\",\"nomination\",\"arizona\",\"amendment\",\"endorsement\",\"attitude\",\"countries\",\"flow\",\"taxpayers\",\"migration\",\"response\",\"virtually\",\"immigrants\",\"immigration\",\"break\",\"representative\",\"run\",\"megan\",\"king\",\"superior\",\"beautiful\",\"tough\",\"aspects\",\"tuesday\",\"massive\",\"crowd\",\"montoursville\",\"nominee\",\"eastern\",\"iran\",\"collapse\",\"iranian\",\"knowledge\",\"negotiation\",\"cuban\",\"independence\",\"cuba\",\"quest\",\"democracy\",\"prosperity\",\"regime\",\"repression\",\"bernie\",\"sanders\",\"pull\",\"ahead\",\"crook\",\"hillary\",\"credibility\",\"schiff\",\"future\",\"boom\",\"haven\",\"decades\",\"stuart\",\"varney\",\"foxandfriends\",\"tweet\",\"redo\",\"reason\",\"plenty\",\"money\",\"bank\",\"choose\",\"happy\",\"buy\",\"cash\",\"derange\",\"biggest\",\"enemy\",\"cover\",\"wise\",\"fashion\",\"available\",\"source\",\"york\",\"bush\",\"americafirst\",\"monday\",\"farmers\",\"tariff\",\"agricultural\",\"product\",\"sure\",\"treat\",\"fairly\",\"complaints\",\"immediately\",\"secretarysonny\",\"perdue\",\"steve\",\"hilton\",\"enjoy\",\"wallace\",\"opinions\",\"mayor\",\"pete\",\"gee\",\"mike\",\"move\",\"dump\",\"bore\",\"debate\",\"official\",\"migrants\",\"northern\",\"facilities\",\"florida\",\"airplanes\",\"market\",\"world\",\"college\",\"university\",\"place\",\"finance\",\"deserve\",\"negative\",\"ashamed\",\"dishonesty\",\"deception\",\"fact\",\"loser\",\"sadly\",\"opponents\",\"oppose\",\"ideas\",\"policies\",\"read\",\"bias\",\"compose\",\"drop\",\"nd\",\"tax\",\"reg\",\"cut\",\"gdp\",\"policy\",\"deplete\",\"finally\",\"rid\",\"sunday\",\"greater\",\"employ\",\"foolish\",\"rapidly\",\"city\",\"positive\",\"late\",\"abortion\",\"mother\",\"clue\",\"detention\",\"center\",\"hospitals\",\"school\",\"pack\",\"crazy\",\"delete\",\"acid\",\"wash\",\"email\",\"conclusively\",\"politics\",\"remove\",\"date\",\"candidate\",\"abuse\",\"power\",\"note\",\"operation\",\"ticket\",\"weissmann\",\"key\",\"role\",\"hire\",\"significant\",\"target\",\"judicialwatch\",\"dan\",\"scott\",\"arm\",\"safeguard\",\"liberty\",\"generations\",\"answer\",\"acknowledge\",\"celebrate\",\"proudly\",\"uniform\",\"consumer\",\"month\",\"address\",\"ne\",\"idea\",\"common\",\"impossible\",\"hurt\",\"fraudulent\",\"inaccurate\",\"coverage\",\"thing\",\"powerful\",\"demand\",\"notice\",\"situation\",\"jail\",\"drain\",\"swamp\",\"patrol\",\"apprehend\",\"detain\",\"home\",\"ridiculous\",\"catch\",\"register\",\"realize\",\"worst\",\"major\",\"legal\",\"process\",\"fair\",\"modern\",\"pride\",\"envy\",\"carolina\",\"post\",\"infighting\",\"different\",\"express\",\"decisive\",\"final\",\"simple\",\"side\",\"beauty\",\"group\",\"nyc\",\"consider\",\"joke\",\"tv\",\"djohnsonpga\",\"view\",\"respect\",\"middle\",\"east\",\"whatsoever\",\"nearly\",\"qb\",\"wg\",\"courage\",\"beat\",\"remain\",\"forever\",\"memory\",\"erictrump\",\"average\",\"cr\",\"workers\",\"revolution\",\"safer\",\"louisiana\",\"anniversary\",\"embassy\",\"jerusalem\",\"importance\",\"keep\",\"weeks\",\"star\",\"devotion\",\"sale\",\"reduce\",\"order\",\"reserve\",\"match\",\"event\",\"pay\",\"patriot\",\"beneficiaries\",\"farm\",\"difference\",\"grind\",\"wto\",\"faster\",\"xi\",\"sense\",\"billions\",\"belong\",\"negotiate\",\"company\",\"renegotiate\",\"buyers\",\"bigger\",\"substantially\",\"increase\",\"size\",\"advantage\",\"non\",\"instead\",\"steel\",\"industry\",\"grow\",\"save\",\"defense\",\"auto\",\"industries\",\"sgt\",\"peck\",\"double\",\"walter\",\"reed\",\"hero\",\"wife\",\"recommend\",\"sergeant\",\"carter\",\"earlier\",\"spirit\",\"fine\",\"invest\",\"investment\",\"south\",\"officially\",\"budget\",\"lakes\",\"clean\",\"restoration\",\"initiative\",\"nasa\",\"greatness\",\"moon\",\"mar\",\"additional\",\"space\",\"army\",\"largest\",\"project\",\"environment\",\"afternoon\",\"presidents\",\"retaliate\",\"avoid\",\"inside\",\"vietnam\",\"asia\",\"effect\",\"recently\",\"subsidize\",\"large\",\"degree\",\"slam\",\"horrible\",\"holocaust\",\"obviously\",\"hatred\",\"jewish\",\"imagine\",\"credit\",\"crash\",\"opponent\",\"clinton\",\"asian\",\"unemployment\",\"cheat\",\"vice\",\"boston\",\"redsox\",\"opposite\",\"players\",\"guy\",\"quarter\",\"greatly\",\"oann\",\"jump\",\"openly\",\"friends\",\"back\",\"opposition\",\"tool\",\"employment\",\"strategy\",\"harass\",\"isn\",\"destroy\",\"assault\",\"uphold\",\"overthrow\",\"coup\",\"previous\",\"doj\",\"apparatus\",\"gang\",\"series\",\"clapper\",\"definition\",\"christopher\",\"dream\",\"rip\",\"constitutional\",\"mess\",\"course\",\"suppose\",\"nut\",\"hope\",\"little\",\"overtime\",\"despite\",\"craze\",\"lunatics\",\"regulations\",\"giant\",\"scam\",\"perpetrate\",\"treasonous\",\"guilty\",\"untrue\",\"sound\",\"bite\",\"strongest\",\"food\",\"starve\",\"nations\",\"deliver\",\"patients\",\"financial\",\"surprise\",\"susan\",\"rice\",\"peter\",\"strzok\",\"richlowry\",\"kimstrassel\",\"column\",\"therightmelissa\",\"realcandaceo\",\"mind\",\"reality\",\"essentially\",\"conservatives\",\"social\",\"seriously\",\"intel\",\"consequential\",\"sick\",\"concern\",\"vp\",\"roar\",\"businesses\",\"will\",\"battle\",\"distract\",\"department\",\"fearful\",\"easy\",\"produce\",\"goods\",\"felt\",\"fo\",\"mo\",\"democratic\",\"manufacture\",\"ceo\",\"explain\",\"stability\",\"unprecedented\",\"lawyer\",\"partially\",\"matter\",\"interest\",\"nedryun\",\"baker\",\"fisa\",\"sorry\",\"sen\",\"smuggle\",\"chief\",\"exactly\",\"unhinge\",\"dem\",\"bully\",\"laura\",\"solution\",\"ban\",\"goal\",\"unverified\",\"research\",\"warrant\",\"citizen\",\"fool\",\"provoke\",\"geraldorivera\",\"wouldn\",\"arifleischer\",\"countless\",\"nonsense\",\"gopleader\",\"kevin\",\"mccarthy\",\"gop\",\"subpoena\",\"jr\",\"staff\",\"testimony\",\"reporters\",\"tedcruz\",\"govmikehuckabee\",\"richard\",\"burr\",\"ukraine\",\"investigations\",\"dbongino\",\"unfair\",\"practice\",\"competition\",\"breitbartnews\",\"rank\",\"criticize\",\"al\",\"threat\",\"steele\",\"contact\",\"realsaavedra\",\"sean\",\"hannity\",\"senatorburr\",\"behavior\",\"rudygiuliani\",\"hughhewitt\",\"thehill\",\"excuse\",\"st\",\"frighten\",\"nolte\",\"inauguration\",\"outlet\",\"admin\",\"secure\",\"donation\",\"accept\",\"short\",\"wag\",\"mount\",\"dossier\",\"verification\",\"vs\",\"father\",\"alien\",\"dnc\",\"deep\",\"ohr\",\"fusion\",\"gps\",\"grant\",\"absolutely\",\"barack\",\"conclude\",\"vast\",\"coverup\",\"senthomtillis\",\"share\",\"account\",\"design\",\"female\",\"donors\",\"wealth\",\"phenomenal\",\"traditional\",\"kind\",\"spouses\",\"ones\",\"appreciation\",\"past\",\"days\",\"constructive\",\"conversations\",\"status\",\"sign\",\"commitments\",\"intellectual\",\"property\",\"mariabartiromo\",\"fade\",\"fast\",\"aprvcjpqop\",\"inflation\",\"favorite\",\"slow\",\"automatically\",\"speed\",\"balance\",\"soar\",\"murder\",\"easier\",\"quicker\",\"waivers\",\"congenial\",\"manner\",\"rush\",\"worth\",\"payments\",\"directly\",\"treasury\",\"larger\",\"amount\",\"poor\",\"form\",\"humanitarian\",\"assistance\",\"sell\",\"approximately\",\"imbalance\",\"pence\",\"disgrace\",\"regain\",\"families\",\"medical\",\"bill\",\"insurance\",\"host\",\"awesome\",\"hi\",\"prevent\",\"reach\",\"protection\",\"johnson\",\"minnesota\",\"earliest\",\"hiv\",\"expand\",\"risk\",\"panama\",\"beach\",\"senrickscott\",\"marcorubio\",\"terrible\",\"maduro\",\"venezuela\",\"tuckercarlson\",\"ads\",\"slowly\",\"economist\",\"hurricane\",\"newtgingrich\",\"grieve\",\"violence\",\"young\",\"injure\",\"colorado\",\"responders\",\"bravely\",\"elizabeth\",\"pocahontas\",\"warren\",\"native\",\"equally\",\"separate\",\"locations\",\"nicely\",\"gm\",\"mary\",\"rob\",\"portman\",\"car\",\"barra\",\"motor\",\"uaw\",\"agreement\",\"lordstown\",\"plant\",\"electric\",\"estate\",\"developers\",\"entitle\",\"off\",\"losses\",\"purpose\",\"toiatsmu\",\"involvement\",\"reveal\",\"jim\",\"guess\",\"fill\",\"attempt\",\"weak\",\"prescription\",\"deny\",\"additionally\",\"breitbart\",\"lo\",\"tiger\",\"puerto\",\"rico\",\"iowa\",\"nebraska\",\"georgia\",\"fireworks\",\"dakota\",\"govkristinoem\",\"steal\",\"half\",\"contributions\",\"wonder\",\"obsess\",\"red\",\"economically\",\"thrive\",\"highlight\",\"bebest\",\"armywp_football\",\"conversation\",\"block\",\"example\",\"texas\",\"correct\",\"grab\",\"dirty\",\"table\",\"green\",\"terrorist\",\"rocket\",\"islamic\",\"citizens\",\"morgan\",\"ice\",\"april\",\"expectations\",\"nyt\",\"ca\",\"ingrahamangle\",\"gut\",\"sundayfutures\",\"stun\",\"door\",\"outside\",\"impact\",\"bear\",\"tech\",\"friday\",\"derby\",\"rough\",\"tumble\",\"wet\",\"sloppy\",\"correctness\",\"overturn\",\"horse\",\"believer\",\"ericbolling\",\"hispanic\",\"clip\",\"faith\",\"mt\",\"baptist\",\"church\",\"union\",\"judicial\",\"newly\",\"uncover\",\"materials\",\"jw\",\"senior\",\"oath\",\"agency\",\"lawsuits\",\"file\",\"petition\",\"gateways\",\"cartels\",\"violent\",\"incorrect\",\"napolitano\",\"mike_pence\",\"utah\",\"dailycaller\",\"labor\",\"percent\",\"international\",\"charliekirk\",\"treatment\",\"kill\",\"interfere\",\"pyoiljm\",\"pz\",\"wing\",\"knowingly\",\"nytimes\",\"washingtonpost\",\"msnbc\",\"facebook\",\"prisonplanet\",\"partisan\",\"corporations\",\"decide\",\"free\",\"speech\",\"ralph\",\"racist\",\"suggest\",\"sharylattkisson\",\"ok\",\"govt\",\"censor\",\"info\",\"pressure\",\"trillion\",\"russians\",\"george\",\"iagovernor\",\"manage\",\"destructive\",\"paul\",\"closely\",\"republic\",\"nuclear\",\"productive\",\"uc\",\"fell\",\"level\",\"surge\",\"pulitzer\",\"prize\",\"detail\",\"watergate\",\"foxbusiness\",\"costly\",\"proclamation\",\"victims\",\"aluminum\",\"pittsburgh\",\"prayer\",\"pray\",\"strengthen\",\"resolve\",\"communities\",\"growth\",\"withdraw\",\"feed\",\"ukrainian\",\"scandal\",\"joebiden\",\"push\",\"expect\",\"ny\",\"generation\",\"kerry\",\"mccabe\",\"lawsuit\",\"communications\",\"russiagate\",\"plus\",\"audience\",\"shock\",\"accomplishments\",\"yes\",\"firefighter\",\"member\",\"iaff\",\"september\",\"november\",\"miles\",\"march\",\"endure\",\"personal\",\"gallup\",\"override\",\"magnificent\",\"harry\",\"fraction\",\"im\",\"supporter\",\"retire\",\"volunteer\",\"piss\",\"dues\",\"gr\",\"assure\",\"eye\",\"members\",\"liberal\",\"endorse\",\"husband\",\"unions\",\"represent\",\"firemen\",\"police\",\"couple\",\"fireman\",\"board\",\"smoke\",\"fighters\",\"boss\",\"failure\",\"creepy\",\"brother\",\"town\",\"booth\",\"bet\",\"certainly\",\"alert\",\"bureaucrats\",\"smaller\",\"stock\",\"entire\",\"career\",\"disgust\",\"ro\",\"suck\",\"nascar\",\"joeylogano\",\"sanction\",\"island\",\"soldier\",\"cease\",\"constitution\",\"quantitative\",\"debt\",\"institute\",\"tighten\",\"european\",\"benefit\",\"prisoners\",\"specific\",\"isis\",\"hostage\",\"caliphate\",\"syria\",\"decisions\",\"coyotes\",\"nearby\",\"jobless\",\"maybe\",\"aspect\",\"experience\",\"semitic\",\"print\",\"daily\",\"basis\",\"journalism\",\"dead\",\"funny\",\"ridiculously\",\"expense\",\"fortune\",\"flee\",\"nra\",\"difficult\",\"organization\",\"poway\",\"warmest\",\"condolences\",\"california\",\"blow\",\"pathetic\",\"anger\",\"refer\",\"magic\",\"andrew\",\"hostile\",\"pardon\",\"shepard\",\"smith\",\"brilliant\",\"alan\",\"dershowitz\",\"bay\",\"wisconsin\",\"agent\",\"synagogue\",\"talents\",\"weren\",\"round\",\"river\",\"await\",\"opioid\",\"participate\",\"takebackday\",\"collection\",\"near\",\"nick\",\"player\",\"talent\",\"san\",\"francisco\",\"importantly\",\"smash\",\"witness\",\"swear\",\"defend\",\"surrender\",\"sovereignty\",\"saudi\",\"arabia\",\"oil\",\"indiana\",\"annual\",\"vital\",\"weirdo\",\"steyer\",\"put\",\"beg\",\"mention\",\"negotiator\",\"hostages\",\"otto\",\"warmbier\",\"travel\",\"atlanta\",\"heroin\",\"summit\",\"repmattgaetz\",\"son\",\"prison\",\"january\",\"ronnebeck\",\"score\",\"net\",\"loss\",\"successes\",\"repandybiggsaz\",\"volume\",\"rely\",\"flat\",\"expose\",\"figure\",\"cabal\",\"andy\",\"doubt\",\"wage\",\"respectfully\",\"hater\",\"incorrectly\",\"tennessee\",\"children\",\"regardless\",\"background\",\"rxsummit\",\"cortez\",\"va\",\"veterans\",\"accountability\",\"caldwell\",\"criminals\",\"rig\",\"comprehend\",\"cop\",\"lay\",\"diversionary\",\"smugglers\",\"caravan\",\"remainder\",\"census\",\"citizenship\",\"cia\",\"accuse\",\"kingdom\",\"jack\",\"dialogue\",\"saturday\",\"resch\",\"cdt\",\"bpyk\",\"pf\",\"els\",\"autism\",\"education\",\"global\",\"recreation\",\"smart\",\"higher\",\"struggle\",\"eu\",\"currently\",\"production\",\"stupid\",\"agenda\",\"tune\",\"forgiveness\",\"qbnsma\",\"kff\",\"hfgkp\",\"senkevincramer\",\"opportunity\",\"zone\",\"income\",\"poverty\",\"encourage\",\"saw\",\"easter\",\"egg\",\"wo\",\"sri\",\"lanka\",\"simply\",\"constant\",\"fabricate\",\"victor\",\"davis\",\"hanson\",\"partial\",\"garbage\",\"nsa\",\"vindicate\",\"smear\",\"fb\",\"terrorism\",\"herman\",\"nominate\",\"opec\",\"violation\",\"stevehiltonx\",\"uk\",\"disgraceful\",\"op\",\"owe\",\"hotels\",\"offer\",\"heartfelt\",\"happier\",\"content\",\"prior\",\"repdougcollins\",\"follow\",\"honest\",\"exclusive\",\"et\",\"package\",\"asylum\",\"check\",\"danscavino\",\"wgdp\",\"pretty\",\"weekly\",\"pols\",\"principle\",\"teamcavuto\",\"opinion\",\"dishonest\",\"outlets\",\"fat\",\"exact\",\"certain\",\"strassel\",\"correctly\",\"soooo\",\"single\",\"prosecutors\",\"couldn\",\"wil\",\"underlie\",\"regard\",\"fraud\",\"executive\",\"thrill\",\"ride\",\"william\",\"discussions\",\"memo\",\"launch\",\"france\",\"francis\",\"notre\",\"dame\",\"cathedral\",\"experts\",\"vacation\",\"discredit\",\"author\",\"voter\",\"complain\",\"supporters\",\"critical\",\"weird\",\"surprisingly\",\"bretbaier\",\"strange\",\"dirt\",\"someday\",\"pace\",\"hasn\",\"economies\",\"paris\",\"fly\",\"themasters\",\"comeback\",\"legally\",\"homeland\",\"sanctuary\",\"cities\",\"satisfy\",\"resist\",\"omar\",\"investigators\",\"boeing\",\"feature\",\"plane\",\"hell\",\"wsj\",\"chinese\",\"lobbyist\",\"acceptable\",\"machine\",\"ally\",\"chaos\",\"absolute\",\"legislation\",\"hole\",\"properly\",\"transfer\",\"management\",\"obamacare\",\"socialism\",\"dealers\",\"traffickers\",\"shape\",\"illegals\",\"gold\",\"luck\",\"vxrgfrfejm\",\"extraordinary\",\"accurate\",\"aid\",\"nbcnews\",\"personnel\",\"woman\",\"walk\",\"nofzya\",\"qs\",\"sudden\",\"trish_regan\",\"clewandowski_\",\"unwilling\",\"outrageous\",\"indict\",\"hall\",\"rod\",\"rosenstein\",\"disarray\",\"pretend\",\"shame\",\"afford\",\"likewise\",\"breathe\",\"dhsgov\",\"cbp\",\"commissioner\",\"mcaleenan\",\"dhs\",\"netanyahu\",\"sx\",\"seven\",\"arab\",\"egypt\",\"congresswoman\",\"jews\",\"jeff\",\"ballabon\",\"strategic\",\"unacceptable\",\"varneyco\",\"recognition\",\"capture\",\"development\",\"west\",\"yard\",\"construct\",\"calexico\",\"replace\",\"barrier\",\"virginia\",\"ncaa\",\"uganda\",\"tourist\",\"guide\",\"feel\",\"folks\",\"abolish\",\"hemisphere\",\"immoral\",\"raise\",\"katiepavlich\",\"current\",\"leak\",\"port\",\"entry\",\"scale\",\"commercial\",\"delay\",\"rjc\",\"commitment\",\"straight\",\"nevada\",\"location\",\"dinner\",\"conclusions\",\"recommendations\",\"voiv\",\"marc_lotter\",\"brave\",\"nk\",\"dictatorship\",\"david\",\"worker\",\"roundtable\",\"usmca\",\"penalty\",\"die\",\"sooo\",\"cars\",\"wsjopinion\",\"freeman\",\"jovita\",\"paper\",\"accord\",\"alive\",\"unnecessary\",\"optimism\",\"usual\",\"talented\",\"develop\",\"display\",\"alternative\",\"nato\",\"reaffirm\",\"equal\",\"opportunities\",\"overrun\",\"guatemala\",\"honduras\",\"el\",\"salvador\",\"theme\",\"starr\",\"politicians\",\"incompetent\",\"juan\",\"health\",\"provide\",\"schedule\",\"premiums\",\"deductibles\",\"beloved\",\"unusable\",\"meaningless\",\"combination\",\"data\",\"achievement\",\"areas\",\"hour\",\"statedept\",\"enter\",\"overflow\",\"rapids\",\"michigan\",\"fragile\",\"tank\",\"embarrassment\",\"legit\",\"pour\",\"fairness\",\"google\",\"trick\",\"reputation\",\"catastrophe\",\"recognize\",\"golan\",\"heights\",\"yaayr\",\"hxe\",\"hill\",\"billhemmer\",\"pursue\",\"scorn\",\"stanley\",\"cap\",\"picture\",\"yl\",\"room\",\"wx\",\"exoneration\",\"individuals\",\"saint\",\"losers\",\"barely\",\"cave\",\"fastest\",\"trust\",\"achievements\",\"students\",\"value\",\"moments\",\"solomon\",\"plot\",\"hardworking\",\"conway\",\"jealous\",\"desperately\",\"stone\",\"cold\",\"electoral\",\"ballot\",\"box\",\"ym\",\"midwest\",\"train\",\"latest\",\"ft\",\"exceed\",\"blame\",\"zealand\",\"counter\",\"jackposobiec\",\"teen\",\"ms\",\"lindasuhler\",\"arthelneville\",\"lelandvittert\",\"patrick\",\"parscale\",\"urban\",\"lrihendry\",\"chuckcallesto\",\"ilhan\",\"jeanine\",\"npr\",\"effective\",\"meghan\",\"anchor\",\"droves\",\"pirro\",\"silence\",\"class\",\"annapolis\",\"commission\",\"appoin\",\"toyota\",\"spread\",\"unfortunately\",\"stain\",\"ken\",\"independent\",\"repeal\",\"sheriff\",\"sheriffs\",\"veto\",\"representatives\",\"la\",\"weather\",\"horrific\",\"transcript\",\"jexodus\",\"network\",\"resolution\",\"nafta\",\"wacky\",\"nightmare\",\"throw\",\"lisa\",\"unanimous\",\"transcripts\",\"appreciate\",\"eric\",\"schneiderman\",\"hccnfzxfn\",\"illegitimate\",\"dear\",\"godthank\",\"godblessamerica\",\"presidenttrump\",\"electionday\",\"adamschiff\",\"cohen\",\"trail\",\"camp\",\"disclose\",\"glenn\",\"simpson\",\"oppo\",\"participation\",\"workforce\",\"whitehousecea\",\"hourly\",\"earn\",\"dingell\",\"pilot\",\"founder\",\"climate\",\"carbon\",\"semitism\",\"precedent\",\"sarah\",\"proposal\",\"introduce\",\"tim\",\"apple\",\"integrity\",\"terror\",\"tunnel\",\"paulsperry_\",\"physical\",\"diego\",\"paso\",\"lawyers\",\"likely\",\"perjury\",\"shred\",\"coach\",\"regulation\",\"condemn\",\"reps\",\"renovate\",\"invasion\",\"cbs\",\"recommit\",\"wilson\",\"ron\",\"desantis\",\"cvpayne\",\"overall\",\"xm\",\"sessions\",\"declare\",\"msm\",\"pledge\",\"heather\",\"fraudster\",\"contradict\",\"contract\",\"violations\",\"arrest\",\"stewart\",\"hundreds\",\"mistake\",\"analysis\",\"overreach\",\"proof\",\"generic\",\"terrific\",\"comment\",\"relations\",\"widest\",\"amazon\",\"drill\",\"reimburse\",\"careful\",\"bold\",\"chatbycc\",\"dept\",\"convict\",\"liar\",\"tensions\",\"manuscript\",\"path\",\"dow\",\"nasdaq\",\"composite\",\"priority\",\"cpac\",\"oh\",\"bye\",\"spin\",\"submit\",\"hanoi\",\"february\",\"clients\",\"intentions\",\"powerhouse\",\"helpful\",\"fiat\",\"chrysler\",\"da\",\"nang\",\"dick\",\"blumenthal\",\"connecticut\",\"minimum\",\"newborn\",\"infant\",\"baby\",\"birth\",\"advance\",\"hike\",\"recover\",\"danny\",\"intensive\",\"dustin\",\"cryin\",\"breakfast\",\"relax\",\"lago\",\"technology\",\"texts\",\"lover\",\"forum\",\"continuation\",\"lincoln\",\"propose\",\"latino\",\"seize\",\"graham\",\"facts\",\"factor\",\"kelly\",\"study\",\"inspector\",\"ignore\",\"covington\",\"bust\",\"nf\",\"checker\",\"predict\",\"completion\",\"occasion\",\"leakin\",\"real_defender\",\"venezuelan\",\"latin\",\"kid\",\"hospital\",\"discover\",\"brass\",\"angel\",\"nbc\",\"ambassadors\",\"europe\",\"capable\",\"njorbjwint\",\"negotiators\",\"cancel\",\"improve\",\"dr\",\"degrees\",\"color\",\"draw\",\"\\u0633\\u0627\\u0644\",\"\\u0627\\u06cc\\u0631\\u0627\\u0646\",\"self\",\"inherit\",\"tnuhnw\",\"kll\",\"sotu\",\"amy\",\"warm\",\"snow\",\"temperatures\",\"behave\",\"irrationally\",\"hardly\",\"endless\",\"shutdown\",\"anybody\",\"permanently\",\"gas\",\"podesta\",\"nellie\",\"forrest\",\"encounter\",\"aspen\",\"wound\",\"afghanistan\",\"baseball\",\"sotuhttps\",\"kl\",\"soclx\",\"lunar\",\"interior\",\"bowl\",\"northam\",\"shocker\",\"tower\",\"fentanyl\",\"passive\",\"protest\",\"interim\",\"guaido\",\"test\",\"rampant\",\"fiction\",\"deroy\",\"murdock\",\"bible\",\"johnrobertsfox\",\"hispanics\",\"portray\",\"buzzfeed\",\"rnc\",\"unanimously\",\"venue\",\"compete\",\"tradition\",\"unity\",\"export\",\"kremlin\",\"mariano\",\"fame\",\"davos\",\"marist\",\"pbs\",\"attention\",\"unfairly\",\"unchecked\",\"martin\",\"luther\",\"mlkday\",\"wand\",\"budgetgop\",\"compromise\",\"provision\",\"senrobportman\",\"reasonable\",\"reopen\",\"jiminhofe\",\"glad\",\"daca\",\"exchange\",\"part\",\"options\",\"amnesty\",\"mouth\",\"rancher\",\"examiner\",\"factories\",\"clemson\",\"tigers\",\"eaters\",\"mom\",\"chattanooga\",\"lyin\",\"turkey\",\"mile\",\"convention\",\"stage\",\"orleans\",\"eventually\",\"proper\",\"bighorn\",\"knee\",\"kitchen\",\"dress\",\"indian\",\"garb\",\"kurds\",\"overdue\",\"sexual\",\"tougher\",\"station\",\"fakenews\",\"football\",\"pound\",\"narcotics\",\"forest\",\"unlikely\",\"december\",\"disruption\",\"abramson\",\"settle\",\"comparison\",\"mitt\"],\"label\":[\"robert\",\"mueller\",\"come\",\"oval\",\"office\",\"potential\",\"seek\",\"name\",\"director\",\"fbi\",\"position\",\"years\",\"tell\",\"day\",\"special\",\"counsel\",\"total\",\"conflict\",\"nice\",\"comey\",\"brennan\",\"turn\",\"kilmeade\",\"congressman\",\"john\",\"ratcliffe\",\"trump\",\"campaign\",\"clearly\",\"conspire\",\"collude\",\"foxnews\",\"fight\",\"phony\",\"crime\",\"exist\",\"horrendous\",\"false\",\"shouldn\",\"sit\",\"obstruction\",\"presidential\",\"harassment\",\"russia\",\"hear\",\"begin\",\"witch\",\"hunt\",\"hoax\",\"disappear\",\"help\",\"elect\",\"dems\",\"partner\",\"fake\",\"news\",\"media\",\"greatest\",\"history\",\"spend\",\"dark\",\"unlimited\",\"access\",\"people\",\"resources\",\"cooperation\",\"highly\",\"bring\",\"charge\",\"inform\",\"have\",\"navy\",\"ship\",\"uss\",\"mccain\",\"recent\",\"visit\",\"japan\",\"flotus\",\"love\",\"great\",\"military\",\"men\",\"women\",\"spectacular\",\"job\",\"tonight\",\"seanhannity\",\"number\",\"far\",\"mark\",\"levin\",\"congrats\",\"book\",\"impeach\",\"republican\",\"president\",\"commit\",\"democrats\",\"rt\",\"presssec\",\"white\",\"house\",\"statement\",\"today\",\"https\",\"kayleighmcenany\",\"time\",\"origins\",\"spy\",\"change\",\"report\",\"evidence\",\"country\",\"person\",\"innocent\",\"case\",\"close\",\"thank\",\"alabama\",\"senate\",\"incredible\",\"gain\",\"presidency\",\"lose\",\"include\",\"pro\",\"life\",\"victories\",\"roy\",\"moore\",\"win\",\"consequences\",\"devastate\",\"judge\",\"supreme\",\"court\",\"justices\",\"republicans\",\"allow\",\"seat\",\"state\",\"leaders\",\"want\",\"probably\",\"realdonaldtrump\",\"god\",\"bless\",\"usa\",\"hrt\",\"wnwz\",\"successful\",\"trip\",\"big\",\"progress\",\"front\",\"wonderful\",\"leader\",\"prime\",\"minister\",\"abe\",\"actually\",\"stick\",\"sleepy\",\"joe\",\"biden\",\"foreign\",\"kim\",\"jong\",\"call\",\"low\",\"iq\",\"things\",\"relate\",\"quote\",\"chairman\",\"individual\",\"possibly\",\"upset\",\"speak\",\"governor\",\"arkansas\",\"fema\",\"federal\",\"government\",\"necessary\",\"record\",\"flood\",\"local\",\"officials\",\"update\",\"devastation\",\"tornadoes\",\"ohio\",\"early\",\"morning\",\"administration\",\"fully\",\"support\",\"cleanup\",\"recovery\",\"storm\",\"dangerous\",\"damage\",\"team\",\"continue\",\"emergency\",\"affect\",\"listen\",\"resilient\",\"oklahoma\",\"night\",\"live\",\"remark\",\"potus\",\"donald\",\"wait\",\"soon\",\"mzhemingway\",\"excite\",\"ve\",\"write\",\"kavanaugh\",\"confirmation\",\"make\",\"stop\",\"quick\",\"alaska\",\"meet\",\"go\",\"get\",\"new\",\"emperor\",\"empress\",\"honor\",\"associate\",\"chance\",\"particular\",\"african\",\"americans\",\"able\",\"vote\",\"hand\",\"responsible\",\"criminal\",\"justice\",\"reform\",\"tremendous\",\"amp\",\"fix\",\"bad\",\"super\",\"term\",\"heavily\",\"involve\",\"pass\",\"period\",\"american\",\"apologize\",\"hop\",\"work\",\"israel\",\"coalition\",\"formation\",\"bibi\",\"alliance\",\"america\",\"stronger\",\"lot\",\"liz\",\"statements\",\"agents\",\"investigate\",\"treason\",\"hu\",\"wh\",\"congress\",\"create\",\"economy\",\"rebuild\",\"take\",\"care\",\"vet\",\"choice\",\"best\",\"admit\",\"completely\",\"age\",\"think\",\"away\",\"laws\",\"hold\",\"accountable\",\"whitehouse\",\"abeshinzo\",\"palace\",\"usembassytokyo\",\"receive\",\"even\",\"welcome\",\"ceremony\",\"potusinjapan\",\"congratulations\",\"friend\",\"roger\",\"th\",\"unbelievable\",\"indianapolis\",\"watch\",\"race\",\"sport\",\"patriots\",\"roll\",\"thunder\",\"washington\",\"year\",\"hopefully\",\"press\",\"russian\",\"collusion\",\"delusion\",\"marklevinshow\",\"judgejeanine\",\"tokyo\",\"present\",\"cup\",\"grand\",\"champion\",\"trade\",\"negotiations\",\"agriculture\",\"beef\",\"play\",\"july\",\"elections\",\"fun\",\"numerous\",\"japanese\",\"unite\",\"fail\",\"party\",\"succeed\",\"death\",\"wish\",\"golf\",\"club\",\"usambjapan\",\"mr\",\"north\",\"korea\",\"fire\",\"small\",\"weapons\",\"disturb\",\"confidence\",\"promise\",\"smile\",\"swampman\",\"worse\",\"send\",\"signal\",\"right\",\"game\",\"fan\",\"jacknicklaus\",\"tigerwoods\",\"say\",\"lady\",\"stay\",\"guests\",\"era\",\"kick\",\"historic\",\"discuss\",\"ways\",\"economic\",\"tie\",\"business\",\"gopchairwoman\",\"better\",\"deal\",\"end\",\"china\",\"ha\",\"corruption\",\"smollett\",\"chicago\",\"hate\",\"remember\",\"maga\",\"lie\",\"stuff\",\"apology\",\"millions\",\"teamtrump\",\"plan\",\"healthcare\",\"mean\",\"eliminate\",\"private\",\"like\",\"blue\",\"cross\",\"reald\",\"jessebwatters\",\"tomorrow\",\"senator\",\"lindseygrahamsc\",\"wattersworld\",\"relationship\",\"mainstream\",\"talk\",\"transparency\",\"learn\",\"fellow\",\"obama\",\"appoint\",\"rule\",\"section\",\"southern\",\"wall\",\"construction\",\"border\",\"security\",\"favor\",\"drug\",\"human\",\"traffic\",\"ask\",\"appeal\",\"arrive\",\"ambassador\",\"ready\",\"land\",\"melania\",\"look\",\"forward\",\"see\",\"believe\",\"give\",\"hard\",\"know\",\"action\",\"flag\",\"democrat\",\"act\",\"control\",\"intelligence\",\"committee\",\"bipartisan\",\"important\",\"jim_jordan\",\"rep\",\"jordan\",\"focus\",\"attack\",\"real\",\"war\",\"ago\",\"bright\",\"anymore\",\"problems\",\"face\",\"solve\",\"crisis\",\"lower\",\"cost\",\"engage\",\"troop\",\"depart\",\"shortly\",\"second\",\"shoot\",\"bob\",\"unhappy\",\"longer\",\"territory\",\"memorial\",\"weekend\",\"mitch\",\"mcconnell\",\"senators\",\"strong\",\"accomplish\",\"air\",\"force\",\"head\",\"behalf\",\"majesty\",\"narendramodi\",\"congratulate\",\"political\",\"victory\",\"man\",\"india\",\"lucky\",\"tom\",\"sacred\",\"duty\",\"tour\",\"arlington\",\"national\",\"cemetery\",\"hit\",\"list\",\"yesterday\",\"grateful\",\"inspire\",\"portrait\",\"old\",\"guard\",\"tomcottonar\",\"radical\",\"leave\",\"testify\",\"issue\",\"million\",\"dollar\",\"loud\",\"clear\",\"obstruct\",\"trouble\",\"try\",\"wrong\",\"impeachment\",\"high\",\"crimes\",\"misdemeanors\",\"agencies\",\"devinnunes\",\"happen\",\"furious\",\"find\",\"legislate\",\"twitter\",\"popular\",\"conservative\",\"voice\",\"viciously\",\"open\",\"wow\",\"cnn\",\"rat\",\"way\",\"tire\",\"stories\",\"anti\",\"chris\",\"cuomo\",\"reward\",\"lowest\",\"spot\",\"badly\",\"television\",\"heytammybruce\",\"join\",\"fox\",\"nation\",\"bruce\",\"jones\",\"tpusa\",\"speaker\",\"announcement\",\"contributor\",\"add\",\"amaze\",\"line\",\"tomfitton\",\"authorize\",\"ag\",\"barr\",\"declassify\",\"spygate\",\"docs\",\"refuse\",\"search\",\"message\",\"foia\",\"wray\",\"need\",\"step\",\"protect\",\"voters\",\"rate\",\"excellent\",\"good\",\"highest\",\"donaldjtrumpjr\",\"reminder\",\"main\",\"suffer\",\"syndrome\",\"pelosi\",\"conference\",\"ivankatrump\",\"internet\",\"association\",\"freedom\",\"award\",\"nancy\",\"kinds\",\"membership\",\"subject\",\"sentence\",\"ed\",\"greggjarrett\",\"loudobbs\",\"ensure\",\"truth\",\"events\",\"occur\",\"election\",\"restore\",\"public\",\"attorney\",\"general\",\"complete\",\"information\",\"investigation\",\"long\",\"standards\",\"handle\",\"classify\",\"request\",\"direct\",\"community\",\"quickly\",\"cooperate\",\"surveillance\",\"poll\",\"majority\",\"strongly\",\"lead\",\"approve\",\"billion\",\"disaster\",\"relief\",\"approval\",\"forget\",\"fall\",\"heroes\",\"return\",\"pm\",\"monitor\",\"safe\",\"hearts\",\"wake\",\"assist\",\"disappoint\",\"extremely\",\"calm\",\"schumer\",\"use\",\"narrative\",\"corrupt\",\"dumb\",\"rock\",\"totally\",\"ill\",\"prepare\",\"secretary\",\"story\",\"vladimir\",\"putin\",\"germany\",\"agree\",\"price\",\"pre\",\"condition\",\"committees\",\"pure\",\"fish\",\"expedition\",\"effort\",\"possible\",\"heart\",\"infrastructure\",\"conspiracy\",\"loopholes\",\"zero\",\"start\",\"letter\",\"colleagues\",\"temper\",\"tantrum\",\"true\",\"purposely\",\"minutes\",\"later\",\"rise\",\"garden\",\"easily\",\"prove\",\"law\",\"enforcement\",\"officer\",\"firefighters\",\"safety\",\"medal\",\"leadership\",\"tear\",\"apart\",\"set\",\"prayers\",\"truly\",\"meantime\",\"achieve\",\"track\",\"let\",\"chuck\",\"jerry\",\"adam\",\"rest\",\"finish\",\"sad\",\"understand\",\"waste\",\"energy\",\"cause\",\"problem\",\"mcgahn\",\"decline\",\"appear\",\"nadler\",\"street\",\"journal\",\"editorial\",\"hours\",\"claim\",\"wasn\",\"release\",\"danger\",\"decision\",\"ought\",\"michael\",\"everybody\",\"renovation\",\"ineffective\",\"standard\",\"build\",\"worthless\",\"barriers\",\"brand\",\"foot\",\"haters\",\"illegal\",\"especially\",\"senatemajldr\",\"tens\",\"thousands\",\"peace\",\"gather\",\"capital\",\"service\",\"sacrifice\",\"western\",\"months\",\"byronyork\",\"bu\",\"serve\",\"overseas\",\"proud\",\"stand\",\"please\",\"confirm\",\"circuit\",\"daniel\",\"outstanding\",\"gopoversight\",\"icymi\",\"repmarkmeadows\",\"operations\",\"chuckgrassley\",\"pres\",\"canada\",\"mexico\",\"pt\",\"lift\",\"products\",\"dcexaminer\",\"week\",\"ll\",\"efforts\",\"question\",\"earth\",\"point\",\"fund\",\"vicious\",\"censorship\",\"movement\",\"jam\",\"woods\",\"suspend\",\"bs\",\"expensive\",\"comprehensive\",\"result\",\"word\",\"base\",\"illegally\",\"mattbevin\",\"primary\",\"kentucky\",\"matt\",\"fantastic\",\"fred\",\"keller\",\"pennsylvania\",\"congressional\",\"landslide\",\"show\",\"rally\",\"family\",\"probe\",\"suspect\",\"interview\",\"angry\",\"dollars\",\"review\",\"page\",\"document\",\"knight\",\"success\",\"sector\",\"miss\",\"conclusion\",\"outcome\",\"privilege\",\"hat\",\"announce\",\"nomination\",\"arizona\",\"amendment\",\"endorsement\",\"attitude\",\"countries\",\"flow\",\"taxpayers\",\"migration\",\"response\",\"virtually\",\"immigrants\",\"immigration\",\"break\",\"representative\",\"run\",\"megan\",\"king\",\"superior\",\"beautiful\",\"tough\",\"aspects\",\"tuesday\",\"massive\",\"crowd\",\"montoursville\",\"nominee\",\"eastern\",\"iran\",\"collapse\",\"iranian\",\"knowledge\",\"negotiation\",\"cuban\",\"independence\",\"cuba\",\"quest\",\"democracy\",\"prosperity\",\"regime\",\"repression\",\"bernie\",\"sanders\",\"pull\",\"ahead\",\"crook\",\"hillary\",\"credibility\",\"schiff\",\"future\",\"boom\",\"haven\",\"decades\",\"stuart\",\"varney\",\"foxandfriends\",\"tweet\",\"redo\",\"reason\",\"plenty\",\"money\",\"bank\",\"choose\",\"happy\",\"buy\",\"cash\",\"derange\",\"biggest\",\"enemy\",\"cover\",\"wise\",\"fashion\",\"available\",\"source\",\"york\",\"bush\",\"americafirst\",\"monday\",\"farmers\",\"tariff\",\"agricultural\",\"product\",\"sure\",\"treat\",\"fairly\",\"complaints\",\"immediately\",\"secretarysonny\",\"perdue\",\"steve\",\"hilton\",\"enjoy\",\"wallace\",\"opinions\",\"mayor\",\"pete\",\"gee\",\"mike\",\"move\",\"dump\",\"bore\",\"debate\",\"official\",\"migrants\",\"northern\",\"facilities\",\"florida\",\"airplanes\",\"market\",\"world\",\"college\",\"university\",\"place\",\"finance\",\"deserve\",\"negative\",\"ashamed\",\"dishonesty\",\"deception\",\"fact\",\"loser\",\"sadly\",\"opponents\",\"oppose\",\"ideas\",\"policies\",\"read\",\"bias\",\"compose\",\"drop\",\"nd\",\"tax\",\"reg\",\"cut\",\"gdp\",\"policy\",\"deplete\",\"finally\",\"rid\",\"sunday\",\"greater\",\"employ\",\"foolish\",\"rapidly\",\"city\",\"positive\",\"late\",\"abortion\",\"mother\",\"clue\",\"detention\",\"center\",\"hospitals\",\"school\",\"pack\",\"crazy\",\"delete\",\"acid\",\"wash\",\"email\",\"conclusively\",\"politics\",\"remove\",\"date\",\"candidate\",\"abuse\",\"power\",\"note\",\"operation\",\"ticket\",\"weissmann\",\"key\",\"role\",\"hire\",\"significant\",\"target\",\"judicialwatch\",\"dan\",\"scott\",\"arm\",\"safeguard\",\"liberty\",\"generations\",\"answer\",\"acknowledge\",\"celebrate\",\"proudly\",\"uniform\",\"consumer\",\"month\",\"address\",\"ne\",\"idea\",\"common\",\"impossible\",\"hurt\",\"fraudulent\",\"inaccurate\",\"coverage\",\"thing\",\"powerful\",\"demand\",\"notice\",\"situation\",\"jail\",\"drain\",\"swamp\",\"patrol\",\"apprehend\",\"detain\",\"home\",\"ridiculous\",\"catch\",\"register\",\"realize\",\"worst\",\"major\",\"legal\",\"process\",\"fair\",\"modern\",\"pride\",\"envy\",\"carolina\",\"post\",\"infighting\",\"different\",\"express\",\"decisive\",\"final\",\"simple\",\"side\",\"beauty\",\"group\",\"nyc\",\"consider\",\"joke\",\"tv\",\"djohnsonpga\",\"view\",\"respect\",\"middle\",\"east\",\"whatsoever\",\"nearly\",\"qb\",\"wg\",\"courage\",\"beat\",\"remain\",\"forever\",\"memory\",\"erictrump\",\"average\",\"cr\",\"workers\",\"revolution\",\"safer\",\"louisiana\",\"anniversary\",\"embassy\",\"jerusalem\",\"importance\",\"keep\",\"weeks\",\"star\",\"devotion\",\"sale\",\"reduce\",\"order\",\"reserve\",\"match\",\"event\",\"pay\",\"patriot\",\"beneficiaries\",\"farm\",\"difference\",\"grind\",\"wto\",\"faster\",\"xi\",\"sense\",\"billions\",\"belong\",\"negotiate\",\"company\",\"renegotiate\",\"buyers\",\"bigger\",\"substantially\",\"increase\",\"size\",\"advantage\",\"non\",\"instead\",\"steel\",\"industry\",\"grow\",\"save\",\"defense\",\"auto\",\"industries\",\"sgt\",\"peck\",\"double\",\"walter\",\"reed\",\"hero\",\"wife\",\"recommend\",\"sergeant\",\"carter\",\"earlier\",\"spirit\",\"fine\",\"invest\",\"investment\",\"south\",\"officially\",\"budget\",\"lakes\",\"clean\",\"restoration\",\"initiative\",\"nasa\",\"greatness\",\"moon\",\"mar\",\"additional\",\"space\",\"army\",\"largest\",\"project\",\"environment\",\"afternoon\",\"presidents\",\"retaliate\",\"avoid\",\"inside\",\"vietnam\",\"asia\",\"effect\",\"recently\",\"subsidize\",\"large\",\"degree\",\"slam\",\"horrible\",\"holocaust\",\"obviously\",\"hatred\",\"jewish\",\"imagine\",\"credit\",\"crash\",\"opponent\",\"clinton\",\"asian\",\"unemployment\",\"cheat\",\"vice\",\"boston\",\"redsox\",\"opposite\",\"players\",\"guy\",\"quarter\",\"greatly\",\"oann\",\"jump\",\"openly\",\"friends\",\"back\",\"opposition\",\"tool\",\"employment\",\"strategy\",\"harass\",\"isn\",\"destroy\",\"assault\",\"uphold\",\"overthrow\",\"coup\",\"previous\",\"doj\",\"apparatus\",\"gang\",\"series\",\"clapper\",\"definition\",\"christopher\",\"dream\",\"rip\",\"constitutional\",\"mess\",\"course\",\"suppose\",\"nut\",\"hope\",\"little\",\"overtime\",\"despite\",\"craze\",\"lunatics\",\"regulations\",\"giant\",\"scam\",\"perpetrate\",\"treasonous\",\"guilty\",\"untrue\",\"sound\",\"bite\",\"strongest\",\"food\",\"starve\",\"nations\",\"deliver\",\"patients\",\"financial\",\"surprise\",\"susan\",\"rice\",\"peter\",\"strzok\",\"richlowry\",\"kimstrassel\",\"column\",\"therightmelissa\",\"realcandaceo\",\"mind\",\"reality\",\"essentially\",\"conservatives\",\"social\",\"seriously\",\"intel\",\"consequential\",\"sick\",\"concern\",\"vp\",\"roar\",\"businesses\",\"will\",\"battle\",\"distract\",\"department\",\"fearful\",\"easy\",\"produce\",\"goods\",\"felt\",\"fo\",\"mo\",\"democratic\",\"manufacture\",\"ceo\",\"explain\",\"stability\",\"unprecedented\",\"lawyer\",\"partially\",\"matter\",\"interest\",\"nedryun\",\"baker\",\"fisa\",\"sorry\",\"sen\",\"smuggle\",\"chief\",\"exactly\",\"unhinge\",\"dem\",\"bully\",\"laura\",\"solution\",\"ban\",\"goal\",\"unverified\",\"research\",\"warrant\",\"citizen\",\"fool\",\"provoke\",\"geraldorivera\",\"wouldn\",\"arifleischer\",\"countless\",\"nonsense\",\"gopleader\",\"kevin\",\"mccarthy\",\"gop\",\"subpoena\",\"jr\",\"staff\",\"testimony\",\"reporters\",\"tedcruz\",\"govmikehuckabee\",\"richard\",\"burr\",\"ukraine\",\"investigations\",\"dbongino\",\"unfair\",\"practice\",\"competition\",\"breitbartnews\",\"rank\",\"criticize\",\"al\",\"threat\",\"steele\",\"contact\",\"realsaavedra\",\"sean\",\"hannity\",\"senatorburr\",\"behavior\",\"rudygiuliani\",\"hughhewitt\",\"thehill\",\"excuse\",\"st\",\"frighten\",\"nolte\",\"inauguration\",\"outlet\",\"admin\",\"secure\",\"donation\",\"accept\",\"short\",\"wag\",\"mount\",\"dossier\",\"verification\",\"vs\",\"father\",\"alien\",\"dnc\",\"deep\",\"ohr\",\"fusion\",\"gps\",\"grant\",\"absolutely\",\"barack\",\"conclude\",\"vast\",\"coverup\",\"senthomtillis\",\"share\",\"account\",\"design\",\"female\",\"donors\",\"wealth\",\"phenomenal\",\"traditional\",\"kind\",\"spouses\",\"ones\",\"appreciation\",\"past\",\"days\",\"constructive\",\"conversations\",\"status\",\"sign\",\"commitments\",\"intellectual\",\"property\",\"mariabartiromo\",\"fade\",\"fast\",\"aprvcjpqop\",\"inflation\",\"favorite\",\"slow\",\"automatically\",\"speed\",\"balance\",\"soar\",\"murder\",\"easier\",\"quicker\",\"waivers\",\"congenial\",\"manner\",\"rush\",\"worth\",\"payments\",\"directly\",\"treasury\",\"larger\",\"amount\",\"poor\",\"form\",\"humanitarian\",\"assistance\",\"sell\",\"approximately\",\"imbalance\",\"pence\",\"disgrace\",\"regain\",\"families\",\"medical\",\"bill\",\"insurance\",\"host\",\"awesome\",\"hi\",\"prevent\",\"reach\",\"protection\",\"johnson\",\"minnesota\",\"earliest\",\"hiv\",\"expand\",\"risk\",\"panama\",\"beach\",\"senrickscott\",\"marcorubio\",\"terrible\",\"maduro\",\"venezuela\",\"tuckercarlson\",\"ads\",\"slowly\",\"economist\",\"hurricane\",\"newtgingrich\",\"grieve\",\"violence\",\"young\",\"injure\",\"colorado\",\"responders\",\"bravely\",\"elizabeth\",\"pocahontas\",\"warren\",\"native\",\"equally\",\"separate\",\"locations\",\"nicely\",\"gm\",\"mary\",\"rob\",\"portman\",\"car\",\"barra\",\"motor\",\"uaw\",\"agreement\",\"lordstown\",\"plant\",\"electric\",\"estate\",\"developers\",\"entitle\",\"off\",\"losses\",\"purpose\",\"toiatsmu\",\"involvement\",\"reveal\",\"jim\",\"guess\",\"fill\",\"attempt\",\"weak\",\"prescription\",\"deny\",\"additionally\",\"breitbart\",\"lo\",\"tiger\",\"puerto\",\"rico\",\"iowa\",\"nebraska\",\"georgia\",\"fireworks\",\"dakota\",\"govkristinoem\",\"steal\",\"half\",\"contributions\",\"wonder\",\"obsess\",\"red\",\"economically\",\"thrive\",\"highlight\",\"bebest\",\"armywp_football\",\"conversation\",\"block\",\"example\",\"texas\",\"correct\",\"grab\",\"dirty\",\"table\",\"green\",\"terrorist\",\"rocket\",\"islamic\",\"citizens\",\"morgan\",\"ice\",\"april\",\"expectations\",\"nyt\",\"ca\",\"ingrahamangle\",\"gut\",\"sundayfutures\",\"stun\",\"door\",\"outside\",\"impact\",\"bear\",\"tech\",\"friday\",\"derby\",\"rough\",\"tumble\",\"wet\",\"sloppy\",\"correctness\",\"overturn\",\"horse\",\"believer\",\"ericbolling\",\"hispanic\",\"clip\",\"faith\",\"mt\",\"baptist\",\"church\",\"union\",\"judicial\",\"newly\",\"uncover\",\"materials\",\"jw\",\"senior\",\"oath\",\"agency\",\"lawsuits\",\"file\",\"petition\",\"gateways\",\"cartels\",\"violent\",\"incorrect\",\"napolitano\",\"mike_pence\",\"utah\",\"dailycaller\",\"labor\",\"percent\",\"international\",\"charliekirk\",\"treatment\",\"kill\",\"interfere\",\"pyoiljm\",\"pz\",\"wing\",\"knowingly\",\"nytimes\",\"washingtonpost\",\"msnbc\",\"facebook\",\"prisonplanet\",\"partisan\",\"corporations\",\"decide\",\"free\",\"speech\",\"ralph\",\"racist\",\"suggest\",\"sharylattkisson\",\"ok\",\"govt\",\"censor\",\"info\",\"pressure\",\"trillion\",\"russians\",\"george\",\"iagovernor\",\"manage\",\"destructive\",\"paul\",\"closely\",\"republic\",\"nuclear\",\"productive\",\"uc\",\"fell\",\"level\",\"surge\",\"pulitzer\",\"prize\",\"detail\",\"watergate\",\"foxbusiness\",\"costly\",\"proclamation\",\"victims\",\"aluminum\",\"pittsburgh\",\"prayer\",\"pray\",\"strengthen\",\"resolve\",\"communities\",\"growth\",\"withdraw\",\"feed\",\"ukrainian\",\"scandal\",\"joebiden\",\"push\",\"expect\",\"ny\",\"generation\",\"kerry\",\"mccabe\",\"lawsuit\",\"communications\",\"russiagate\",\"plus\",\"audience\",\"shock\",\"accomplishments\",\"yes\",\"firefighter\",\"member\",\"iaff\",\"september\",\"november\",\"miles\",\"march\",\"endure\",\"personal\",\"gallup\",\"override\",\"magnificent\",\"harry\",\"fraction\",\"im\",\"supporter\",\"retire\",\"volunteer\",\"piss\",\"dues\",\"gr\",\"assure\",\"eye\",\"members\",\"liberal\",\"endorse\",\"husband\",\"unions\",\"represent\",\"firemen\",\"police\",\"couple\",\"fireman\",\"board\",\"smoke\",\"fighters\",\"boss\",\"failure\",\"creepy\",\"brother\",\"town\",\"booth\",\"bet\",\"certainly\",\"alert\",\"bureaucrats\",\"smaller\",\"stock\",\"entire\",\"career\",\"disgust\",\"ro\",\"suck\",\"nascar\",\"joeylogano\",\"sanction\",\"island\",\"soldier\",\"cease\",\"constitution\",\"quantitative\",\"debt\",\"institute\",\"tighten\",\"european\",\"benefit\",\"prisoners\",\"specific\",\"isis\",\"hostage\",\"caliphate\",\"syria\",\"decisions\",\"coyotes\",\"nearby\",\"jobless\",\"maybe\",\"aspect\",\"experience\",\"semitic\",\"print\",\"daily\",\"basis\",\"journalism\",\"dead\",\"funny\",\"ridiculously\",\"expense\",\"fortune\",\"flee\",\"nra\",\"difficult\",\"organization\",\"poway\",\"warmest\",\"condolences\",\"california\",\"blow\",\"pathetic\",\"anger\",\"refer\",\"magic\",\"andrew\",\"hostile\",\"pardon\",\"shepard\",\"smith\",\"brilliant\",\"alan\",\"dershowitz\",\"bay\",\"wisconsin\",\"agent\",\"synagogue\",\"talents\",\"weren\",\"round\",\"river\",\"await\",\"opioid\",\"participate\",\"takebackday\",\"collection\",\"near\",\"nick\",\"player\",\"talent\",\"san\",\"francisco\",\"importantly\",\"smash\",\"witness\",\"swear\",\"defend\",\"surrender\",\"sovereignty\",\"saudi\",\"arabia\",\"oil\",\"indiana\",\"annual\",\"vital\",\"weirdo\",\"steyer\",\"put\",\"beg\",\"mention\",\"negotiator\",\"hostages\",\"otto\",\"warmbier\",\"travel\",\"atlanta\",\"heroin\",\"summit\",\"repmattgaetz\",\"son\",\"prison\",\"january\",\"ronnebeck\",\"score\",\"net\",\"loss\",\"successes\",\"repandybiggsaz\",\"volume\",\"rely\",\"flat\",\"expose\",\"figure\",\"cabal\",\"andy\",\"doubt\",\"wage\",\"respectfully\",\"hater\",\"incorrectly\",\"tennessee\",\"children\",\"regardless\",\"background\",\"rxsummit\",\"cortez\",\"va\",\"veterans\",\"accountability\",\"caldwell\",\"criminals\",\"rig\",\"comprehend\",\"cop\",\"lay\",\"diversionary\",\"smugglers\",\"caravan\",\"remainder\",\"census\",\"citizenship\",\"cia\",\"accuse\",\"kingdom\",\"jack\",\"dialogue\",\"saturday\",\"resch\",\"cdt\",\"bpyk\",\"pf\",\"els\",\"autism\",\"education\",\"global\",\"recreation\",\"smart\",\"higher\",\"struggle\",\"eu\",\"currently\",\"production\",\"stupid\",\"agenda\",\"tune\",\"forgiveness\",\"qbnsma\",\"kff\",\"hfgkp\",\"senkevincramer\",\"opportunity\",\"zone\",\"income\",\"poverty\",\"encourage\",\"saw\",\"easter\",\"egg\",\"wo\",\"sri\",\"lanka\",\"simply\",\"constant\",\"fabricate\",\"victor\",\"davis\",\"hanson\",\"partial\",\"garbage\",\"nsa\",\"vindicate\",\"smear\",\"fb\",\"terrorism\",\"herman\",\"nominate\",\"opec\",\"violation\",\"stevehiltonx\",\"uk\",\"disgraceful\",\"op\",\"owe\",\"hotels\",\"offer\",\"heartfelt\",\"happier\",\"content\",\"prior\",\"repdougcollins\",\"follow\",\"honest\",\"exclusive\",\"et\",\"package\",\"asylum\",\"check\",\"danscavino\",\"wgdp\",\"pretty\",\"weekly\",\"pols\",\"principle\",\"teamcavuto\",\"opinion\",\"dishonest\",\"outlets\",\"fat\",\"exact\",\"certain\",\"strassel\",\"correctly\",\"soooo\",\"single\",\"prosecutors\",\"couldn\",\"wil\",\"underlie\",\"regard\",\"fraud\",\"executive\",\"thrill\",\"ride\",\"william\",\"discussions\",\"memo\",\"launch\",\"france\",\"francis\",\"notre\",\"dame\",\"cathedral\",\"experts\",\"vacation\",\"discredit\",\"author\",\"voter\",\"complain\",\"supporters\",\"critical\",\"weird\",\"surprisingly\",\"bretbaier\",\"strange\",\"dirt\",\"someday\",\"pace\",\"hasn\",\"economies\",\"paris\",\"fly\",\"themasters\",\"comeback\",\"legally\",\"homeland\",\"sanctuary\",\"cities\",\"satisfy\",\"resist\",\"omar\",\"investigators\",\"boeing\",\"feature\",\"plane\",\"hell\",\"wsj\",\"chinese\",\"lobbyist\",\"acceptable\",\"machine\",\"ally\",\"chaos\",\"absolute\",\"legislation\",\"hole\",\"properly\",\"transfer\",\"management\",\"obamacare\",\"socialism\",\"dealers\",\"traffickers\",\"shape\",\"illegals\",\"gold\",\"luck\",\"vxrgfrfejm\",\"extraordinary\",\"accurate\",\"aid\",\"nbcnews\",\"personnel\",\"woman\",\"walk\",\"nofzya\",\"qs\",\"sudden\",\"trish_regan\",\"clewandowski_\",\"unwilling\",\"outrageous\",\"indict\",\"hall\",\"rod\",\"rosenstein\",\"disarray\",\"pretend\",\"shame\",\"afford\",\"likewise\",\"breathe\",\"dhsgov\",\"cbp\",\"commissioner\",\"mcaleenan\",\"dhs\",\"netanyahu\",\"sx\",\"seven\",\"arab\",\"egypt\",\"congresswoman\",\"jews\",\"jeff\",\"ballabon\",\"strategic\",\"unacceptable\",\"varneyco\",\"recognition\",\"capture\",\"development\",\"west\",\"yard\",\"construct\",\"calexico\",\"replace\",\"barrier\",\"virginia\",\"ncaa\",\"uganda\",\"tourist\",\"guide\",\"feel\",\"folks\",\"abolish\",\"hemisphere\",\"immoral\",\"raise\",\"katiepavlich\",\"current\",\"leak\",\"port\",\"entry\",\"scale\",\"commercial\",\"delay\",\"rjc\",\"commitment\",\"straight\",\"nevada\",\"location\",\"dinner\",\"conclusions\",\"recommendations\",\"voiv\",\"marc_lotter\",\"brave\",\"nk\",\"dictatorship\",\"david\",\"worker\",\"roundtable\",\"usmca\",\"penalty\",\"die\",\"sooo\",\"cars\",\"wsjopinion\",\"freeman\",\"jovita\",\"paper\",\"accord\",\"alive\",\"unnecessary\",\"optimism\",\"usual\",\"talented\",\"develop\",\"display\",\"alternative\",\"nato\",\"reaffirm\",\"equal\",\"opportunities\",\"overrun\",\"guatemala\",\"honduras\",\"el\",\"salvador\",\"theme\",\"starr\",\"politicians\",\"incompetent\",\"juan\",\"health\",\"provide\",\"schedule\",\"premiums\",\"deductibles\",\"beloved\",\"unusable\",\"meaningless\",\"combination\",\"data\",\"achievement\",\"areas\",\"hour\",\"statedept\",\"enter\",\"overflow\",\"rapids\",\"michigan\",\"fragile\",\"tank\",\"embarrassment\",\"legit\",\"pour\",\"fairness\",\"google\",\"trick\",\"reputation\",\"catastrophe\",\"recognize\",\"golan\",\"heights\",\"yaayr\",\"hxe\",\"hill\",\"billhemmer\",\"pursue\",\"scorn\",\"stanley\",\"cap\",\"picture\",\"yl\",\"room\",\"wx\",\"exoneration\",\"individuals\",\"saint\",\"losers\",\"barely\",\"cave\",\"fastest\",\"trust\",\"achievements\",\"students\",\"value\",\"moments\",\"solomon\",\"plot\",\"hardworking\",\"conway\",\"jealous\",\"desperately\",\"stone\",\"cold\",\"electoral\",\"ballot\",\"box\",\"ym\",\"midwest\",\"train\",\"latest\",\"ft\",\"exceed\",\"blame\",\"zealand\",\"counter\",\"jackposobiec\",\"teen\",\"ms\",\"lindasuhler\",\"arthelneville\",\"lelandvittert\",\"patrick\",\"parscale\",\"urban\",\"lrihendry\",\"chuckcallesto\",\"ilhan\",\"jeanine\",\"npr\",\"effective\",\"meghan\",\"anchor\",\"droves\",\"pirro\",\"silence\",\"class\",\"annapolis\",\"commission\",\"appoin\",\"toyota\",\"spread\",\"unfortunately\",\"stain\",\"ken\",\"independent\",\"repeal\",\"sheriff\",\"sheriffs\",\"veto\",\"representatives\",\"la\",\"weather\",\"horrific\",\"transcript\",\"jexodus\",\"network\",\"resolution\",\"nafta\",\"wacky\",\"nightmare\",\"throw\",\"lisa\",\"unanimous\",\"transcripts\",\"appreciate\",\"eric\",\"schneiderman\",\"hccnfzxfn\",\"illegitimate\",\"dear\",\"godthank\",\"godblessamerica\",\"presidenttrump\",\"electionday\",\"adamschiff\",\"cohen\",\"trail\",\"camp\",\"disclose\",\"glenn\",\"simpson\",\"oppo\",\"participation\",\"workforce\",\"whitehousecea\",\"hourly\",\"earn\",\"dingell\",\"pilot\",\"founder\",\"climate\",\"carbon\",\"semitism\",\"precedent\",\"sarah\",\"proposal\",\"introduce\",\"tim\",\"apple\",\"integrity\",\"terror\",\"tunnel\",\"paulsperry_\",\"physical\",\"diego\",\"paso\",\"lawyers\",\"likely\",\"perjury\",\"shred\",\"coach\",\"regulation\",\"condemn\",\"reps\",\"renovate\",\"invasion\",\"cbs\",\"recommit\",\"wilson\",\"ron\",\"desantis\",\"cvpayne\",\"overall\",\"xm\",\"sessions\",\"declare\",\"msm\",\"pledge\",\"heather\",\"fraudster\",\"contradict\",\"contract\",\"violations\",\"arrest\",\"stewart\",\"hundreds\",\"mistake\",\"analysis\",\"overreach\",\"proof\",\"generic\",\"terrific\",\"comment\",\"relations\",\"widest\",\"amazon\",\"drill\",\"reimburse\",\"careful\",\"bold\",\"chatbycc\",\"dept\",\"convict\",\"liar\",\"tensions\",\"manuscript\",\"path\",\"dow\",\"nasdaq\",\"composite\",\"priority\",\"cpac\",\"oh\",\"bye\",\"spin\",\"submit\",\"hanoi\",\"february\",\"clients\",\"intentions\",\"powerhouse\",\"helpful\",\"fiat\",\"chrysler\",\"da\",\"nang\",\"dick\",\"blumenthal\",\"connecticut\",\"minimum\",\"newborn\",\"infant\",\"baby\",\"birth\",\"advance\",\"hike\",\"recover\",\"danny\",\"intensive\",\"dustin\",\"cryin\",\"breakfast\",\"relax\",\"lago\",\"technology\",\"texts\",\"lover\",\"forum\",\"continuation\",\"lincoln\",\"propose\",\"latino\",\"seize\",\"graham\",\"facts\",\"factor\",\"kelly\",\"study\",\"inspector\",\"ignore\",\"covington\",\"bust\",\"nf\",\"checker\",\"predict\",\"completion\",\"occasion\",\"leakin\",\"real_defender\",\"venezuelan\",\"latin\",\"kid\",\"hospital\",\"discover\",\"brass\",\"angel\",\"nbc\",\"ambassadors\",\"europe\",\"capable\",\"njorbjwint\",\"negotiators\",\"cancel\",\"improve\",\"dr\",\"degrees\",\"color\",\"draw\",\"\\u0633\\u0627\\u0644\",\"\\u0627\\u06cc\\u0631\\u0627\\u0646\",\"self\",\"inherit\",\"tnuhnw\",\"kll\",\"sotu\",\"amy\",\"warm\",\"snow\",\"temperatures\",\"behave\",\"irrationally\",\"hardly\",\"endless\",\"shutdown\",\"anybody\",\"permanently\",\"gas\",\"podesta\",\"nellie\",\"forrest\",\"encounter\",\"aspen\",\"wound\",\"afghanistan\",\"baseball\",\"sotuhttps\",\"kl\",\"soclx\",\"lunar\",\"interior\",\"bowl\",\"northam\",\"shocker\",\"tower\",\"fentanyl\",\"passive\",\"protest\",\"interim\",\"guaido\",\"test\",\"rampant\",\"fiction\",\"deroy\",\"murdock\",\"bible\",\"johnrobertsfox\",\"hispanics\",\"portray\",\"buzzfeed\",\"rnc\",\"unanimously\",\"venue\",\"compete\",\"tradition\",\"unity\",\"export\",\"kremlin\",\"mariano\",\"fame\",\"davos\",\"marist\",\"pbs\",\"attention\",\"unfairly\",\"unchecked\",\"martin\",\"luther\",\"mlkday\",\"wand\",\"budgetgop\",\"compromise\",\"provision\",\"senrobportman\",\"reasonable\",\"reopen\",\"jiminhofe\",\"glad\",\"daca\",\"exchange\",\"part\",\"options\",\"amnesty\",\"mouth\",\"rancher\",\"examiner\",\"factories\",\"clemson\",\"tigers\",\"eaters\",\"mom\",\"chattanooga\",\"lyin\",\"turkey\",\"mile\",\"convention\",\"stage\",\"orleans\",\"eventually\",\"proper\",\"bighorn\",\"knee\",\"kitchen\",\"dress\",\"indian\",\"garb\",\"kurds\",\"overdue\",\"sexual\",\"tougher\",\"station\",\"fakenews\",\"football\",\"pound\",\"narcotics\",\"forest\",\"unlikely\",\"december\",\"disruption\",\"abramson\",\"settle\",\"comparison\",\"mitt\"],\"x\":{\"__ndarray__\":\"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\",\"dtype\":\"float32\",\"shape\":[2584]},\"y\":{\"__ndarray__\":\"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\",\"dtype\":\"float32\",\"shape\":[2584]}}},\"id\":\"4c22c120-7e11-44d2-81ad-8696cf5b2955\",\"type\":\"ColumnDataSource\"},{\"attributes\":{\"overlay\":{\"id\":\"f15acba7-d544-479a-a9c0-f5e174520d44\",\"type\":\"BoxAnnotation\"}},\"id\":\"93e688e7-cfc6-4d87-917b-2fa257d9d306\",\"type\":\"BoxZoomTool\"},{\"attributes\":{\"level\":\"glyph\",\"plot\":{\"id\":\"81901fc0-0dfc-4066-bcdc-13e6768d9034\",\"subtype\":\"Figure\",\"type\":\"Plot\"},\"source\":{\"id\":\"4c22c120-7e11-44d2-81ad-8696cf5b2955\",\"type\":\"ColumnDataSource\"},\"text\":{\"field\":\"label\"},\"text_font_size\":{\"value\":\"6pt\"},\"x\":{\"field\":\"x\"},\"x_offset\":{\"value\":5},\"y\":{\"field\":\"y\"},\"y_offset\":{\"value\":5}},\"id\":\"d0261ca8-2e99-4253-bca5-8ec3628059ed\",\"type\":\"LabelSet\"},{\"attributes\":{},\"id\":\"374e8cbe-df8f-44c8-bac7-d9a1260b5e04\",\"type\":\"ResetTool\"},{\"attributes\":{\"callback\":null,\"tooltips\":[[\"content\",\"@content\"]]},\"id\":\"116d3d3b-040e-4bad-bf7f-799ddea4c502\",\"type\":\"HoverTool\"},{\"attributes\":{},\"id\":\"c381673c-cdff-4a59-87dc-b55e67337bf2\",\"type\":\"SaveTool\"},{\"attributes\":{\"callback\":null},\"id\":\"f593386a-9bce-4a26-8eb8-84520f0db7bb\",\"type\":\"DataRange1d\"},{\"attributes\":{\"fill_alpha\":{\"value\":0.1},\"fill_color\":{\"value\":\"#1f77b4\"},\"line_alpha\":{\"value\":0.1},\"line_color\":{\"value\":\"#1f77b4\"},\"size\":{\"units\":\"screen\",\"value\":10},\"x\":{\"field\":\"x\"},\"y\":{\"field\":\"y\"}},\"id\":\"53e145e4-bee9-4349-b067-f7318ecbfcf2\",\"type\":\"Circle\"},{\"attributes\":{\"source\":{\"id\":\"4c22c120-7e11-44d2-81ad-8696cf5b2955\",\"type\":\"ColumnDataSource\"}},\"id\":\"c0247654-01bc-4b60-ba9d-066130d11994\",\"type\":\"CDSView\"},{\"attributes\":{\"plot\":null,\"text\":\"T-SNE visualization of Trump's twitts\"},\"id\":\"12dd528c-ed98-4046-99ca-f9a1d2955f44\",\"type\":\"Title\"},{\"attributes\":{\"active_drag\":\"auto\",\"active_inspect\":\"auto\",\"active_scroll\":\"auto\",\"active_tap\":\"auto\",\"tools\":[{\"id\":\"b1cb5c80-d750-4495-88d2-f85028887f37\",\"type\":\"PanTool\"},{\"id\":\"1cb626e6-45a3-4068-a224-66e55fd0ea9e\",\"type\":\"WheelZoomTool\"},{\"id\":\"93e688e7-cfc6-4d87-917b-2fa257d9d306\",\"type\":\"BoxZoomTool\"},{\"id\":\"374e8cbe-df8f-44c8-bac7-d9a1260b5e04\",\"type\":\"ResetTool\"},{\"id\":\"116d3d3b-040e-4bad-bf7f-799ddea4c502\",\"type\":\"HoverTool\"},{\"id\":\"c381673c-cdff-4a59-87dc-b55e67337bf2\",\"type\":\"SaveTool\"}]},\"id\":\"37f58c3d-2377-442e-9742-30f589c8a1bb\",\"type\":\"Toolbar\"},{\"attributes\":{},\"id\":\"fd024474-6464-4ac3-b412-7b465cd1537f\",\"type\":\"LinearScale\"}],\"root_ids\":[\"81901fc0-0dfc-4066-bcdc-13e6768d9034\"]},\"title\":\"Bokeh Application\",\"version\":\"0.12.13\"}};\n",
       "  var render_items = [{\"docid\":\"d45bde8b-afc0-4311-a8d0-4738d03bb053\",\"elementid\":\"5078dd87-7af2-4be9-9c2b-0a603913aee0\",\"modelid\":\"81901fc0-0dfc-4066-bcdc-13e6768d9034\"}];\n",
       "  root.Bokeh.embed.embed_items_notebook(docs_json, render_items);\n",
       "\n",
       "  }\n",
       "  if (root.Bokeh !== undefined) {\n",
       "    embed_document(root);\n",
       "  } else {\n",
       "    var attempts = 0;\n",
       "    var timer = setInterval(function(root) {\n",
       "      if (root.Bokeh !== undefined) {\n",
       "        embed_document(root);\n",
       "        clearInterval(timer);\n",
       "      }\n",
       "      attempts++;\n",
       "      if (attempts > 100) {\n",
       "        console.log(\"Bokeh: ERROR: Unable to run BokehJS code because BokehJS library is missing\")\n",
       "        clearInterval(timer);\n",
       "      }\n",
       "    }, 10, root)\n",
       "  }\n",
       "})(window);"
      ],
      "application/vnd.bokehjs_exec.v0+json": ""
     },
     "metadata": {
      "application/vnd.bokehjs_exec.v0+json": {
       "id": "81901fc0-0dfc-4066-bcdc-13e6768d9034"
      }
     },
     "output_type": "display_data"
    }
   ],
   "source": [
    "x_tsne = X_tsne[:, 0]\n",
    "y_tsne = X_tsne[:, 1]\n",
    "label = total_words\n",
    "contents = total_words\n",
    "\n",
    "\n",
    "cluster_colors = {0: 'blue', 1: 'green', 2: 'yellow', 3: 'red', 4: 'skyblue', 5:'salmon', 6:'orange', 7:'maroon', 8:'crimson', 9:'black', 10:'gray'}\n",
    "\n",
    "# labels = ['Topic {}'.format(i) for i in topic_tfidf]\n",
    "# topic_colors = [cluster_colors[i] for i in topic_tfidf]\n",
    "\n",
    "settings = dict(x=x_tsne,\n",
    "               y=y_tsne,\n",
    "                label=label,\n",
    "#                 color=topic_colors,\n",
    "               content=contents\n",
    "               )\n",
    "\n",
    "source = ColumnDataSource(settings)\n",
    "\n",
    "labels = LabelSet(x='x', y='y', text='label', level='glyph',\n",
    "              x_offset=5, y_offset=5, source=source, render_mode='canvas', text_font_size='6pt')\n",
    "\n",
    "\n",
    "title = 'T-SNE visualization of Trump\\'s twitts'\n",
    "\n",
    "plot_lda = figure(plot_width=1000, plot_height=600,\n",
    "                     title=title, tools=\"pan,wheel_zoom,box_zoom,reset,hover,previewsave\",\n",
    "                     x_axis_type=None, y_axis_type=None, min_border=1)\n",
    "\n",
    "plot_lda.scatter(x='x', y='y',\n",
    "#                  legend='label', \n",
    "                 source=source, \n",
    "#                  color='color',\n",
    "                 alpha=0.8, size=10)#'msize', )\n",
    "\n",
    "\n",
    "plot_lda.add_layout(labels)\n",
    "\n",
    "hover = plot_lda.select(dict(type=HoverTool))\n",
    "hover.tooltips = {\"content\": \"@content\"}\n",
    "plot_lda.legend.location = \"top_left\"\n",
    "\n",
    "show(plot_lda)"
   ]
  },
  {
   "cell_type": "code",
   "execution_count": null,
   "metadata": {},
   "outputs": [],
   "source": []
  }
 ],
 "metadata": {
  "kernelspec": {
   "display_name": "Python 3",
   "language": "python",
   "name": "python3"
  },
  "language_info": {
   "codemirror_mode": {
    "name": "ipython",
    "version": 3
   },
   "file_extension": ".py",
   "mimetype": "text/x-python",
   "name": "python",
   "nbconvert_exporter": "python",
   "pygments_lexer": "ipython3",
   "version": "3.6.3"
  }
 },
 "nbformat": 4,
 "nbformat_minor": 2
}
