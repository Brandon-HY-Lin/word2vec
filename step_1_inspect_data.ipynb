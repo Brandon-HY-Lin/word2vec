{
 "cells": [
  {
   "cell_type": "markdown",
   "metadata": {},
   "source": [
    "# Inspect Data and Apply Word2Vec \n",
    "The methods shown in this notebook are simple methods. The more accurate methods are shown in the latter notebooks."
   ]
  },
  {
   "cell_type": "code",
   "execution_count": 35,
   "metadata": {},
   "outputs": [
    {
     "name": "stdout",
     "output_type": "stream",
     "text": [
      "[nltk_data] Downloading package wordnet to /root/nltk_data...\n",
      "[nltk_data]   Package wordnet is already up-to-date!\n"
     ]
    },
    {
     "data": {
      "text/html": [
       "\n",
       "    <div class=\"bk-root\">\n",
       "        <a href=\"https://bokeh.pydata.org\" target=\"_blank\" class=\"bk-logo bk-logo-small bk-logo-notebook\"></a>\n",
       "        <span id=\"d11263e2-82c8-45fe-a866-0006f003e645\">Loading BokehJS ...</span>\n",
       "    </div>"
      ]
     },
     "metadata": {},
     "output_type": "display_data"
    },
    {
     "data": {
      "application/javascript": [
       "\n",
       "(function(root) {\n",
       "  function now() {\n",
       "    return new Date();\n",
       "  }\n",
       "\n",
       "  var force = true;\n",
       "\n",
       "  if (typeof (root._bokeh_onload_callbacks) === \"undefined\" || force === true) {\n",
       "    root._bokeh_onload_callbacks = [];\n",
       "    root._bokeh_is_loading = undefined;\n",
       "  }\n",
       "\n",
       "  var JS_MIME_TYPE = 'application/javascript';\n",
       "  var HTML_MIME_TYPE = 'text/html';\n",
       "  var EXEC_MIME_TYPE = 'application/vnd.bokehjs_exec.v0+json';\n",
       "  var CLASS_NAME = 'output_bokeh rendered_html';\n",
       "\n",
       "  /**\n",
       "   * Render data to the DOM node\n",
       "   */\n",
       "  function render(props, node) {\n",
       "    var script = document.createElement(\"script\");\n",
       "    node.appendChild(script);\n",
       "  }\n",
       "\n",
       "  /**\n",
       "   * Handle when an output is cleared or removed\n",
       "   */\n",
       "  function handleClearOutput(event, handle) {\n",
       "    var cell = handle.cell;\n",
       "\n",
       "    var id = cell.output_area._bokeh_element_id;\n",
       "    var server_id = cell.output_area._bokeh_server_id;\n",
       "    // Clean up Bokeh references\n",
       "    if (id !== undefined) {\n",
       "      Bokeh.index[id].model.document.clear();\n",
       "      delete Bokeh.index[id];\n",
       "    }\n",
       "\n",
       "    if (server_id !== undefined) {\n",
       "      // Clean up Bokeh references\n",
       "      var cmd = \"from bokeh.io.state import curstate; print(curstate().uuid_to_server['\" + server_id + \"'].get_sessions()[0].document.roots[0]._id)\";\n",
       "      cell.notebook.kernel.execute(cmd, {\n",
       "        iopub: {\n",
       "          output: function(msg) {\n",
       "            var element_id = msg.content.text.trim();\n",
       "            Bokeh.index[element_id].model.document.clear();\n",
       "            delete Bokeh.index[element_id];\n",
       "          }\n",
       "        }\n",
       "      });\n",
       "      // Destroy server and session\n",
       "      var cmd = \"import bokeh.io.notebook as ion; ion.destroy_server('\" + server_id + \"')\";\n",
       "      cell.notebook.kernel.execute(cmd);\n",
       "    }\n",
       "  }\n",
       "\n",
       "  /**\n",
       "   * Handle when a new output is added\n",
       "   */\n",
       "  function handleAddOutput(event, handle) {\n",
       "    var output_area = handle.output_area;\n",
       "    var output = handle.output;\n",
       "\n",
       "    // limit handleAddOutput to display_data with EXEC_MIME_TYPE content only\n",
       "    if ((output.output_type != \"display_data\") || (!output.data.hasOwnProperty(EXEC_MIME_TYPE))) {\n",
       "      return\n",
       "    }\n",
       "\n",
       "    var toinsert = output_area.element.find(\".\" + CLASS_NAME.split(' ')[0]);\n",
       "\n",
       "    if (output.metadata[EXEC_MIME_TYPE][\"id\"] !== undefined) {\n",
       "      toinsert[0].firstChild.textContent = output.data[JS_MIME_TYPE];\n",
       "      // store reference to embed id on output_area\n",
       "      output_area._bokeh_element_id = output.metadata[EXEC_MIME_TYPE][\"id\"];\n",
       "    }\n",
       "    if (output.metadata[EXEC_MIME_TYPE][\"server_id\"] !== undefined) {\n",
       "      var bk_div = document.createElement(\"div\");\n",
       "      bk_div.innerHTML = output.data[HTML_MIME_TYPE];\n",
       "      var script_attrs = bk_div.children[0].attributes;\n",
       "      for (var i = 0; i < script_attrs.length; i++) {\n",
       "        toinsert[0].firstChild.setAttribute(script_attrs[i].name, script_attrs[i].value);\n",
       "      }\n",
       "      // store reference to server id on output_area\n",
       "      output_area._bokeh_server_id = output.metadata[EXEC_MIME_TYPE][\"server_id\"];\n",
       "    }\n",
       "  }\n",
       "\n",
       "  function register_renderer(events, OutputArea) {\n",
       "\n",
       "    function append_mime(data, metadata, element) {\n",
       "      // create a DOM node to render to\n",
       "      var toinsert = this.create_output_subarea(\n",
       "        metadata,\n",
       "        CLASS_NAME,\n",
       "        EXEC_MIME_TYPE\n",
       "      );\n",
       "      this.keyboard_manager.register_events(toinsert);\n",
       "      // Render to node\n",
       "      var props = {data: data, metadata: metadata[EXEC_MIME_TYPE]};\n",
       "      render(props, toinsert[0]);\n",
       "      element.append(toinsert);\n",
       "      return toinsert\n",
       "    }\n",
       "\n",
       "    /* Handle when an output is cleared or removed */\n",
       "    events.on('clear_output.CodeCell', handleClearOutput);\n",
       "    events.on('delete.Cell', handleClearOutput);\n",
       "\n",
       "    /* Handle when a new output is added */\n",
       "    events.on('output_added.OutputArea', handleAddOutput);\n",
       "\n",
       "    /**\n",
       "     * Register the mime type and append_mime function with output_area\n",
       "     */\n",
       "    OutputArea.prototype.register_mime_type(EXEC_MIME_TYPE, append_mime, {\n",
       "      /* Is output safe? */\n",
       "      safe: true,\n",
       "      /* Index of renderer in `output_area.display_order` */\n",
       "      index: 0\n",
       "    });\n",
       "  }\n",
       "\n",
       "  // register the mime type if in Jupyter Notebook environment and previously unregistered\n",
       "  if (root.Jupyter !== undefined) {\n",
       "    var events = require('base/js/events');\n",
       "    var OutputArea = require('notebook/js/outputarea').OutputArea;\n",
       "\n",
       "    if (OutputArea.prototype.mime_types().indexOf(EXEC_MIME_TYPE) == -1) {\n",
       "      register_renderer(events, OutputArea);\n",
       "    }\n",
       "  }\n",
       "\n",
       "  \n",
       "  if (typeof (root._bokeh_timeout) === \"undefined\" || force === true) {\n",
       "    root._bokeh_timeout = Date.now() + 5000;\n",
       "    root._bokeh_failed_load = false;\n",
       "  }\n",
       "\n",
       "  var NB_LOAD_WARNING = {'data': {'text/html':\n",
       "     \"<div style='background-color: #fdd'>\\n\"+\n",
       "     \"<p>\\n\"+\n",
       "     \"BokehJS does not appear to have successfully loaded. If loading BokehJS from CDN, this \\n\"+\n",
       "     \"may be due to a slow or bad network connection. Possible fixes:\\n\"+\n",
       "     \"</p>\\n\"+\n",
       "     \"<ul>\\n\"+\n",
       "     \"<li>re-rerun `output_notebook()` to attempt to load from CDN again, or</li>\\n\"+\n",
       "     \"<li>use INLINE resources instead, as so:</li>\\n\"+\n",
       "     \"</ul>\\n\"+\n",
       "     \"<code>\\n\"+\n",
       "     \"from bokeh.resources import INLINE\\n\"+\n",
       "     \"output_notebook(resources=INLINE)\\n\"+\n",
       "     \"</code>\\n\"+\n",
       "     \"</div>\"}};\n",
       "\n",
       "  function display_loaded() {\n",
       "    var el = document.getElementById(\"d11263e2-82c8-45fe-a866-0006f003e645\");\n",
       "    if (el != null) {\n",
       "      el.textContent = \"BokehJS is loading...\";\n",
       "    }\n",
       "    if (root.Bokeh !== undefined) {\n",
       "      if (el != null) {\n",
       "        el.textContent = \"BokehJS \" + root.Bokeh.version + \" successfully loaded.\";\n",
       "      }\n",
       "    } else if (Date.now() < root._bokeh_timeout) {\n",
       "      setTimeout(display_loaded, 100)\n",
       "    }\n",
       "  }\n",
       "\n",
       "\n",
       "  function run_callbacks() {\n",
       "    try {\n",
       "      root._bokeh_onload_callbacks.forEach(function(callback) { callback() });\n",
       "    }\n",
       "    finally {\n",
       "      delete root._bokeh_onload_callbacks\n",
       "    }\n",
       "    console.info(\"Bokeh: all callbacks have finished\");\n",
       "  }\n",
       "\n",
       "  function load_libs(js_urls, callback) {\n",
       "    root._bokeh_onload_callbacks.push(callback);\n",
       "    if (root._bokeh_is_loading > 0) {\n",
       "      console.log(\"Bokeh: BokehJS is being loaded, scheduling callback at\", now());\n",
       "      return null;\n",
       "    }\n",
       "    if (js_urls == null || js_urls.length === 0) {\n",
       "      run_callbacks();\n",
       "      return null;\n",
       "    }\n",
       "    console.log(\"Bokeh: BokehJS not loaded, scheduling load and callback at\", now());\n",
       "    root._bokeh_is_loading = js_urls.length;\n",
       "    for (var i = 0; i < js_urls.length; i++) {\n",
       "      var url = js_urls[i];\n",
       "      var s = document.createElement('script');\n",
       "      s.src = url;\n",
       "      s.async = false;\n",
       "      s.onreadystatechange = s.onload = function() {\n",
       "        root._bokeh_is_loading--;\n",
       "        if (root._bokeh_is_loading === 0) {\n",
       "          console.log(\"Bokeh: all BokehJS libraries loaded\");\n",
       "          run_callbacks()\n",
       "        }\n",
       "      };\n",
       "      s.onerror = function() {\n",
       "        console.warn(\"failed to load library \" + url);\n",
       "      };\n",
       "      console.log(\"Bokeh: injecting script tag for BokehJS library: \", url);\n",
       "      document.getElementsByTagName(\"head\")[0].appendChild(s);\n",
       "    }\n",
       "  };var element = document.getElementById(\"d11263e2-82c8-45fe-a866-0006f003e645\");\n",
       "  if (element == null) {\n",
       "    console.log(\"Bokeh: ERROR: autoload.js configured with elementid 'd11263e2-82c8-45fe-a866-0006f003e645' but no matching script tag was found. \")\n",
       "    return false;\n",
       "  }\n",
       "\n",
       "  var js_urls = [\"https://cdn.pydata.org/bokeh/release/bokeh-0.12.13.min.js\", \"https://cdn.pydata.org/bokeh/release/bokeh-widgets-0.12.13.min.js\", \"https://cdn.pydata.org/bokeh/release/bokeh-tables-0.12.13.min.js\", \"https://cdn.pydata.org/bokeh/release/bokeh-gl-0.12.13.min.js\"];\n",
       "\n",
       "  var inline_js = [\n",
       "    function(Bokeh) {\n",
       "      Bokeh.set_log_level(\"info\");\n",
       "    },\n",
       "    \n",
       "    function(Bokeh) {\n",
       "      \n",
       "    },\n",
       "    function(Bokeh) {\n",
       "      console.log(\"Bokeh: injecting CSS: https://cdn.pydata.org/bokeh/release/bokeh-0.12.13.min.css\");\n",
       "      Bokeh.embed.inject_css(\"https://cdn.pydata.org/bokeh/release/bokeh-0.12.13.min.css\");\n",
       "      console.log(\"Bokeh: injecting CSS: https://cdn.pydata.org/bokeh/release/bokeh-widgets-0.12.13.min.css\");\n",
       "      Bokeh.embed.inject_css(\"https://cdn.pydata.org/bokeh/release/bokeh-widgets-0.12.13.min.css\");\n",
       "      console.log(\"Bokeh: injecting CSS: https://cdn.pydata.org/bokeh/release/bokeh-tables-0.12.13.min.css\");\n",
       "      Bokeh.embed.inject_css(\"https://cdn.pydata.org/bokeh/release/bokeh-tables-0.12.13.min.css\");\n",
       "    }\n",
       "  ];\n",
       "\n",
       "  function run_inline_js() {\n",
       "    \n",
       "    if ((root.Bokeh !== undefined) || (force === true)) {\n",
       "      for (var i = 0; i < inline_js.length; i++) {\n",
       "        inline_js[i].call(root, root.Bokeh);\n",
       "      }if (force === true) {\n",
       "        display_loaded();\n",
       "      }} else if (Date.now() < root._bokeh_timeout) {\n",
       "      setTimeout(run_inline_js, 100);\n",
       "    } else if (!root._bokeh_failed_load) {\n",
       "      console.log(\"Bokeh: BokehJS failed to load within specified timeout.\");\n",
       "      root._bokeh_failed_load = true;\n",
       "    } else if (force !== true) {\n",
       "      var cell = $(document.getElementById(\"d11263e2-82c8-45fe-a866-0006f003e645\")).parents('.cell').data().cell;\n",
       "      cell.output_area.append_execute_result(NB_LOAD_WARNING)\n",
       "    }\n",
       "\n",
       "  }\n",
       "\n",
       "  if (root._bokeh_is_loading === 0) {\n",
       "    console.log(\"Bokeh: BokehJS loaded, going straight to plotting\");\n",
       "    run_inline_js();\n",
       "  } else {\n",
       "    load_libs(js_urls, function() {\n",
       "      console.log(\"Bokeh: BokehJS plotting callback run at\", now());\n",
       "      run_inline_js();\n",
       "    });\n",
       "  }\n",
       "}(window));"
      ],
      "application/vnd.bokehjs_load.v0+json": "\n(function(root) {\n  function now() {\n    return new Date();\n  }\n\n  var force = true;\n\n  if (typeof (root._bokeh_onload_callbacks) === \"undefined\" || force === true) {\n    root._bokeh_onload_callbacks = [];\n    root._bokeh_is_loading = undefined;\n  }\n\n  \n\n  \n  if (typeof (root._bokeh_timeout) === \"undefined\" || force === true) {\n    root._bokeh_timeout = Date.now() + 5000;\n    root._bokeh_failed_load = false;\n  }\n\n  var NB_LOAD_WARNING = {'data': {'text/html':\n     \"<div style='background-color: #fdd'>\\n\"+\n     \"<p>\\n\"+\n     \"BokehJS does not appear to have successfully loaded. If loading BokehJS from CDN, this \\n\"+\n     \"may be due to a slow or bad network connection. Possible fixes:\\n\"+\n     \"</p>\\n\"+\n     \"<ul>\\n\"+\n     \"<li>re-rerun `output_notebook()` to attempt to load from CDN again, or</li>\\n\"+\n     \"<li>use INLINE resources instead, as so:</li>\\n\"+\n     \"</ul>\\n\"+\n     \"<code>\\n\"+\n     \"from bokeh.resources import INLINE\\n\"+\n     \"output_notebook(resources=INLINE)\\n\"+\n     \"</code>\\n\"+\n     \"</div>\"}};\n\n  function display_loaded() {\n    var el = document.getElementById(\"d11263e2-82c8-45fe-a866-0006f003e645\");\n    if (el != null) {\n      el.textContent = \"BokehJS is loading...\";\n    }\n    if (root.Bokeh !== undefined) {\n      if (el != null) {\n        el.textContent = \"BokehJS \" + root.Bokeh.version + \" successfully loaded.\";\n      }\n    } else if (Date.now() < root._bokeh_timeout) {\n      setTimeout(display_loaded, 100)\n    }\n  }\n\n\n  function run_callbacks() {\n    try {\n      root._bokeh_onload_callbacks.forEach(function(callback) { callback() });\n    }\n    finally {\n      delete root._bokeh_onload_callbacks\n    }\n    console.info(\"Bokeh: all callbacks have finished\");\n  }\n\n  function load_libs(js_urls, callback) {\n    root._bokeh_onload_callbacks.push(callback);\n    if (root._bokeh_is_loading > 0) {\n      console.log(\"Bokeh: BokehJS is being loaded, scheduling callback at\", now());\n      return null;\n    }\n    if (js_urls == null || js_urls.length === 0) {\n      run_callbacks();\n      return null;\n    }\n    console.log(\"Bokeh: BokehJS not loaded, scheduling load and callback at\", now());\n    root._bokeh_is_loading = js_urls.length;\n    for (var i = 0; i < js_urls.length; i++) {\n      var url = js_urls[i];\n      var s = document.createElement('script');\n      s.src = url;\n      s.async = false;\n      s.onreadystatechange = s.onload = function() {\n        root._bokeh_is_loading--;\n        if (root._bokeh_is_loading === 0) {\n          console.log(\"Bokeh: all BokehJS libraries loaded\");\n          run_callbacks()\n        }\n      };\n      s.onerror = function() {\n        console.warn(\"failed to load library \" + url);\n      };\n      console.log(\"Bokeh: injecting script tag for BokehJS library: \", url);\n      document.getElementsByTagName(\"head\")[0].appendChild(s);\n    }\n  };var element = document.getElementById(\"d11263e2-82c8-45fe-a866-0006f003e645\");\n  if (element == null) {\n    console.log(\"Bokeh: ERROR: autoload.js configured with elementid 'd11263e2-82c8-45fe-a866-0006f003e645' but no matching script tag was found. \")\n    return false;\n  }\n\n  var js_urls = [\"https://cdn.pydata.org/bokeh/release/bokeh-0.12.13.min.js\", \"https://cdn.pydata.org/bokeh/release/bokeh-widgets-0.12.13.min.js\", \"https://cdn.pydata.org/bokeh/release/bokeh-tables-0.12.13.min.js\", \"https://cdn.pydata.org/bokeh/release/bokeh-gl-0.12.13.min.js\"];\n\n  var inline_js = [\n    function(Bokeh) {\n      Bokeh.set_log_level(\"info\");\n    },\n    \n    function(Bokeh) {\n      \n    },\n    function(Bokeh) {\n      console.log(\"Bokeh: injecting CSS: https://cdn.pydata.org/bokeh/release/bokeh-0.12.13.min.css\");\n      Bokeh.embed.inject_css(\"https://cdn.pydata.org/bokeh/release/bokeh-0.12.13.min.css\");\n      console.log(\"Bokeh: injecting CSS: https://cdn.pydata.org/bokeh/release/bokeh-widgets-0.12.13.min.css\");\n      Bokeh.embed.inject_css(\"https://cdn.pydata.org/bokeh/release/bokeh-widgets-0.12.13.min.css\");\n      console.log(\"Bokeh: injecting CSS: https://cdn.pydata.org/bokeh/release/bokeh-tables-0.12.13.min.css\");\n      Bokeh.embed.inject_css(\"https://cdn.pydata.org/bokeh/release/bokeh-tables-0.12.13.min.css\");\n    }\n  ];\n\n  function run_inline_js() {\n    \n    if ((root.Bokeh !== undefined) || (force === true)) {\n      for (var i = 0; i < inline_js.length; i++) {\n        inline_js[i].call(root, root.Bokeh);\n      }if (force === true) {\n        display_loaded();\n      }} else if (Date.now() < root._bokeh_timeout) {\n      setTimeout(run_inline_js, 100);\n    } else if (!root._bokeh_failed_load) {\n      console.log(\"Bokeh: BokehJS failed to load within specified timeout.\");\n      root._bokeh_failed_load = true;\n    } else if (force !== true) {\n      var cell = $(document.getElementById(\"d11263e2-82c8-45fe-a866-0006f003e645\")).parents('.cell').data().cell;\n      cell.output_area.append_execute_result(NB_LOAD_WARNING)\n    }\n\n  }\n\n  if (root._bokeh_is_loading === 0) {\n    console.log(\"Bokeh: BokehJS loaded, going straight to plotting\");\n    run_inline_js();\n  } else {\n    load_libs(js_urls, function() {\n      console.log(\"Bokeh: BokehJS plotting callback run at\", now());\n      run_inline_js();\n    });\n  }\n}(window));"
     },
     "metadata": {},
     "output_type": "display_data"
    }
   ],
   "source": [
    "import pandas as pd\n",
    "import gensim\n",
    "import nltk\n",
    "nltk.download('wordnet')\n",
    "\n",
    "\n",
    "from sklearn.manifold import TSNE\n",
    "\n",
    "from tqdm import tqdm\n",
    "\n",
    "\n",
    "from bokeh.plotting import figure, show, output_notebook, save\n",
    "from bokeh.models import HoverTool, value, LabelSet, Legend, ColumnDataSource\n",
    "output_notebook()"
   ]
  },
  {
   "cell_type": "code",
   "execution_count": 3,
   "metadata": {},
   "outputs": [],
   "source": [
    "filename_dataset = './datasets/twitter_trump_2019_05.csv'\n",
    "\n",
    "data_df = pd.read_csv(filename_dataset)"
   ]
  },
  {
   "cell_type": "code",
   "execution_count": 4,
   "metadata": {},
   "outputs": [
    {
     "data": {
      "text/plain": [
       "(677, 3)"
      ]
     },
     "execution_count": 4,
     "metadata": {},
     "output_type": "execute_result"
    }
   ],
   "source": [
    "data_df.shape"
   ]
  },
  {
   "cell_type": "code",
   "execution_count": 5,
   "metadata": {},
   "outputs": [
    {
     "data": {
      "text/html": [
       "<div>\n",
       "<style scoped>\n",
       "    .dataframe tbody tr th:only-of-type {\n",
       "        vertical-align: middle;\n",
       "    }\n",
       "\n",
       "    .dataframe tbody tr th {\n",
       "        vertical-align: top;\n",
       "    }\n",
       "\n",
       "    .dataframe thead th {\n",
       "        text-align: right;\n",
       "    }\n",
       "</style>\n",
       "<table border=\"1\" class=\"dataframe\">\n",
       "  <thead>\n",
       "    <tr style=\"text-align: right;\">\n",
       "      <th></th>\n",
       "      <th>text</th>\n",
       "      <th>created_at</th>\n",
       "      <th>id_str</th>\n",
       "    </tr>\n",
       "  </thead>\n",
       "  <tbody>\n",
       "    <tr>\n",
       "      <th>0</th>\n",
       "      <td>Robert Mueller came to the Oval Office (along ...</td>\n",
       "      <td>05-30-2019 15:34:11</td>\n",
       "      <td>1134120831389392896</td>\n",
       "    </tr>\n",
       "    <tr>\n",
       "      <th>1</th>\n",
       "      <td>“Comey and Brennan are turning on each other.”...</td>\n",
       "      <td>05-30-2019 14:41:24</td>\n",
       "      <td>1134107544681455616</td>\n",
       "    </tr>\n",
       "    <tr>\n",
       "      <th>2</th>\n",
       "      <td>Congressman John Ratcliffe “The Trump Campaign...</td>\n",
       "      <td>05-30-2019 13:41:43</td>\n",
       "      <td>1134092525218590721</td>\n",
       "    </tr>\n",
       "    <tr>\n",
       "      <th>3</th>\n",
       "      <td>Russia Russia Russia! That’s all you heard at ...</td>\n",
       "      <td>05-30-2019 11:57:47</td>\n",
       "      <td>1134066371510378501</td>\n",
       "    </tr>\n",
       "    <tr>\n",
       "      <th>4</th>\n",
       "      <td>....say he fought back against this phony crim...</td>\n",
       "      <td>05-30-2019 11:57:47</td>\n",
       "      <td>1134066372584062976</td>\n",
       "    </tr>\n",
       "  </tbody>\n",
       "</table>\n",
       "</div>"
      ],
      "text/plain": [
       "                                                text           created_at  \\\n",
       "0  Robert Mueller came to the Oval Office (along ...  05-30-2019 15:34:11   \n",
       "1  “Comey and Brennan are turning on each other.”...  05-30-2019 14:41:24   \n",
       "2  Congressman John Ratcliffe “The Trump Campaign...  05-30-2019 13:41:43   \n",
       "3  Russia Russia Russia! That’s all you heard at ...  05-30-2019 11:57:47   \n",
       "4  ....say he fought back against this phony crim...  05-30-2019 11:57:47   \n",
       "\n",
       "                id_str  \n",
       "0  1134120831389392896  \n",
       "1  1134107544681455616  \n",
       "2  1134092525218590721  \n",
       "3  1134066371510378501  \n",
       "4  1134066372584062976  "
      ]
     },
     "execution_count": 5,
     "metadata": {},
     "output_type": "execute_result"
    }
   ],
   "source": [
    "data_df.head()"
   ]
  },
  {
   "cell_type": "code",
   "execution_count": 6,
   "metadata": {},
   "outputs": [],
   "source": [
    "raw_docs = data_df['text']"
   ]
  },
  {
   "cell_type": "code",
   "execution_count": 7,
   "metadata": {},
   "outputs": [
    {
     "data": {
      "text/plain": [
       "0    Robert Mueller came to the Oval Office (along ...\n",
       "1    “Comey and Brennan are turning on each other.”...\n",
       "2    Congressman John Ratcliffe “The Trump Campaign...\n",
       "3    Russia Russia Russia! That’s all you heard at ...\n",
       "4    ....say he fought back against this phony crim...\n",
       "Name: text, dtype: object"
      ]
     },
     "execution_count": 7,
     "metadata": {},
     "output_type": "execute_result"
    }
   ],
   "source": [
    "raw_docs[:5]"
   ]
  },
  {
   "cell_type": "markdown",
   "metadata": {},
   "source": [
    "# Normalize, Tokenize, Remove Stopwords"
   ]
  },
  {
   "cell_type": "code",
   "execution_count": 8,
   "metadata": {},
   "outputs": [
    {
     "name": "stderr",
     "output_type": "stream",
     "text": [
      "100%|██████████| 677/677 [00:02<00:00, 257.69it/s]\n"
     ]
    }
   ],
   "source": [
    "docs = []\n",
    "\n",
    "for d in tqdm(raw_docs):\n",
    "    # normalize and tokenize\n",
    "    raw_tokens = gensim.utils.simple_preprocess(d)\n",
    "    \n",
    "    # Create lemmatizer\n",
    "    lemmatizer = nltk.stem.WordNetLemmatizer()\n",
    "    doc = []\n",
    "    # remove stopwords\n",
    "    for t in raw_tokens:\n",
    "        if t not in gensim.parsing.preprocessing.STOPWORDS:\n",
    "            # lemmatize and change the past tense to present tense\n",
    "            t = lemmatizer.lemmatize(t, pos='v')\n",
    "            doc.append(t)\n",
    "            \n",
    "            \n",
    "    docs.append(doc)"
   ]
  },
  {
   "cell_type": "code",
   "execution_count": 9,
   "metadata": {},
   "outputs": [
    {
     "name": "stdout",
     "output_type": "stream",
     "text": [
      "['robert', 'mueller', 'come', 'oval', 'office', 'potential', 'candidates', 'seek', 'name', 'director', 'fbi', 'position', 'years', 'tell', 'day', 'name', 'special', 'counsel', 'total', 'conflict', 'nice']\n",
      "['comey', 'brennan', 'turn', 'kilmeade']\n"
     ]
    }
   ],
   "source": [
    "print(docs[0])\n",
    "print(docs[1])"
   ]
  },
  {
   "cell_type": "markdown",
   "metadata": {},
   "source": [
    "# Build Word2Vec"
   ]
  },
  {
   "cell_type": "code",
   "execution_count": 10,
   "metadata": {},
   "outputs": [],
   "source": [
    "model = gensim.models.Word2Vec(size=150,\n",
    "                              window=10,\n",
    "                              min_count=2,\n",
    "                              sg=1,    # 1: Skip-Gram. 0:CBOW\n",
    "                              workers=1)\n",
    "\n"
   ]
  },
  {
   "cell_type": "markdown",
   "metadata": {},
   "source": [
    "# Prepare the Model Vocabulary"
   ]
  },
  {
   "cell_type": "code",
   "execution_count": 11,
   "metadata": {},
   "outputs": [],
   "source": [
    "model.build_vocab(docs)"
   ]
  },
  {
   "cell_type": "code",
   "execution_count": 12,
   "metadata": {},
   "outputs": [
    {
     "name": "stdout",
     "output_type": "stream",
     "text": [
      "Size of vocabulary: 1187\n"
     ]
    }
   ],
   "source": [
    "print('Size of vocabulary: {}'.format(len(model.wv.vocab)))"
   ]
  },
  {
   "cell_type": "code",
   "execution_count": 13,
   "metadata": {},
   "outputs": [
    {
     "name": "stdout",
     "output_type": "stream",
     "text": [
      "['robert', 'mueller', 'come', 'oval', 'office', 'potential', 'name', 'director', 'fbi', 'position', 'years', 'tell', 'day', 'special', 'counsel', 'total', 'conflict', 'nice', 'comey', 'brennan', 'turn', 'kilmeade', 'congressman', 'john', 'trump', 'campaign', 'clearly', 'collude', 'foxnews', 'russia', 'hear', 'begin', 'witch', 'hunt', 'hoax', 'disappear', 'help', 'elect', 'crime', 'exist', 'dems', 'partner', 'fake', 'news', 'media', 'fight', 'phony', 'horrendous', 'false', 'shouldn', 'sit', 'obstruction', 'presidential', 'harassment', 'greatest', 'history', 'spend', 'dark', 'unlimited', 'access', 'people', 'highly', 'bring', 'charge', 'inform', 'have', 'ship', 'recent', 'visit', 'japan', 'flotus', 'love', 'great', 'military', 'men', 'women', 'job', 'tonight', 'seanhannity', 'number', 'far', 'mark', 'levin', 'congrats', 'book', 'impeach', 'republican', 'president', 'commit', 'democrats', 'rt', 'presssec', 'white', 'house', 'statement', 'today', 'https', 'kayleighmcenany', 'time', 'spy']\n"
     ]
    }
   ],
   "source": [
    "print(list(model.wv.vocab.keys())[:100])"
   ]
  },
  {
   "cell_type": "markdown",
   "metadata": {},
   "source": [
    "# Train Word2Vec"
   ]
  },
  {
   "cell_type": "code",
   "execution_count": 14,
   "metadata": {},
   "outputs": [
    {
     "data": {
      "text/plain": [
       "5"
      ]
     },
     "execution_count": 14,
     "metadata": {},
     "output_type": "execute_result"
    }
   ],
   "source": [
    "model.epochs"
   ]
  },
  {
   "cell_type": "code",
   "execution_count": 15,
   "metadata": {},
   "outputs": [],
   "source": [
    "results = model.train(sentences=docs,\n",
    "                       total_examples=len(docs),\n",
    "                       epochs=model.epochs)"
   ]
  },
  {
   "cell_type": "code",
   "execution_count": 16,
   "metadata": {},
   "outputs": [
    {
     "data": {
      "text/plain": [
       "(34447, 47905)"
      ]
     },
     "execution_count": 16,
     "metadata": {},
     "output_type": "execute_result"
    }
   ],
   "source": [
    "results"
   ]
  },
  {
   "cell_type": "markdown",
   "metadata": {},
   "source": [
    "# Save the model"
   ]
  },
  {
   "cell_type": "code",
   "execution_count": 17,
   "metadata": {},
   "outputs": [],
   "source": [
    "filename_prefix = './models/trump_twitts.word2vec'\n",
    "model.save(filename_prefix)"
   ]
  },
  {
   "cell_type": "markdown",
   "metadata": {},
   "source": [
    "# Restore the Model"
   ]
  },
  {
   "cell_type": "code",
   "execution_count": 18,
   "metadata": {},
   "outputs": [],
   "source": [
    "model = gensim.models.Word2Vec.load(filename_prefix)"
   ]
  },
  {
   "cell_type": "markdown",
   "metadata": {},
   "source": [
    "# Insepct Length of  the Encoded Vector\n",
    "The length is the same as defined in the following snippet:\n",
    "```\n",
    "gensim.models.Word2Vec(size=150,...)\n",
    "```"
   ]
  },
  {
   "cell_type": "code",
   "execution_count": 19,
   "metadata": {},
   "outputs": [],
   "source": [
    "vector = model.wv['trump']"
   ]
  },
  {
   "cell_type": "code",
   "execution_count": 20,
   "metadata": {},
   "outputs": [
    {
     "data": {
      "text/plain": [
       "150"
      ]
     },
     "execution_count": 20,
     "metadata": {},
     "output_type": "execute_result"
    }
   ],
   "source": [
    "len(vector)"
   ]
  },
  {
   "cell_type": "code",
   "execution_count": 21,
   "metadata": {},
   "outputs": [
    {
     "data": {
      "text/plain": [
       "array([-0.10676198, -0.18929283,  0.20128597,  0.02491658, -0.09900754,\n",
       "       -0.08931006,  0.03638783,  0.25493547, -0.19223677, -0.1081264 ], dtype=float32)"
      ]
     },
     "execution_count": 21,
     "metadata": {},
     "output_type": "execute_result"
    }
   ],
   "source": [
    "vector[:10]"
   ]
  },
  {
   "cell_type": "code",
   "execution_count": 22,
   "metadata": {},
   "outputs": [
    {
     "name": "stdout",
     "output_type": "stream",
     "text": [
      "min: -0.29632511734962463, max: 0.3292270004749298\n"
     ]
    }
   ],
   "source": [
    "print('min: {}, max: {}'.format(min(vector),\n",
    "                               max(vector)))"
   ]
  },
  {
   "cell_type": "markdown",
   "metadata": {},
   "source": [
    "# Generate Features"
   ]
  },
  {
   "cell_type": "code",
   "execution_count": 51,
   "metadata": {},
   "outputs": [],
   "source": [
    "words_topic_1 = ['dbongino', 'great', 'today', 'trump', 'job', 'joe', 'china', 'vote', 'realdonaldtrump', 'biden']\n",
    "words_topic_2 = ['president', 'mueller', 'democrats', 'report', 'collusion', 'trump', 'realdonaldtrump', 'tomfitton', 'know', 'want']\n",
    "words_topic_3 = ['china', 'great', 'tariff', 'dollars', 'state', 'president', 'billion', 'want', 'japan', 'years']\n",
    "\n",
    "words_testing = words_topic_1 + words_topic_2 + words_topic_3"
   ]
  },
  {
   "cell_type": "code",
   "execution_count": 52,
   "metadata": {},
   "outputs": [
    {
     "data": {
      "text/plain": [
       "30"
      ]
     },
     "execution_count": 52,
     "metadata": {},
     "output_type": "execute_result"
    }
   ],
   "source": [
    "len(words_testing)"
   ]
  },
  {
   "cell_type": "code",
   "execution_count": 65,
   "metadata": {},
   "outputs": [
    {
     "data": {
      "text/plain": [
       "numpy.ndarray"
      ]
     },
     "execution_count": 65,
     "metadata": {},
     "output_type": "execute_result"
    }
   ],
   "source": [
    "# features = model.wv.__getitem__(words_testing)\n",
    "\n",
    "total_words = list(model.wv.vocab)\n",
    "features = model.wv.__getitem__(total_words)\n",
    "type(features)"
   ]
  },
  {
   "cell_type": "code",
   "execution_count": 67,
   "metadata": {},
   "outputs": [
    {
     "data": {
      "text/plain": [
       "['robert',\n",
       " 'mueller',\n",
       " 'come',\n",
       " 'oval',\n",
       " 'office',\n",
       " 'potential',\n",
       " 'name',\n",
       " 'director',\n",
       " 'fbi',\n",
       " 'position']"
      ]
     },
     "execution_count": 67,
     "metadata": {},
     "output_type": "execute_result"
    }
   ],
   "source": [
    "total_words[:10]"
   ]
  },
  {
   "cell_type": "code",
   "execution_count": 57,
   "metadata": {},
   "outputs": [
    {
     "name": "stdout",
     "output_type": "stream",
     "text": [
      "Length = 1187\n",
      "feature size = 150\n"
     ]
    }
   ],
   "source": [
    "print('Length = {}\\nfeature size = {}'.format(features.shape[0], features.shape[1]))"
   ]
  },
  {
   "cell_type": "code",
   "execution_count": 58,
   "metadata": {},
   "outputs": [
    {
     "data": {
      "text/plain": [
       "0.41159707"
      ]
     },
     "execution_count": 58,
     "metadata": {},
     "output_type": "execute_result"
    }
   ],
   "source": [
    "features.max()"
   ]
  },
  {
   "cell_type": "code",
   "execution_count": 59,
   "metadata": {},
   "outputs": [
    {
     "data": {
      "text/plain": [
       "-0.38196316"
      ]
     },
     "execution_count": 59,
     "metadata": {},
     "output_type": "execute_result"
    }
   ],
   "source": [
    "features.min()"
   ]
  },
  {
   "cell_type": "markdown",
   "metadata": {},
   "source": [
    "# Display Words using t-SNE"
   ]
  },
  {
   "cell_type": "code",
   "execution_count": 70,
   "metadata": {},
   "outputs": [],
   "source": [
    "SEED=0\n",
    "tsne_model = TSNE(perplexity=20, n_components=2, random_state=SEED)"
   ]
  },
  {
   "cell_type": "code",
   "execution_count": 71,
   "metadata": {},
   "outputs": [],
   "source": [
    "X_tsne = tsne_model.fit_transform(features)"
   ]
  },
  {
   "cell_type": "code",
   "execution_count": 72,
   "metadata": {},
   "outputs": [
    {
     "data": {
      "text/html": [
       "\n",
       "<div class=\"bk-root\">\n",
       "    <div class=\"bk-plotdiv\" id=\"50333154-7d39-4d3c-9e9a-5667a4e14167\"></div>\n",
       "</div>"
      ]
     },
     "metadata": {},
     "output_type": "display_data"
    },
    {
     "data": {
      "application/javascript": [
       "(function(root) {\n",
       "  function embed_document(root) {\n",
       "    \n",
       "  var docs_json = {\"7757248c-ae0d-41e1-9ad4-ed85f4ec284b\":{\"roots\":{\"references\":[{\"attributes\":{},\"id\":\"a3fb928c-fed6-4fdf-a643-7550a74b6da0\",\"type\":\"ResetTool\"},{\"attributes\":{\"callback\":null,\"column_names\":[\"x\",\"y\",\"label\",\"content\"],\"data\":{\"content\":[\"robert\",\"mueller\",\"come\",\"oval\",\"office\",\"potential\",\"name\",\"director\",\"fbi\",\"position\",\"years\",\"tell\",\"day\",\"special\",\"counsel\",\"total\",\"conflict\",\"nice\",\"comey\",\"brennan\",\"turn\",\"kilmeade\",\"congressman\",\"john\",\"trump\",\"campaign\",\"clearly\",\"collude\",\"foxnews\",\"russia\",\"hear\",\"begin\",\"witch\",\"hunt\",\"hoax\",\"disappear\",\"help\",\"elect\",\"crime\",\"exist\",\"dems\",\"partner\",\"fake\",\"news\",\"media\",\"fight\",\"phony\",\"horrendous\",\"false\",\"shouldn\",\"sit\",\"obstruction\",\"presidential\",\"harassment\",\"greatest\",\"history\",\"spend\",\"dark\",\"unlimited\",\"access\",\"people\",\"highly\",\"bring\",\"charge\",\"inform\",\"have\",\"ship\",\"recent\",\"visit\",\"japan\",\"flotus\",\"love\",\"great\",\"military\",\"men\",\"women\",\"job\",\"tonight\",\"seanhannity\",\"number\",\"far\",\"mark\",\"levin\",\"congrats\",\"book\",\"impeach\",\"republican\",\"president\",\"commit\",\"democrats\",\"rt\",\"presssec\",\"white\",\"house\",\"statement\",\"today\",\"https\",\"kayleighmcenany\",\"time\",\"spy\",\"change\",\"report\",\"evidence\",\"country\",\"person\",\"case\",\"close\",\"thank\",\"alabama\",\"senate\",\"incredible\",\"gain\",\"presidency\",\"lose\",\"include\",\"pro\",\"life\",\"victories\",\"roy\",\"moore\",\"win\",\"devastate\",\"judge\",\"supreme\",\"court\",\"justices\",\"republicans\",\"allow\",\"state\",\"leaders\",\"want\",\"probably\",\"realdonaldtrump\",\"god\",\"bless\",\"usa\",\"hrt\",\"wnwz\",\"successful\",\"big\",\"progress\",\"wonderful\",\"leader\",\"prime\",\"minister\",\"abe\",\"actually\",\"stick\",\"sleepy\",\"joe\",\"biden\",\"foreign\",\"kim\",\"jong\",\"call\",\"low\",\"iq\",\"things\",\"relate\",\"quote\",\"chairman\",\"individual\",\"possibly\",\"speak\",\"governor\",\"arkansas\",\"fema\",\"federal\",\"government\",\"record\",\"flood\",\"local\",\"officials\",\"update\",\"devastation\",\"tornadoes\",\"ohio\",\"early\",\"morning\",\"administration\",\"fully\",\"support\",\"cleanup\",\"recovery\",\"storm\",\"dangerous\",\"damage\",\"team\",\"continue\",\"emergency\",\"listen\",\"resilient\",\"oklahoma\",\"night\",\"live\",\"potus\",\"donald\",\"wait\",\"soon\",\"excite\",\"ve\",\"write\",\"confirmation\",\"make\",\"stop\",\"quick\",\"alaska\",\"meet\",\"go\",\"get\",\"new\",\"emperor\",\"empress\",\"honor\",\"associate\",\"chance\",\"particular\",\"african\",\"americans\",\"able\",\"vote\",\"hand\",\"responsible\",\"criminal\",\"justice\",\"reform\",\"tremendous\",\"amp\",\"fix\",\"bad\",\"term\",\"heavily\",\"involve\",\"pass\",\"period\",\"american\",\"apologize\",\"hop\",\"work\",\"israel\",\"formation\",\"alliance\",\"america\",\"stronger\",\"lot\",\"statements\",\"agents\",\"investigate\",\"treason\",\"wh\",\"congress\",\"create\",\"economy\",\"rebuild\",\"take\",\"care\",\"vet\",\"choice\",\"best\",\"admit\",\"completely\",\"age\",\"think\",\"away\",\"laws\",\"hold\",\"accountable\",\"whitehouse\",\"abeshinzo\",\"palace\",\"usembassytokyo\",\"receive\",\"even\",\"welcome\",\"potusinjapan\",\"congratulations\",\"friend\",\"roger\",\"th\",\"unbelievable\",\"watch\",\"race\",\"sport\",\"patriots\",\"roll\",\"thunder\",\"washington\",\"year\",\"hopefully\",\"press\",\"russian\",\"collusion\",\"delusion\",\"marklevinshow\",\"tokyo\",\"present\",\"cup\",\"champion\",\"trade\",\"negotiations\",\"agriculture\",\"beef\",\"play\",\"elections\",\"japanese\",\"unite\",\"fail\",\"party\",\"death\",\"wish\",\"golf\",\"usambjapan\",\"mr\",\"north\",\"korea\",\"fire\",\"small\",\"weapons\",\"disturb\",\"confidence\",\"promise\",\"smile\",\"swampman\",\"worse\",\"send\",\"signal\",\"right\",\"game\",\"fan\",\"tigerwoods\",\"say\",\"lady\",\"stay\",\"era\",\"kick\",\"historic\",\"discuss\",\"economic\",\"business\",\"gopchairwoman\",\"better\",\"deal\",\"end\",\"china\",\"ha\",\"corruption\",\"remember\",\"maga\",\"lie\",\"millions\",\"teamtrump\",\"plan\",\"healthcare\",\"mean\",\"private\",\"like\",\"blue\",\"cross\",\"tomorrow\",\"senator\",\"lindseygrahamsc\",\"relationship\",\"mainstream\",\"talk\",\"transparency\",\"learn\",\"fellow\",\"obama\",\"rule\",\"southern\",\"wall\",\"border\",\"security\",\"drug\",\"ask\",\"arrive\",\"ready\",\"land\",\"look\",\"forward\",\"see\",\"believe\",\"give\",\"hard\",\"know\",\"action\",\"flag\",\"democrat\",\"act\",\"control\",\"intelligence\",\"committee\",\"bipartisan\",\"important\",\"jim_jordan\",\"rep\",\"jordan\",\"focus\",\"attack\",\"real\",\"ago\",\"anymore\",\"problems\",\"face\",\"crisis\",\"lower\",\"cost\",\"engage\",\"troop\",\"depart\",\"shortly\",\"second\",\"bob\",\"unhappy\",\"longer\",\"memorial\",\"mitch\",\"mcconnell\",\"senators\",\"strong\",\"air\",\"force\",\"head\",\"behalf\",\"majesty\",\"narendramodi\",\"political\",\"victory\",\"man\",\"india\",\"lucky\",\"tom\",\"sacred\",\"duty\",\"arlington\",\"national\",\"cemetery\",\"hit\",\"list\",\"yesterday\",\"grateful\",\"inspire\",\"old\",\"tomcottonar\",\"radical\",\"leave\",\"testify\",\"issue\",\"million\",\"dollar\",\"loud\",\"clear\",\"obstruct\",\"try\",\"wrong\",\"impeachment\",\"high\",\"crimes\",\"misdemeanors\",\"agencies\",\"devinnunes\",\"happen\",\"furious\",\"find\",\"legislate\",\"twitter\",\"conservative\",\"voice\",\"open\",\"wow\",\"cnn\",\"rat\",\"way\",\"tire\",\"stories\",\"anti\",\"chris\",\"lowest\",\"badly\",\"join\",\"fox\",\"nation\",\"bruce\",\"announcement\",\"add\",\"amaze\",\"line\",\"tomfitton\",\"ag\",\"barr\",\"declassify\",\"spygate\",\"docs\",\"refuse\",\"message\",\"foia\",\"wray\",\"need\",\"step\",\"protect\",\"voters\",\"rate\",\"excellent\",\"good\",\"highest\",\"donaldjtrumpjr\",\"reminder\",\"pelosi\",\"ivankatrump\",\"internet\",\"association\",\"freedom\",\"award\",\"nancy\",\"membership\",\"subject\",\"sentence\",\"loudobbs\",\"attorney\",\"general\",\"quickly\",\"investigation\",\"surveillance\",\"election\",\"complete\",\"information\",\"long\",\"ensure\",\"truth\",\"occur\",\"restore\",\"public\",\"poll\",\"majority\",\"strongly\",\"lead\",\"billion\",\"disaster\",\"relief\",\"approval\",\"forget\",\"fall\",\"heroes\",\"return\",\"monitor\",\"hearts\",\"wake\",\"disappoint\",\"calm\",\"schumer\",\"use\",\"narrative\",\"corrupt\",\"rock\",\"totally\",\"ill\",\"prepare\",\"secretary\",\"story\",\"putin\",\"agree\",\"price\",\"pre\",\"condition\",\"committees\",\"pure\",\"fish\",\"expedition\",\"effort\",\"possible\",\"heart\",\"infrastructure\",\"conspiracy\",\"loopholes\",\"zero\",\"start\",\"letter\",\"colleagues\",\"true\",\"minutes\",\"later\",\"rise\",\"prove\",\"law\",\"enforcement\",\"officer\",\"firefighters\",\"medal\",\"leadership\",\"apart\",\"set\",\"prayers\",\"truly\",\"track\",\"let\",\"chuck\",\"jerry\",\"finish\",\"meantime\",\"achieve\",\"sad\",\"understand\",\"waste\",\"energy\",\"cause\",\"problem\",\"mcgahn\",\"appear\",\"nadler\",\"street\",\"journal\",\"editorial\",\"hours\",\"claim\",\"wasn\",\"release\",\"decision\",\"michael\",\"build\",\"renovation\",\"illegal\",\"especially\",\"senatemajldr\",\"tens\",\"thousands\",\"peace\",\"service\",\"sacrifice\",\"months\",\"byronyork\",\"serve\",\"proud\",\"stand\",\"please\",\"daniel\",\"outstanding\",\"icymi\",\"repmarkmeadows\",\"operations\",\"chuckgrassley\",\"canada\",\"mexico\",\"lift\",\"products\",\"week\",\"ll\",\"question\",\"point\",\"vicious\",\"censorship\",\"jam\",\"woods\",\"suspend\",\"expensive\",\"result\",\"word\",\"base\",\"illegally\",\"primary\",\"kentucky\",\"matt\",\"fantastic\",\"fred\",\"keller\",\"pennsylvania\",\"congressional\",\"landslide\",\"show\",\"rally\",\"family\",\"probe\",\"interview\",\"angry\",\"dollars\",\"page\",\"document\",\"knight\",\"success\",\"miss\",\"privilege\",\"hat\",\"conclusion\",\"announce\",\"amendment\",\"endorsement\",\"attitude\",\"countries\",\"taxpayers\",\"immigration\",\"break\",\"representative\",\"run\",\"megan\",\"king\",\"superior\",\"beautiful\",\"tough\",\"massive\",\"crowd\",\"montoursville\",\"nominee\",\"eastern\",\"knowledge\",\"negotiation\",\"iran\",\"cuban\",\"independence\",\"cuba\",\"democracy\",\"prosperity\",\"bernie\",\"sanders\",\"ahead\",\"crook\",\"hillary\",\"schiff\",\"future\",\"boom\",\"haven\",\"decades\",\"foxandfriends\",\"redo\",\"reason\",\"money\",\"bank\",\"happy\",\"york\",\"available\",\"source\",\"biggest\",\"cover\",\"wise\",\"buy\",\"cash\",\"farmers\",\"tariff\",\"agricultural\",\"product\",\"sure\",\"treat\",\"fairly\",\"immediately\",\"steve\",\"hilton\",\"enjoy\",\"mayor\",\"pete\",\"wallace\",\"move\",\"dump\",\"opinions\",\"mike\",\"official\",\"migrants\",\"florida\",\"market\",\"world\",\"place\",\"deserve\",\"ashamed\",\"dishonesty\",\"ideas\",\"policies\",\"read\",\"bias\",\"fact\",\"sadly\",\"opponents\",\"tax\",\"cut\",\"gdp\",\"policy\",\"greater\",\"finally\",\"city\",\"foolish\",\"rapidly\",\"hospitals\",\"school\",\"crazy\",\"delete\",\"acid\",\"wash\",\"email\",\"conclusively\",\"politics\",\"remove\",\"date\",\"candidate\",\"abuse\",\"power\",\"operation\",\"ticket\",\"role\",\"target\",\"judicialwatch\",\"dan\",\"scott\",\"arm\",\"liberty\",\"generations\",\"answer\",\"acknowledge\",\"proudly\",\"uniform\",\"consumer\",\"month\",\"ne\",\"idea\",\"hurt\",\"inaccurate\",\"coverage\",\"thing\",\"powerful\",\"demand\",\"notice\",\"situation\",\"patrol\",\"home\",\"ridiculous\",\"catch\",\"realize\",\"worst\",\"major\",\"legal\",\"process\",\"fair\",\"modern\",\"pride\",\"envy\",\"carolina\",\"post\",\"infighting\",\"different\",\"express\",\"decisive\",\"final\",\"simple\",\"side\",\"group\",\"nyc\",\"consider\",\"joke\",\"tv\",\"respect\",\"middle\",\"east\",\"nearly\",\"beat\",\"remain\",\"forever\",\"erictrump\",\"average\",\"cr\",\"workers\",\"safer\",\"louisiana\",\"anniversary\",\"embassy\",\"keep\",\"star\",\"devotion\",\"sale\",\"reduce\",\"order\",\"reserve\",\"match\",\"patriot\",\"farm\",\"pay\",\"xi\",\"wto\",\"faster\",\"company\",\"renegotiate\",\"billions\",\"negotiate\",\"buyers\",\"bigger\",\"advantage\",\"non\",\"steel\",\"industry\",\"grow\",\"save\",\"defense\",\"industries\",\"peck\",\"recommend\",\"fine\",\"invest\",\"south\",\"budget\",\"lakes\",\"clean\",\"restoration\",\"initiative\",\"greatness\",\"moon\",\"additional\",\"space\",\"largest\",\"presidents\",\"retaliate\",\"effect\",\"recently\",\"subsidize\",\"large\",\"degree\",\"avoid\",\"inside\",\"vietnam\",\"asia\",\"slam\",\"holocaust\",\"obviously\",\"credit\",\"opponent\",\"clinton\",\"asian\",\"unemployment\",\"vice\",\"boston\",\"redsox\",\"guy\",\"greatly\",\"oann\",\"friends\",\"back\",\"strategy\",\"harass\",\"isn\",\"destroy\",\"opposition\",\"tool\",\"employment\",\"series\",\"overthrow\",\"coup\",\"doj\",\"clapper\",\"christopher\",\"rip\",\"constitutional\",\"course\",\"hope\",\"little\",\"despite\",\"sound\",\"giant\",\"scam\",\"treasonous\",\"starve\",\"nations\",\"patients\",\"financial\",\"surprise\",\"susan\",\"rice\",\"peter\",\"richlowry\",\"kimstrassel\",\"therightmelissa\",\"realcandaceo\",\"mind\",\"reality\",\"conservatives\",\"social\",\"concern\",\"intel\",\"vp\",\"distract\",\"department\",\"fearful\",\"will\",\"battle\",\"easy\",\"produce\",\"goods\",\"felt\",\"fo\",\"mo\",\"democratic\",\"manufacture\",\"ceo\",\"unprecedented\",\"partially\",\"matter\",\"interest\",\"nedryun\",\"fisa\",\"sorry\",\"sen\",\"chief\",\"dem\",\"bully\",\"solution\",\"ban\",\"goal\",\"citizen\",\"countless\",\"nonsense\",\"gopleader\",\"gop\",\"subpoena\",\"jr\",\"testimony\",\"tedcruz\",\"govmikehuckabee\",\"richard\",\"burr\",\"ukraine\",\"investigations\",\"dbongino\",\"unfair\",\"practice\",\"breitbartnews\",\"rank\",\"criticize\",\"al\",\"steele\",\"contact\",\"realsaavedra\",\"hannity\",\"senatorburr\",\"rudygiuliani\",\"hughhewitt\",\"st\",\"secure\",\"donation\",\"mount\",\"dossier\",\"father\",\"dnc\",\"deep\",\"grant\",\"absolutely\",\"senthomtillis\",\"share\",\"donors\",\"wealth\",\"phenomenal\",\"traditional\",\"kind\",\"spouses\",\"past\",\"days\",\"conversations\",\"sign\",\"property\",\"mariabartiromo\",\"aprvcjpqop\",\"inflation\",\"favorite\",\"slow\",\"automatically\",\"speed\",\"easier\",\"quicker\",\"waivers\",\"sell\",\"approximately\",\"imbalance\",\"larger\",\"amount\",\"poor\",\"form\",\"humanitarian\",\"assistance\",\"congenial\",\"manner\",\"rush\",\"worth\",\"payments\",\"directly\",\"treasury\",\"families\",\"host\",\"hi\",\"prevent\",\"reach\",\"hiv\",\"panama\",\"beach\",\"terrible\",\"venezuela\",\"tuckercarlson\",\"slowly\",\"economist\",\"hurricane\",\"violence\",\"responders\",\"gm\",\"mary\",\"estate\",\"developers\",\"entitle\",\"off\",\"losses\",\"purpose\",\"toiatsmu\",\"attempt\",\"puerto\",\"rico\",\"iowa\",\"nebraska\",\"georgia\",\"steal\",\"wonder\",\"armywp_football\",\"conversation\",\"texas\",\"correct\",\"rocket\",\"terrorist\",\"citizens\",\"morgan\",\"ice\",\"april\",\"door\",\"impact\",\"derby\",\"rough\",\"tumble\",\"wet\",\"sloppy\",\"correctness\",\"overturn\",\"horse\",\"clip\",\"faith\",\"mt\",\"baptist\",\"church\",\"union\",\"judicial\",\"newly\",\"uncover\",\"materials\",\"jw\",\"lawsuits\",\"file\",\"dailycaller\",\"international\",\"pyoiljm\",\"pz\",\"facebook\",\"prisonplanet\",\"corporations\",\"decide\",\"free\",\"speech\",\"sharylattkisson\",\"ok\",\"trillion\",\"closely\",\"uc\",\"level\",\"foxbusiness\",\"prayer\",\"pray\",\"growth\",\"withdraw\",\"scandal\",\"joebiden\",\"ny\",\"plus\",\"yes\",\"firefighter\",\"member\",\"iaff\",\"im\",\"retire\",\"piss\",\"dues\",\"members\",\"endorse\",\"unions\",\"represent\",\"firemen\",\"fireman\",\"creepy\",\"nascar\",\"joeylogano\",\"island\",\"quantitative\",\"prisoners\"],\"label\":[\"robert\",\"mueller\",\"come\",\"oval\",\"office\",\"potential\",\"name\",\"director\",\"fbi\",\"position\",\"years\",\"tell\",\"day\",\"special\",\"counsel\",\"total\",\"conflict\",\"nice\",\"comey\",\"brennan\",\"turn\",\"kilmeade\",\"congressman\",\"john\",\"trump\",\"campaign\",\"clearly\",\"collude\",\"foxnews\",\"russia\",\"hear\",\"begin\",\"witch\",\"hunt\",\"hoax\",\"disappear\",\"help\",\"elect\",\"crime\",\"exist\",\"dems\",\"partner\",\"fake\",\"news\",\"media\",\"fight\",\"phony\",\"horrendous\",\"false\",\"shouldn\",\"sit\",\"obstruction\",\"presidential\",\"harassment\",\"greatest\",\"history\",\"spend\",\"dark\",\"unlimited\",\"access\",\"people\",\"highly\",\"bring\",\"charge\",\"inform\",\"have\",\"ship\",\"recent\",\"visit\",\"japan\",\"flotus\",\"love\",\"great\",\"military\",\"men\",\"women\",\"job\",\"tonight\",\"seanhannity\",\"number\",\"far\",\"mark\",\"levin\",\"congrats\",\"book\",\"impeach\",\"republican\",\"president\",\"commit\",\"democrats\",\"rt\",\"presssec\",\"white\",\"house\",\"statement\",\"today\",\"https\",\"kayleighmcenany\",\"time\",\"spy\",\"change\",\"report\",\"evidence\",\"country\",\"person\",\"case\",\"close\",\"thank\",\"alabama\",\"senate\",\"incredible\",\"gain\",\"presidency\",\"lose\",\"include\",\"pro\",\"life\",\"victories\",\"roy\",\"moore\",\"win\",\"devastate\",\"judge\",\"supreme\",\"court\",\"justices\",\"republicans\",\"allow\",\"state\",\"leaders\",\"want\",\"probably\",\"realdonaldtrump\",\"god\",\"bless\",\"usa\",\"hrt\",\"wnwz\",\"successful\",\"big\",\"progress\",\"wonderful\",\"leader\",\"prime\",\"minister\",\"abe\",\"actually\",\"stick\",\"sleepy\",\"joe\",\"biden\",\"foreign\",\"kim\",\"jong\",\"call\",\"low\",\"iq\",\"things\",\"relate\",\"quote\",\"chairman\",\"individual\",\"possibly\",\"speak\",\"governor\",\"arkansas\",\"fema\",\"federal\",\"government\",\"record\",\"flood\",\"local\",\"officials\",\"update\",\"devastation\",\"tornadoes\",\"ohio\",\"early\",\"morning\",\"administration\",\"fully\",\"support\",\"cleanup\",\"recovery\",\"storm\",\"dangerous\",\"damage\",\"team\",\"continue\",\"emergency\",\"listen\",\"resilient\",\"oklahoma\",\"night\",\"live\",\"potus\",\"donald\",\"wait\",\"soon\",\"excite\",\"ve\",\"write\",\"confirmation\",\"make\",\"stop\",\"quick\",\"alaska\",\"meet\",\"go\",\"get\",\"new\",\"emperor\",\"empress\",\"honor\",\"associate\",\"chance\",\"particular\",\"african\",\"americans\",\"able\",\"vote\",\"hand\",\"responsible\",\"criminal\",\"justice\",\"reform\",\"tremendous\",\"amp\",\"fix\",\"bad\",\"term\",\"heavily\",\"involve\",\"pass\",\"period\",\"american\",\"apologize\",\"hop\",\"work\",\"israel\",\"formation\",\"alliance\",\"america\",\"stronger\",\"lot\",\"statements\",\"agents\",\"investigate\",\"treason\",\"wh\",\"congress\",\"create\",\"economy\",\"rebuild\",\"take\",\"care\",\"vet\",\"choice\",\"best\",\"admit\",\"completely\",\"age\",\"think\",\"away\",\"laws\",\"hold\",\"accountable\",\"whitehouse\",\"abeshinzo\",\"palace\",\"usembassytokyo\",\"receive\",\"even\",\"welcome\",\"potusinjapan\",\"congratulations\",\"friend\",\"roger\",\"th\",\"unbelievable\",\"watch\",\"race\",\"sport\",\"patriots\",\"roll\",\"thunder\",\"washington\",\"year\",\"hopefully\",\"press\",\"russian\",\"collusion\",\"delusion\",\"marklevinshow\",\"tokyo\",\"present\",\"cup\",\"champion\",\"trade\",\"negotiations\",\"agriculture\",\"beef\",\"play\",\"elections\",\"japanese\",\"unite\",\"fail\",\"party\",\"death\",\"wish\",\"golf\",\"usambjapan\",\"mr\",\"north\",\"korea\",\"fire\",\"small\",\"weapons\",\"disturb\",\"confidence\",\"promise\",\"smile\",\"swampman\",\"worse\",\"send\",\"signal\",\"right\",\"game\",\"fan\",\"tigerwoods\",\"say\",\"lady\",\"stay\",\"era\",\"kick\",\"historic\",\"discuss\",\"economic\",\"business\",\"gopchairwoman\",\"better\",\"deal\",\"end\",\"china\",\"ha\",\"corruption\",\"remember\",\"maga\",\"lie\",\"millions\",\"teamtrump\",\"plan\",\"healthcare\",\"mean\",\"private\",\"like\",\"blue\",\"cross\",\"tomorrow\",\"senator\",\"lindseygrahamsc\",\"relationship\",\"mainstream\",\"talk\",\"transparency\",\"learn\",\"fellow\",\"obama\",\"rule\",\"southern\",\"wall\",\"border\",\"security\",\"drug\",\"ask\",\"arrive\",\"ready\",\"land\",\"look\",\"forward\",\"see\",\"believe\",\"give\",\"hard\",\"know\",\"action\",\"flag\",\"democrat\",\"act\",\"control\",\"intelligence\",\"committee\",\"bipartisan\",\"important\",\"jim_jordan\",\"rep\",\"jordan\",\"focus\",\"attack\",\"real\",\"ago\",\"anymore\",\"problems\",\"face\",\"crisis\",\"lower\",\"cost\",\"engage\",\"troop\",\"depart\",\"shortly\",\"second\",\"bob\",\"unhappy\",\"longer\",\"memorial\",\"mitch\",\"mcconnell\",\"senators\",\"strong\",\"air\",\"force\",\"head\",\"behalf\",\"majesty\",\"narendramodi\",\"political\",\"victory\",\"man\",\"india\",\"lucky\",\"tom\",\"sacred\",\"duty\",\"arlington\",\"national\",\"cemetery\",\"hit\",\"list\",\"yesterday\",\"grateful\",\"inspire\",\"old\",\"tomcottonar\",\"radical\",\"leave\",\"testify\",\"issue\",\"million\",\"dollar\",\"loud\",\"clear\",\"obstruct\",\"try\",\"wrong\",\"impeachment\",\"high\",\"crimes\",\"misdemeanors\",\"agencies\",\"devinnunes\",\"happen\",\"furious\",\"find\",\"legislate\",\"twitter\",\"conservative\",\"voice\",\"open\",\"wow\",\"cnn\",\"rat\",\"way\",\"tire\",\"stories\",\"anti\",\"chris\",\"lowest\",\"badly\",\"join\",\"fox\",\"nation\",\"bruce\",\"announcement\",\"add\",\"amaze\",\"line\",\"tomfitton\",\"ag\",\"barr\",\"declassify\",\"spygate\",\"docs\",\"refuse\",\"message\",\"foia\",\"wray\",\"need\",\"step\",\"protect\",\"voters\",\"rate\",\"excellent\",\"good\",\"highest\",\"donaldjtrumpjr\",\"reminder\",\"pelosi\",\"ivankatrump\",\"internet\",\"association\",\"freedom\",\"award\",\"nancy\",\"membership\",\"subject\",\"sentence\",\"loudobbs\",\"attorney\",\"general\",\"quickly\",\"investigation\",\"surveillance\",\"election\",\"complete\",\"information\",\"long\",\"ensure\",\"truth\",\"occur\",\"restore\",\"public\",\"poll\",\"majority\",\"strongly\",\"lead\",\"billion\",\"disaster\",\"relief\",\"approval\",\"forget\",\"fall\",\"heroes\",\"return\",\"monitor\",\"hearts\",\"wake\",\"disappoint\",\"calm\",\"schumer\",\"use\",\"narrative\",\"corrupt\",\"rock\",\"totally\",\"ill\",\"prepare\",\"secretary\",\"story\",\"putin\",\"agree\",\"price\",\"pre\",\"condition\",\"committees\",\"pure\",\"fish\",\"expedition\",\"effort\",\"possible\",\"heart\",\"infrastructure\",\"conspiracy\",\"loopholes\",\"zero\",\"start\",\"letter\",\"colleagues\",\"true\",\"minutes\",\"later\",\"rise\",\"prove\",\"law\",\"enforcement\",\"officer\",\"firefighters\",\"medal\",\"leadership\",\"apart\",\"set\",\"prayers\",\"truly\",\"track\",\"let\",\"chuck\",\"jerry\",\"finish\",\"meantime\",\"achieve\",\"sad\",\"understand\",\"waste\",\"energy\",\"cause\",\"problem\",\"mcgahn\",\"appear\",\"nadler\",\"street\",\"journal\",\"editorial\",\"hours\",\"claim\",\"wasn\",\"release\",\"decision\",\"michael\",\"build\",\"renovation\",\"illegal\",\"especially\",\"senatemajldr\",\"tens\",\"thousands\",\"peace\",\"service\",\"sacrifice\",\"months\",\"byronyork\",\"serve\",\"proud\",\"stand\",\"please\",\"daniel\",\"outstanding\",\"icymi\",\"repmarkmeadows\",\"operations\",\"chuckgrassley\",\"canada\",\"mexico\",\"lift\",\"products\",\"week\",\"ll\",\"question\",\"point\",\"vicious\",\"censorship\",\"jam\",\"woods\",\"suspend\",\"expensive\",\"result\",\"word\",\"base\",\"illegally\",\"primary\",\"kentucky\",\"matt\",\"fantastic\",\"fred\",\"keller\",\"pennsylvania\",\"congressional\",\"landslide\",\"show\",\"rally\",\"family\",\"probe\",\"interview\",\"angry\",\"dollars\",\"page\",\"document\",\"knight\",\"success\",\"miss\",\"privilege\",\"hat\",\"conclusion\",\"announce\",\"amendment\",\"endorsement\",\"attitude\",\"countries\",\"taxpayers\",\"immigration\",\"break\",\"representative\",\"run\",\"megan\",\"king\",\"superior\",\"beautiful\",\"tough\",\"massive\",\"crowd\",\"montoursville\",\"nominee\",\"eastern\",\"knowledge\",\"negotiation\",\"iran\",\"cuban\",\"independence\",\"cuba\",\"democracy\",\"prosperity\",\"bernie\",\"sanders\",\"ahead\",\"crook\",\"hillary\",\"schiff\",\"future\",\"boom\",\"haven\",\"decades\",\"foxandfriends\",\"redo\",\"reason\",\"money\",\"bank\",\"happy\",\"york\",\"available\",\"source\",\"biggest\",\"cover\",\"wise\",\"buy\",\"cash\",\"farmers\",\"tariff\",\"agricultural\",\"product\",\"sure\",\"treat\",\"fairly\",\"immediately\",\"steve\",\"hilton\",\"enjoy\",\"mayor\",\"pete\",\"wallace\",\"move\",\"dump\",\"opinions\",\"mike\",\"official\",\"migrants\",\"florida\",\"market\",\"world\",\"place\",\"deserve\",\"ashamed\",\"dishonesty\",\"ideas\",\"policies\",\"read\",\"bias\",\"fact\",\"sadly\",\"opponents\",\"tax\",\"cut\",\"gdp\",\"policy\",\"greater\",\"finally\",\"city\",\"foolish\",\"rapidly\",\"hospitals\",\"school\",\"crazy\",\"delete\",\"acid\",\"wash\",\"email\",\"conclusively\",\"politics\",\"remove\",\"date\",\"candidate\",\"abuse\",\"power\",\"operation\",\"ticket\",\"role\",\"target\",\"judicialwatch\",\"dan\",\"scott\",\"arm\",\"liberty\",\"generations\",\"answer\",\"acknowledge\",\"proudly\",\"uniform\",\"consumer\",\"month\",\"ne\",\"idea\",\"hurt\",\"inaccurate\",\"coverage\",\"thing\",\"powerful\",\"demand\",\"notice\",\"situation\",\"patrol\",\"home\",\"ridiculous\",\"catch\",\"realize\",\"worst\",\"major\",\"legal\",\"process\",\"fair\",\"modern\",\"pride\",\"envy\",\"carolina\",\"post\",\"infighting\",\"different\",\"express\",\"decisive\",\"final\",\"simple\",\"side\",\"group\",\"nyc\",\"consider\",\"joke\",\"tv\",\"respect\",\"middle\",\"east\",\"nearly\",\"beat\",\"remain\",\"forever\",\"erictrump\",\"average\",\"cr\",\"workers\",\"safer\",\"louisiana\",\"anniversary\",\"embassy\",\"keep\",\"star\",\"devotion\",\"sale\",\"reduce\",\"order\",\"reserve\",\"match\",\"patriot\",\"farm\",\"pay\",\"xi\",\"wto\",\"faster\",\"company\",\"renegotiate\",\"billions\",\"negotiate\",\"buyers\",\"bigger\",\"advantage\",\"non\",\"steel\",\"industry\",\"grow\",\"save\",\"defense\",\"industries\",\"peck\",\"recommend\",\"fine\",\"invest\",\"south\",\"budget\",\"lakes\",\"clean\",\"restoration\",\"initiative\",\"greatness\",\"moon\",\"additional\",\"space\",\"largest\",\"presidents\",\"retaliate\",\"effect\",\"recently\",\"subsidize\",\"large\",\"degree\",\"avoid\",\"inside\",\"vietnam\",\"asia\",\"slam\",\"holocaust\",\"obviously\",\"credit\",\"opponent\",\"clinton\",\"asian\",\"unemployment\",\"vice\",\"boston\",\"redsox\",\"guy\",\"greatly\",\"oann\",\"friends\",\"back\",\"strategy\",\"harass\",\"isn\",\"destroy\",\"opposition\",\"tool\",\"employment\",\"series\",\"overthrow\",\"coup\",\"doj\",\"clapper\",\"christopher\",\"rip\",\"constitutional\",\"course\",\"hope\",\"little\",\"despite\",\"sound\",\"giant\",\"scam\",\"treasonous\",\"starve\",\"nations\",\"patients\",\"financial\",\"surprise\",\"susan\",\"rice\",\"peter\",\"richlowry\",\"kimstrassel\",\"therightmelissa\",\"realcandaceo\",\"mind\",\"reality\",\"conservatives\",\"social\",\"concern\",\"intel\",\"vp\",\"distract\",\"department\",\"fearful\",\"will\",\"battle\",\"easy\",\"produce\",\"goods\",\"felt\",\"fo\",\"mo\",\"democratic\",\"manufacture\",\"ceo\",\"unprecedented\",\"partially\",\"matter\",\"interest\",\"nedryun\",\"fisa\",\"sorry\",\"sen\",\"chief\",\"dem\",\"bully\",\"solution\",\"ban\",\"goal\",\"citizen\",\"countless\",\"nonsense\",\"gopleader\",\"gop\",\"subpoena\",\"jr\",\"testimony\",\"tedcruz\",\"govmikehuckabee\",\"richard\",\"burr\",\"ukraine\",\"investigations\",\"dbongino\",\"unfair\",\"practice\",\"breitbartnews\",\"rank\",\"criticize\",\"al\",\"steele\",\"contact\",\"realsaavedra\",\"hannity\",\"senatorburr\",\"rudygiuliani\",\"hughhewitt\",\"st\",\"secure\",\"donation\",\"mount\",\"dossier\",\"father\",\"dnc\",\"deep\",\"grant\",\"absolutely\",\"senthomtillis\",\"share\",\"donors\",\"wealth\",\"phenomenal\",\"traditional\",\"kind\",\"spouses\",\"past\",\"days\",\"conversations\",\"sign\",\"property\",\"mariabartiromo\",\"aprvcjpqop\",\"inflation\",\"favorite\",\"slow\",\"automatically\",\"speed\",\"easier\",\"quicker\",\"waivers\",\"sell\",\"approximately\",\"imbalance\",\"larger\",\"amount\",\"poor\",\"form\",\"humanitarian\",\"assistance\",\"congenial\",\"manner\",\"rush\",\"worth\",\"payments\",\"directly\",\"treasury\",\"families\",\"host\",\"hi\",\"prevent\",\"reach\",\"hiv\",\"panama\",\"beach\",\"terrible\",\"venezuela\",\"tuckercarlson\",\"slowly\",\"economist\",\"hurricane\",\"violence\",\"responders\",\"gm\",\"mary\",\"estate\",\"developers\",\"entitle\",\"off\",\"losses\",\"purpose\",\"toiatsmu\",\"attempt\",\"puerto\",\"rico\",\"iowa\",\"nebraska\",\"georgia\",\"steal\",\"wonder\",\"armywp_football\",\"conversation\",\"texas\",\"correct\",\"rocket\",\"terrorist\",\"citizens\",\"morgan\",\"ice\",\"april\",\"door\",\"impact\",\"derby\",\"rough\",\"tumble\",\"wet\",\"sloppy\",\"correctness\",\"overturn\",\"horse\",\"clip\",\"faith\",\"mt\",\"baptist\",\"church\",\"union\",\"judicial\",\"newly\",\"uncover\",\"materials\",\"jw\",\"lawsuits\",\"file\",\"dailycaller\",\"international\",\"pyoiljm\",\"pz\",\"facebook\",\"prisonplanet\",\"corporations\",\"decide\",\"free\",\"speech\",\"sharylattkisson\",\"ok\",\"trillion\",\"closely\",\"uc\",\"level\",\"foxbusiness\",\"prayer\",\"pray\",\"growth\",\"withdraw\",\"scandal\",\"joebiden\",\"ny\",\"plus\",\"yes\",\"firefighter\",\"member\",\"iaff\",\"im\",\"retire\",\"piss\",\"dues\",\"members\",\"endorse\",\"unions\",\"represent\",\"firemen\",\"fireman\",\"creepy\",\"nascar\",\"joeylogano\",\"island\",\"quantitative\",\"prisoners\"],\"x\":{\"__ndarray__\":\"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\",\"dtype\":\"float32\",\"shape\":[1187]},\"y\":{\"__ndarray__\":\"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\",\"dtype\":\"float32\",\"shape\":[1187]}}},\"id\":\"228d8097-5228-452f-ae12-c32d756d3563\",\"type\":\"ColumnDataSource\"},{\"attributes\":{\"callback\":null,\"tooltips\":[[\"content\",\"@content\"]]},\"id\":\"fe2fafa4-01d7-47c0-af2d-545d5124d9d8\",\"type\":\"HoverTool\"},{\"attributes\":{},\"id\":\"f7fa482e-3178-4abf-83cb-f51cabf6a78a\",\"type\":\"SaveTool\"},{\"attributes\":{\"callback\":null},\"id\":\"25c8084d-8ca2-474e-a6e8-e0746ae5c749\",\"type\":\"DataRange1d\"},{\"attributes\":{\"fill_alpha\":{\"value\":0.1},\"fill_color\":{\"value\":\"#1f77b4\"},\"line_alpha\":{\"value\":0.1},\"line_color\":{\"value\":\"#1f77b4\"},\"size\":{\"units\":\"screen\",\"value\":10},\"x\":{\"field\":\"x\"},\"y\":{\"field\":\"y\"}},\"id\":\"63fc5d8d-ca9b-4894-892d-77b98d35993d\",\"type\":\"Circle\"},{\"attributes\":{\"source\":{\"id\":\"228d8097-5228-452f-ae12-c32d756d3563\",\"type\":\"ColumnDataSource\"}},\"id\":\"0104c499-9a62-4501-9035-ce565777ac7b\",\"type\":\"CDSView\"},{\"attributes\":{\"plot\":null,\"text\":\"T-SNE visualization of Trump's twitts\"},\"id\":\"c4e02995-9479-4eba-aab4-ea10182c2c4a\",\"type\":\"Title\"},{\"attributes\":{\"level\":\"glyph\",\"plot\":{\"id\":\"f2cc8a9e-1eb1-41c6-8bdd-23596a768502\",\"subtype\":\"Figure\",\"type\":\"Plot\"},\"source\":{\"id\":\"228d8097-5228-452f-ae12-c32d756d3563\",\"type\":\"ColumnDataSource\"},\"text\":{\"field\":\"label\"},\"text_font_size\":{\"value\":\"6pt\"},\"x\":{\"field\":\"x\"},\"x_offset\":{\"value\":5},\"y\":{\"field\":\"y\"},\"y_offset\":{\"value\":5}},\"id\":\"8a808241-f7b7-40f2-b6bf-b4c31175c1f0\",\"type\":\"LabelSet\"},{\"attributes\":{\"active_drag\":\"auto\",\"active_inspect\":\"auto\",\"active_scroll\":\"auto\",\"active_tap\":\"auto\",\"tools\":[{\"id\":\"7b46d25f-75d1-41b4-99b8-e4ad3f6bac5a\",\"type\":\"PanTool\"},{\"id\":\"186cba78-616c-4594-b6ee-51df00d4865b\",\"type\":\"WheelZoomTool\"},{\"id\":\"d09a2223-77ce-4f04-901f-ac2e90850550\",\"type\":\"BoxZoomTool\"},{\"id\":\"a3fb928c-fed6-4fdf-a643-7550a74b6da0\",\"type\":\"ResetTool\"},{\"id\":\"fe2fafa4-01d7-47c0-af2d-545d5124d9d8\",\"type\":\"HoverTool\"},{\"id\":\"f7fa482e-3178-4abf-83cb-f51cabf6a78a\",\"type\":\"SaveTool\"}]},\"id\":\"d42e9440-3ef0-490d-96a2-2ccfa47b095e\",\"type\":\"Toolbar\"},{\"attributes\":{},\"id\":\"93562c95-d5c1-4659-9beb-440781116c79\",\"type\":\"LinearScale\"},{\"attributes\":{\"callback\":null},\"id\":\"7a15bb80-1aae-4906-ab62-9860d8274753\",\"type\":\"DataRange1d\"},{\"attributes\":{},\"id\":\"4db692ae-6f37-4634-99c5-298858af793d\",\"type\":\"LinearScale\"},{\"attributes\":{\"bottom_units\":\"screen\",\"fill_alpha\":{\"value\":0.5},\"fill_color\":{\"value\":\"lightgrey\"},\"left_units\":\"screen\",\"level\":\"overlay\",\"line_alpha\":{\"value\":1.0},\"line_color\":{\"value\":\"black\"},\"line_dash\":[4,4],\"line_width\":{\"value\":2},\"plot\":null,\"render_mode\":\"css\",\"right_units\":\"screen\",\"top_units\":\"screen\"},\"id\":\"97165a53-2663-4901-8a47-379b2f4e07ba\",\"type\":\"BoxAnnotation\"},{\"attributes\":{\"fill_alpha\":{\"value\":0.8},\"fill_color\":{\"value\":\"#1f77b4\"},\"line_alpha\":{\"value\":0.8},\"line_color\":{\"value\":\"#1f77b4\"},\"size\":{\"units\":\"screen\",\"value\":10},\"x\":{\"field\":\"x\"},\"y\":{\"field\":\"y\"}},\"id\":\"73cfe94a-fe09-4a89-9cd4-1c8617ab242a\",\"type\":\"Circle\"},{\"attributes\":{\"min_border\":1,\"plot_width\":1000,\"renderers\":[{\"id\":\"97165a53-2663-4901-8a47-379b2f4e07ba\",\"type\":\"BoxAnnotation\"},{\"id\":\"f5ca3d9f-a20d-465a-baa4-c0602fc1bacd\",\"type\":\"GlyphRenderer\"},{\"id\":\"8a808241-f7b7-40f2-b6bf-b4c31175c1f0\",\"type\":\"LabelSet\"}],\"title\":{\"id\":\"c4e02995-9479-4eba-aab4-ea10182c2c4a\",\"type\":\"Title\"},\"toolbar\":{\"id\":\"d42e9440-3ef0-490d-96a2-2ccfa47b095e\",\"type\":\"Toolbar\"},\"x_range\":{\"id\":\"25c8084d-8ca2-474e-a6e8-e0746ae5c749\",\"type\":\"DataRange1d\"},\"x_scale\":{\"id\":\"93562c95-d5c1-4659-9beb-440781116c79\",\"type\":\"LinearScale\"},\"y_range\":{\"id\":\"7a15bb80-1aae-4906-ab62-9860d8274753\",\"type\":\"DataRange1d\"},\"y_scale\":{\"id\":\"4db692ae-6f37-4634-99c5-298858af793d\",\"type\":\"LinearScale\"}},\"id\":\"f2cc8a9e-1eb1-41c6-8bdd-23596a768502\",\"subtype\":\"Figure\",\"type\":\"Plot\"},{\"attributes\":{},\"id\":\"7b46d25f-75d1-41b4-99b8-e4ad3f6bac5a\",\"type\":\"PanTool\"},{\"attributes\":{\"data_source\":{\"id\":\"228d8097-5228-452f-ae12-c32d756d3563\",\"type\":\"ColumnDataSource\"},\"glyph\":{\"id\":\"73cfe94a-fe09-4a89-9cd4-1c8617ab242a\",\"type\":\"Circle\"},\"hover_glyph\":null,\"muted_glyph\":null,\"nonselection_glyph\":{\"id\":\"63fc5d8d-ca9b-4894-892d-77b98d35993d\",\"type\":\"Circle\"},\"selection_glyph\":null,\"view\":{\"id\":\"0104c499-9a62-4501-9035-ce565777ac7b\",\"type\":\"CDSView\"}},\"id\":\"f5ca3d9f-a20d-465a-baa4-c0602fc1bacd\",\"type\":\"GlyphRenderer\"},{\"attributes\":{},\"id\":\"186cba78-616c-4594-b6ee-51df00d4865b\",\"type\":\"WheelZoomTool\"},{\"attributes\":{\"overlay\":{\"id\":\"97165a53-2663-4901-8a47-379b2f4e07ba\",\"type\":\"BoxAnnotation\"}},\"id\":\"d09a2223-77ce-4f04-901f-ac2e90850550\",\"type\":\"BoxZoomTool\"}],\"root_ids\":[\"f2cc8a9e-1eb1-41c6-8bdd-23596a768502\"]},\"title\":\"Bokeh Application\",\"version\":\"0.12.13\"}};\n",
       "  var render_items = [{\"docid\":\"7757248c-ae0d-41e1-9ad4-ed85f4ec284b\",\"elementid\":\"50333154-7d39-4d3c-9e9a-5667a4e14167\",\"modelid\":\"f2cc8a9e-1eb1-41c6-8bdd-23596a768502\"}];\n",
       "  root.Bokeh.embed.embed_items_notebook(docs_json, render_items);\n",
       "\n",
       "  }\n",
       "  if (root.Bokeh !== undefined) {\n",
       "    embed_document(root);\n",
       "  } else {\n",
       "    var attempts = 0;\n",
       "    var timer = setInterval(function(root) {\n",
       "      if (root.Bokeh !== undefined) {\n",
       "        embed_document(root);\n",
       "        clearInterval(timer);\n",
       "      }\n",
       "      attempts++;\n",
       "      if (attempts > 100) {\n",
       "        console.log(\"Bokeh: ERROR: Unable to run BokehJS code because BokehJS library is missing\")\n",
       "        clearInterval(timer);\n",
       "      }\n",
       "    }, 10, root)\n",
       "  }\n",
       "})(window);"
      ],
      "application/vnd.bokehjs_exec.v0+json": ""
     },
     "metadata": {
      "application/vnd.bokehjs_exec.v0+json": {
       "id": "f2cc8a9e-1eb1-41c6-8bdd-23596a768502"
      }
     },
     "output_type": "display_data"
    }
   ],
   "source": [
    "x_tsne = X_tsne[:, 0]\n",
    "y_tsne = X_tsne[:, 1]\n",
    "label = total_words\n",
    "contents = total_words\n",
    "\n",
    "\n",
    "cluster_colors = {0: 'blue', 1: 'green', 2: 'yellow', 3: 'red', 4: 'skyblue', 5:'salmon', 6:'orange', 7:'maroon', 8:'crimson', 9:'black', 10:'gray'}\n",
    "\n",
    "# labels = ['Topic {}'.format(i) for i in topic_tfidf]\n",
    "# topic_colors = [cluster_colors[i] for i in topic_tfidf]\n",
    "\n",
    "settings = dict(x=x_tsne,\n",
    "               y=y_tsne,\n",
    "                label=label,\n",
    "#                 color=topic_colors,\n",
    "               content=contents\n",
    "               )\n",
    "\n",
    "source = ColumnDataSource(settings)\n",
    "\n",
    "labels = LabelSet(x='x', y='y', text='label', level='glyph',\n",
    "              x_offset=5, y_offset=5, source=source, render_mode='canvas', text_font_size='6pt')\n",
    "\n",
    "\n",
    "title = 'T-SNE visualization of Trump\\'s twitts'\n",
    "\n",
    "plot_lda = figure(plot_width=1000, plot_height=600,\n",
    "                     title=title, tools=\"pan,wheel_zoom,box_zoom,reset,hover,previewsave\",\n",
    "                     x_axis_type=None, y_axis_type=None, min_border=1)\n",
    "\n",
    "plot_lda.scatter(x='x', y='y',\n",
    "#                  legend='label', \n",
    "                 source=source, \n",
    "#                  color='color',\n",
    "                 alpha=0.8, size=10)#'msize', )\n",
    "\n",
    "\n",
    "plot_lda.add_layout(labels)\n",
    "\n",
    "hover = plot_lda.select(dict(type=HoverTool))\n",
    "hover.tooltips = {\"content\": \"@content\"}\n",
    "plot_lda.legend.location = \"top_left\"\n",
    "\n",
    "show(plot_lda)"
   ]
  },
  {
   "cell_type": "code",
   "execution_count": null,
   "metadata": {},
   "outputs": [],
   "source": []
  }
 ],
 "metadata": {
  "kernelspec": {
   "display_name": "Python 3",
   "language": "python",
   "name": "python3"
  },
  "language_info": {
   "codemirror_mode": {
    "name": "ipython",
    "version": 3
   },
   "file_extension": ".py",
   "mimetype": "text/x-python",
   "name": "python",
   "nbconvert_exporter": "python",
   "pygments_lexer": "ipython3",
   "version": "3.6.3"
  }
 },
 "nbformat": 4,
 "nbformat_minor": 2
}
