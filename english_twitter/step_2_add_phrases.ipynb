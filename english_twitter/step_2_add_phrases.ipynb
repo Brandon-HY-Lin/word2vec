{
 "cells": [
  {
   "cell_type": "markdown",
   "metadata": {},
   "source": [
    "# Add Phrases (Bigrams)\n",
    "Using gensim.models.phrases.Phrases and gensim.models.phrases.Phraser to add phrases (bigrams) automatically.\n",
    "\n",
    "Reference: https://www.kaggle.com/pierremegret/gensim-word2vec-tutorial\n",
    "\n",
    "Correct way to tokenize when using gensim.models.phrase.Phrase(): https://stackoverflow.com/questions/50009030/correct-way-of-using-phrases-and-preprocess-string-gensim"
   ]
  },
  {
   "cell_type": "code",
   "execution_count": 1,
   "metadata": {},
   "outputs": [
    {
     "name": "stdout",
     "output_type": "stream",
     "text": [
      "[nltk_data] Downloading package wordnet to /root/nltk_data...\n",
      "[nltk_data]   Unzipping corpora/wordnet.zip.\n"
     ]
    },
    {
     "data": {
      "text/html": [
       "\n",
       "    <div class=\"bk-root\">\n",
       "        <a href=\"https://bokeh.pydata.org\" target=\"_blank\" class=\"bk-logo bk-logo-small bk-logo-notebook\"></a>\n",
       "        <span id=\"84c7c100-5be3-4a49-a6f1-d5231a067451\">Loading BokehJS ...</span>\n",
       "    </div>"
      ]
     },
     "metadata": {},
     "output_type": "display_data"
    },
    {
     "data": {
      "application/javascript": [
       "\n",
       "(function(root) {\n",
       "  function now() {\n",
       "    return new Date();\n",
       "  }\n",
       "\n",
       "  var force = true;\n",
       "\n",
       "  if (typeof (root._bokeh_onload_callbacks) === \"undefined\" || force === true) {\n",
       "    root._bokeh_onload_callbacks = [];\n",
       "    root._bokeh_is_loading = undefined;\n",
       "  }\n",
       "\n",
       "  var JS_MIME_TYPE = 'application/javascript';\n",
       "  var HTML_MIME_TYPE = 'text/html';\n",
       "  var EXEC_MIME_TYPE = 'application/vnd.bokehjs_exec.v0+json';\n",
       "  var CLASS_NAME = 'output_bokeh rendered_html';\n",
       "\n",
       "  /**\n",
       "   * Render data to the DOM node\n",
       "   */\n",
       "  function render(props, node) {\n",
       "    var script = document.createElement(\"script\");\n",
       "    node.appendChild(script);\n",
       "  }\n",
       "\n",
       "  /**\n",
       "   * Handle when an output is cleared or removed\n",
       "   */\n",
       "  function handleClearOutput(event, handle) {\n",
       "    var cell = handle.cell;\n",
       "\n",
       "    var id = cell.output_area._bokeh_element_id;\n",
       "    var server_id = cell.output_area._bokeh_server_id;\n",
       "    // Clean up Bokeh references\n",
       "    if (id !== undefined) {\n",
       "      Bokeh.index[id].model.document.clear();\n",
       "      delete Bokeh.index[id];\n",
       "    }\n",
       "\n",
       "    if (server_id !== undefined) {\n",
       "      // Clean up Bokeh references\n",
       "      var cmd = \"from bokeh.io.state import curstate; print(curstate().uuid_to_server['\" + server_id + \"'].get_sessions()[0].document.roots[0]._id)\";\n",
       "      cell.notebook.kernel.execute(cmd, {\n",
       "        iopub: {\n",
       "          output: function(msg) {\n",
       "            var element_id = msg.content.text.trim();\n",
       "            Bokeh.index[element_id].model.document.clear();\n",
       "            delete Bokeh.index[element_id];\n",
       "          }\n",
       "        }\n",
       "      });\n",
       "      // Destroy server and session\n",
       "      var cmd = \"import bokeh.io.notebook as ion; ion.destroy_server('\" + server_id + \"')\";\n",
       "      cell.notebook.kernel.execute(cmd);\n",
       "    }\n",
       "  }\n",
       "\n",
       "  /**\n",
       "   * Handle when a new output is added\n",
       "   */\n",
       "  function handleAddOutput(event, handle) {\n",
       "    var output_area = handle.output_area;\n",
       "    var output = handle.output;\n",
       "\n",
       "    // limit handleAddOutput to display_data with EXEC_MIME_TYPE content only\n",
       "    if ((output.output_type != \"display_data\") || (!output.data.hasOwnProperty(EXEC_MIME_TYPE))) {\n",
       "      return\n",
       "    }\n",
       "\n",
       "    var toinsert = output_area.element.find(\".\" + CLASS_NAME.split(' ')[0]);\n",
       "\n",
       "    if (output.metadata[EXEC_MIME_TYPE][\"id\"] !== undefined) {\n",
       "      toinsert[0].firstChild.textContent = output.data[JS_MIME_TYPE];\n",
       "      // store reference to embed id on output_area\n",
       "      output_area._bokeh_element_id = output.metadata[EXEC_MIME_TYPE][\"id\"];\n",
       "    }\n",
       "    if (output.metadata[EXEC_MIME_TYPE][\"server_id\"] !== undefined) {\n",
       "      var bk_div = document.createElement(\"div\");\n",
       "      bk_div.innerHTML = output.data[HTML_MIME_TYPE];\n",
       "      var script_attrs = bk_div.children[0].attributes;\n",
       "      for (var i = 0; i < script_attrs.length; i++) {\n",
       "        toinsert[0].firstChild.setAttribute(script_attrs[i].name, script_attrs[i].value);\n",
       "      }\n",
       "      // store reference to server id on output_area\n",
       "      output_area._bokeh_server_id = output.metadata[EXEC_MIME_TYPE][\"server_id\"];\n",
       "    }\n",
       "  }\n",
       "\n",
       "  function register_renderer(events, OutputArea) {\n",
       "\n",
       "    function append_mime(data, metadata, element) {\n",
       "      // create a DOM node to render to\n",
       "      var toinsert = this.create_output_subarea(\n",
       "        metadata,\n",
       "        CLASS_NAME,\n",
       "        EXEC_MIME_TYPE\n",
       "      );\n",
       "      this.keyboard_manager.register_events(toinsert);\n",
       "      // Render to node\n",
       "      var props = {data: data, metadata: metadata[EXEC_MIME_TYPE]};\n",
       "      render(props, toinsert[0]);\n",
       "      element.append(toinsert);\n",
       "      return toinsert\n",
       "    }\n",
       "\n",
       "    /* Handle when an output is cleared or removed */\n",
       "    events.on('clear_output.CodeCell', handleClearOutput);\n",
       "    events.on('delete.Cell', handleClearOutput);\n",
       "\n",
       "    /* Handle when a new output is added */\n",
       "    events.on('output_added.OutputArea', handleAddOutput);\n",
       "\n",
       "    /**\n",
       "     * Register the mime type and append_mime function with output_area\n",
       "     */\n",
       "    OutputArea.prototype.register_mime_type(EXEC_MIME_TYPE, append_mime, {\n",
       "      /* Is output safe? */\n",
       "      safe: true,\n",
       "      /* Index of renderer in `output_area.display_order` */\n",
       "      index: 0\n",
       "    });\n",
       "  }\n",
       "\n",
       "  // register the mime type if in Jupyter Notebook environment and previously unregistered\n",
       "  if (root.Jupyter !== undefined) {\n",
       "    var events = require('base/js/events');\n",
       "    var OutputArea = require('notebook/js/outputarea').OutputArea;\n",
       "\n",
       "    if (OutputArea.prototype.mime_types().indexOf(EXEC_MIME_TYPE) == -1) {\n",
       "      register_renderer(events, OutputArea);\n",
       "    }\n",
       "  }\n",
       "\n",
       "  \n",
       "  if (typeof (root._bokeh_timeout) === \"undefined\" || force === true) {\n",
       "    root._bokeh_timeout = Date.now() + 5000;\n",
       "    root._bokeh_failed_load = false;\n",
       "  }\n",
       "\n",
       "  var NB_LOAD_WARNING = {'data': {'text/html':\n",
       "     \"<div style='background-color: #fdd'>\\n\"+\n",
       "     \"<p>\\n\"+\n",
       "     \"BokehJS does not appear to have successfully loaded. If loading BokehJS from CDN, this \\n\"+\n",
       "     \"may be due to a slow or bad network connection. Possible fixes:\\n\"+\n",
       "     \"</p>\\n\"+\n",
       "     \"<ul>\\n\"+\n",
       "     \"<li>re-rerun `output_notebook()` to attempt to load from CDN again, or</li>\\n\"+\n",
       "     \"<li>use INLINE resources instead, as so:</li>\\n\"+\n",
       "     \"</ul>\\n\"+\n",
       "     \"<code>\\n\"+\n",
       "     \"from bokeh.resources import INLINE\\n\"+\n",
       "     \"output_notebook(resources=INLINE)\\n\"+\n",
       "     \"</code>\\n\"+\n",
       "     \"</div>\"}};\n",
       "\n",
       "  function display_loaded() {\n",
       "    var el = document.getElementById(\"84c7c100-5be3-4a49-a6f1-d5231a067451\");\n",
       "    if (el != null) {\n",
       "      el.textContent = \"BokehJS is loading...\";\n",
       "    }\n",
       "    if (root.Bokeh !== undefined) {\n",
       "      if (el != null) {\n",
       "        el.textContent = \"BokehJS \" + root.Bokeh.version + \" successfully loaded.\";\n",
       "      }\n",
       "    } else if (Date.now() < root._bokeh_timeout) {\n",
       "      setTimeout(display_loaded, 100)\n",
       "    }\n",
       "  }\n",
       "\n",
       "\n",
       "  function run_callbacks() {\n",
       "    try {\n",
       "      root._bokeh_onload_callbacks.forEach(function(callback) { callback() });\n",
       "    }\n",
       "    finally {\n",
       "      delete root._bokeh_onload_callbacks\n",
       "    }\n",
       "    console.info(\"Bokeh: all callbacks have finished\");\n",
       "  }\n",
       "\n",
       "  function load_libs(js_urls, callback) {\n",
       "    root._bokeh_onload_callbacks.push(callback);\n",
       "    if (root._bokeh_is_loading > 0) {\n",
       "      console.log(\"Bokeh: BokehJS is being loaded, scheduling callback at\", now());\n",
       "      return null;\n",
       "    }\n",
       "    if (js_urls == null || js_urls.length === 0) {\n",
       "      run_callbacks();\n",
       "      return null;\n",
       "    }\n",
       "    console.log(\"Bokeh: BokehJS not loaded, scheduling load and callback at\", now());\n",
       "    root._bokeh_is_loading = js_urls.length;\n",
       "    for (var i = 0; i < js_urls.length; i++) {\n",
       "      var url = js_urls[i];\n",
       "      var s = document.createElement('script');\n",
       "      s.src = url;\n",
       "      s.async = false;\n",
       "      s.onreadystatechange = s.onload = function() {\n",
       "        root._bokeh_is_loading--;\n",
       "        if (root._bokeh_is_loading === 0) {\n",
       "          console.log(\"Bokeh: all BokehJS libraries loaded\");\n",
       "          run_callbacks()\n",
       "        }\n",
       "      };\n",
       "      s.onerror = function() {\n",
       "        console.warn(\"failed to load library \" + url);\n",
       "      };\n",
       "      console.log(\"Bokeh: injecting script tag for BokehJS library: \", url);\n",
       "      document.getElementsByTagName(\"head\")[0].appendChild(s);\n",
       "    }\n",
       "  };var element = document.getElementById(\"84c7c100-5be3-4a49-a6f1-d5231a067451\");\n",
       "  if (element == null) {\n",
       "    console.log(\"Bokeh: ERROR: autoload.js configured with elementid '84c7c100-5be3-4a49-a6f1-d5231a067451' but no matching script tag was found. \")\n",
       "    return false;\n",
       "  }\n",
       "\n",
       "  var js_urls = [\"https://cdn.pydata.org/bokeh/release/bokeh-0.12.13.min.js\", \"https://cdn.pydata.org/bokeh/release/bokeh-widgets-0.12.13.min.js\", \"https://cdn.pydata.org/bokeh/release/bokeh-tables-0.12.13.min.js\", \"https://cdn.pydata.org/bokeh/release/bokeh-gl-0.12.13.min.js\"];\n",
       "\n",
       "  var inline_js = [\n",
       "    function(Bokeh) {\n",
       "      Bokeh.set_log_level(\"info\");\n",
       "    },\n",
       "    \n",
       "    function(Bokeh) {\n",
       "      \n",
       "    },\n",
       "    function(Bokeh) {\n",
       "      console.log(\"Bokeh: injecting CSS: https://cdn.pydata.org/bokeh/release/bokeh-0.12.13.min.css\");\n",
       "      Bokeh.embed.inject_css(\"https://cdn.pydata.org/bokeh/release/bokeh-0.12.13.min.css\");\n",
       "      console.log(\"Bokeh: injecting CSS: https://cdn.pydata.org/bokeh/release/bokeh-widgets-0.12.13.min.css\");\n",
       "      Bokeh.embed.inject_css(\"https://cdn.pydata.org/bokeh/release/bokeh-widgets-0.12.13.min.css\");\n",
       "      console.log(\"Bokeh: injecting CSS: https://cdn.pydata.org/bokeh/release/bokeh-tables-0.12.13.min.css\");\n",
       "      Bokeh.embed.inject_css(\"https://cdn.pydata.org/bokeh/release/bokeh-tables-0.12.13.min.css\");\n",
       "    }\n",
       "  ];\n",
       "\n",
       "  function run_inline_js() {\n",
       "    \n",
       "    if ((root.Bokeh !== undefined) || (force === true)) {\n",
       "      for (var i = 0; i < inline_js.length; i++) {\n",
       "        inline_js[i].call(root, root.Bokeh);\n",
       "      }if (force === true) {\n",
       "        display_loaded();\n",
       "      }} else if (Date.now() < root._bokeh_timeout) {\n",
       "      setTimeout(run_inline_js, 100);\n",
       "    } else if (!root._bokeh_failed_load) {\n",
       "      console.log(\"Bokeh: BokehJS failed to load within specified timeout.\");\n",
       "      root._bokeh_failed_load = true;\n",
       "    } else if (force !== true) {\n",
       "      var cell = $(document.getElementById(\"84c7c100-5be3-4a49-a6f1-d5231a067451\")).parents('.cell').data().cell;\n",
       "      cell.output_area.append_execute_result(NB_LOAD_WARNING)\n",
       "    }\n",
       "\n",
       "  }\n",
       "\n",
       "  if (root._bokeh_is_loading === 0) {\n",
       "    console.log(\"Bokeh: BokehJS loaded, going straight to plotting\");\n",
       "    run_inline_js();\n",
       "  } else {\n",
       "    load_libs(js_urls, function() {\n",
       "      console.log(\"Bokeh: BokehJS plotting callback run at\", now());\n",
       "      run_inline_js();\n",
       "    });\n",
       "  }\n",
       "}(window));"
      ],
      "application/vnd.bokehjs_load.v0+json": "\n(function(root) {\n  function now() {\n    return new Date();\n  }\n\n  var force = true;\n\n  if (typeof (root._bokeh_onload_callbacks) === \"undefined\" || force === true) {\n    root._bokeh_onload_callbacks = [];\n    root._bokeh_is_loading = undefined;\n  }\n\n  \n\n  \n  if (typeof (root._bokeh_timeout) === \"undefined\" || force === true) {\n    root._bokeh_timeout = Date.now() + 5000;\n    root._bokeh_failed_load = false;\n  }\n\n  var NB_LOAD_WARNING = {'data': {'text/html':\n     \"<div style='background-color: #fdd'>\\n\"+\n     \"<p>\\n\"+\n     \"BokehJS does not appear to have successfully loaded. If loading BokehJS from CDN, this \\n\"+\n     \"may be due to a slow or bad network connection. Possible fixes:\\n\"+\n     \"</p>\\n\"+\n     \"<ul>\\n\"+\n     \"<li>re-rerun `output_notebook()` to attempt to load from CDN again, or</li>\\n\"+\n     \"<li>use INLINE resources instead, as so:</li>\\n\"+\n     \"</ul>\\n\"+\n     \"<code>\\n\"+\n     \"from bokeh.resources import INLINE\\n\"+\n     \"output_notebook(resources=INLINE)\\n\"+\n     \"</code>\\n\"+\n     \"</div>\"}};\n\n  function display_loaded() {\n    var el = document.getElementById(\"84c7c100-5be3-4a49-a6f1-d5231a067451\");\n    if (el != null) {\n      el.textContent = \"BokehJS is loading...\";\n    }\n    if (root.Bokeh !== undefined) {\n      if (el != null) {\n        el.textContent = \"BokehJS \" + root.Bokeh.version + \" successfully loaded.\";\n      }\n    } else if (Date.now() < root._bokeh_timeout) {\n      setTimeout(display_loaded, 100)\n    }\n  }\n\n\n  function run_callbacks() {\n    try {\n      root._bokeh_onload_callbacks.forEach(function(callback) { callback() });\n    }\n    finally {\n      delete root._bokeh_onload_callbacks\n    }\n    console.info(\"Bokeh: all callbacks have finished\");\n  }\n\n  function load_libs(js_urls, callback) {\n    root._bokeh_onload_callbacks.push(callback);\n    if (root._bokeh_is_loading > 0) {\n      console.log(\"Bokeh: BokehJS is being loaded, scheduling callback at\", now());\n      return null;\n    }\n    if (js_urls == null || js_urls.length === 0) {\n      run_callbacks();\n      return null;\n    }\n    console.log(\"Bokeh: BokehJS not loaded, scheduling load and callback at\", now());\n    root._bokeh_is_loading = js_urls.length;\n    for (var i = 0; i < js_urls.length; i++) {\n      var url = js_urls[i];\n      var s = document.createElement('script');\n      s.src = url;\n      s.async = false;\n      s.onreadystatechange = s.onload = function() {\n        root._bokeh_is_loading--;\n        if (root._bokeh_is_loading === 0) {\n          console.log(\"Bokeh: all BokehJS libraries loaded\");\n          run_callbacks()\n        }\n      };\n      s.onerror = function() {\n        console.warn(\"failed to load library \" + url);\n      };\n      console.log(\"Bokeh: injecting script tag for BokehJS library: \", url);\n      document.getElementsByTagName(\"head\")[0].appendChild(s);\n    }\n  };var element = document.getElementById(\"84c7c100-5be3-4a49-a6f1-d5231a067451\");\n  if (element == null) {\n    console.log(\"Bokeh: ERROR: autoload.js configured with elementid '84c7c100-5be3-4a49-a6f1-d5231a067451' but no matching script tag was found. \")\n    return false;\n  }\n\n  var js_urls = [\"https://cdn.pydata.org/bokeh/release/bokeh-0.12.13.min.js\", \"https://cdn.pydata.org/bokeh/release/bokeh-widgets-0.12.13.min.js\", \"https://cdn.pydata.org/bokeh/release/bokeh-tables-0.12.13.min.js\", \"https://cdn.pydata.org/bokeh/release/bokeh-gl-0.12.13.min.js\"];\n\n  var inline_js = [\n    function(Bokeh) {\n      Bokeh.set_log_level(\"info\");\n    },\n    \n    function(Bokeh) {\n      \n    },\n    function(Bokeh) {\n      console.log(\"Bokeh: injecting CSS: https://cdn.pydata.org/bokeh/release/bokeh-0.12.13.min.css\");\n      Bokeh.embed.inject_css(\"https://cdn.pydata.org/bokeh/release/bokeh-0.12.13.min.css\");\n      console.log(\"Bokeh: injecting CSS: https://cdn.pydata.org/bokeh/release/bokeh-widgets-0.12.13.min.css\");\n      Bokeh.embed.inject_css(\"https://cdn.pydata.org/bokeh/release/bokeh-widgets-0.12.13.min.css\");\n      console.log(\"Bokeh: injecting CSS: https://cdn.pydata.org/bokeh/release/bokeh-tables-0.12.13.min.css\");\n      Bokeh.embed.inject_css(\"https://cdn.pydata.org/bokeh/release/bokeh-tables-0.12.13.min.css\");\n    }\n  ];\n\n  function run_inline_js() {\n    \n    if ((root.Bokeh !== undefined) || (force === true)) {\n      for (var i = 0; i < inline_js.length; i++) {\n        inline_js[i].call(root, root.Bokeh);\n      }if (force === true) {\n        display_loaded();\n      }} else if (Date.now() < root._bokeh_timeout) {\n      setTimeout(run_inline_js, 100);\n    } else if (!root._bokeh_failed_load) {\n      console.log(\"Bokeh: BokehJS failed to load within specified timeout.\");\n      root._bokeh_failed_load = true;\n    } else if (force !== true) {\n      var cell = $(document.getElementById(\"84c7c100-5be3-4a49-a6f1-d5231a067451\")).parents('.cell').data().cell;\n      cell.output_area.append_execute_result(NB_LOAD_WARNING)\n    }\n\n  }\n\n  if (root._bokeh_is_loading === 0) {\n    console.log(\"Bokeh: BokehJS loaded, going straight to plotting\");\n    run_inline_js();\n  } else {\n    load_libs(js_urls, function() {\n      console.log(\"Bokeh: BokehJS plotting callback run at\", now());\n      run_inline_js();\n    });\n  }\n}(window));"
     },
     "metadata": {},
     "output_type": "display_data"
    }
   ],
   "source": [
    "import pandas as pd\n",
    "import gensim\n",
    "import nltk\n",
    "nltk.download('wordnet')\n",
    "\n",
    "\n",
    "from sklearn.manifold import TSNE\n",
    "\n",
    "\n",
    "from tqdm import tqdm\n",
    "\n",
    "\n",
    "from bokeh.plotting import figure, show, output_notebook, save\n",
    "from bokeh.models import HoverTool, value, LabelSet, Legend, ColumnDataSource\n",
    "output_notebook()"
   ]
  },
  {
   "cell_type": "markdown",
   "metadata": {},
   "source": [
    "# Preprocess"
   ]
  },
  {
   "cell_type": "code",
   "execution_count": 2,
   "metadata": {},
   "outputs": [],
   "source": [
    "def read_dataset(filename):\n",
    "    dataset_pd = pd.read_csv(filename, )\n",
    "    \n",
    "    return dataset_pd['text']\n",
    "\n",
    "def preprocess(raw_docs, has_stopwords=False):\n",
    "    \"\"\"\n",
    "    Normalize, tokenize, lemmatize, remove stopwords\n",
    "    \"\"\"\n",
    "    \n",
    "    lemmatizer = nltk.stem.WordNetLemmatizer()\n",
    "    \n",
    "    stopwords_http = ['https', 'rt', 'amp']\n",
    "    \n",
    "    docs = []\n",
    "    \n",
    "    for d in tqdm(raw_docs):\n",
    "        doc = []\n",
    "        \n",
    "        # normalize and tokenize\n",
    "        raw_tokens = gensim.utils.simple_preprocess(d)\n",
    "        \n",
    "        for t in raw_tokens:\n",
    "            if t not in stopwords_http:\n",
    "                if has_stopwords is False:\n",
    "                    if t not in gensim.parsing.preprocessing.STOPWORDS:\n",
    "                        # convert all tenses to present tense.\n",
    "                        t = lemmatizer.lemmatize(t, pos='v')\n",
    "                        doc.append(t)\n",
    "                else:\n",
    "                    doc.append(t)\n",
    "    \n",
    "        docs.append(doc)\n",
    "        \n",
    "    return docs\n",
    "\n",
    "\n",
    "# def simple_preprocess(raw_docs):\n",
    "#     docs = [list(gensim.utils.tokenize(d, lower=True)) for d in raw_docs]\n",
    "    \n",
    "#     return docs"
   ]
  },
  {
   "cell_type": "code",
   "execution_count": 3,
   "metadata": {},
   "outputs": [
    {
     "name": "stderr",
     "output_type": "stream",
     "text": [
      "100%|██████████| 2125/2125 [00:02<00:00, 740.12it/s]\n"
     ]
    }
   ],
   "source": [
    "filename_dataset = './datasets/twitter_trump_2019_0101-2019_0531.csv'\n",
    "\n",
    "raw_docs = read_dataset(filename_dataset)\n",
    "docs = preprocess(raw_docs)"
   ]
  },
  {
   "cell_type": "code",
   "execution_count": 4,
   "metadata": {},
   "outputs": [
    {
     "name": "stderr",
     "output_type": "stream",
     "text": [
      "100%|██████████| 2125/2125 [00:00<00:00, 16421.64it/s]\n"
     ]
    }
   ],
   "source": [
    "docs_with_stopwords  = preprocess(raw_docs, has_stopwords=True) \n",
    "# docs_with_stopwords = simple_preprocess(raw_docs)"
   ]
  },
  {
   "cell_type": "markdown",
   "metadata": {},
   "source": [
    "# \\*\\*\\* Create Bigram Model Using Documents w/ **STOPWORDS**\n",
    "Trained with Stopwords, otherwise the bigram model fail to generate good results.\n",
    "\n",
    "Reference: https://stackoverflow.com/questions/50009030/correct-way-of-using-phrases-and-preprocess-string-gensim"
   ]
  },
  {
   "cell_type": "code",
   "execution_count": 5,
   "metadata": {},
   "outputs": [],
   "source": [
    "phrase = gensim.models.phrases.Phrases(docs_with_stopwords, min_count=1, threshold=2)\n",
    "bigram_model = gensim.models.phrases.Phraser(phrase)"
   ]
  },
  {
   "cell_type": "markdown",
   "metadata": {},
   "source": [
    "# Validate the Bigram"
   ]
  },
  {
   "cell_type": "code",
   "execution_count": 6,
   "metadata": {},
   "outputs": [
    {
     "name": "stdout",
     "output_type": "stream",
     "text": [
      "raw doc:\n",
      "I was not informed about anything having to do with the Navy Ship USS John S. McCain during my recent visit to Japan. Nevertheless @FLOTUS and I loved being with our great Military Men and Women - what a spectacular job they do!\n",
      "\n",
      "doc w/ stopwords:\n",
      "['was', 'not', 'informed', 'about', 'anything', 'having', 'to', 'do', 'with', 'the', 'navy', 'ship', 'uss', 'john', 'mccain', 'during', 'my', 'recent', 'visit', 'to', 'japan', 'nevertheless', 'flotus', 'and', 'loved', 'being', 'with', 'our', 'great', 'military', 'men', 'and', 'women', 'what', 'spectacular', 'job', 'they', 'do']\n",
      "\n",
      "Bigrams of doc w/ stopwords:\n",
      "['was_not', 'informed', 'about_anything', 'having', 'to_do', 'with_the', 'navy', 'ship', 'uss', 'john_mccain', 'during_my', 'recent', 'visit_to', 'japan', 'nevertheless', 'flotus', 'and', 'loved', 'being_with', 'our_great', 'military', 'men_and', 'women', 'what', 'spectacular', 'job', 'they_do']\n",
      "\n",
      "Bigrams of doc w/0 stopwords:\n",
      "['inform', 'have', 'navy', 'ship', 'uss', 'john_mccain', 'recent', 'visit', 'japan', 'flotus', 'love', 'great_military', 'men_women', 'spectacular', 'job']\n"
     ]
    }
   ],
   "source": [
    "index_doc = 8\n",
    "print('raw doc:\\n{}\\n'.format(raw_docs[index_doc]))\n",
    "print('doc w/ stopwords:\\n{}\\n'.format(docs_with_stopwords[index_doc]))\n",
    "# print(docs[index_doc])\n",
    "print('Bigrams of doc w/ stopwords:')\n",
    "print(bigram_model[docs_with_stopwords[index_doc]])\n",
    "print()\n",
    "\n",
    "print('Bigrams of doc w/0 stopwords:')\n",
    "print(bigram_model[docs[index_doc]])"
   ]
  },
  {
   "cell_type": "markdown",
   "metadata": {},
   "source": [
    "# Generate Docs with Bigrams"
   ]
  },
  {
   "cell_type": "code",
   "execution_count": 7,
   "metadata": {},
   "outputs": [],
   "source": [
    "docs_with_phrases = bigram_model[docs]\n",
    "\n",
    "docs_target = docs_with_phrases  # doc"
   ]
  },
  {
   "cell_type": "markdown",
   "metadata": {},
   "source": [
    "# Init Program"
   ]
  },
  {
   "cell_type": "code",
   "execution_count": 8,
   "metadata": {},
   "outputs": [],
   "source": [
    "size_feature = 150\n",
    "window = 10\n",
    "min_count = 2   # ingnore words with total frequency lower than this value.\n",
    "model = gensim.models.Word2Vec(size=size_feature,\n",
    "                              window=window,\n",
    "                              min_count=min_count,\n",
    "                              sg=1, # 1: Skip-Gram. 0: BOW\n",
    "                              workers=1)\n",
    "\n",
    "model.build_vocab(docs_target)\n"
   ]
  },
  {
   "cell_type": "markdown",
   "metadata": {},
   "source": [
    "# Inspect the Results"
   ]
  },
  {
   "cell_type": "code",
   "execution_count": 9,
   "metadata": {},
   "outputs": [
    {
     "name": "stdout",
     "output_type": "stream",
     "text": [
      "Size of vocab: 3065\n",
      "\n",
      "The first 100 words:\n",
      "['robert_mueller', 'come', 'oval_office', 'potential', 'seek', 'name', 'director', 'fbi', 'position', 'years', 'tell', 'day', 'special_counsel', 'total', 'conflict', 'nice', 'comey', 'brennan', 'turn', 'kilmeade', 'congressman', 'john', 'ratcliffe', 'trump_campaign', 'clearly', 'conspire', 'collude', 'foxnews', 'fight', 'phony_crime', 'exist', 'horrendous_false', 'shouldn_fight', 'sit', 'obstruction', 'mueller', 'presidential_harassment', 'russia_russia', 'russia', 'hear', 'begin', 'witch_hunt', 'hoax', 'disappear', 'help', 'elect', 'crime', 'dems', 'partner', 'fake_news', 'media', 'greatest', 'history', 'spend', 'dark', 'unlimited', 'access', 'people', 'resources', 'cooperation', 'highly', 'bring', 'charge', 'inform', 'have', 'navy', 'ship', 'uss', 'john_mccain', 'recent', 'visit', 'japan', 'flotus', 'love', 'great_military', 'men_women', 'spectacular', 'job', 'great', 'tonight', 'seanhannity_foxnews', 'number', 'far', 'mark_levin', 'congrats', 'book', 'impeach_republican', 'president', 'commit', 'democrats_witch', 'hunt', 'presssec', 'white_house', 'statement', 'today', 'kayleighmcenany', 'time', 'origins', 'russia_hoax', 'spy']\n"
     ]
    }
   ],
   "source": [
    "print('Size of vocab: {}'.format(len(model.wv.vocab)))\n",
    "print()\n",
    "print('The first 100 words:\\n{}'.format(list(model.wv.vocab.keys())[:100]))"
   ]
  },
  {
   "cell_type": "markdown",
   "metadata": {},
   "source": [
    "# Train Program"
   ]
  },
  {
   "cell_type": "code",
   "execution_count": 10,
   "metadata": {},
   "outputs": [
    {
     "data": {
      "text/plain": [
       "(646787, 773580)"
      ]
     },
     "execution_count": 10,
     "metadata": {},
     "output_type": "execute_result"
    }
   ],
   "source": [
    "results = model.train(sentences=docs_target,\n",
    "                     total_examples=len(docs_target),\n",
    "                     epochs=30,\n",
    "                     report_delay=1)\n",
    "\n",
    "results"
   ]
  },
  {
   "cell_type": "markdown",
   "metadata": {},
   "source": [
    "# Save Model"
   ]
  },
  {
   "cell_type": "code",
   "execution_count": 11,
   "metadata": {},
   "outputs": [],
   "source": [
    "filename_model = './models/trump_twitts_with_phrases.word2vec'\n",
    "model.save(filename_model)"
   ]
  },
  {
   "cell_type": "markdown",
   "metadata": {},
   "source": [
    "# Restore Model"
   ]
  },
  {
   "cell_type": "code",
   "execution_count": 12,
   "metadata": {},
   "outputs": [],
   "source": [
    "model = gensim.models.Word2Vec.load(filename_model)"
   ]
  },
  {
   "cell_type": "markdown",
   "metadata": {},
   "source": [
    "# Test Some Words"
   ]
  },
  {
   "cell_type": "code",
   "execution_count": 21,
   "metadata": {},
   "outputs": [
    {
     "data": {
      "text/plain": [
       "[('throw', 0.7470657825469971),\n",
       " ('suppose', 0.7421317100524902),\n",
       " ('gopleader', 0.7401736378669739),\n",
       " ('jr', 0.7380250692367554),\n",
       " ('shred', 0.7378155589103699),\n",
       " ('clearly', 0.7351237535476685),\n",
       " ('stevehiltonx', 0.7343442440032959),\n",
       " ('jessebwatters', 0.7274690270423889),\n",
       " ('supporters', 0.7269744277000427),\n",
       " ('biggest_scandal', 0.7187231779098511)]"
      ]
     },
     "execution_count": 21,
     "metadata": {},
     "output_type": "execute_result"
    }
   ],
   "source": [
    "model.wv.most_similar('donald_trump')"
   ]
  },
  {
   "cell_type": "code",
   "execution_count": 20,
   "metadata": {
    "scrolled": true
   },
   "outputs": [
    {
     "data": {
      "text/plain": [
       "[('crook', 0.8719490766525269),\n",
       " ('oh', 0.8405627012252808),\n",
       " ('davis', 0.8357037901878357),\n",
       " ('data', 0.8278486728668213),\n",
       " ('democratic_national', 0.8071596622467041),\n",
       " ('wash', 0.8057330250740051),\n",
       " ('acid', 0.8051459193229675),\n",
       " ('russia_investigation', 0.8020377159118652),\n",
       " ('tomfitton_fbi', 0.8002674579620361),\n",
       " ('roger_stone', 0.7979101538658142)]"
      ]
     },
     "execution_count": 20,
     "metadata": {},
     "output_type": "execute_result"
    }
   ],
   "source": [
    "model.wv.most_similar('hillary_clinton')"
   ]
  },
  {
   "cell_type": "code",
   "execution_count": 26,
   "metadata": {},
   "outputs": [
    {
     "data": {
      "text/plain": [
       "[('economic_powerhouse', 0.8804218769073486),\n",
       " ('summit', 0.8724449872970581),\n",
       " ('nuclear_weapons', 0.8592386841773987),\n",
       " ('chairman_kim', 0.8500730991363525),\n",
       " ('north_korea', 0.8458744287490845),\n",
       " ('dinner', 0.8355292677879333),\n",
       " ('awesome', 0.8307632803916931),\n",
       " ('wise', 0.8241710662841797),\n",
       " ('continuation', 0.8207369446754456),\n",
       " ('hanoi_vietnam', 0.8188294768333435)]"
      ]
     },
     "execution_count": 26,
     "metadata": {},
     "output_type": "execute_result"
    }
   ],
   "source": [
    "model.wv.most_similar('kim_jong')"
   ]
  },
  {
   "cell_type": "code",
   "execution_count": 14,
   "metadata": {},
   "outputs": [
    {
     "data": {
      "text/plain": [
       "[('tariff', 0.7596133351325989),\n",
       " ('trade_negotiations', 0.7594571113586426),\n",
       " ('subsidize', 0.7531495690345764),\n",
       " ('asia', 0.7526028752326965),\n",
       " ('renegotiate', 0.7512441873550415),\n",
       " ('best_idea', 0.7504585981369019),\n",
       " ('large_degree', 0.7472637891769409),\n",
       " ('greatly_slow', 0.7443885207176208),\n",
       " ('product_inside', 0.7406420707702637),\n",
       " ('automatically_speed', 0.7401478886604309)]"
      ]
     },
     "execution_count": 14,
     "metadata": {},
     "output_type": "execute_result"
    }
   ],
   "source": [
    "model.wv.most_similar('china')"
   ]
  },
  {
   "cell_type": "code",
   "execution_count": 52,
   "metadata": {},
   "outputs": [
    {
     "data": {
      "text/plain": [
       "[('great_interview', 0.8672328591346741),\n",
       " ('great_men', 0.8204637765884399),\n",
       " ('brave_men', 0.8119024634361267),\n",
       " ('grateful', 0.7967354655265808),\n",
       " ('balance', 0.7953092455863953),\n",
       " ('founder', 0.7947789430618286),\n",
       " ('incredible_men', 0.7894577980041504),\n",
       " ('believer', 0.7850879430770874),\n",
       " ('ways', 0.7794942259788513),\n",
       " ('amy', 0.7754597067832947)]"
      ]
     },
     "execution_count": 52,
     "metadata": {},
     "output_type": "execute_result"
    }
   ],
   "source": [
    "model.wv.most_similar('women')"
   ]
  },
  {
   "cell_type": "code",
   "execution_count": 33,
   "metadata": {},
   "outputs": [
    {
     "data": {
      "text/plain": [
       "[('migration', 0.8289365768432617),\n",
       " ('illegals', 0.8092644214630127),\n",
       " ('big_caravan', 0.8062359094619751),\n",
       " ('sadly_murder', 0.8034271597862244),\n",
       " ('strong_immigration', 0.7937170267105103),\n",
       " ('big_contributor', 0.7895392179489136),\n",
       " ('stop_illegals', 0.7876311540603638),\n",
       " ('long_march', 0.7849839925765991),\n",
       " ('americans_die', 0.7693694233894348),\n",
       " ('coyotes', 0.7673327326774597)]"
      ]
     },
     "execution_count": 33,
     "metadata": {},
     "output_type": "execute_result"
    }
   ],
   "source": [
    "model.wv.most_similar('mexico')"
   ]
  },
  {
   "cell_type": "code",
   "execution_count": 38,
   "metadata": {},
   "outputs": [
    {
     "data": {
      "text/plain": [
       "[('veterans', 0.651187002658844),\n",
       " ('caldwell', 0.6485228538513184),\n",
       " ('good_day', 0.6383963823318481),\n",
       " ('credit_dan', 0.633927583694458),\n",
       " ('brave', 0.6325311660766602),\n",
       " ('modern', 0.6265507340431213),\n",
       " ('heroes', 0.6232959032058716),\n",
       " ('heart', 0.6206722855567932),\n",
       " ('whitehouse_happy', 0.6043614149093628),\n",
       " ('worker', 0.604219377040863)]"
      ]
     },
     "execution_count": 38,
     "metadata": {},
     "output_type": "execute_result"
    }
   ],
   "source": [
    "# topic 0\n",
    "model.wv.most_similar('america')"
   ]
  },
  {
   "cell_type": "code",
   "execution_count": 39,
   "metadata": {},
   "outputs": [
    {
     "data": {
      "text/plain": [
       "[('april_unemployment', 0.8094142079353333),\n",
       " ('april', 0.7974698543548584),\n",
       " ('roar', 0.7521603107452393),\n",
       " ('shocker', 0.7327584028244019),\n",
       " ('surge', 0.7264478206634521),\n",
       " ('fell', 0.7083963751792908),\n",
       " ('create', 0.7025642991065979),\n",
       " ('expectations', 0.6824380159378052),\n",
       " ('percent', 0.6718088388442993),\n",
       " ('gdp_growth', 0.6691694855690002)]"
      ]
     },
     "execution_count": 39,
     "metadata": {},
     "output_type": "execute_result"
    }
   ],
   "source": [
    "# topic 1\n",
    "model.wv.most_similar('job')"
   ]
  },
  {
   "cell_type": "code",
   "execution_count": 40,
   "metadata": {},
   "outputs": [
    {
     "data": {
      "text/plain": [
       "[('endorse', 0.8733628392219543),\n",
       " ('firefighter', 0.8590326309204102),\n",
       " ('retire', 0.8258934020996094),\n",
       " ('piss', 0.8217328190803528),\n",
       " ('dues', 0.8202773928642273),\n",
       " ('union_leadership', 0.81878262758255),\n",
       " ('union_dues', 0.8125136494636536),\n",
       " ('membership', 0.7974640130996704),\n",
       " ('support_trump', 0.793086051940918),\n",
       " ('fireman', 0.7831147909164429)]"
      ]
     },
     "execution_count": 40,
     "metadata": {},
     "output_type": "execute_result"
    }
   ],
   "source": [
    "# topic 2\n",
    "model.wv.most_similar('dbongino')"
   ]
  },
  {
   "cell_type": "markdown",
   "metadata": {},
   "source": [
    "# Get Similar Words"
   ]
  },
  {
   "cell_type": "code",
   "execution_count": 43,
   "metadata": {},
   "outputs": [
    {
     "name": "stdout",
     "output_type": "stream",
     "text": [
      "['america', 'veterans', 'caldwell', 'good_day', 'credit_dan', 'brave', 'modern', 'heroes', 'heart', 'whitehouse_happy', 'worker', 'job', 'april_unemployment', 'april', 'roar', 'shocker', 'surge', 'fell', 'create', 'expectations', 'percent', 'gdp_growth', 'dbongino', 'endorse', 'firefighter', 'retire', 'piss', 'dues', 'union_leadership', 'union_dues', 'membership', 'support_trump', 'fireman']\n"
     ]
    }
   ],
   "source": [
    "similar_words = []\n",
    "key_words = ['america', 'job', 'dbongino']\n",
    "\n",
    "for key_w in key_words:\n",
    "    similar_words.append(key_w)\n",
    "    \n",
    "    for s_w, _ in model.wv.most_similar(key_w):\n",
    "        similar_words.append(s_w)\n",
    "        \n",
    "print(similar_words)"
   ]
  },
  {
   "cell_type": "markdown",
   "metadata": {},
   "source": [
    "# Display Words using t-SNE"
   ]
  },
  {
   "cell_type": "code",
   "execution_count": 44,
   "metadata": {},
   "outputs": [
    {
     "name": "stdout",
     "output_type": "stream",
     "text": [
      "['america', 'veterans', 'caldwell', 'good_day', 'credit_dan', 'brave', 'modern', 'heroes', 'heart', 'whitehouse_happy']\n",
      "Length = 33\n",
      "feature size = 150\n",
      "feature max: 0.924269437789917, min: -0.9417712688446045\n"
     ]
    }
   ],
   "source": [
    "# total_words = list(model.wv.vocab)\n",
    "# features = model.wv.__getitem__(total_words)\n",
    "\n",
    "total_words = similar_words\n",
    "features = model.wv.__getitem__(total_words)\n",
    "\n",
    "print(total_words[:10])\n",
    "print('Length = {}\\nfeature size = {}'.format(features.shape[0], features.shape[1]))\n",
    "print('feature max: {}, min: {}'.format(features.max(), features.min()))"
   ]
  },
  {
   "cell_type": "code",
   "execution_count": 45,
   "metadata": {},
   "outputs": [],
   "source": [
    "SEED = 0\n",
    "tsne = TSNE(perplexity=20, n_components=2, random_state=SEED)\n",
    "X_tsne = tsne.fit_transform(features)"
   ]
  },
  {
   "cell_type": "code",
   "execution_count": 48,
   "metadata": {
    "scrolled": true
   },
   "outputs": [
    {
     "data": {
      "text/html": [
       "\n",
       "<div class=\"bk-root\">\n",
       "    <div class=\"bk-plotdiv\" id=\"a83279d9-6a41-4520-908c-c301b9c78111\"></div>\n",
       "</div>"
      ]
     },
     "metadata": {},
     "output_type": "display_data"
    },
    {
     "data": {
      "application/javascript": [
       "(function(root) {\n",
       "  function embed_document(root) {\n",
       "    \n",
       "  var docs_json = {\"39d613e0-dad0-48f8-966b-3b4f2c982d2d\":{\"roots\":{\"references\":[{\"attributes\":{\"data_source\":{\"id\":\"531a1cb1-231b-4ca3-86b6-d565a7b0d4a4\",\"type\":\"ColumnDataSource\"},\"glyph\":{\"id\":\"33ec8c43-cf0d-40dc-b2c0-47d45083fc72\",\"type\":\"Circle\"},\"hover_glyph\":null,\"muted_glyph\":null,\"nonselection_glyph\":{\"id\":\"59d297b7-d8aa-4b23-b22e-61df3d5d1388\",\"type\":\"Circle\"},\"selection_glyph\":null,\"view\":{\"id\":\"560c1822-97e1-45ab-80db-4c759e1feb15\",\"type\":\"CDSView\"}},\"id\":\"c1e1c747-6dac-443f-a43d-6f8b8dac93f7\",\"type\":\"GlyphRenderer\"},{\"attributes\":{},\"id\":\"75cd897c-7fe2-4e97-b231-55f04fc7fc6d\",\"type\":\"WheelZoomTool\"},{\"attributes\":{\"min_border\":1,\"plot_width\":1000,\"renderers\":[{\"id\":\"e0f832bf-2c65-4de9-8f6e-8d191a1419dc\",\"type\":\"BoxAnnotation\"},{\"id\":\"c1e1c747-6dac-443f-a43d-6f8b8dac93f7\",\"type\":\"GlyphRenderer\"},{\"id\":\"533aa4ce-01b6-4835-a6f6-97c26fee2e78\",\"type\":\"LabelSet\"}],\"title\":{\"id\":\"ce6a655b-49cf-41a5-b544-72a9a246be96\",\"type\":\"Title\"},\"toolbar\":{\"id\":\"7cf9f817-b374-44a4-8329-d7ada894406d\",\"type\":\"Toolbar\"},\"x_range\":{\"id\":\"6b0037cf-06b4-4471-8a2b-7583a6eb400d\",\"type\":\"DataRange1d\"},\"x_scale\":{\"id\":\"763bcf9a-b1c5-4c19-9a92-cedc7618227d\",\"type\":\"LinearScale\"},\"y_range\":{\"id\":\"f587e6ad-900b-49fd-9929-e53e3b30fbb2\",\"type\":\"DataRange1d\"},\"y_scale\":{\"id\":\"224e81dd-2a11-47db-95b6-a052ad6e74a7\",\"type\":\"LinearScale\"}},\"id\":\"2eb9e017-e373-4c91-a54f-ac3b3280098b\",\"subtype\":\"Figure\",\"type\":\"Plot\"},{\"attributes\":{\"overlay\":{\"id\":\"e0f832bf-2c65-4de9-8f6e-8d191a1419dc\",\"type\":\"BoxAnnotation\"}},\"id\":\"9844876d-e0aa-4df7-b66b-498ae0adcbdf\",\"type\":\"BoxZoomTool\"},{\"attributes\":{\"callback\":null,\"column_names\":[\"x\",\"y\",\"label\",\"color\",\"content\"],\"data\":{\"color\":[\"blue\",\"blue\",\"blue\",\"blue\",\"blue\",\"blue\",\"blue\",\"blue\",\"blue\",\"blue\",\"blue\",\"green\",\"green\",\"green\",\"green\",\"green\",\"green\",\"green\",\"green\",\"green\",\"green\",\"green\",\"yellow\",\"yellow\",\"yellow\",\"yellow\",\"yellow\",\"yellow\",\"yellow\",\"yellow\",\"yellow\",\"yellow\",\"yellow\"],\"content\":[\"america\",\"veterans\",\"caldwell\",\"good_day\",\"credit_dan\",\"brave\",\"modern\",\"heroes\",\"heart\",\"whitehouse_happy\",\"worker\",\"job\",\"april_unemployment\",\"april\",\"roar\",\"shocker\",\"surge\",\"fell\",\"create\",\"expectations\",\"percent\",\"gdp_growth\",\"dbongino\",\"endorse\",\"firefighter\",\"retire\",\"piss\",\"dues\",\"union_leadership\",\"union_dues\",\"membership\",\"support_trump\",\"fireman\"],\"label\":[\"america\",\"veterans\",\"caldwell\",\"good_day\",\"credit_dan\",\"brave\",\"modern\",\"heroes\",\"heart\",\"whitehouse_happy\",\"worker\",\"job\",\"april_unemployment\",\"april\",\"roar\",\"shocker\",\"surge\",\"fell\",\"create\",\"expectations\",\"percent\",\"gdp_growth\",\"dbongino\",\"endorse\",\"firefighter\",\"retire\",\"piss\",\"dues\",\"union_leadership\",\"union_dues\",\"membership\",\"support_trump\",\"fireman\"],\"x\":{\"__ndarray__\":\"WOZGQ7nHP8Ib+S1CCxaZQoBo1UIniJPCRLhsQWcJvcIqr+dCSDe3wam8/kGjPuxC+oCoQsAWGEPn2RZAtypJQqZjWUNxIf5C57xOQzBmakIldAdDWV8hQjKMS8O0u1dDutmZQ0MhF8MQ54zCGQB3wxkzGMOImgbDnDNpw+hih8KkRGXD\",\"dtype\":\"float32\",\"shape\":[33]},\"y\":{\"__ndarray__\":\"j+9lQ7ZsskNY4p5DxYUcQzf4kUNcYX1Dx/1dQ3sMMUNl555C/VEKQ8CGmkLvJbrD1WUxw9BFTcMkXTnDD/uQwQoJ98Jm+dzCOp2Kw5pXhsO9ig7C6F3Twg1gXsNvDSxCgXtsP0W1c0IAePpBYPrXwrK2zsJ/EpbBGwiZwdQtZcKKB7FC\",\"dtype\":\"float32\",\"shape\":[33]}}},\"id\":\"531a1cb1-231b-4ca3-86b6-d565a7b0d4a4\",\"type\":\"ColumnDataSource\"},{\"attributes\":{},\"id\":\"e7cec22f-52cb-4d8e-a1e9-63ebb3187117\",\"type\":\"ResetTool\"},{\"attributes\":{\"callback\":null,\"tooltips\":[[\"content\",\"@content\"]]},\"id\":\"d41b73e0-7bf6-4fdf-a011-95930e4e9774\",\"type\":\"HoverTool\"},{\"attributes\":{},\"id\":\"7e90a9be-4ea7-400e-83c8-6d67df32ff52\",\"type\":\"SaveTool\"},{\"attributes\":{\"level\":\"glyph\",\"plot\":{\"id\":\"2eb9e017-e373-4c91-a54f-ac3b3280098b\",\"subtype\":\"Figure\",\"type\":\"Plot\"},\"source\":{\"id\":\"531a1cb1-231b-4ca3-86b6-d565a7b0d4a4\",\"type\":\"ColumnDataSource\"},\"text\":{\"field\":\"label\"},\"text_font_size\":{\"value\":\"6pt\"},\"x\":{\"field\":\"x\"},\"x_offset\":{\"value\":5},\"y\":{\"field\":\"y\"},\"y_offset\":{\"value\":5}},\"id\":\"533aa4ce-01b6-4835-a6f6-97c26fee2e78\",\"type\":\"LabelSet\"},{\"attributes\":{\"callback\":null},\"id\":\"6b0037cf-06b4-4471-8a2b-7583a6eb400d\",\"type\":\"DataRange1d\"},{\"attributes\":{\"fill_alpha\":{\"value\":0.1},\"fill_color\":{\"value\":\"#1f77b4\"},\"line_alpha\":{\"value\":0.1},\"line_color\":{\"value\":\"#1f77b4\"},\"size\":{\"units\":\"screen\",\"value\":10},\"x\":{\"field\":\"x\"},\"y\":{\"field\":\"y\"}},\"id\":\"59d297b7-d8aa-4b23-b22e-61df3d5d1388\",\"type\":\"Circle\"},{\"attributes\":{\"source\":{\"id\":\"531a1cb1-231b-4ca3-86b6-d565a7b0d4a4\",\"type\":\"ColumnDataSource\"}},\"id\":\"560c1822-97e1-45ab-80db-4c759e1feb15\",\"type\":\"CDSView\"},{\"attributes\":{\"plot\":null,\"text\":\"T-SNE visualization of Trump's twitts\"},\"id\":\"ce6a655b-49cf-41a5-b544-72a9a246be96\",\"type\":\"Title\"},{\"attributes\":{\"active_drag\":\"auto\",\"active_inspect\":\"auto\",\"active_scroll\":\"auto\",\"active_tap\":\"auto\",\"tools\":[{\"id\":\"a2fad1d9-360e-4969-9110-e1a07cb3dc9b\",\"type\":\"PanTool\"},{\"id\":\"75cd897c-7fe2-4e97-b231-55f04fc7fc6d\",\"type\":\"WheelZoomTool\"},{\"id\":\"9844876d-e0aa-4df7-b66b-498ae0adcbdf\",\"type\":\"BoxZoomTool\"},{\"id\":\"e7cec22f-52cb-4d8e-a1e9-63ebb3187117\",\"type\":\"ResetTool\"},{\"id\":\"d41b73e0-7bf6-4fdf-a011-95930e4e9774\",\"type\":\"HoverTool\"},{\"id\":\"7e90a9be-4ea7-400e-83c8-6d67df32ff52\",\"type\":\"SaveTool\"}]},\"id\":\"7cf9f817-b374-44a4-8329-d7ada894406d\",\"type\":\"Toolbar\"},{\"attributes\":{},\"id\":\"763bcf9a-b1c5-4c19-9a92-cedc7618227d\",\"type\":\"LinearScale\"},{\"attributes\":{\"callback\":null},\"id\":\"f587e6ad-900b-49fd-9929-e53e3b30fbb2\",\"type\":\"DataRange1d\"},{\"attributes\":{},\"id\":\"224e81dd-2a11-47db-95b6-a052ad6e74a7\",\"type\":\"LinearScale\"},{\"attributes\":{\"bottom_units\":\"screen\",\"fill_alpha\":{\"value\":0.5},\"fill_color\":{\"value\":\"lightgrey\"},\"left_units\":\"screen\",\"level\":\"overlay\",\"line_alpha\":{\"value\":1.0},\"line_color\":{\"value\":\"black\"},\"line_dash\":[4,4],\"line_width\":{\"value\":2},\"plot\":null,\"render_mode\":\"css\",\"right_units\":\"screen\",\"top_units\":\"screen\"},\"id\":\"e0f832bf-2c65-4de9-8f6e-8d191a1419dc\",\"type\":\"BoxAnnotation\"},{\"attributes\":{\"fill_alpha\":{\"value\":0.8},\"fill_color\":{\"field\":\"color\"},\"line_alpha\":{\"value\":0.8},\"line_color\":{\"field\":\"color\"},\"size\":{\"units\":\"screen\",\"value\":10},\"x\":{\"field\":\"x\"},\"y\":{\"field\":\"y\"}},\"id\":\"33ec8c43-cf0d-40dc-b2c0-47d45083fc72\",\"type\":\"Circle\"},{\"attributes\":{},\"id\":\"a2fad1d9-360e-4969-9110-e1a07cb3dc9b\",\"type\":\"PanTool\"}],\"root_ids\":[\"2eb9e017-e373-4c91-a54f-ac3b3280098b\"]},\"title\":\"Bokeh Application\",\"version\":\"0.12.13\"}};\n",
       "  var render_items = [{\"docid\":\"39d613e0-dad0-48f8-966b-3b4f2c982d2d\",\"elementid\":\"a83279d9-6a41-4520-908c-c301b9c78111\",\"modelid\":\"2eb9e017-e373-4c91-a54f-ac3b3280098b\"}];\n",
       "  root.Bokeh.embed.embed_items_notebook(docs_json, render_items);\n",
       "\n",
       "  }\n",
       "  if (root.Bokeh !== undefined) {\n",
       "    embed_document(root);\n",
       "  } else {\n",
       "    var attempts = 0;\n",
       "    var timer = setInterval(function(root) {\n",
       "      if (root.Bokeh !== undefined) {\n",
       "        embed_document(root);\n",
       "        clearInterval(timer);\n",
       "      }\n",
       "      attempts++;\n",
       "      if (attempts > 100) {\n",
       "        console.log(\"Bokeh: ERROR: Unable to run BokehJS code because BokehJS library is missing\")\n",
       "        clearInterval(timer);\n",
       "      }\n",
       "    }, 10, root)\n",
       "  }\n",
       "})(window);"
      ],
      "application/vnd.bokehjs_exec.v0+json": ""
     },
     "metadata": {
      "application/vnd.bokehjs_exec.v0+json": {
       "id": "2eb9e017-e373-4c91-a54f-ac3b3280098b"
      }
     },
     "output_type": "display_data"
    }
   ],
   "source": [
    "x_tsne = X_tsne[:, 0]\n",
    "y_tsne = X_tsne[:, 1]\n",
    "label = total_words\n",
    "contents = total_words\n",
    "\n",
    "\n",
    "cluster_colors = {0: 'blue', 1: 'green', 2: 'yellow', 3: 'red', 4: 'skyblue', 5:'salmon', 6:'orange', 7:'maroon', 8:'crimson', 9:'black', 10:'gray'}\n",
    "\n",
    "# labels = ['Topic {}'.format(i) for i in topic_tfidf]\n",
    "topic_colors = [cluster_colors[index//11] for index, _ in enumerate(total_words)]\n",
    "\n",
    "settings = dict(x=x_tsne,\n",
    "               y=y_tsne,\n",
    "                label=label,\n",
    "                color=topic_colors,\n",
    "               content=contents\n",
    "               )\n",
    "\n",
    "source = ColumnDataSource(settings)\n",
    "\n",
    "labels = LabelSet(x='x', y='y', text='label', level='glyph',\n",
    "              x_offset=5, y_offset=5, source=source, render_mode='canvas', text_font_size='6pt')\n",
    "\n",
    "\n",
    "title = 'T-SNE visualization of Trump\\'s twitts'\n",
    "\n",
    "plot_lda = figure(plot_width=1000, plot_height=600,\n",
    "                     title=title, tools=\"pan,wheel_zoom,box_zoom,reset,hover,previewsave\",\n",
    "                     x_axis_type=None, y_axis_type=None, min_border=1)\n",
    "\n",
    "plot_lda.scatter(x='x', y='y',\n",
    "#                  legend='label', \n",
    "                 source=source, \n",
    "                 color='color',\n",
    "                 alpha=0.8, size=10)#'msize', )\n",
    "\n",
    "\n",
    "plot_lda.add_layout(labels)\n",
    "\n",
    "hover = plot_lda.select(dict(type=HoverTool))\n",
    "hover.tooltips = {\"content\": \"@content\"}\n",
    "plot_lda.legend.location = \"top_left\"\n",
    "\n",
    "show(plot_lda)"
   ]
  },
  {
   "cell_type": "markdown",
   "metadata": {},
   "source": [
    "# Plot 2nd Figure"
   ]
  },
  {
   "cell_type": "code",
   "execution_count": null,
   "metadata": {},
   "outputs": [],
   "source": []
  },
  {
   "cell_type": "markdown",
   "metadata": {},
   "source": [
    "# Get Similar Words"
   ]
  },
  {
   "cell_type": "code",
   "execution_count": 61,
   "metadata": {},
   "outputs": [
    {
     "name": "stdout",
     "output_type": "stream",
     "text": [
      "['donald_trump', 'throw', 'suppose', 'gopleader', 'jr', 'shred', 'clearly', 'stevehiltonx', 'jessebwatters', 'supporters', 'biggest_scandal', 'hillary_clinton', 'crook', 'oh', 'davis', 'data', 'democratic_national', 'wash', 'acid', 'russia_investigation', 'tomfitton_fbi', 'roger_stone', 'kim_jong', 'economic_powerhouse', 'summit', 'nuclear_weapons', 'chairman_kim', 'north_korea', 'dinner', 'awesome', 'wise', 'continuation', 'hanoi_vietnam', 'china', 'tariff', 'trade_negotiations', 'subsidize', 'asia', 'renegotiate', 'best_idea', 'large_degree', 'greatly_slow', 'product_inside', 'automatically_speed', 'women', 'great_interview', 'great_men', 'brave_men', 'grateful', 'balance', 'founder', 'incredible_men', 'believer', 'ways', 'amy', 'mexico', 'migration', 'illegals', 'big_caravan', 'sadly_murder', 'strong_immigration', 'big_contributor', 'stop_illegals', 'long_march', 'americans_die', 'coyotes']\n"
     ]
    }
   ],
   "source": [
    "similar_words = []\n",
    "key_words = ['donald_trump', 'hillary_clinton', 'kim_jong', 'china', 'women', 'mexico']\n",
    "\n",
    "for key_w in key_words:\n",
    "    similar_words.append(key_w)\n",
    "    \n",
    "    for s_w, _ in model.wv.most_similar(key_w):\n",
    "        similar_words.append(s_w)\n",
    "        \n",
    "print(similar_words)"
   ]
  },
  {
   "cell_type": "markdown",
   "metadata": {},
   "source": [
    "# Display Words using t-SNE"
   ]
  },
  {
   "cell_type": "code",
   "execution_count": 62,
   "metadata": {},
   "outputs": [
    {
     "name": "stdout",
     "output_type": "stream",
     "text": [
      "['donald_trump', 'throw', 'suppose', 'gopleader', 'jr', 'shred', 'clearly', 'stevehiltonx', 'jessebwatters', 'supporters']\n",
      "Length = 66\n",
      "feature size = 150\n",
      "feature max: 1.0633093118667603, min: -0.9720051288604736\n"
     ]
    }
   ],
   "source": [
    "# total_words = list(model.wv.vocab)\n",
    "# features = model.wv.__getitem__(total_words)\n",
    "\n",
    "total_words = similar_words\n",
    "features = model.wv.__getitem__(total_words)\n",
    "\n",
    "print(total_words[:10])\n",
    "print('Length = {}\\nfeature size = {}'.format(features.shape[0], features.shape[1]))\n",
    "print('feature max: {}, min: {}'.format(features.max(), features.min()))"
   ]
  },
  {
   "cell_type": "code",
   "execution_count": 63,
   "metadata": {},
   "outputs": [],
   "source": [
    "SEED = 0\n",
    "tsne = TSNE(perplexity=20, n_components=2, random_state=SEED)\n",
    "X_tsne = tsne.fit_transform(features)"
   ]
  },
  {
   "cell_type": "code",
   "execution_count": 64,
   "metadata": {
    "scrolled": true
   },
   "outputs": [
    {
     "data": {
      "text/html": [
       "\n",
       "<div class=\"bk-root\">\n",
       "    <div class=\"bk-plotdiv\" id=\"3ecbe82a-4234-4c6f-b565-f44ec801b4c1\"></div>\n",
       "</div>"
      ]
     },
     "metadata": {},
     "output_type": "display_data"
    },
    {
     "data": {
      "application/javascript": [
       "(function(root) {\n",
       "  function embed_document(root) {\n",
       "    \n",
       "  var docs_json = {\"3cb19694-e3c8-4264-a33b-c153bd5dbd58\":{\"roots\":{\"references\":[{\"attributes\":{\"min_border\":1,\"plot_width\":1000,\"renderers\":[{\"id\":\"3396247a-e093-4250-96f3-e2ca1941a3f9\",\"type\":\"BoxAnnotation\"},{\"id\":\"9aaaf690-4a8c-4c07-8832-de9271633b04\",\"type\":\"GlyphRenderer\"},{\"id\":\"d0ccbcdd-d4b8-49af-b507-c8ab8d2e35fb\",\"type\":\"LabelSet\"}],\"title\":{\"id\":\"d4023f19-9b09-4421-9784-2c4db6128eed\",\"type\":\"Title\"},\"toolbar\":{\"id\":\"fecfd2ca-345a-4d30-8225-1fddb4cb0980\",\"type\":\"Toolbar\"},\"x_range\":{\"id\":\"8044695c-3039-4dea-ac90-9e715f498b25\",\"type\":\"DataRange1d\"},\"x_scale\":{\"id\":\"2e34fc2b-81e0-43f5-9b50-f0503428e739\",\"type\":\"LinearScale\"},\"y_range\":{\"id\":\"2d85f06d-b0cc-40ca-ab91-551f0a964181\",\"type\":\"DataRange1d\"},\"y_scale\":{\"id\":\"186735f1-f4c6-44d3-b719-a4f02b3cfd89\",\"type\":\"LinearScale\"}},\"id\":\"245be4bc-7aff-443a-bf8e-5b49d5bc019c\",\"subtype\":\"Figure\",\"type\":\"Plot\"},{\"attributes\":{\"source\":{\"id\":\"2be213fb-6d9d-4d15-af7d-dd9599744102\",\"type\":\"ColumnDataSource\"}},\"id\":\"4bf11212-b8f5-4f02-be7b-122815d410f5\",\"type\":\"CDSView\"},{\"attributes\":{\"data_source\":{\"id\":\"2be213fb-6d9d-4d15-af7d-dd9599744102\",\"type\":\"ColumnDataSource\"},\"glyph\":{\"id\":\"156342ce-5f6b-4b76-98a0-855e355da728\",\"type\":\"Circle\"},\"hover_glyph\":null,\"muted_glyph\":null,\"nonselection_glyph\":{\"id\":\"93caed7f-f004-4118-ad92-60ff3b77283b\",\"type\":\"Circle\"},\"selection_glyph\":null,\"view\":{\"id\":\"4bf11212-b8f5-4f02-be7b-122815d410f5\",\"type\":\"CDSView\"}},\"id\":\"9aaaf690-4a8c-4c07-8832-de9271633b04\",\"type\":\"GlyphRenderer\"},{\"attributes\":{\"active_drag\":\"auto\",\"active_inspect\":\"auto\",\"active_scroll\":\"auto\",\"active_tap\":\"auto\",\"tools\":[{\"id\":\"255437e2-8abd-4d2e-8c13-78772601e041\",\"type\":\"PanTool\"},{\"id\":\"59c8af18-f49d-40e5-aea4-428d767a6c51\",\"type\":\"WheelZoomTool\"},{\"id\":\"6ebdd173-ee5d-4372-9747-02e7545d7953\",\"type\":\"BoxZoomTool\"},{\"id\":\"d32f5630-b900-4ae6-82dd-fe036030204b\",\"type\":\"ResetTool\"},{\"id\":\"5e83b257-1083-4d96-b05e-1b730a25c657\",\"type\":\"HoverTool\"},{\"id\":\"4e14dbec-08f1-488b-8df9-c790866f65f2\",\"type\":\"SaveTool\"}]},\"id\":\"fecfd2ca-345a-4d30-8225-1fddb4cb0980\",\"type\":\"Toolbar\"},{\"attributes\":{\"level\":\"glyph\",\"plot\":{\"id\":\"245be4bc-7aff-443a-bf8e-5b49d5bc019c\",\"subtype\":\"Figure\",\"type\":\"Plot\"},\"source\":{\"id\":\"2be213fb-6d9d-4d15-af7d-dd9599744102\",\"type\":\"ColumnDataSource\"},\"text\":{\"field\":\"label\"},\"text_font_size\":{\"value\":\"6pt\"},\"x\":{\"field\":\"x\"},\"x_offset\":{\"value\":5},\"y\":{\"field\":\"y\"},\"y_offset\":{\"value\":5}},\"id\":\"d0ccbcdd-d4b8-49af-b507-c8ab8d2e35fb\",\"type\":\"LabelSet\"},{\"attributes\":{\"callback\":null,\"column_names\":[\"x\",\"y\",\"label\",\"color\",\"content\"],\"data\":{\"color\":[\"blue\",\"blue\",\"blue\",\"blue\",\"blue\",\"blue\",\"blue\",\"blue\",\"blue\",\"blue\",\"blue\",\"green\",\"green\",\"green\",\"green\",\"green\",\"green\",\"green\",\"green\",\"green\",\"green\",\"green\",\"yellow\",\"yellow\",\"yellow\",\"yellow\",\"yellow\",\"yellow\",\"yellow\",\"yellow\",\"yellow\",\"yellow\",\"yellow\",\"red\",\"red\",\"red\",\"red\",\"red\",\"red\",\"red\",\"red\",\"red\",\"red\",\"red\",\"skyblue\",\"skyblue\",\"skyblue\",\"skyblue\",\"skyblue\",\"skyblue\",\"skyblue\",\"skyblue\",\"skyblue\",\"skyblue\",\"skyblue\",\"salmon\",\"salmon\",\"salmon\",\"salmon\",\"salmon\",\"salmon\",\"salmon\",\"salmon\",\"salmon\",\"salmon\",\"salmon\"],\"content\":[\"donald_trump\",\"throw\",\"suppose\",\"gopleader\",\"jr\",\"shred\",\"clearly\",\"stevehiltonx\",\"jessebwatters\",\"supporters\",\"biggest_scandal\",\"hillary_clinton\",\"crook\",\"oh\",\"davis\",\"data\",\"democratic_national\",\"wash\",\"acid\",\"russia_investigation\",\"tomfitton_fbi\",\"roger_stone\",\"kim_jong\",\"economic_powerhouse\",\"summit\",\"nuclear_weapons\",\"chairman_kim\",\"north_korea\",\"dinner\",\"awesome\",\"wise\",\"continuation\",\"hanoi_vietnam\",\"china\",\"tariff\",\"trade_negotiations\",\"subsidize\",\"asia\",\"renegotiate\",\"best_idea\",\"large_degree\",\"greatly_slow\",\"product_inside\",\"automatically_speed\",\"women\",\"great_interview\",\"great_men\",\"brave_men\",\"grateful\",\"balance\",\"founder\",\"incredible_men\",\"believer\",\"ways\",\"amy\",\"mexico\",\"migration\",\"illegals\",\"big_caravan\",\"sadly_murder\",\"strong_immigration\",\"big_contributor\",\"stop_illegals\",\"long_march\",\"americans_die\",\"coyotes\"],\"label\":[\"donald_trump\",\"throw\",\"suppose\",\"gopleader\",\"jr\",\"shred\",\"clearly\",\"stevehiltonx\",\"jessebwatters\",\"supporters\",\"biggest_scandal\",\"hillary_clinton\",\"crook\",\"oh\",\"davis\",\"data\",\"democratic_national\",\"wash\",\"acid\",\"russia_investigation\",\"tomfitton_fbi\",\"roger_stone\",\"kim_jong\",\"economic_powerhouse\",\"summit\",\"nuclear_weapons\",\"chairman_kim\",\"north_korea\",\"dinner\",\"awesome\",\"wise\",\"continuation\",\"hanoi_vietnam\",\"china\",\"tariff\",\"trade_negotiations\",\"subsidize\",\"asia\",\"renegotiate\",\"best_idea\",\"large_degree\",\"greatly_slow\",\"product_inside\",\"automatically_speed\",\"women\",\"great_interview\",\"great_men\",\"brave_men\",\"grateful\",\"balance\",\"founder\",\"incredible_men\",\"believer\",\"ways\",\"amy\",\"mexico\",\"migration\",\"illegals\",\"big_caravan\",\"sadly_murder\",\"strong_immigration\",\"big_contributor\",\"stop_illegals\",\"long_march\",\"americans_die\",\"coyotes\"],\"x\":{\"__ndarray__\":\"rZb4wcV2AMHzPJXBpO8iwR0kScEHvYvBjBerwVUcp8B2LeU/cyzvv4Y+88EHfCfCfkIawkfABMLRJN/BbnHDwVUiisHlSbzBuG7jwQQZYMFp5o7BJRMVwluMU0JNTxhCL3osQkYiPUJ9sVpC9ABzQn2mB0IDWrtBlWKfQaMT8EHKbSZCIMxywuPmRsIghAnCbDUgwmu3N8KYuzbC7TdCwnK5F8LGDXXC3ftWwkYLYMKgmjDBQYMrwYmBh8GgXihAjeeFwMY3PMBHaXbBbs6MQFNJ48Bl7ylBHGI6QB6qRUAOogBB7uhcQY+gN0HJ+jtAiaiSQdG/kr+TcIpBhVa+wPGX4L+PxPdA\",\"dtype\":\"float32\",\"shape\":[66]},\"y\":{\"__ndarray__\":\"p0rvQYIWHUJceelBg3H4QU1sO0K+3xZCs0wzQhG3vkHWVhFCJwBIQllYLkJrHJJCSOukQmNZgUKyqWRCHdCAQioQkUI4459CEKCUQuBifEKFRlxCM+NfQq3uAUKqortB7G4BQi9frEHn7YlB++bWQTt8dkEVhI5Bq4fEQelBxUGfqFdBATTEwcwwXMIcGfbBEuQ3wkSW/8GmNb3B2cIkwh70G8KtORvCxYUMwp2DM8KxqmXBKiJWQBu+YsDsPinB9eGfwFAniUDujCJBuALbvW30SUGKdM7AifAsQWGffsKBtQXCzLpmwkyvI8Kv4SfCYoM3wvcOSMLXXgrCIagowvi+BMJOzETC\",\"dtype\":\"float32\",\"shape\":[66]}}},\"id\":\"2be213fb-6d9d-4d15-af7d-dd9599744102\",\"type\":\"ColumnDataSource\"},{\"attributes\":{},\"id\":\"255437e2-8abd-4d2e-8c13-78772601e041\",\"type\":\"PanTool\"},{\"attributes\":{\"fill_alpha\":{\"value\":0.1},\"fill_color\":{\"value\":\"#1f77b4\"},\"line_alpha\":{\"value\":0.1},\"line_color\":{\"value\":\"#1f77b4\"},\"size\":{\"units\":\"screen\",\"value\":10},\"x\":{\"field\":\"x\"},\"y\":{\"field\":\"y\"}},\"id\":\"93caed7f-f004-4118-ad92-60ff3b77283b\",\"type\":\"Circle\"},{\"attributes\":{\"bottom_units\":\"screen\",\"fill_alpha\":{\"value\":0.5},\"fill_color\":{\"value\":\"lightgrey\"},\"left_units\":\"screen\",\"level\":\"overlay\",\"line_alpha\":{\"value\":1.0},\"line_color\":{\"value\":\"black\"},\"line_dash\":[4,4],\"line_width\":{\"value\":2},\"plot\":null,\"render_mode\":\"css\",\"right_units\":\"screen\",\"top_units\":\"screen\"},\"id\":\"3396247a-e093-4250-96f3-e2ca1941a3f9\",\"type\":\"BoxAnnotation\"},{\"attributes\":{\"callback\":null},\"id\":\"8044695c-3039-4dea-ac90-9e715f498b25\",\"type\":\"DataRange1d\"},{\"attributes\":{},\"id\":\"2e34fc2b-81e0-43f5-9b50-f0503428e739\",\"type\":\"LinearScale\"},{\"attributes\":{\"fill_alpha\":{\"value\":0.8},\"fill_color\":{\"field\":\"color\"},\"line_alpha\":{\"value\":0.8},\"line_color\":{\"field\":\"color\"},\"size\":{\"units\":\"screen\",\"value\":10},\"x\":{\"field\":\"x\"},\"y\":{\"field\":\"y\"}},\"id\":\"156342ce-5f6b-4b76-98a0-855e355da728\",\"type\":\"Circle\"},{\"attributes\":{\"callback\":null},\"id\":\"2d85f06d-b0cc-40ca-ab91-551f0a964181\",\"type\":\"DataRange1d\"},{\"attributes\":{},\"id\":\"186735f1-f4c6-44d3-b719-a4f02b3cfd89\",\"type\":\"LinearScale\"},{\"attributes\":{},\"id\":\"59c8af18-f49d-40e5-aea4-428d767a6c51\",\"type\":\"WheelZoomTool\"},{\"attributes\":{\"plot\":null,\"text\":\"T-SNE visualization of Trump's twitts\"},\"id\":\"d4023f19-9b09-4421-9784-2c4db6128eed\",\"type\":\"Title\"},{\"attributes\":{},\"id\":\"4e14dbec-08f1-488b-8df9-c790866f65f2\",\"type\":\"SaveTool\"},{\"attributes\":{\"overlay\":{\"id\":\"3396247a-e093-4250-96f3-e2ca1941a3f9\",\"type\":\"BoxAnnotation\"}},\"id\":\"6ebdd173-ee5d-4372-9747-02e7545d7953\",\"type\":\"BoxZoomTool\"},{\"attributes\":{\"callback\":null,\"tooltips\":[[\"content\",\"@content\"]]},\"id\":\"5e83b257-1083-4d96-b05e-1b730a25c657\",\"type\":\"HoverTool\"},{\"attributes\":{},\"id\":\"d32f5630-b900-4ae6-82dd-fe036030204b\",\"type\":\"ResetTool\"}],\"root_ids\":[\"245be4bc-7aff-443a-bf8e-5b49d5bc019c\"]},\"title\":\"Bokeh Application\",\"version\":\"0.12.13\"}};\n",
       "  var render_items = [{\"docid\":\"3cb19694-e3c8-4264-a33b-c153bd5dbd58\",\"elementid\":\"3ecbe82a-4234-4c6f-b565-f44ec801b4c1\",\"modelid\":\"245be4bc-7aff-443a-bf8e-5b49d5bc019c\"}];\n",
       "  root.Bokeh.embed.embed_items_notebook(docs_json, render_items);\n",
       "\n",
       "  }\n",
       "  if (root.Bokeh !== undefined) {\n",
       "    embed_document(root);\n",
       "  } else {\n",
       "    var attempts = 0;\n",
       "    var timer = setInterval(function(root) {\n",
       "      if (root.Bokeh !== undefined) {\n",
       "        embed_document(root);\n",
       "        clearInterval(timer);\n",
       "      }\n",
       "      attempts++;\n",
       "      if (attempts > 100) {\n",
       "        console.log(\"Bokeh: ERROR: Unable to run BokehJS code because BokehJS library is missing\")\n",
       "        clearInterval(timer);\n",
       "      }\n",
       "    }, 10, root)\n",
       "  }\n",
       "})(window);"
      ],
      "application/vnd.bokehjs_exec.v0+json": ""
     },
     "metadata": {
      "application/vnd.bokehjs_exec.v0+json": {
       "id": "245be4bc-7aff-443a-bf8e-5b49d5bc019c"
      }
     },
     "output_type": "display_data"
    }
   ],
   "source": [
    "x_tsne = X_tsne[:, 0]\n",
    "y_tsne = X_tsne[:, 1]\n",
    "label = total_words\n",
    "contents = total_words\n",
    "\n",
    "\n",
    "cluster_colors = {0: 'blue', 1: 'green', 2: 'yellow', 3: 'red', 4: 'skyblue', 5:'salmon', 6:'orange', 7:'maroon', 8:'crimson', 9:'black', 10:'gray'}\n",
    "\n",
    "# labels = ['Topic {}'.format(i) for i in topic_tfidf]\n",
    "topic_colors = [cluster_colors[index//11] for index, _ in enumerate(total_words)]\n",
    "\n",
    "settings = dict(x=x_tsne,\n",
    "               y=y_tsne,\n",
    "                label=label,\n",
    "                color=topic_colors,\n",
    "               content=contents\n",
    "               )\n",
    "\n",
    "source = ColumnDataSource(settings)\n",
    "\n",
    "labels = LabelSet(x='x', y='y', text='label', level='glyph',\n",
    "              x_offset=5, y_offset=5, source=source, render_mode='canvas', text_font_size='6pt')\n",
    "\n",
    "\n",
    "title = 'T-SNE visualization of Trump\\'s twitts'\n",
    "\n",
    "plot_lda = figure(plot_width=1000, plot_height=600,\n",
    "                     title=title, tools=\"pan,wheel_zoom,box_zoom,reset,hover,previewsave\",\n",
    "                     x_axis_type=None, y_axis_type=None, min_border=1)\n",
    "\n",
    "plot_lda.scatter(x='x', y='y',\n",
    "#                  legend='label', \n",
    "                 source=source, \n",
    "                 color='color',\n",
    "                 alpha=0.8, size=10)#'msize', )\n",
    "\n",
    "\n",
    "plot_lda.add_layout(labels)\n",
    "\n",
    "hover = plot_lda.select(dict(type=HoverTool))\n",
    "hover.tooltips = {\"content\": \"@content\"}\n",
    "plot_lda.legend.location = \"top_left\"\n",
    "\n",
    "show(plot_lda)"
   ]
  },
  {
   "cell_type": "code",
   "execution_count": null,
   "metadata": {},
   "outputs": [],
   "source": []
  }
 ],
 "metadata": {
  "kernelspec": {
   "display_name": "Python 3",
   "language": "python",
   "name": "python3"
  },
  "language_info": {
   "codemirror_mode": {
    "name": "ipython",
    "version": 3
   },
   "file_extension": ".py",
   "mimetype": "text/x-python",
   "name": "python",
   "nbconvert_exporter": "python",
   "pygments_lexer": "ipython3",
   "version": "3.6.3"
  }
 },
 "nbformat": 4,
 "nbformat_minor": 2
}
